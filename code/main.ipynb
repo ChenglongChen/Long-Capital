{
 "cells": [
  {
   "cell_type": "code",
   "execution_count": 1,
   "id": "b96a4196",
   "metadata": {},
   "outputs": [],
   "source": [
    "import datetime\n",
    "import json\n",
    "import os\n",
    "\n",
    "import numpy as np\n",
    "import pandas as pd\n",
    "\n",
    "from copy import deepcopy\n",
    "from collections import defaultdict\n",
    "from pprint import pprint\n",
    "from pandas import ExcelWriter\n",
    "from pathlib import Path\n",
    "from typing import List, Text, Tuple, Union"
   ]
  },
  {
   "cell_type": "code",
   "execution_count": 2,
   "id": "57526fda",
   "metadata": {},
   "outputs": [],
   "source": [
    "import mlflow\n",
    "import optuna\n",
    "import qlib\n",
    "\n",
    "from qlib.contrib.data.utils.neutralize import get_riskest_features\n",
    "from qlib.data.dataset import DataHandlerLP\n",
    "from qlib.data.dataset.weight import Reweighter\n",
    "from qlib.constant import REG_CN, REG_US\n",
    "from qlib.contrib.report import analysis_model, analysis_position\n",
    "from qlib.utils import init_instance_by_config\n",
    "from qlib.workflow import R\n",
    "from qlib.workflow.record_temp import SignalRecord, PortAnaRecord, SigAnaRecord"
   ]
  },
  {
   "cell_type": "code",
   "execution_count": 3,
   "id": "13861244",
   "metadata": {},
   "outputs": [
    {
     "name": "stderr",
     "output_type": "stream",
     "text": [
      "/Library/Frameworks/Python.framework/Versions/3.8/lib/python3.8/site-packages/ipykernel/ipkernel.py:283: DeprecationWarning:\n",
      "\n",
      "`should_run_async` will not call `transform_cell` automatically in the future. Please pass the result to `transformed_cell` argument and any exception that happen during thetransform in `preprocessing_exc_tuple` in IPython 7.17 and above.\n",
      "\n"
     ]
    }
   ],
   "source": [
    "def timestamp():\n",
    "    return datetime.datetime.now().strftime('%Y%m%d')\n",
    "\n",
    "\n",
    "def get_diff_date(d, diff, date_format=\"%Y-%m-%d\"):\n",
    "    d = datetime.datetime.strptime(d, date_format) + datetime.timedelta(days=diff)\n",
    "    return d.strftime(date_format)"
   ]
  },
  {
   "cell_type": "code",
   "execution_count": 4,
   "id": "0469e3ee",
   "metadata": {},
   "outputs": [],
   "source": [
    "def get_params_from_file(file, key):\n",
    "    with open(file, \"r\") as f:\n",
    "        params = json.load(f)\n",
    "    return params.get(key)\n",
    "\n",
    "\n",
    "def update_params_to_file(file, key, value):\n",
    "    with open(file, \"r\") as f:\n",
    "        params = json.load(f)\n",
    "    params[key] = value\n",
    "    with open(file, \"w\") as f:\n",
    "        json.dump(params, f, indent=4)\n",
    "        \n",
    "        \n",
    "def update_report_df(folder, key, df):\n",
    "    df.to_excel(f\"{folder}/{key}.xlsx\")"
   ]
  },
  {
   "cell_type": "code",
   "execution_count": 5,
   "id": "a1503784",
   "metadata": {},
   "outputs": [],
   "source": [
    "STRATEGY_PARAMS_FILE = \"../data/params/strategy.json\"\n",
    "MODEL_PARAMS_FILE = \"../data/params/model.json\"\n",
    "REPORT_DF_FOLDER = \"../data/report_df\""
   ]
  },
  {
   "cell_type": "code",
   "execution_count": 6,
   "id": "89cae647",
   "metadata": {},
   "outputs": [],
   "source": [
    "MODEL_LOSS_KEY_DICT = {\n",
    "    \"mse\": \"l2\",\n",
    "    \"mse_log\": \"l2\",\n",
    "    \"binary\": \"binary_logloss\",\n",
    "    \"lambdarank\": \"ndcg@5\",\n",
    "}"
   ]
  },
  {
   "cell_type": "code",
   "execution_count": 7,
   "id": "6ea87891",
   "metadata": {},
   "outputs": [],
   "source": [
    "REGION = REG_CN\n",
    "INSTRUMENTS = \"csi300\"\n",
    "DEAL_PRICE = \"open\"\n",
    "MODEL_LOSS = \"mse\"\n",
    "LABEL_NORM = \"CSRankNorm\"\n",
    "ENABLE_NEUTRALIZE = True\n",
    "\n",
    "# the day when you have the stock data after close\n",
    "PRED_DATE = \"2023-02-17\"\n",
    "TEST_END_DATE = PRED_DATE\n",
    "BACKTEST_END_DATE = get_diff_date(PRED_DATE, -1)\n",
    "\n",
    "USE_BEST_STRATEGY_PARAMS = False\n",
    "USE_BEST_MODEL_PARAMS = True"
   ]
  },
  {
   "cell_type": "code",
   "execution_count": 8,
   "id": "31821be7",
   "metadata": {},
   "outputs": [],
   "source": [
    "ALL_CONFIG_KEY = f\"{REGION}_{INSTRUMENTS}_{DEAL_PRICE}_{LABEL_NORM}_{MODEL_LOSS}\"\n",
    "if ENABLE_NEUTRALIZE:\n",
    "    ALL_CONFIG_KEY += \"_neutralize\""
   ]
  },
  {
   "cell_type": "code",
   "execution_count": 9,
   "id": "f7898c1a",
   "metadata": {},
   "outputs": [
    {
     "data": {
      "text/plain": [
       "'cn_csi300_open_CSRankNorm_mse_neutralize'"
      ]
     },
     "execution_count": 9,
     "metadata": {},
     "output_type": "execute_result"
    }
   ],
   "source": [
    "ALL_CONFIG_KEY"
   ]
  },
  {
   "cell_type": "code",
   "execution_count": 10,
   "id": "6cbeca86",
   "metadata": {},
   "outputs": [],
   "source": [
    "BECHMARK_PARAMS = {\n",
    "    \"csi300\": \"SH000300\",\n",
    "    \"csi500\": \"SH000905\",\n",
    "    \"csi800\": \"SH000906\",\n",
    "    # https://github.com/microsoft/qlib/issues/720\n",
    "    \"SP500\": \"^gspc\",\n",
    "    \"NASDAQ100\": \"^ndx\",\n",
    "}"
   ]
  },
  {
   "cell_type": "code",
   "execution_count": 11,
   "id": "0f4f2e5c",
   "metadata": {},
   "outputs": [],
   "source": [
    "TOPK_LIST = [1, 2, 4, 6, 8, 10]\n",
    "N_DROP_LIST = [1, 2, 3, 4, 5]"
   ]
  },
  {
   "cell_type": "code",
   "execution_count": 12,
   "id": "9e707694",
   "metadata": {},
   "outputs": [],
   "source": [
    "REGION_CONFIG = {\n",
    "    REG_CN: {\n",
    "        \"benchmark\": BECHMARK_PARAMS[INSTRUMENTS],\n",
    "        \"exchange_kwargs\": {\n",
    "            \"codes\": INSTRUMENTS,\n",
    "            \"freq\": \"day\",\n",
    "            \"trade_unit\": 100,\n",
    "            \"limit_threshold\": 0.095,\n",
    "            \"deal_price\": DEAL_PRICE,\n",
    "            \"open_cost\": 0.0005,\n",
    "            \"close_cost\": 0.0015,\n",
    "            \"min_cost\": 5,\n",
    "        }\n",
    "    },\n",
    "    REG_US: {\n",
    "        \"benchmark\": BECHMARK_PARAMS[INSTRUMENTS],\n",
    "        \"exchange_kwargs\": {\n",
    "            \"codes\": INSTRUMENTS,\n",
    "            \"freq\": \"day\",\n",
    "            \"trade_unit\": 1,\n",
    "            \"limit_threshold\": None,\n",
    "            \"deal_price\": DEAL_PRICE,\n",
    "            # estimated from moomoo sg\n",
    "            \"open_cost\": 0.003,\n",
    "            \"close_cost\": 0.005,\n",
    "            \"min_cost\": 0\n",
    "        }\n",
    "    }\n",
    "}"
   ]
  },
  {
   "cell_type": "code",
   "execution_count": 13,
   "id": "4ff3cc31",
   "metadata": {},
   "outputs": [],
   "source": [
    "DATE_CONFIG = {\n",
    "    REG_CN: {\n",
    "        \"train\": {\n",
    "            \"start\": \"2008-01-01\",\n",
    "            \"end\": \"2016-12-31\"\n",
    "        },\n",
    "        \"valid\": {\n",
    "            \"start\": \"2017-01-01\",\n",
    "            \"end\": \"2018-12-31\"\n",
    "        },\n",
    "        \"test\": {\n",
    "            \"start\": \"2019-01-01\",\n",
    "            \"end\": TEST_END_DATE\n",
    "        },\n",
    "        \"backtest\": {\n",
    "            \"start\": \"2019-01-01\",\n",
    "            \"end\": BACKTEST_END_DATE\n",
    "        }\n",
    "    },\n",
    "    REG_US: {\n",
    "        \"train\": {\n",
    "            \"start\": \"2008-01-01\",\n",
    "            \"end\": \"2016-12-31\"\n",
    "        },\n",
    "        \"valid\": {\n",
    "            \"start\": \"2017-01-01\",\n",
    "            \"end\": \"2018-12-31\"\n",
    "        },\n",
    "        \"test\": {\n",
    "            \"start\": \"2019-01-01\",\n",
    "            \"end\": TEST_END_DATE\n",
    "        },\n",
    "        \"backtest\": {\n",
    "            \"start\": \"2019-01-01\",\n",
    "            \"end\": BACKTEST_END_DATE\n",
    "        }\n",
    "    }\n",
    "}"
   ]
  },
  {
   "cell_type": "code",
   "execution_count": 14,
   "id": "40884afa",
   "metadata": {},
   "outputs": [],
   "source": [
    "EXP_NAME = \"tutorial_exp\""
   ]
  },
  {
   "cell_type": "markdown",
   "id": "ff16a42b",
   "metadata": {},
   "source": [
    "# Data"
   ]
  },
  {
   "cell_type": "code",
   "execution_count": 15,
   "id": "42b89646",
   "metadata": {},
   "outputs": [
    {
     "name": "stderr",
     "output_type": "stream",
     "text": [
      "[94379:MainThread](2023-02-18 20:33:53,037) INFO - qlib.Initialization - [config.py:416] - default_conf: client.\n",
      "[94379:MainThread](2023-02-18 20:33:53,045) INFO - qlib.Initialization - [__init__.py:74] - qlib successfully initialized based on client settings.\n",
      "[94379:MainThread](2023-02-18 20:33:53,047) INFO - qlib.Initialization - [__init__.py:76] - data_path={'__DEFAULT_FREQ': PosixPath('/Users/chenglong.chen/.qlib/qlib_data/cn_data')}\n"
     ]
    }
   ],
   "source": [
    "qlib.init(provider_uri=f\"~/.qlib/qlib_data/{REGION}_data\", region=REGION)"
   ]
  },
  {
   "cell_type": "markdown",
   "id": "4e6ab197",
   "metadata": {},
   "source": [
    "## Off-the-shelf dataset\n",
    "\n",
    "Qlib integrated some dataset alreadly"
   ]
  },
  {
   "cell_type": "code",
   "execution_count": 16,
   "id": "7478bba0",
   "metadata": {},
   "outputs": [],
   "source": [
    "class IdentityReweighter(Reweighter):\n",
    "    def __init__(self):\n",
    "        pass\n",
    "    \n",
    "    def reweight(self, data: Union[pd.DataFrame, pd.Series]):\n",
    "        w_s = pd.Series(1.0, index=data.index)\n",
    "        return w_s\n",
    "\n",
    "    \n",
    "class TargetReweighter(Reweighter):\n",
    "    def __init__(self):\n",
    "        pass\n",
    "    \n",
    "    def reweight(self, data: Union[pd.DataFrame, pd.Series]):\n",
    "        w_s = data[\"label\"].abs().values.flatten()\n",
    "        return w_s"
   ]
  },
  {
   "cell_type": "code",
   "execution_count": 17,
   "id": "9a888a04",
   "metadata": {},
   "outputs": [],
   "source": [
    "reweighter = IdentityReweighter()\n",
    "if MODEL_LOSS in [\"binary\"]:\n",
    "    labels = [f'If(Gt(Ref(${DEAL_PRICE}, -2), Ref(${DEAL_PRICE}, -1)), 1, 0)']\n",
    "    infer_processors = [\n",
    "        {\"class\": \"Fillna\", \"kwargs\": {\"fields_group\": \"feature\"}},\n",
    "        {\"class\": \"CSRankNorm\", \"kwargs\": {\"fields_group\": \"feature\"}},\n",
    "    ]\n",
    "    learn_processors = [\n",
    "        {\"class\": \"DropnaLabel\"},\n",
    "    ]\n",
    "elif MODEL_LOSS in [\"lambdarank\"]:\n",
    "    labels = [f'Ref(${DEAL_PRICE}, -2)/Ref(${DEAL_PRICE}, -1) - 1']\n",
    "    infer_processors = [\n",
    "        {\"class\": \"Fillna\", \"kwargs\": {\"fields_group\": \"feature\"}},\n",
    "        {\"class\": \"CSRankNorm\", \"kwargs\": {\"fields_group\": \"feature\"}},\n",
    "    ]\n",
    "    learn_processors = [\n",
    "        {\"class\": \"DropnaLabel\"},\n",
    "        {\"class\": \"CSBucketizeLabel\", \"kwargs\": {\"bucket_size\": 10}},\n",
    "    ]\n",
    "elif MODEL_LOSS in [\"mse_log\"]:\n",
    "    labels = [f'Log(Ref(${DEAL_PRICE}, -2)/Ref(${DEAL_PRICE}, -1))']\n",
    "    infer_processors = [\n",
    "        {\"class\": \"Fillna\", \"kwargs\": {\"fields_group\": \"feature\"}},\n",
    "        {\"class\": \"CSRankNorm\", \"kwargs\": {\"fields_group\": \"feature\"}},\n",
    "    ]\n",
    "    learn_processors = [\n",
    "        {\"class\": \"DropnaLabel\"},\n",
    "        {\"class\": LABEL_NORM, \"kwargs\": {\"fields_group\": \"label\"}},\n",
    "    ]\n",
    "else:\n",
    "    labels = [f'Ref(${DEAL_PRICE}, -2)/Ref(${DEAL_PRICE}, -1) - 1']\n",
    "    infer_processors = [\n",
    "        {\"class\": \"Fillna\", \"kwargs\": {\"fields_group\": \"feature\"}},\n",
    "        {\"class\": \"CSRankNorm\", \"kwargs\": {\"fields_group\": \"feature\"}},\n",
    "    ]\n",
    "    learn_processors = [\n",
    "        {\"class\": \"DropnaLabel\"},\n",
    "        {\"class\": LABEL_NORM, \"kwargs\": {\"fields_group\": \"label\"}},\n",
    "    ]\n",
    "label_names = ['LABEL0']\n",
    "handler_kwargs = {\n",
    "    \"start_time\": DATE_CONFIG[REGION][\"train\"][\"start\"],\n",
    "    \"end_time\": DATE_CONFIG[REGION][\"test\"][\"end\"],\n",
    "    \"fit_start_time\": DATE_CONFIG[REGION][\"train\"][\"start\"],\n",
    "    \"fit_end_time\": DATE_CONFIG[REGION][\"train\"][\"end\"],\n",
    "    \"instruments\": INSTRUMENTS,\n",
    "    \"label\": (labels, label_names),\n",
    "    \"learn_processors\": learn_processors,\n",
    "    \"infer_processors\": infer_processors,\n",
    "}\n",
    "handler_conf = {\n",
    "    \"class\": \"Alpha158\",\n",
    "    \"module_path\": \"qlib.contrib.data.handler\",\n",
    "    \"kwargs\": handler_kwargs,\n",
    "}"
   ]
  },
  {
   "cell_type": "code",
   "execution_count": 18,
   "id": "7493ec18",
   "metadata": {},
   "outputs": [
    {
     "name": "stderr",
     "output_type": "stream",
     "text": [
      "[94379:MainThread](2023-02-18 20:35:28,330) INFO - qlib.timer - [log.py:128] - Time cost: 95.256s | Loading data Done\n",
      "[94379:MainThread](2023-02-18 20:35:29,979) INFO - qlib.timer - [log.py:128] - Time cost: 1.252s | Fillna Done\n",
      "[94379:MainThread](2023-02-18 20:36:58,113) INFO - qlib.timer - [log.py:128] - Time cost: 88.132s | CSRankNorm Done\n",
      "[94379:MainThread](2023-02-18 20:37:02,655) INFO - qlib.timer - [log.py:128] - Time cost: 3.849s | DropnaLabel Done\n",
      "[94379:MainThread](2023-02-18 20:37:02,976) INFO - qlib.timer - [log.py:128] - Time cost: 0.320s | CSRankNorm Done\n",
      "[94379:MainThread](2023-02-18 20:37:03,073) INFO - qlib.timer - [log.py:128] - Time cost: 94.741s | fit & process data Done\n",
      "[94379:MainThread](2023-02-18 20:37:03,074) INFO - qlib.timer - [log.py:128] - Time cost: 190.002s | Init data Done\n"
     ]
    }
   ],
   "source": [
    "hd = init_instance_by_config(handler_conf)"
   ]
  },
  {
   "cell_type": "code",
   "execution_count": 19,
   "id": "7313b70e",
   "metadata": {},
   "outputs": [
    {
     "name": "stderr",
     "output_type": "stream",
     "text": [
      "/Library/Frameworks/Python.framework/Versions/3.8/lib/python3.8/site-packages/ipykernel/ipkernel.py:283: DeprecationWarning:\n",
      "\n",
      "`should_run_async` will not call `transform_cell` automatically in the future. Please pass the result to `transformed_cell` argument and any exception that happen during thetransform in `preprocessing_exc_tuple` in IPython 7.17 and above.\n",
      "\n"
     ]
    }
   ],
   "source": [
    "df = hd.fetch()"
   ]
  },
  {
   "cell_type": "code",
   "execution_count": 20,
   "id": "129a526e",
   "metadata": {},
   "outputs": [
    {
     "data": {
      "text/html": [
       "<div>\n",
       "<style scoped>\n",
       "    .dataframe tbody tr th:only-of-type {\n",
       "        vertical-align: middle;\n",
       "    }\n",
       "\n",
       "    .dataframe tbody tr th {\n",
       "        vertical-align: top;\n",
       "    }\n",
       "\n",
       "    .dataframe thead th {\n",
       "        text-align: right;\n",
       "    }\n",
       "</style>\n",
       "<table border=\"1\" class=\"dataframe\">\n",
       "  <thead>\n",
       "    <tr style=\"text-align: right;\">\n",
       "      <th></th>\n",
       "      <th></th>\n",
       "      <th>KMID</th>\n",
       "      <th>KLEN</th>\n",
       "      <th>KMID2</th>\n",
       "      <th>KUP</th>\n",
       "      <th>KUP2</th>\n",
       "      <th>KLOW</th>\n",
       "      <th>KLOW2</th>\n",
       "      <th>KSFT</th>\n",
       "      <th>KSFT2</th>\n",
       "      <th>OPEN0</th>\n",
       "      <th>...</th>\n",
       "      <th>VSUMN10</th>\n",
       "      <th>VSUMN20</th>\n",
       "      <th>VSUMN30</th>\n",
       "      <th>VSUMN60</th>\n",
       "      <th>VSUMD5</th>\n",
       "      <th>VSUMD10</th>\n",
       "      <th>VSUMD20</th>\n",
       "      <th>VSUMD30</th>\n",
       "      <th>VSUMD60</th>\n",
       "      <th>LABEL0</th>\n",
       "    </tr>\n",
       "    <tr>\n",
       "      <th>datetime</th>\n",
       "      <th>instrument</th>\n",
       "      <th></th>\n",
       "      <th></th>\n",
       "      <th></th>\n",
       "      <th></th>\n",
       "      <th></th>\n",
       "      <th></th>\n",
       "      <th></th>\n",
       "      <th></th>\n",
       "      <th></th>\n",
       "      <th></th>\n",
       "      <th></th>\n",
       "      <th></th>\n",
       "      <th></th>\n",
       "      <th></th>\n",
       "      <th></th>\n",
       "      <th></th>\n",
       "      <th></th>\n",
       "      <th></th>\n",
       "      <th></th>\n",
       "      <th></th>\n",
       "      <th></th>\n",
       "    </tr>\n",
       "  </thead>\n",
       "  <tbody>\n",
       "    <tr>\n",
       "      <th rowspan=\"5\" valign=\"top\">2008-01-02</th>\n",
       "      <th>SH600000</th>\n",
       "      <td>-0.311400</td>\n",
       "      <td>0.899600</td>\n",
       "      <td>-0.438267</td>\n",
       "      <td>1.637733</td>\n",
       "      <td>1.603133</td>\n",
       "      <td>1.153333</td>\n",
       "      <td>0.461333</td>\n",
       "      <td>-0.703533</td>\n",
       "      <td>-0.807333</td>\n",
       "      <td>0.519000</td>\n",
       "      <td>...</td>\n",
       "      <td>1.038000</td>\n",
       "      <td>1.014933</td>\n",
       "      <td>0.657400</td>\n",
       "      <td>0.173000</td>\n",
       "      <td>0.219133</td>\n",
       "      <td>-1.026467</td>\n",
       "      <td>-0.957267</td>\n",
       "      <td>-0.611267</td>\n",
       "      <td>-0.161467</td>\n",
       "      <td>-0.038642</td>\n",
       "    </tr>\n",
       "    <tr>\n",
       "      <th>SH600001</th>\n",
       "      <td>0.795800</td>\n",
       "      <td>1.372467</td>\n",
       "      <td>0.034600</td>\n",
       "      <td>1.591600</td>\n",
       "      <td>1.257133</td>\n",
       "      <td>1.026467</td>\n",
       "      <td>-0.103800</td>\n",
       "      <td>0.265267</td>\n",
       "      <td>-0.346000</td>\n",
       "      <td>-0.588200</td>\n",
       "      <td>...</td>\n",
       "      <td>-1.522400</td>\n",
       "      <td>-1.326333</td>\n",
       "      <td>-1.510867</td>\n",
       "      <td>-0.530533</td>\n",
       "      <td>1.568533</td>\n",
       "      <td>1.591600</td>\n",
       "      <td>1.384000</td>\n",
       "      <td>1.557000</td>\n",
       "      <td>0.565133</td>\n",
       "      <td>0.145259</td>\n",
       "    </tr>\n",
       "    <tr>\n",
       "      <th>SH600004</th>\n",
       "      <td>1.395533</td>\n",
       "      <td>0.841933</td>\n",
       "      <td>1.672333</td>\n",
       "      <td>-1.038000</td>\n",
       "      <td>-1.118733</td>\n",
       "      <td>-1.435900</td>\n",
       "      <td>-1.435900</td>\n",
       "      <td>1.372467</td>\n",
       "      <td>1.545467</td>\n",
       "      <td>-1.187933</td>\n",
       "      <td>...</td>\n",
       "      <td>-1.430133</td>\n",
       "      <td>-1.280200</td>\n",
       "      <td>-1.268667</td>\n",
       "      <td>0.495933</td>\n",
       "      <td>1.591600</td>\n",
       "      <td>1.499333</td>\n",
       "      <td>1.337867</td>\n",
       "      <td>1.314800</td>\n",
       "      <td>-0.484400</td>\n",
       "      <td>0.000451</td>\n",
       "    </tr>\n",
       "    <tr>\n",
       "      <th>SH600005</th>\n",
       "      <td>-1.580067</td>\n",
       "      <td>-0.023067</td>\n",
       "      <td>-1.487800</td>\n",
       "      <td>-0.588200</td>\n",
       "      <td>-0.542067</td>\n",
       "      <td>0.415200</td>\n",
       "      <td>0.311400</td>\n",
       "      <td>-1.453200</td>\n",
       "      <td>-1.407067</td>\n",
       "      <td>1.591600</td>\n",
       "      <td>...</td>\n",
       "      <td>0.299867</td>\n",
       "      <td>1.591600</td>\n",
       "      <td>1.557000</td>\n",
       "      <td>1.499333</td>\n",
       "      <td>-1.245600</td>\n",
       "      <td>-0.230667</td>\n",
       "      <td>-1.580067</td>\n",
       "      <td>-1.545467</td>\n",
       "      <td>-1.487800</td>\n",
       "      <td>0.071758</td>\n",
       "    </tr>\n",
       "    <tr>\n",
       "      <th>SH600006</th>\n",
       "      <td>-0.207600</td>\n",
       "      <td>-0.334467</td>\n",
       "      <td>-0.115333</td>\n",
       "      <td>-0.011533</td>\n",
       "      <td>0.103800</td>\n",
       "      <td>0.899600</td>\n",
       "      <td>1.118733</td>\n",
       "      <td>0.196067</td>\n",
       "      <td>0.530533</td>\n",
       "      <td>0.415200</td>\n",
       "      <td>...</td>\n",
       "      <td>0.795800</td>\n",
       "      <td>-0.622800</td>\n",
       "      <td>0.876533</td>\n",
       "      <td>0.899600</td>\n",
       "      <td>0.023067</td>\n",
       "      <td>-0.784267</td>\n",
       "      <td>0.680467</td>\n",
       "      <td>-0.830400</td>\n",
       "      <td>-0.888067</td>\n",
       "      <td>0.029483</td>\n",
       "    </tr>\n",
       "    <tr>\n",
       "      <th>...</th>\n",
       "      <th>...</th>\n",
       "      <td>...</td>\n",
       "      <td>...</td>\n",
       "      <td>...</td>\n",
       "      <td>...</td>\n",
       "      <td>...</td>\n",
       "      <td>...</td>\n",
       "      <td>...</td>\n",
       "      <td>...</td>\n",
       "      <td>...</td>\n",
       "      <td>...</td>\n",
       "      <td>...</td>\n",
       "      <td>...</td>\n",
       "      <td>...</td>\n",
       "      <td>...</td>\n",
       "      <td>...</td>\n",
       "      <td>...</td>\n",
       "      <td>...</td>\n",
       "      <td>...</td>\n",
       "      <td>...</td>\n",
       "      <td>...</td>\n",
       "      <td>...</td>\n",
       "    </tr>\n",
       "    <tr>\n",
       "      <th rowspan=\"5\" valign=\"top\">2023-02-17</th>\n",
       "      <th>SZ300896</th>\n",
       "      <td>-0.173000</td>\n",
       "      <td>0.334467</td>\n",
       "      <td>0.242200</td>\n",
       "      <td>1.164867</td>\n",
       "      <td>0.853467</td>\n",
       "      <td>-0.622800</td>\n",
       "      <td>-0.634333</td>\n",
       "      <td>-0.807333</td>\n",
       "      <td>-0.911133</td>\n",
       "      <td>0.184533</td>\n",
       "      <td>...</td>\n",
       "      <td>0.046133</td>\n",
       "      <td>1.349400</td>\n",
       "      <td>1.257133</td>\n",
       "      <td>0.299867</td>\n",
       "      <td>-0.738133</td>\n",
       "      <td>-0.034600</td>\n",
       "      <td>-1.337867</td>\n",
       "      <td>-1.245600</td>\n",
       "      <td>-0.288333</td>\n",
       "      <td>NaN</td>\n",
       "    </tr>\n",
       "    <tr>\n",
       "      <th>SZ300919</th>\n",
       "      <td>-0.276800</td>\n",
       "      <td>-0.369067</td>\n",
       "      <td>-0.103800</td>\n",
       "      <td>0.357533</td>\n",
       "      <td>0.415200</td>\n",
       "      <td>-1.343633</td>\n",
       "      <td>-1.343633</td>\n",
       "      <td>-0.380600</td>\n",
       "      <td>-1.453200</td>\n",
       "      <td>0.288333</td>\n",
       "      <td>...</td>\n",
       "      <td>0.265267</td>\n",
       "      <td>1.545467</td>\n",
       "      <td>1.038000</td>\n",
       "      <td>1.107200</td>\n",
       "      <td>-0.369067</td>\n",
       "      <td>-0.253733</td>\n",
       "      <td>-1.533933</td>\n",
       "      <td>-1.026467</td>\n",
       "      <td>-1.095667</td>\n",
       "      <td>NaN</td>\n",
       "    </tr>\n",
       "    <tr>\n",
       "      <th>SZ300957</th>\n",
       "      <td>1.441667</td>\n",
       "      <td>1.441667</td>\n",
       "      <td>1.176400</td>\n",
       "      <td>1.718467</td>\n",
       "      <td>1.084133</td>\n",
       "      <td>1.533933</td>\n",
       "      <td>0.945733</td>\n",
       "      <td>-0.230667</td>\n",
       "      <td>1.107200</td>\n",
       "      <td>-1.430133</td>\n",
       "      <td>...</td>\n",
       "      <td>-1.418600</td>\n",
       "      <td>-0.149933</td>\n",
       "      <td>-1.164867</td>\n",
       "      <td>-0.507467</td>\n",
       "      <td>1.141800</td>\n",
       "      <td>1.430133</td>\n",
       "      <td>0.161467</td>\n",
       "      <td>1.176400</td>\n",
       "      <td>0.519000</td>\n",
       "      <td>NaN</td>\n",
       "    </tr>\n",
       "    <tr>\n",
       "      <th>SZ300979</th>\n",
       "      <td>1.234067</td>\n",
       "      <td>0.173000</td>\n",
       "      <td>1.130267</td>\n",
       "      <td>1.153333</td>\n",
       "      <td>0.888067</td>\n",
       "      <td>1.407067</td>\n",
       "      <td>1.251367</td>\n",
       "      <td>0.980333</td>\n",
       "      <td>1.257133</td>\n",
       "      <td>-1.222533</td>\n",
       "      <td>...</td>\n",
       "      <td>1.453200</td>\n",
       "      <td>1.649267</td>\n",
       "      <td>1.430133</td>\n",
       "      <td>1.337867</td>\n",
       "      <td>-1.176400</td>\n",
       "      <td>-1.441667</td>\n",
       "      <td>-1.637733</td>\n",
       "      <td>-1.418600</td>\n",
       "      <td>-1.326333</td>\n",
       "      <td>NaN</td>\n",
       "    </tr>\n",
       "    <tr>\n",
       "      <th>SZ300999</th>\n",
       "      <td>1.637733</td>\n",
       "      <td>1.522400</td>\n",
       "      <td>1.441667</td>\n",
       "      <td>1.730000</td>\n",
       "      <td>0.945733</td>\n",
       "      <td>-1.343633</td>\n",
       "      <td>-1.343633</td>\n",
       "      <td>-0.046133</td>\n",
       "      <td>1.234067</td>\n",
       "      <td>-1.626200</td>\n",
       "      <td>...</td>\n",
       "      <td>-1.649267</td>\n",
       "      <td>-0.715067</td>\n",
       "      <td>-1.568533</td>\n",
       "      <td>-1.545467</td>\n",
       "      <td>1.580067</td>\n",
       "      <td>1.660800</td>\n",
       "      <td>0.726600</td>\n",
       "      <td>1.580067</td>\n",
       "      <td>1.557000</td>\n",
       "      <td>NaN</td>\n",
       "    </tr>\n",
       "  </tbody>\n",
       "</table>\n",
       "<p>1103105 rows × 159 columns</p>\n",
       "</div>"
      ],
      "text/plain": [
       "                           KMID      KLEN     KMID2       KUP      KUP2  \\\n",
       "datetime   instrument                                                     \n",
       "2008-01-02 SH600000   -0.311400  0.899600 -0.438267  1.637733  1.603133   \n",
       "           SH600001    0.795800  1.372467  0.034600  1.591600  1.257133   \n",
       "           SH600004    1.395533  0.841933  1.672333 -1.038000 -1.118733   \n",
       "           SH600005   -1.580067 -0.023067 -1.487800 -0.588200 -0.542067   \n",
       "           SH600006   -0.207600 -0.334467 -0.115333 -0.011533  0.103800   \n",
       "...                         ...       ...       ...       ...       ...   \n",
       "2023-02-17 SZ300896   -0.173000  0.334467  0.242200  1.164867  0.853467   \n",
       "           SZ300919   -0.276800 -0.369067 -0.103800  0.357533  0.415200   \n",
       "           SZ300957    1.441667  1.441667  1.176400  1.718467  1.084133   \n",
       "           SZ300979    1.234067  0.173000  1.130267  1.153333  0.888067   \n",
       "           SZ300999    1.637733  1.522400  1.441667  1.730000  0.945733   \n",
       "\n",
       "                           KLOW     KLOW2      KSFT     KSFT2     OPEN0  ...  \\\n",
       "datetime   instrument                                                    ...   \n",
       "2008-01-02 SH600000    1.153333  0.461333 -0.703533 -0.807333  0.519000  ...   \n",
       "           SH600001    1.026467 -0.103800  0.265267 -0.346000 -0.588200  ...   \n",
       "           SH600004   -1.435900 -1.435900  1.372467  1.545467 -1.187933  ...   \n",
       "           SH600005    0.415200  0.311400 -1.453200 -1.407067  1.591600  ...   \n",
       "           SH600006    0.899600  1.118733  0.196067  0.530533  0.415200  ...   \n",
       "...                         ...       ...       ...       ...       ...  ...   \n",
       "2023-02-17 SZ300896   -0.622800 -0.634333 -0.807333 -0.911133  0.184533  ...   \n",
       "           SZ300919   -1.343633 -1.343633 -0.380600 -1.453200  0.288333  ...   \n",
       "           SZ300957    1.533933  0.945733 -0.230667  1.107200 -1.430133  ...   \n",
       "           SZ300979    1.407067  1.251367  0.980333  1.257133 -1.222533  ...   \n",
       "           SZ300999   -1.343633 -1.343633 -0.046133  1.234067 -1.626200  ...   \n",
       "\n",
       "                        VSUMN10   VSUMN20   VSUMN30   VSUMN60    VSUMD5  \\\n",
       "datetime   instrument                                                     \n",
       "2008-01-02 SH600000    1.038000  1.014933  0.657400  0.173000  0.219133   \n",
       "           SH600001   -1.522400 -1.326333 -1.510867 -0.530533  1.568533   \n",
       "           SH600004   -1.430133 -1.280200 -1.268667  0.495933  1.591600   \n",
       "           SH600005    0.299867  1.591600  1.557000  1.499333 -1.245600   \n",
       "           SH600006    0.795800 -0.622800  0.876533  0.899600  0.023067   \n",
       "...                         ...       ...       ...       ...       ...   \n",
       "2023-02-17 SZ300896    0.046133  1.349400  1.257133  0.299867 -0.738133   \n",
       "           SZ300919    0.265267  1.545467  1.038000  1.107200 -0.369067   \n",
       "           SZ300957   -1.418600 -0.149933 -1.164867 -0.507467  1.141800   \n",
       "           SZ300979    1.453200  1.649267  1.430133  1.337867 -1.176400   \n",
       "           SZ300999   -1.649267 -0.715067 -1.568533 -1.545467  1.580067   \n",
       "\n",
       "                        VSUMD10   VSUMD20   VSUMD30   VSUMD60    LABEL0  \n",
       "datetime   instrument                                                    \n",
       "2008-01-02 SH600000   -1.026467 -0.957267 -0.611267 -0.161467 -0.038642  \n",
       "           SH600001    1.591600  1.384000  1.557000  0.565133  0.145259  \n",
       "           SH600004    1.499333  1.337867  1.314800 -0.484400  0.000451  \n",
       "           SH600005   -0.230667 -1.580067 -1.545467 -1.487800  0.071758  \n",
       "           SH600006   -0.784267  0.680467 -0.830400 -0.888067  0.029483  \n",
       "...                         ...       ...       ...       ...       ...  \n",
       "2023-02-17 SZ300896   -0.034600 -1.337867 -1.245600 -0.288333       NaN  \n",
       "           SZ300919   -0.253733 -1.533933 -1.026467 -1.095667       NaN  \n",
       "           SZ300957    1.430133  0.161467  1.176400  0.519000       NaN  \n",
       "           SZ300979   -1.441667 -1.637733 -1.418600 -1.326333       NaN  \n",
       "           SZ300999    1.660800  0.726600  1.580067  1.557000       NaN  \n",
       "\n",
       "[1103105 rows x 159 columns]"
      ]
     },
     "execution_count": 20,
     "metadata": {},
     "output_type": "execute_result"
    }
   ],
   "source": [
    "df"
   ]
  },
  {
   "cell_type": "code",
   "execution_count": 21,
   "id": "2dd06310",
   "metadata": {},
   "outputs": [
    {
     "name": "stderr",
     "output_type": "stream",
     "text": [
      "/Library/Frameworks/Python.framework/Versions/3.8/lib/python3.8/site-packages/ipykernel/ipkernel.py:283: DeprecationWarning:\n",
      "\n",
      "`should_run_async` will not call `transform_cell` automatically in the future. Please pass the result to `transformed_cell` argument and any exception that happen during thetransform in `preprocessing_exc_tuple` in IPython 7.17 and above.\n",
      "\n"
     ]
    },
    {
     "data": {
      "text/plain": [
       "<qlib.data.dataset.loader.QlibDataLoader at 0x7fbea00f7400>"
      ]
     },
     "execution_count": 21,
     "metadata": {},
     "output_type": "execute_result"
    }
   ],
   "source": [
    "hd.data_loader"
   ]
  },
  {
   "cell_type": "code",
   "execution_count": 22,
   "id": "9e917342",
   "metadata": {},
   "outputs": [
    {
     "data": {
      "text/plain": [
       "{'feature': (['($close-$open)/$open',\n",
       "   '($high-$low)/$open',\n",
       "   '($close-$open)/($high-$low+1e-12)',\n",
       "   '($high-Greater($open, $close))/$open',\n",
       "   '($high-Greater($open, $close))/($high-$low+1e-12)',\n",
       "   '(Less($open, $close)-$low)/$open',\n",
       "   '(Less($open, $close)-$low)/($high-$low+1e-12)',\n",
       "   '(2*$close-$high-$low)/$open',\n",
       "   '(2*$close-$high-$low)/($high-$low+1e-12)',\n",
       "   '$open/$close',\n",
       "   '$high/$close',\n",
       "   '$low/$close',\n",
       "   '$vwap/$close',\n",
       "   'Ref($close, 5)/$close',\n",
       "   'Ref($close, 10)/$close',\n",
       "   'Ref($close, 20)/$close',\n",
       "   'Ref($close, 30)/$close',\n",
       "   'Ref($close, 60)/$close',\n",
       "   'Mean($close, 5)/$close',\n",
       "   'Mean($close, 10)/$close',\n",
       "   'Mean($close, 20)/$close',\n",
       "   'Mean($close, 30)/$close',\n",
       "   'Mean($close, 60)/$close',\n",
       "   'Std($close, 5)/$close',\n",
       "   'Std($close, 10)/$close',\n",
       "   'Std($close, 20)/$close',\n",
       "   'Std($close, 30)/$close',\n",
       "   'Std($close, 60)/$close',\n",
       "   'Slope($close, 5)/$close',\n",
       "   'Slope($close, 10)/$close',\n",
       "   'Slope($close, 20)/$close',\n",
       "   'Slope($close, 30)/$close',\n",
       "   'Slope($close, 60)/$close',\n",
       "   'Rsquare($close, 5)',\n",
       "   'Rsquare($close, 10)',\n",
       "   'Rsquare($close, 20)',\n",
       "   'Rsquare($close, 30)',\n",
       "   'Rsquare($close, 60)',\n",
       "   'Resi($close, 5)/$close',\n",
       "   'Resi($close, 10)/$close',\n",
       "   'Resi($close, 20)/$close',\n",
       "   'Resi($close, 30)/$close',\n",
       "   'Resi($close, 60)/$close',\n",
       "   'Max($high, 5)/$close',\n",
       "   'Max($high, 10)/$close',\n",
       "   'Max($high, 20)/$close',\n",
       "   'Max($high, 30)/$close',\n",
       "   'Max($high, 60)/$close',\n",
       "   'Min($low, 5)/$close',\n",
       "   'Min($low, 10)/$close',\n",
       "   'Min($low, 20)/$close',\n",
       "   'Min($low, 30)/$close',\n",
       "   'Min($low, 60)/$close',\n",
       "   'Quantile($close, 5, 0.8)/$close',\n",
       "   'Quantile($close, 10, 0.8)/$close',\n",
       "   'Quantile($close, 20, 0.8)/$close',\n",
       "   'Quantile($close, 30, 0.8)/$close',\n",
       "   'Quantile($close, 60, 0.8)/$close',\n",
       "   'Quantile($close, 5, 0.2)/$close',\n",
       "   'Quantile($close, 10, 0.2)/$close',\n",
       "   'Quantile($close, 20, 0.2)/$close',\n",
       "   'Quantile($close, 30, 0.2)/$close',\n",
       "   'Quantile($close, 60, 0.2)/$close',\n",
       "   'Rank($close, 5)',\n",
       "   'Rank($close, 10)',\n",
       "   'Rank($close, 20)',\n",
       "   'Rank($close, 30)',\n",
       "   'Rank($close, 60)',\n",
       "   '($close-Min($low, 5))/(Max($high, 5)-Min($low, 5)+1e-12)',\n",
       "   '($close-Min($low, 10))/(Max($high, 10)-Min($low, 10)+1e-12)',\n",
       "   '($close-Min($low, 20))/(Max($high, 20)-Min($low, 20)+1e-12)',\n",
       "   '($close-Min($low, 30))/(Max($high, 30)-Min($low, 30)+1e-12)',\n",
       "   '($close-Min($low, 60))/(Max($high, 60)-Min($low, 60)+1e-12)',\n",
       "   'IdxMax($high, 5)/5',\n",
       "   'IdxMax($high, 10)/10',\n",
       "   'IdxMax($high, 20)/20',\n",
       "   'IdxMax($high, 30)/30',\n",
       "   'IdxMax($high, 60)/60',\n",
       "   'IdxMin($low, 5)/5',\n",
       "   'IdxMin($low, 10)/10',\n",
       "   'IdxMin($low, 20)/20',\n",
       "   'IdxMin($low, 30)/30',\n",
       "   'IdxMin($low, 60)/60',\n",
       "   '(IdxMax($high, 5)-IdxMin($low, 5))/5',\n",
       "   '(IdxMax($high, 10)-IdxMin($low, 10))/10',\n",
       "   '(IdxMax($high, 20)-IdxMin($low, 20))/20',\n",
       "   '(IdxMax($high, 30)-IdxMin($low, 30))/30',\n",
       "   '(IdxMax($high, 60)-IdxMin($low, 60))/60',\n",
       "   'Corr($close, Log($volume+1), 5)',\n",
       "   'Corr($close, Log($volume+1), 10)',\n",
       "   'Corr($close, Log($volume+1), 20)',\n",
       "   'Corr($close, Log($volume+1), 30)',\n",
       "   'Corr($close, Log($volume+1), 60)',\n",
       "   'Corr($close/Ref($close,1), Log($volume/Ref($volume, 1)+1), 5)',\n",
       "   'Corr($close/Ref($close,1), Log($volume/Ref($volume, 1)+1), 10)',\n",
       "   'Corr($close/Ref($close,1), Log($volume/Ref($volume, 1)+1), 20)',\n",
       "   'Corr($close/Ref($close,1), Log($volume/Ref($volume, 1)+1), 30)',\n",
       "   'Corr($close/Ref($close,1), Log($volume/Ref($volume, 1)+1), 60)',\n",
       "   'Mean($close>Ref($close, 1), 5)',\n",
       "   'Mean($close>Ref($close, 1), 10)',\n",
       "   'Mean($close>Ref($close, 1), 20)',\n",
       "   'Mean($close>Ref($close, 1), 30)',\n",
       "   'Mean($close>Ref($close, 1), 60)',\n",
       "   'Mean($close<Ref($close, 1), 5)',\n",
       "   'Mean($close<Ref($close, 1), 10)',\n",
       "   'Mean($close<Ref($close, 1), 20)',\n",
       "   'Mean($close<Ref($close, 1), 30)',\n",
       "   'Mean($close<Ref($close, 1), 60)',\n",
       "   'Mean($close>Ref($close, 1), 5)-Mean($close<Ref($close, 1), 5)',\n",
       "   'Mean($close>Ref($close, 1), 10)-Mean($close<Ref($close, 1), 10)',\n",
       "   'Mean($close>Ref($close, 1), 20)-Mean($close<Ref($close, 1), 20)',\n",
       "   'Mean($close>Ref($close, 1), 30)-Mean($close<Ref($close, 1), 30)',\n",
       "   'Mean($close>Ref($close, 1), 60)-Mean($close<Ref($close, 1), 60)',\n",
       "   'Sum(Greater($close-Ref($close, 1), 0), 5)/(Sum(Abs($close-Ref($close, 1)), 5)+1e-12)',\n",
       "   'Sum(Greater($close-Ref($close, 1), 0), 10)/(Sum(Abs($close-Ref($close, 1)), 10)+1e-12)',\n",
       "   'Sum(Greater($close-Ref($close, 1), 0), 20)/(Sum(Abs($close-Ref($close, 1)), 20)+1e-12)',\n",
       "   'Sum(Greater($close-Ref($close, 1), 0), 30)/(Sum(Abs($close-Ref($close, 1)), 30)+1e-12)',\n",
       "   'Sum(Greater($close-Ref($close, 1), 0), 60)/(Sum(Abs($close-Ref($close, 1)), 60)+1e-12)',\n",
       "   'Sum(Greater(Ref($close, 1)-$close, 0), 5)/(Sum(Abs($close-Ref($close, 1)), 5)+1e-12)',\n",
       "   'Sum(Greater(Ref($close, 1)-$close, 0), 10)/(Sum(Abs($close-Ref($close, 1)), 10)+1e-12)',\n",
       "   'Sum(Greater(Ref($close, 1)-$close, 0), 20)/(Sum(Abs($close-Ref($close, 1)), 20)+1e-12)',\n",
       "   'Sum(Greater(Ref($close, 1)-$close, 0), 30)/(Sum(Abs($close-Ref($close, 1)), 30)+1e-12)',\n",
       "   'Sum(Greater(Ref($close, 1)-$close, 0), 60)/(Sum(Abs($close-Ref($close, 1)), 60)+1e-12)',\n",
       "   '(Sum(Greater($close-Ref($close, 1), 0), 5)-Sum(Greater(Ref($close, 1)-$close, 0), 5))/(Sum(Abs($close-Ref($close, 1)), 5)+1e-12)',\n",
       "   '(Sum(Greater($close-Ref($close, 1), 0), 10)-Sum(Greater(Ref($close, 1)-$close, 0), 10))/(Sum(Abs($close-Ref($close, 1)), 10)+1e-12)',\n",
       "   '(Sum(Greater($close-Ref($close, 1), 0), 20)-Sum(Greater(Ref($close, 1)-$close, 0), 20))/(Sum(Abs($close-Ref($close, 1)), 20)+1e-12)',\n",
       "   '(Sum(Greater($close-Ref($close, 1), 0), 30)-Sum(Greater(Ref($close, 1)-$close, 0), 30))/(Sum(Abs($close-Ref($close, 1)), 30)+1e-12)',\n",
       "   '(Sum(Greater($close-Ref($close, 1), 0), 60)-Sum(Greater(Ref($close, 1)-$close, 0), 60))/(Sum(Abs($close-Ref($close, 1)), 60)+1e-12)',\n",
       "   'Mean($volume, 5)/($volume+1e-12)',\n",
       "   'Mean($volume, 10)/($volume+1e-12)',\n",
       "   'Mean($volume, 20)/($volume+1e-12)',\n",
       "   'Mean($volume, 30)/($volume+1e-12)',\n",
       "   'Mean($volume, 60)/($volume+1e-12)',\n",
       "   'Std($volume, 5)/($volume+1e-12)',\n",
       "   'Std($volume, 10)/($volume+1e-12)',\n",
       "   'Std($volume, 20)/($volume+1e-12)',\n",
       "   'Std($volume, 30)/($volume+1e-12)',\n",
       "   'Std($volume, 60)/($volume+1e-12)',\n",
       "   'Std(Abs($close/Ref($close, 1)-1)*$volume, 5)/(Mean(Abs($close/Ref($close, 1)-1)*$volume, 5)+1e-12)',\n",
       "   'Std(Abs($close/Ref($close, 1)-1)*$volume, 10)/(Mean(Abs($close/Ref($close, 1)-1)*$volume, 10)+1e-12)',\n",
       "   'Std(Abs($close/Ref($close, 1)-1)*$volume, 20)/(Mean(Abs($close/Ref($close, 1)-1)*$volume, 20)+1e-12)',\n",
       "   'Std(Abs($close/Ref($close, 1)-1)*$volume, 30)/(Mean(Abs($close/Ref($close, 1)-1)*$volume, 30)+1e-12)',\n",
       "   'Std(Abs($close/Ref($close, 1)-1)*$volume, 60)/(Mean(Abs($close/Ref($close, 1)-1)*$volume, 60)+1e-12)',\n",
       "   'Sum(Greater($volume-Ref($volume, 1), 0), 5)/(Sum(Abs($volume-Ref($volume, 1)), 5)+1e-12)',\n",
       "   'Sum(Greater($volume-Ref($volume, 1), 0), 10)/(Sum(Abs($volume-Ref($volume, 1)), 10)+1e-12)',\n",
       "   'Sum(Greater($volume-Ref($volume, 1), 0), 20)/(Sum(Abs($volume-Ref($volume, 1)), 20)+1e-12)',\n",
       "   'Sum(Greater($volume-Ref($volume, 1), 0), 30)/(Sum(Abs($volume-Ref($volume, 1)), 30)+1e-12)',\n",
       "   'Sum(Greater($volume-Ref($volume, 1), 0), 60)/(Sum(Abs($volume-Ref($volume, 1)), 60)+1e-12)',\n",
       "   'Sum(Greater(Ref($volume, 1)-$volume, 0), 5)/(Sum(Abs($volume-Ref($volume, 1)), 5)+1e-12)',\n",
       "   'Sum(Greater(Ref($volume, 1)-$volume, 0), 10)/(Sum(Abs($volume-Ref($volume, 1)), 10)+1e-12)',\n",
       "   'Sum(Greater(Ref($volume, 1)-$volume, 0), 20)/(Sum(Abs($volume-Ref($volume, 1)), 20)+1e-12)',\n",
       "   'Sum(Greater(Ref($volume, 1)-$volume, 0), 30)/(Sum(Abs($volume-Ref($volume, 1)), 30)+1e-12)',\n",
       "   'Sum(Greater(Ref($volume, 1)-$volume, 0), 60)/(Sum(Abs($volume-Ref($volume, 1)), 60)+1e-12)',\n",
       "   '(Sum(Greater($volume-Ref($volume, 1), 0), 5)-Sum(Greater(Ref($volume, 1)-$volume, 0), 5))/(Sum(Abs($volume-Ref($volume, 1)), 5)+1e-12)',\n",
       "   '(Sum(Greater($volume-Ref($volume, 1), 0), 10)-Sum(Greater(Ref($volume, 1)-$volume, 0), 10))/(Sum(Abs($volume-Ref($volume, 1)), 10)+1e-12)',\n",
       "   '(Sum(Greater($volume-Ref($volume, 1), 0), 20)-Sum(Greater(Ref($volume, 1)-$volume, 0), 20))/(Sum(Abs($volume-Ref($volume, 1)), 20)+1e-12)',\n",
       "   '(Sum(Greater($volume-Ref($volume, 1), 0), 30)-Sum(Greater(Ref($volume, 1)-$volume, 0), 30))/(Sum(Abs($volume-Ref($volume, 1)), 30)+1e-12)',\n",
       "   '(Sum(Greater($volume-Ref($volume, 1), 0), 60)-Sum(Greater(Ref($volume, 1)-$volume, 0), 60))/(Sum(Abs($volume-Ref($volume, 1)), 60)+1e-12)'],\n",
       "  ['KMID',\n",
       "   'KLEN',\n",
       "   'KMID2',\n",
       "   'KUP',\n",
       "   'KUP2',\n",
       "   'KLOW',\n",
       "   'KLOW2',\n",
       "   'KSFT',\n",
       "   'KSFT2',\n",
       "   'OPEN0',\n",
       "   'HIGH0',\n",
       "   'LOW0',\n",
       "   'VWAP0',\n",
       "   'ROC5',\n",
       "   'ROC10',\n",
       "   'ROC20',\n",
       "   'ROC30',\n",
       "   'ROC60',\n",
       "   'MA5',\n",
       "   'MA10',\n",
       "   'MA20',\n",
       "   'MA30',\n",
       "   'MA60',\n",
       "   'STD5',\n",
       "   'STD10',\n",
       "   'STD20',\n",
       "   'STD30',\n",
       "   'STD60',\n",
       "   'BETA5',\n",
       "   'BETA10',\n",
       "   'BETA20',\n",
       "   'BETA30',\n",
       "   'BETA60',\n",
       "   'RSQR5',\n",
       "   'RSQR10',\n",
       "   'RSQR20',\n",
       "   'RSQR30',\n",
       "   'RSQR60',\n",
       "   'RESI5',\n",
       "   'RESI10',\n",
       "   'RESI20',\n",
       "   'RESI30',\n",
       "   'RESI60',\n",
       "   'MAX5',\n",
       "   'MAX10',\n",
       "   'MAX20',\n",
       "   'MAX30',\n",
       "   'MAX60',\n",
       "   'MIN5',\n",
       "   'MIN10',\n",
       "   'MIN20',\n",
       "   'MIN30',\n",
       "   'MIN60',\n",
       "   'QTLU5',\n",
       "   'QTLU10',\n",
       "   'QTLU20',\n",
       "   'QTLU30',\n",
       "   'QTLU60',\n",
       "   'QTLD5',\n",
       "   'QTLD10',\n",
       "   'QTLD20',\n",
       "   'QTLD30',\n",
       "   'QTLD60',\n",
       "   'RANK5',\n",
       "   'RANK10',\n",
       "   'RANK20',\n",
       "   'RANK30',\n",
       "   'RANK60',\n",
       "   'RSV5',\n",
       "   'RSV10',\n",
       "   'RSV20',\n",
       "   'RSV30',\n",
       "   'RSV60',\n",
       "   'IMAX5',\n",
       "   'IMAX10',\n",
       "   'IMAX20',\n",
       "   'IMAX30',\n",
       "   'IMAX60',\n",
       "   'IMIN5',\n",
       "   'IMIN10',\n",
       "   'IMIN20',\n",
       "   'IMIN30',\n",
       "   'IMIN60',\n",
       "   'IMXD5',\n",
       "   'IMXD10',\n",
       "   'IMXD20',\n",
       "   'IMXD30',\n",
       "   'IMXD60',\n",
       "   'CORR5',\n",
       "   'CORR10',\n",
       "   'CORR20',\n",
       "   'CORR30',\n",
       "   'CORR60',\n",
       "   'CORD5',\n",
       "   'CORD10',\n",
       "   'CORD20',\n",
       "   'CORD30',\n",
       "   'CORD60',\n",
       "   'CNTP5',\n",
       "   'CNTP10',\n",
       "   'CNTP20',\n",
       "   'CNTP30',\n",
       "   'CNTP60',\n",
       "   'CNTN5',\n",
       "   'CNTN10',\n",
       "   'CNTN20',\n",
       "   'CNTN30',\n",
       "   'CNTN60',\n",
       "   'CNTD5',\n",
       "   'CNTD10',\n",
       "   'CNTD20',\n",
       "   'CNTD30',\n",
       "   'CNTD60',\n",
       "   'SUMP5',\n",
       "   'SUMP10',\n",
       "   'SUMP20',\n",
       "   'SUMP30',\n",
       "   'SUMP60',\n",
       "   'SUMN5',\n",
       "   'SUMN10',\n",
       "   'SUMN20',\n",
       "   'SUMN30',\n",
       "   'SUMN60',\n",
       "   'SUMD5',\n",
       "   'SUMD10',\n",
       "   'SUMD20',\n",
       "   'SUMD30',\n",
       "   'SUMD60',\n",
       "   'VMA5',\n",
       "   'VMA10',\n",
       "   'VMA20',\n",
       "   'VMA30',\n",
       "   'VMA60',\n",
       "   'VSTD5',\n",
       "   'VSTD10',\n",
       "   'VSTD20',\n",
       "   'VSTD30',\n",
       "   'VSTD60',\n",
       "   'WVMA5',\n",
       "   'WVMA10',\n",
       "   'WVMA20',\n",
       "   'WVMA30',\n",
       "   'WVMA60',\n",
       "   'VSUMP5',\n",
       "   'VSUMP10',\n",
       "   'VSUMP20',\n",
       "   'VSUMP30',\n",
       "   'VSUMP60',\n",
       "   'VSUMN5',\n",
       "   'VSUMN10',\n",
       "   'VSUMN20',\n",
       "   'VSUMN30',\n",
       "   'VSUMN60',\n",
       "   'VSUMD5',\n",
       "   'VSUMD10',\n",
       "   'VSUMD20',\n",
       "   'VSUMD30',\n",
       "   'VSUMD60']),\n",
       " 'label': (['Ref($open, -2)/Ref($open, -1) - 1'], ['LABEL0'])}"
      ]
     },
     "execution_count": 22,
     "metadata": {},
     "output_type": "execute_result"
    }
   ],
   "source": [
    "hd.data_loader.fields"
   ]
  },
  {
   "cell_type": "code",
   "execution_count": 23,
   "id": "d1043a71",
   "metadata": {},
   "outputs": [
    {
     "data": {
      "text/plain": [
       "[<qlib.data.dataset.processor.DropnaLabel at 0x7fbea0101c10>,\n",
       " <qlib.data.dataset.processor.CSRankNorm at 0x7fbea0101070>]"
      ]
     },
     "execution_count": 23,
     "metadata": {},
     "output_type": "execute_result"
    }
   ],
   "source": [
    "hd.learn_processors"
   ]
  },
  {
   "cell_type": "code",
   "execution_count": 24,
   "id": "b7588538",
   "metadata": {},
   "outputs": [
    {
     "data": {
      "text/plain": [
       "[<qlib.data.dataset.processor.Fillna at 0x7fbea00f7a90>,\n",
       " <qlib.data.dataset.processor.CSRankNorm at 0x7fbea01018b0>]"
      ]
     },
     "execution_count": 24,
     "metadata": {},
     "output_type": "execute_result"
    }
   ],
   "source": [
    "hd.infer_processors"
   ]
  },
  {
   "cell_type": "code",
   "execution_count": 25,
   "id": "adbb4bf0",
   "metadata": {},
   "outputs": [
    {
     "data": {
      "text/plain": [
       "<qlib.contrib.data.handler.Alpha158 at 0x7fbea00f7b50>"
      ]
     },
     "execution_count": 25,
     "metadata": {},
     "output_type": "execute_result"
    }
   ],
   "source": [
    "hd"
   ]
  },
  {
   "cell_type": "code",
   "execution_count": 26,
   "id": "b26158ff",
   "metadata": {},
   "outputs": [
    {
     "data": {
      "text/plain": [
       "'append'"
      ]
     },
     "execution_count": 26,
     "metadata": {},
     "output_type": "execute_result"
    }
   ],
   "source": [
    "hd.process_type # appending type"
   ]
  },
  {
   "cell_type": "code",
   "execution_count": 27,
   "id": "8445afbb",
   "metadata": {},
   "outputs": [
    {
     "data": {
      "text/html": [
       "<div>\n",
       "<style scoped>\n",
       "    .dataframe tbody tr th:only-of-type {\n",
       "        vertical-align: middle;\n",
       "    }\n",
       "\n",
       "    .dataframe tbody tr th {\n",
       "        vertical-align: top;\n",
       "    }\n",
       "\n",
       "    .dataframe thead th {\n",
       "        text-align: right;\n",
       "    }\n",
       "</style>\n",
       "<table border=\"1\" class=\"dataframe\">\n",
       "  <thead>\n",
       "    <tr style=\"text-align: right;\">\n",
       "      <th></th>\n",
       "      <th></th>\n",
       "      <th>LABEL0</th>\n",
       "    </tr>\n",
       "    <tr>\n",
       "      <th>datetime</th>\n",
       "      <th>instrument</th>\n",
       "      <th></th>\n",
       "    </tr>\n",
       "  </thead>\n",
       "  <tbody>\n",
       "    <tr>\n",
       "      <th rowspan=\"5\" valign=\"top\">2008-01-02</th>\n",
       "      <th>SH600000</th>\n",
       "      <td>-1.658660</td>\n",
       "    </tr>\n",
       "    <tr>\n",
       "      <th>SH600001</th>\n",
       "      <td>1.730000</td>\n",
       "    </tr>\n",
       "    <tr>\n",
       "      <th>SH600004</th>\n",
       "      <td>-0.731237</td>\n",
       "    </tr>\n",
       "    <tr>\n",
       "      <th>SH600005</th>\n",
       "      <td>1.587320</td>\n",
       "    </tr>\n",
       "    <tr>\n",
       "      <th>SH600006</th>\n",
       "      <td>0.517216</td>\n",
       "    </tr>\n",
       "    <tr>\n",
       "      <th>...</th>\n",
       "      <th>...</th>\n",
       "      <td>...</td>\n",
       "    </tr>\n",
       "    <tr>\n",
       "      <th rowspan=\"5\" valign=\"top\">2023-02-15</th>\n",
       "      <th>SZ300896</th>\n",
       "      <td>0.968800</td>\n",
       "    </tr>\n",
       "    <tr>\n",
       "      <th>SZ300919</th>\n",
       "      <td>-1.649267</td>\n",
       "    </tr>\n",
       "    <tr>\n",
       "      <th>SZ300957</th>\n",
       "      <td>-0.715067</td>\n",
       "    </tr>\n",
       "    <tr>\n",
       "      <th>SZ300979</th>\n",
       "      <td>0.438267</td>\n",
       "    </tr>\n",
       "    <tr>\n",
       "      <th>SZ300999</th>\n",
       "      <td>-0.542067</td>\n",
       "    </tr>\n",
       "  </tbody>\n",
       "</table>\n",
       "<p>1068091 rows × 1 columns</p>\n",
       "</div>"
      ],
      "text/plain": [
       "                         LABEL0\n",
       "datetime   instrument          \n",
       "2008-01-02 SH600000   -1.658660\n",
       "           SH600001    1.730000\n",
       "           SH600004   -0.731237\n",
       "           SH600005    1.587320\n",
       "           SH600006    0.517216\n",
       "...                         ...\n",
       "2023-02-15 SZ300896    0.968800\n",
       "           SZ300919   -1.649267\n",
       "           SZ300957   -0.715067\n",
       "           SZ300979    0.438267\n",
       "           SZ300999   -0.542067\n",
       "\n",
       "[1068091 rows x 1 columns]"
      ]
     },
     "execution_count": 27,
     "metadata": {},
     "output_type": "execute_result"
    }
   ],
   "source": [
    "hd.fetch(col_set=\"label\", data_key=hd.DK_L)"
   ]
  },
  {
   "cell_type": "code",
   "execution_count": 28,
   "id": "be636966",
   "metadata": {},
   "outputs": [
    {
     "name": "stderr",
     "output_type": "stream",
     "text": [
      "/Library/Frameworks/Python.framework/Versions/3.8/lib/python3.8/site-packages/ipykernel/ipkernel.py:283: DeprecationWarning:\n",
      "\n",
      "`should_run_async` will not call `transform_cell` automatically in the future. Please pass the result to `transformed_cell` argument and any exception that happen during thetransform in `preprocessing_exc_tuple` in IPython 7.17 and above.\n",
      "\n"
     ]
    },
    {
     "data": {
      "text/html": [
       "<div>\n",
       "<style scoped>\n",
       "    .dataframe tbody tr th:only-of-type {\n",
       "        vertical-align: middle;\n",
       "    }\n",
       "\n",
       "    .dataframe tbody tr th {\n",
       "        vertical-align: top;\n",
       "    }\n",
       "\n",
       "    .dataframe thead th {\n",
       "        text-align: right;\n",
       "    }\n",
       "</style>\n",
       "<table border=\"1\" class=\"dataframe\">\n",
       "  <thead>\n",
       "    <tr style=\"text-align: right;\">\n",
       "      <th></th>\n",
       "      <th></th>\n",
       "      <th>LABEL0</th>\n",
       "    </tr>\n",
       "    <tr>\n",
       "      <th>datetime</th>\n",
       "      <th>instrument</th>\n",
       "      <th></th>\n",
       "    </tr>\n",
       "  </thead>\n",
       "  <tbody>\n",
       "    <tr>\n",
       "      <th rowspan=\"5\" valign=\"top\">2008-01-02</th>\n",
       "      <th>SH600000</th>\n",
       "      <td>-0.038642</td>\n",
       "    </tr>\n",
       "    <tr>\n",
       "      <th>SH600001</th>\n",
       "      <td>0.145259</td>\n",
       "    </tr>\n",
       "    <tr>\n",
       "      <th>SH600004</th>\n",
       "      <td>0.000451</td>\n",
       "    </tr>\n",
       "    <tr>\n",
       "      <th>SH600005</th>\n",
       "      <td>0.071758</td>\n",
       "    </tr>\n",
       "    <tr>\n",
       "      <th>SH600006</th>\n",
       "      <td>0.029483</td>\n",
       "    </tr>\n",
       "    <tr>\n",
       "      <th>...</th>\n",
       "      <th>...</th>\n",
       "      <td>...</td>\n",
       "    </tr>\n",
       "    <tr>\n",
       "      <th rowspan=\"5\" valign=\"top\">2023-02-17</th>\n",
       "      <th>SZ300896</th>\n",
       "      <td>NaN</td>\n",
       "    </tr>\n",
       "    <tr>\n",
       "      <th>SZ300919</th>\n",
       "      <td>NaN</td>\n",
       "    </tr>\n",
       "    <tr>\n",
       "      <th>SZ300957</th>\n",
       "      <td>NaN</td>\n",
       "    </tr>\n",
       "    <tr>\n",
       "      <th>SZ300979</th>\n",
       "      <td>NaN</td>\n",
       "    </tr>\n",
       "    <tr>\n",
       "      <th>SZ300999</th>\n",
       "      <td>NaN</td>\n",
       "    </tr>\n",
       "  </tbody>\n",
       "</table>\n",
       "<p>1103105 rows × 1 columns</p>\n",
       "</div>"
      ],
      "text/plain": [
       "                         LABEL0\n",
       "datetime   instrument          \n",
       "2008-01-02 SH600000   -0.038642\n",
       "           SH600001    0.145259\n",
       "           SH600004    0.000451\n",
       "           SH600005    0.071758\n",
       "           SH600006    0.029483\n",
       "...                         ...\n",
       "2023-02-17 SZ300896         NaN\n",
       "           SZ300919         NaN\n",
       "           SZ300957         NaN\n",
       "           SZ300979         NaN\n",
       "           SZ300999         NaN\n",
       "\n",
       "[1103105 rows x 1 columns]"
      ]
     },
     "execution_count": 28,
     "metadata": {},
     "output_type": "execute_result"
    }
   ],
   "source": [
    "hd.fetch(col_set=\"label\", data_key=hd.DK_I)"
   ]
  },
  {
   "cell_type": "code",
   "execution_count": 29,
   "id": "ec2cfb12",
   "metadata": {},
   "outputs": [
    {
     "name": "stderr",
     "output_type": "stream",
     "text": [
      "/Library/Frameworks/Python.framework/Versions/3.8/lib/python3.8/site-packages/ipykernel/ipkernel.py:283: DeprecationWarning:\n",
      "\n",
      "`should_run_async` will not call `transform_cell` automatically in the future. Please pass the result to `transformed_cell` argument and any exception that happen during thetransform in `preprocessing_exc_tuple` in IPython 7.17 and above.\n",
      "\n"
     ]
    }
   ],
   "source": [
    "dataset_conf = {\n",
    "    \"class\": \"DatasetH\",\n",
    "    \"module_path\": \"qlib.data.dataset\",\n",
    "    \"kwargs\": {\n",
    "        \"handler\": hd,\n",
    "        \"segments\": {\n",
    "            \"train\": (DATE_CONFIG[REGION][\"train\"][\"start\"], DATE_CONFIG[REGION][\"train\"][\"end\"]),\n",
    "            \"valid\": (DATE_CONFIG[REGION][\"valid\"][\"start\"], DATE_CONFIG[REGION][\"valid\"][\"end\"]),\n",
    "            \"test\": (DATE_CONFIG[REGION][\"test\"][\"start\"], DATE_CONFIG[REGION][\"test\"][\"end\"]),\n",
    "        },\n",
    "    },\n",
    "}"
   ]
  },
  {
   "cell_type": "code",
   "execution_count": 30,
   "id": "aca33c3c",
   "metadata": {},
   "outputs": [],
   "source": [
    "dataset = init_instance_by_config(dataset_conf)"
   ]
  },
  {
   "cell_type": "code",
   "execution_count": 31,
   "id": "ee7199e9",
   "metadata": {},
   "outputs": [],
   "source": [
    "df_train = dataset.prepare(\"train\", col_set=[\"feature\", \"label\"], data_key=DataHandlerLP.DK_L)\n",
    "df_test = dataset.prepare(\"test\", col_set=[\"feature\"], data_key=DataHandlerLP.DK_I)"
   ]
  },
  {
   "cell_type": "code",
   "execution_count": 32,
   "id": "27958b5a",
   "metadata": {},
   "outputs": [
    {
     "data": {
      "text/plain": [
       "array([1., 1., 1., 1., 1., 1., 1., 1., 1., 1., 1., 1., 1., 1., 1., 1., 1.,\n",
       "       1., 1., 1., 1., 1., 1., 1., 1., 1., 1., 1., 1., 1., 1., 1., 1., 1.,\n",
       "       1., 1., 1., 1., 1., 1., 1., 1., 1., 1., 1., 1., 1., 1., 1., 1., 1.,\n",
       "       1., 1., 1., 1., 1., 1., 1., 1., 1., 1., 1., 1., 1., 1., 1., 1., 1.,\n",
       "       1., 1., 1., 1., 1., 1., 1., 1., 1., 1., 1., 1., 1., 1., 1., 1., 1.,\n",
       "       1., 1., 1., 1., 1., 1., 1., 1., 1., 1., 1., 1., 1., 1., 1., 1., 1.,\n",
       "       1., 1., 1., 1., 1., 1., 1., 1., 1., 1., 1., 1., 1., 1., 1., 1., 1.,\n",
       "       1., 1., 1., 1., 1., 1., 1., 1., 1., 1., 1., 1., 1., 1., 1., 1., 1.,\n",
       "       1., 1., 1., 1., 1., 1., 1., 1., 1., 1., 1., 1., 1., 1., 1., 1., 1.,\n",
       "       1., 1., 1., 1., 1.])"
      ]
     },
     "execution_count": 32,
     "metadata": {},
     "output_type": "execute_result"
    }
   ],
   "source": [
    "np.isfinite(df_train[\"feature\"].values).mean(axis=0)"
   ]
  },
  {
   "cell_type": "code",
   "execution_count": 33,
   "id": "a0dd7bc8",
   "metadata": {},
   "outputs": [
    {
     "data": {
      "text/plain": [
       "array([1., 1., 1., 1., 1., 1., 1., 1., 1., 1., 1., 1., 1., 1., 1., 1., 1.,\n",
       "       1., 1., 1., 1., 1., 1., 1., 1., 1., 1., 1., 1., 1., 1., 1., 1., 1.,\n",
       "       1., 1., 1., 1., 1., 1., 1., 1., 1., 1., 1., 1., 1., 1., 1., 1., 1.,\n",
       "       1., 1., 1., 1., 1., 1., 1., 1., 1., 1., 1., 1., 1., 1., 1., 1., 1.,\n",
       "       1., 1., 1., 1., 1., 1., 1., 1., 1., 1., 1., 1., 1., 1., 1., 1., 1.,\n",
       "       1., 1., 1., 1., 1., 1., 1., 1., 1., 1., 1., 1., 1., 1., 1., 1., 1.,\n",
       "       1., 1., 1., 1., 1., 1., 1., 1., 1., 1., 1., 1., 1., 1., 1., 1., 1.,\n",
       "       1., 1., 1., 1., 1., 1., 1., 1., 1., 1., 1., 1., 1., 1., 1., 1., 1.,\n",
       "       1., 1., 1., 1., 1., 1., 1., 1., 1., 1., 1., 1., 1., 1., 1., 1., 1.,\n",
       "       1., 1., 1., 1., 1.])"
      ]
     },
     "execution_count": 33,
     "metadata": {},
     "output_type": "execute_result"
    }
   ],
   "source": [
    "np.isfinite(df_test[\"feature\"].values).mean(axis=0)"
   ]
  },
  {
   "cell_type": "code",
   "execution_count": 34,
   "id": "a972244f",
   "metadata": {},
   "outputs": [],
   "source": [
    "riskiest_features = None\n",
    "if ENABLE_NEUTRALIZE:\n",
    "    riskiest_features = get_riskest_features(df_train)"
   ]
  },
  {
   "cell_type": "markdown",
   "id": "0c89c15d",
   "metadata": {},
   "source": [
    "# Model Training & Inference"
   ]
  },
  {
   "cell_type": "code",
   "execution_count": 35,
   "id": "514854a2",
   "metadata": {},
   "outputs": [],
   "source": [
    "def objective(trial):\n",
    "    task = {\n",
    "        \"model\": {\n",
    "            \"class\": \"LGBModel\",\n",
    "            \"module_path\": \"qlib.contrib.model.gbdt\",\n",
    "            \"kwargs\": {\n",
    "                \"loss\": MODEL_LOSS,\n",
    "                \"colsample_bytree\": trial.suggest_uniform(\"colsample_bytree\", 0.5, 1),\n",
    "                \"learning_rate\": trial.suggest_uniform(\"learning_rate\", 0, 1),\n",
    "                \"subsample\": trial.suggest_uniform(\"subsample\", 0.5, 1),\n",
    "                \"lambda_l1\": trial.suggest_loguniform(\"lambda_l1\", 1e-8, 1e4),\n",
    "                \"lambda_l2\": trial.suggest_loguniform(\"lambda_l2\", 1e-8, 1e4),\n",
    "                \"num_leaves\": trial.suggest_int(\"num_leaves\", 100, 1024),\n",
    "                \"max_depth\": 8,\n",
    "                \"enable_neutralize\": ENABLE_NEUTRALIZE,\n",
    "            },\n",
    "        },\n",
    "    }\n",
    "    try:\n",
    "        evals_result = dict()\n",
    "        model = init_instance_by_config(task[\"model\"])\n",
    "        model.fit(dataset, riskiest_features=riskiest_features, reweighter=reweighter, evals_result=evals_result)\n",
    "        if MODEL_LOSS == \"lambdarank\":\n",
    "            return -max(evals_result[\"valid\"][MODEL_LOSS_KEY_DICT[MODEL_LOSS]])\n",
    "        else:\n",
    "            return min(evals_result[\"valid\"][MODEL_LOSS_KEY_DICT[MODEL_LOSS]])\n",
    "    except:\n",
    "        return 100"
   ]
  },
  {
   "cell_type": "code",
   "execution_count": 36,
   "id": "3ba01b01",
   "metadata": {},
   "outputs": [],
   "source": [
    "if (not USE_BEST_MODEL_PARAMS) or (not os.path.exists(MODEL_PARAMS_FILE)) or (get_params_from_file(MODEL_PARAMS_FILE, ALL_CONFIG_KEY) is None):\n",
    "    study = optuna.create_study(study_name=f\"lightgbm_alpha158_{ALL_CONFIG_KEY}_{timestamp()}\", storage=\"sqlite:///db.sqlite3\")\n",
    "    study.optimize(objective, n_jobs=1, n_trials=50)\n",
    "    update_params_to_file(MODEL_PARAMS_FILE, ALL_CONFIG_KEY, study.best_params)"
   ]
  },
  {
   "cell_type": "code",
   "execution_count": 37,
   "id": "68dd8f91",
   "metadata": {},
   "outputs": [],
   "source": [
    "model_params = get_params_from_file(MODEL_PARAMS_FILE, ALL_CONFIG_KEY)"
   ]
  },
  {
   "cell_type": "code",
   "execution_count": 38,
   "id": "a0783995",
   "metadata": {},
   "outputs": [],
   "source": [
    "model_params.update({\n",
    "    \"loss\": \"mse\" if MODEL_LOSS == \"mse_log\" else MODEL_LOSS,\n",
    "    \"max_depth\": 8,\n",
    "    \"enable_neutralize\": ENABLE_NEUTRALIZE,\n",
    "    \"num_threads\": 20,\n",
    "})"
   ]
  },
  {
   "cell_type": "code",
   "execution_count": 39,
   "id": "e1f4528f",
   "metadata": {},
   "outputs": [
    {
     "data": {
      "text/plain": [
       "{'colsample_bytree': 0.8879,\n",
       " 'lambda_l1': 205.6999,\n",
       " 'lambda_l2': 580.9768,\n",
       " 'learning_rate': 0.2,\n",
       " 'num_leaves': 210,\n",
       " 'subsample': 0.8789,\n",
       " 'loss': 'mse',\n",
       " 'max_depth': 8,\n",
       " 'enable_neutralize': True,\n",
       " 'num_threads': 20}"
      ]
     },
     "execution_count": 39,
     "metadata": {},
     "output_type": "execute_result"
    }
   ],
   "source": [
    "model_params"
   ]
  },
  {
   "cell_type": "code",
   "execution_count": 40,
   "id": "f6975911",
   "metadata": {},
   "outputs": [
    {
     "name": "stdout",
     "output_type": "stream",
     "text": [
      "ModuleNotFoundError. CatBoostModel are skipped. (optional: maybe installing CatBoostModel can fix it.)\n"
     ]
    }
   ],
   "source": [
    "model = init_instance_by_config({\n",
    "    \"class\": \"LGBModel\",\n",
    "    \"module_path\": \"qlib.contrib.model.gbdt\",\n",
    "    \"kwargs\": model_params\n",
    "})"
   ]
  },
  {
   "cell_type": "code",
   "execution_count": 41,
   "id": "2e2dafb6",
   "metadata": {},
   "outputs": [
    {
     "name": "stderr",
     "output_type": "stream",
     "text": [
      "/Library/Frameworks/Python.framework/Versions/3.8/lib/python3.8/site-packages/ipykernel/ipkernel.py:283: DeprecationWarning:\n",
      "\n",
      "`should_run_async` will not call `transform_cell` automatically in the future. Please pass the result to `transformed_cell` argument and any exception that happen during thetransform in `preprocessing_exc_tuple` in IPython 7.17 and above.\n",
      "\n",
      "[94379:MainThread](2023-02-18 20:38:36,014) INFO - qlib.workflow - [exp.py:258] - Experiment 1 starts running ...\n",
      "[94379:MainThread](2023-02-18 20:38:36,152) INFO - qlib.workflow - [recorder.py:341] - Recorder ba2c1dac727a44f18772e7b7144486de starts running under Experiment 1 ...\n"
     ]
    },
    {
     "name": "stdout",
     "output_type": "stream",
     "text": [
      "Training until validation scores don't improve for 50 rounds\n",
      "[20]\ttrain's l2: 0.976249\tvalid's l2: 0.99058\n",
      "[40]\ttrain's l2: 0.967297\tvalid's l2: 0.988505\n",
      "[60]\ttrain's l2: 0.959167\tvalid's l2: 0.987635\n",
      "[80]\ttrain's l2: 0.952344\tvalid's l2: 0.987426\n",
      "[100]\ttrain's l2: 0.94609\tvalid's l2: 0.987194\n",
      "[120]\ttrain's l2: 0.940499\tvalid's l2: 0.987466\n",
      "[140]\ttrain's l2: 0.935013\tvalid's l2: 0.987456\n",
      "Early stopping, best iteration is:\n",
      "[102]\ttrain's l2: 0.945501\tvalid's l2: 0.987111\n"
     ]
    },
    {
     "name": "stderr",
     "output_type": "stream",
     "text": [
      "[94379:MainThread](2023-02-18 20:39:11,875) INFO - qlib.workflow - [record_temp.py:196] - Signal record 'pred.pkl' has been saved as the artifact of the Experiment 1\n"
     ]
    },
    {
     "name": "stdout",
     "output_type": "stream",
     "text": [
      "'The following are prediction results of the LGBModel model.'\n",
      "                          score\n",
      "datetime   instrument          \n",
      "2019-01-02 SH600000    0.400908\n",
      "           SH600004    0.698008\n",
      "           SH600009    2.114469\n",
      "           SH600010   -0.159841\n",
      "           SH600011   -0.551085\n"
     ]
    },
    {
     "name": "stderr",
     "output_type": "stream",
     "text": [
      "[94379:MainThread](2023-02-18 20:39:13,900) INFO - qlib.timer - [log.py:128] - Time cost: 0.000s | waiting `async_log` Done\n"
     ]
    }
   ],
   "source": [
    "# start exp to train model\n",
    "mlflow.end_run()\n",
    "with R.start(experiment_name=EXP_NAME):\n",
    "    model.fit(dataset, riskiest_features=riskiest_features, reweighter=reweighter)\n",
    "    R.save_objects(trained_model=model)\n",
    "\n",
    "    rec = R.get_recorder()\n",
    "    rid = rec.id # save the record id\n",
    "\n",
    "    # Inference and saving signal\n",
    "    sr = SignalRecord(model, dataset, rec)\n",
    "    sr.generate()"
   ]
  },
  {
   "cell_type": "markdown",
   "id": "6b6b9f3d",
   "metadata": {},
   "source": [
    "# Evaluation:\n",
    "- Signal-based\n",
    "- Portfolio-based: backtest "
   ]
  },
  {
   "cell_type": "code",
   "execution_count": null,
   "id": "4328f881",
   "metadata": {},
   "outputs": [
    {
     "name": "stderr",
     "output_type": "stream",
     "text": [
      "/Library/Frameworks/Python.framework/Versions/3.8/lib/python3.8/site-packages/ipykernel/ipkernel.py:283: DeprecationWarning:\n",
      "\n",
      "`should_run_async` will not call `transform_cell` automatically in the future. Please pass the result to `transformed_cell` argument and any exception that happen during thetransform in `preprocessing_exc_tuple` in IPython 7.17 and above.\n",
      "\n",
      "[94379:MainThread](2023-02-18 20:39:13,926) INFO - qlib.workflow - [exp.py:258] - Experiment 1 starts running ...\n",
      "[94379:MainThread](2023-02-18 20:39:13,942) INFO - qlib.workflow - [recorder.py:341] - Recorder ba2c1dac727a44f18772e7b7144486de starts running under Experiment 1 ...\n",
      "[94379:MainThread](2023-02-18 20:39:15,399) INFO - qlib.backtest caller - [__init__.py:93] - Create new exchange\n"
     ]
    },
    {
     "name": "stdout",
     "output_type": "stream",
     "text": [
      "{'IC': 0.01338027244430197,\n",
      " 'ICIR': 0.21248286570800232,\n",
      " 'Rank IC': 0.01623229880991675,\n",
      " 'Rank ICIR': 0.26133439728036456}\n"
     ]
    },
    {
     "name": "stderr",
     "output_type": "stream",
     "text": [
      "[94379:MainThread](2023-02-18 20:39:24,743) WARNING - qlib.online operator - [exchange.py:219] - $open field data contains nan.\n",
      "[94379:MainThread](2023-02-18 20:39:24,745) WARNING - qlib.online operator - [exchange.py:219] - $open field data contains nan.\n",
      "[94379:MainThread](2023-02-18 20:39:25,322) WARNING - qlib.data - [data.py:666] - load calendar error: freq=day, future=True; return current calendar!\n",
      "[94379:MainThread](2023-02-18 20:39:25,323) WARNING - qlib.data - [data.py:669] - You can get future calendar by referring to the following document: https://github.com/microsoft/qlib/blob/main/scripts/data_collector/contrib/README.md\n",
      "[94379:MainThread](2023-02-18 20:39:25,345) WARNING - qlib.BaseExecutor - [executor.py:121] - `common_infra` is not set for <qlib.backtest.executor.SimulatorExecutor object at 0x7fbb9243daf0>\n"
     ]
    },
    {
     "data": {
      "application/vnd.jupyter.widget-view+json": {
       "model_id": "8a53e5b32a224c34aa5e54c5c9a75f67",
       "version_major": 2,
       "version_minor": 0
      },
      "text/plain": [
       "backtest loop:   0%|          | 0/1000 [00:00<?, ?it/s]"
      ]
     },
     "metadata": {},
     "output_type": "display_data"
    },
    {
     "name": "stderr",
     "output_type": "stream",
     "text": [
      "/Users/chenglong.chen/study/qlib/qlib/utils/index_data.py:482: RuntimeWarning:\n",
      "\n",
      "Mean of empty slice\n",
      "\n",
      "[94379:MainThread](2023-02-18 20:39:31,041) INFO - qlib.workflow - [record_temp.py:505] - Portfolio analysis record 'port_analysis_1day.pkl' has been saved as the artifact of the Experiment 1\n",
      "[94379:MainThread](2023-02-18 20:39:31,063) INFO - qlib.workflow - [record_temp.py:530] - Indicator analysis record 'indicator_analysis_1day.pkl' has been saved as the artifact of the Experiment 1\n",
      "[94379:MainThread](2023-02-18 20:39:31,120) INFO - qlib.backtest caller - [__init__.py:93] - Create new exchange\n"
     ]
    },
    {
     "name": "stdout",
     "output_type": "stream",
     "text": [
      "'The following are analysis results of benchmark return(1day).'\n",
      "                       risk\n",
      "mean               0.000402\n",
      "std                0.012789\n",
      "annualized_return  0.095626\n",
      "information_ratio  0.484671\n",
      "max_drawdown      -0.473380\n",
      "'The following are analysis results of the excess return without cost(1day).'\n",
      "                       risk\n",
      "mean               0.000762\n",
      "std                0.020282\n",
      "annualized_return  0.181273\n",
      "information_ratio  0.579326\n",
      "max_drawdown      -0.412156\n",
      "'The following are analysis results of the excess return with cost(1day).'\n",
      "                       risk\n",
      "mean              -0.000066\n",
      "std                0.020340\n",
      "annualized_return -0.015684\n",
      "information_ratio -0.049984\n",
      "max_drawdown      -0.651548\n",
      "'The following are analysis results of indicators(1day).'\n",
      "     value\n",
      "ffr    1.0\n",
      "pa     0.0\n",
      "pos    0.0\n"
     ]
    },
    {
     "name": "stderr",
     "output_type": "stream",
     "text": [
      "[94379:MainThread](2023-02-18 20:39:40,215) WARNING - qlib.online operator - [exchange.py:219] - $open field data contains nan.\n",
      "[94379:MainThread](2023-02-18 20:39:40,218) WARNING - qlib.online operator - [exchange.py:219] - $open field data contains nan.\n"
     ]
    }
   ],
   "source": [
    "###################################\n",
    "# prediction, backtest & analysis\n",
    "###################################\n",
    "def get_port_analysis_config(topk, n_drop):\n",
    "    port_analysis_config = {\n",
    "        \"executor\": {\n",
    "            \"class\": \"SimulatorExecutor\",\n",
    "            \"module_path\": \"qlib.backtest.executor\",\n",
    "            \"kwargs\": {\n",
    "                \"time_per_step\": \"day\",\n",
    "                \"generate_portfolio_metrics\": True,\n",
    "            },\n",
    "        },\n",
    "        \"strategy\": {\n",
    "            \"class\": \"TopkDropoutStrategy\",\n",
    "            \"module_path\": \"qlib.contrib.strategy.signal_strategy\",\n",
    "            \"kwargs\": {\n",
    "                \"signal\": \"<PRED>\",\n",
    "                \"topk\": topk,\n",
    "                \"n_drop\": n_drop,\n",
    "            },\n",
    "        },\n",
    "        \"backtest\": {\n",
    "            \"start_time\": DATE_CONFIG[REGION][\"backtest\"][\"start\"],\n",
    "            \"end_time\": DATE_CONFIG[REGION][\"backtest\"][\"end\"],\n",
    "            \"account\": 100000000,\n",
    "            \"benchmark\": REGION_CONFIG[REGION][\"benchmark\"],\n",
    "            \"exchange_kwargs\": REGION_CONFIG[REGION][\"exchange_kwargs\"]\n",
    "        },\n",
    "    }\n",
    "    return port_analysis_config\n",
    "\n",
    "\n",
    "def get_best_topk_n_drop(rec, topk_list, n_drop_list, strategy=\"information_ratio\"):\n",
    "    keys = [\"mean\",\"std\",\"annualized_return\",\"information_ratio\",\"max_drawdown\"]\n",
    "    excess_returns = {\n",
    "        k: np.nan *  np.ones((len(topk_list), len(n_drop_list))) \n",
    "        for k in keys\n",
    "    }\n",
    "    for i,topk in enumerate(topk_list):\n",
    "        for j,n_drop in enumerate(n_drop_list):\n",
    "            if topk < n_drop:\n",
    "                continue\n",
    "            port_analysis_config = get_port_analysis_config(topk, n_drop)\n",
    "            par = PortAnaRecord(rec, port_analysis_config, \"day\")\n",
    "            par.generate()\n",
    "            analysis_df = rec.load_object(\"portfolio_analysis/port_analysis_1day.pkl\")\n",
    "            for k in keys:\n",
    "                excess_returns[k][i,j] = float(analysis_df.loc[\"excess_return_with_cost\",k])\n",
    "    ind = np.unravel_index(\n",
    "        np.nanargmax(excess_returns[strategy], axis=None), \n",
    "        excess_returns[strategy].shape\n",
    "    )\n",
    "    return_df = pd.concat(\n",
    "        {\n",
    "            k: pd.DataFrame(excess_returns[k], index=topk_list, columns=n_drop_list) \n",
    "            for k in keys\n",
    "        }, axis=0\n",
    "    )\n",
    "    strategy_params = {\n",
    "        \"topk\": topk_list[ind[0]],\n",
    "        \"n_drop\": n_drop_list[ind[1]]\n",
    "    }\n",
    "    return return_df, strategy_params\n",
    "\n",
    "\n",
    "# backtest and analysis\n",
    "with R.start(experiment_name=EXP_NAME, recorder_id=rid, resume=True):\n",
    "\n",
    "    # signal-based analysis\n",
    "    rec = R.get_recorder()\n",
    "    sar = SigAnaRecord(rec)\n",
    "    sar.generate()\n",
    "    \n",
    "    # portfolio-based analysis: backtest\n",
    "    if USE_BEST_STRATEGY_PARAMS:\n",
    "        strategy_params = get_paras_from_file(STRATEGY_PARAMS_FILE, ALL_CONFIG_KEY)\n",
    "    else:\n",
    "        return_df, strategy_params = get_best_topk_n_drop(rec, TOPK_LIST, N_DROP_LIST)\n",
    "        update_report_df(REPORT_DF_FOLDER, ALL_CONFIG_KEY, return_df)\n",
    "        update_params_to_file(STRATEGY_PARAMS_FILE, ALL_CONFIG_KEY, strategy_params)\n",
    "    port_analysis_config = get_port_analysis_config(strategy_params[\"topk\"], strategy_params[\"n_drop\"])\n",
    "    par = PortAnaRecord(rec, port_analysis_config, \"day\")\n",
    "    par.generate()"
   ]
  },
  {
   "cell_type": "code",
   "execution_count": null,
   "id": "6ff404de",
   "metadata": {},
   "outputs": [],
   "source": [
    "strategy_params"
   ]
  },
  {
   "cell_type": "markdown",
   "id": "d66ad59d",
   "metadata": {},
   "source": [
    "# Loading results & Analysis"
   ]
  },
  {
   "cell_type": "markdown",
   "id": "3d7d7dea",
   "metadata": {},
   "source": [
    "## loading data\n",
    "Because Qlib leverage MLflow to save model & data.\n",
    "All the data can be access by `mlflow ui`"
   ]
  },
  {
   "cell_type": "code",
   "execution_count": null,
   "id": "1ec9dbb6",
   "metadata": {},
   "outputs": [],
   "source": [
    "# load recorder\n",
    "recorder = R.get_recorder(recorder_id=rid, experiment_name=EXP_NAME)"
   ]
  },
  {
   "cell_type": "code",
   "execution_count": null,
   "id": "25e72b0d",
   "metadata": {},
   "outputs": [],
   "source": [
    "# load previous results\n",
    "pred_df = recorder.load_object(\"pred.pkl\")\n",
    "report_normal_df = recorder.load_object(\"portfolio_analysis/report_normal_1day.pkl\")\n",
    "positions = recorder.load_object(\"portfolio_analysis/positions_normal_1day.pkl\")\n",
    "analysis_df = recorder.load_object(\"portfolio_analysis/port_analysis_1day.pkl\")"
   ]
  },
  {
   "cell_type": "code",
   "execution_count": null,
   "id": "e415e91e",
   "metadata": {},
   "outputs": [],
   "source": [
    "analysis_df"
   ]
  },
  {
   "cell_type": "code",
   "execution_count": null,
   "id": "dce3696b",
   "metadata": {},
   "outputs": [],
   "source": [
    "# Previous Model can be loaded. but it is not used.\n",
    "loaded_model = recorder.load_object(\"trained_model\")\n",
    "loaded_model"
   ]
  },
  {
   "cell_type": "markdown",
   "id": "8d34b347",
   "metadata": {},
   "source": [
    "## analysis position"
   ]
  },
  {
   "cell_type": "markdown",
   "id": "1cae642f",
   "metadata": {},
   "source": [
    "### report"
   ]
  },
  {
   "cell_type": "code",
   "execution_count": null,
   "id": "47c727b2",
   "metadata": {},
   "outputs": [],
   "source": [
    "analysis_position.report_graph(report_normal_df)"
   ]
  },
  {
   "cell_type": "markdown",
   "id": "15b7ca14",
   "metadata": {},
   "source": [
    "### risk analysis"
   ]
  },
  {
   "cell_type": "code",
   "execution_count": null,
   "id": "3f100690",
   "metadata": {},
   "outputs": [],
   "source": [
    "analysis_position.risk_analysis_graph(analysis_df, report_normal_df)"
   ]
  },
  {
   "cell_type": "markdown",
   "id": "2ed48aee",
   "metadata": {},
   "source": [
    "## analysis model"
   ]
  },
  {
   "cell_type": "code",
   "execution_count": null,
   "id": "aec13561",
   "metadata": {},
   "outputs": [],
   "source": [
    "label_df = dataset.prepare(\"test\", col_set=\"label\")\n",
    "label_df.columns = ['label']"
   ]
  },
  {
   "cell_type": "markdown",
   "id": "56d57363",
   "metadata": {},
   "source": [
    "### score IC"
   ]
  },
  {
   "cell_type": "code",
   "execution_count": null,
   "id": "7612533d",
   "metadata": {},
   "outputs": [],
   "source": [
    "pred_label = pd.concat([label_df, pred_df], axis=1, sort=True).reindex(label_df.index)\n",
    "analysis_position.score_ic_graph(pred_label)"
   ]
  },
  {
   "cell_type": "markdown",
   "id": "589664c4",
   "metadata": {},
   "source": [
    "### model performance"
   ]
  },
  {
   "cell_type": "code",
   "execution_count": null,
   "id": "40258655",
   "metadata": {},
   "outputs": [],
   "source": [
    "analysis_model.model_performance_graph(pred_label)"
   ]
  },
  {
   "cell_type": "markdown",
   "id": "f33ab3d9",
   "metadata": {},
   "source": [
    "# Trading"
   ]
  },
  {
   "cell_type": "code",
   "execution_count": null,
   "id": "a6b0f177",
   "metadata": {},
   "outputs": [],
   "source": [
    "def get_pred_score(pred_df):\n",
    "    pred_score = pred_df.loc[pred_df.index[-1][0]]\n",
    "    pred_score = pred_score.sort_values(\"score\", ascending=False)\n",
    "    return pred_score.iloc[:,0]"
   ]
  },
  {
   "cell_type": "code",
   "execution_count": null,
   "id": "85f15939",
   "metadata": {},
   "outputs": [],
   "source": [
    "pred_df.index[-1][0]"
   ]
  },
  {
   "cell_type": "code",
   "execution_count": null,
   "id": "a9612c9b",
   "metadata": {},
   "outputs": [],
   "source": [
    "pred_score = get_pred_score(pred_df)"
   ]
  },
  {
   "cell_type": "code",
   "execution_count": null,
   "id": "0aea681f",
   "metadata": {},
   "outputs": [],
   "source": [
    "class TopkDropoutStrategy:\n",
    "    def __init__(self, topk, n_drop):\n",
    "        self.topk = topk\n",
    "        self.n_drop = n_drop\n",
    "\n",
    "    def excute(self, pred_score, current_stock_list):\n",
    "        last = pred_score.reindex(current_stock_list).sort_values(ascending=False).index\n",
    "        today = pred_score[~pred_score.index.isin(last)].sort_values(ascending=False).index\n",
    "        sell = last[-self.n_drop:][::-1]\n",
    "        buy = today[:self.topk]\n",
    "        \n",
    "        print(\"-\"*15+\"LAST\"+\"-\"*15)\n",
    "        print(pred_score[last[::-1]])\n",
    "        \n",
    "        print(\"-\"*15+\"BUY\"+\"-\"*15)\n",
    "        print(pred_score[buy])\n",
    "        print(\"-\"*34)"
   ]
  },
  {
   "cell_type": "code",
   "execution_count": null,
   "id": "1d84c720",
   "metadata": {},
   "outputs": [],
   "source": [
    "current_stock_list = [\"SZ002821\", \"SH603087\", \"SH603486\",\"SH603806\"]"
   ]
  },
  {
   "cell_type": "code",
   "execution_count": null,
   "id": "be8de898",
   "metadata": {},
   "outputs": [],
   "source": [
    "strategy = TopkDropoutStrategy(2*strategy_params[\"topk\"], strategy_params[\"n_drop\"])\n",
    "strategy.excute(pred_score, current_stock_list)"
   ]
  },
  {
   "cell_type": "code",
   "execution_count": null,
   "id": "6b7d30a1",
   "metadata": {},
   "outputs": [],
   "source": []
  }
 ],
 "metadata": {
  "jupytext": {
   "encoding": "# -*- coding: utf-8 -*-",
   "formats": "ipynb,py:percent"
  },
  "kernelspec": {
   "display_name": "Python 3",
   "language": "python",
   "name": "python3"
  },
  "language_info": {
   "codemirror_mode": {
    "name": "ipython",
    "version": 3
   },
   "file_extension": ".py",
   "mimetype": "text/x-python",
   "name": "python",
   "nbconvert_exporter": "python",
   "pygments_lexer": "ipython3",
   "version": "3.8.10"
  },
  "toc": {
   "base_numbering": 1,
   "nav_menu": {},
   "number_sections": true,
   "sideBar": true,
   "skip_h1_title": false,
   "title_cell": "Table of Contents",
   "title_sidebar": "Contents",
   "toc_cell": false,
   "toc_position": {},
   "toc_section_display": true,
   "toc_window_display": true
  }
 },
 "nbformat": 4,
 "nbformat_minor": 5
}
