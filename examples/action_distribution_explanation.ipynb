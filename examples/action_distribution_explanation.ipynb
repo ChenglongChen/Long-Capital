{
 "cells": [
  {
   "cell_type": "code",
   "execution_count": 1,
   "id": "b7c4a104",
   "metadata": {},
   "outputs": [],
   "source": [
    "import copy\n",
    "import torch\n",
    "\n",
    "import numpy as np\n",
    "\n",
    "from torch.distributions import (\n",
    "    Bernoulli, \n",
    "    Categorical, \n",
    "    Independent, \n",
    "    Multinomial, \n",
    "    Normal,\n",
    ")\n",
    "\n",
    "from longcapital.rl.utils.distributions import MultivariateCategorical, MultivariateHypergeometric\n",
    "from longcapital.utils.constant import NEG_INF"
   ]
  },
  {
   "cell_type": "code",
   "execution_count": 2,
   "id": "378a557a",
   "metadata": {},
   "outputs": [],
   "source": [
    "class MyMultinomial(Multinomial):\n",
    "    def entropy(self):\n",
    "        return torch.zeros(self.batch_shape)\n",
    "    \n",
    "\n",
    "def test_dist(dist, return_sample=False):\n",
    "    sample = dist.sample()\n",
    "    log_prob = dist.log_prob(sample)\n",
    "    entropy = dist.entropy()\n",
    "    print(f\"sample ({sample.shape}): {sample}\")\n",
    "    print(f\"log_prob ({log_prob.shape}): {log_prob}\")\n",
    "    print(f\"entropy ({entropy.shape}): {entropy}\")\n",
    "    if return_sample:\n",
    "        return sample"
   ]
  },
  {
   "cell_type": "code",
   "execution_count": 3,
   "id": "ac184d6e",
   "metadata": {},
   "outputs": [],
   "source": [
    "batch_size = 4\n",
    "stock_num = 5\n",
    "topk = 2"
   ]
  },
  {
   "cell_type": "code",
   "execution_count": 4,
   "id": "5643f008",
   "metadata": {},
   "outputs": [
    {
     "name": "stdout",
     "output_type": "stream",
     "text": [
      "sample (torch.Size([4, 5])): tensor([[-0.3329,  0.9752, -0.6390,  2.8928,  0.0667],\n",
      "        [-2.1291, -2.1532, -1.3933,  0.9241,  0.2449],\n",
      "        [ 1.4556, -1.1203, -0.6360, -2.2502, -2.0621],\n",
      "        [ 2.0791, -1.5194,  1.5215, -0.5584,  0.2370]])\n",
      "log_prob (torch.Size([4])): tensor([-6.8761, -7.7059, -6.8598, -7.1360])\n",
      "entropy (torch.Size([4])): tensor([7.0947, 7.0947, 7.0947, 7.0947])\n"
     ]
    }
   ],
   "source": [
    "# continuous.MetaPPO/MetaDDPG/MetaTD3/MetaSAC\n",
    "# given a list of stocks, assign each stock a value for ranking (TopkDropoutStrategy) or weighting (WeightStrategy)\n",
    "\n",
    "loc = torch.randn(batch_size, stock_num)\n",
    "scale = torch.ones_like(loc)\n",
    "dist = Independent(Normal(loc=loc, scale=scale), 1)\n",
    "test_dist(dist)"
   ]
  },
  {
   "cell_type": "code",
   "execution_count": 5,
   "id": "4757a36d",
   "metadata": {},
   "outputs": [
    {
     "name": "stdout",
     "output_type": "stream",
     "text": [
      "sample (torch.Size([4])): tensor([0, 1, 1, 1])\n",
      "log_prob (torch.Size([4])): tensor([-1.0238, -0.0733, -0.7408, -0.3879])\n",
      "entropy (torch.Size([4])): tensor([0.6530, 0.2554, 0.6921, 0.6280])\n"
     ]
    }
   ],
   "source": [
    "# discrete.PPO\n",
    "# given the state and a set of params candidates (n_drop), choose one param for trading\n",
    "\n",
    "n_drop_list = list(range(topk))\n",
    "probs = torch.rand(batch_size, len(n_drop_list))\n",
    "dist = Categorical(probs)\n",
    "test_dist(dist)"
   ]
  },
  {
   "cell_type": "code",
   "execution_count": 6,
   "id": "6c77596b",
   "metadata": {},
   "outputs": [
    {
     "name": "stdout",
     "output_type": "stream",
     "text": [
      "sample (torch.Size([4, 2])): tensor([[1, 0],\n",
      "        [0, 0],\n",
      "        [1, 0],\n",
      "        [0, 0]])\n",
      "log_prob (torch.Size([4])): tensor([-0.2218, -0.1281, -0.5166, -1.7666])\n",
      "entropy (torch.Size([4])): tensor([0.4989, 0.3674, 0.6744, 0.4573])\n"
     ]
    }
   ],
   "source": [
    "# discrete.MultiPPO\n",
    "# given the state and multiple sets of params candidates (n_drop, hold_thresh), choose one set of params for trading\n",
    "\n",
    "n_drop_list = list(range(topk))\n",
    "hold_thresh_list = list(range(1, topk))\n",
    "nvec = np.array([len(n_drop_list), len(hold_thresh_list)])\n",
    "logits = torch.randn(batch_size, nvec.sum())\n",
    "dist = MultivariateCategorical(nvec=nvec, logits=logits)\n",
    "test_dist(dist)"
   ]
  },
  {
   "cell_type": "code",
   "execution_count": 7,
   "id": "c7f184d1",
   "metadata": {},
   "outputs": [
    {
     "name": "stdout",
     "output_type": "stream",
     "text": [
      "sample (torch.Size([4, 5])): tensor([[0., 0., 0., 1., 1.],\n",
      "        [1., 0., 1., 1., 1.],\n",
      "        [0., 1., 1., 0., 1.],\n",
      "        [0., 1., 0., 1., 1.]])\n",
      "log_prob (torch.Size([4])): tensor([-1.2924, -2.6365, -3.9904, -3.9840])\n",
      "entropy (torch.Size([4])): tensor([2.4285, 2.9025, 2.8533, 3.0657])\n",
      "tensor([-1.2924, -2.6365, -3.9904, -3.9840])\n"
     ]
    }
   ],
   "source": [
    "# discrete.MultiBinaryMetaPPO\n",
    "# given a list of stocks, for each stock decide whether buy or not (each stock is independent)\n",
    "\n",
    "logits = torch.randn(batch_size, stock_num)\n",
    "probs = torch.sigmoid(logits)\n",
    "dist = Independent(Bernoulli(probs), 1)\n",
    "sample = test_dist(dist, return_sample=True)\n",
    "# log_prob\n",
    "log_prob = (sample * probs + (1 - sample) * (1 - probs)).log().sum(axis=-1)\n",
    "print(log_prob)"
   ]
  },
  {
   "cell_type": "code",
   "execution_count": 8,
   "id": "8cb1b8df",
   "metadata": {},
   "outputs": [
    {
     "name": "stdout",
     "output_type": "stream",
     "text": [
      "sample (torch.Size([4])): tensor([1, 2, 2, 4])\n",
      "log_prob (torch.Size([4])): tensor([-4.0210, -1.2195, -1.4670, -1.3039])\n",
      "entropy (torch.Size([4])): tensor([0.4880, 1.3387, 1.3828, 1.5363])\n",
      "sample (torch.Size([4])): tensor([4, 0, 1, 3])\n",
      "log_prob (torch.Size([4])): tensor([-0.1087, -0.6940, -0.5974, -0.9569])\n",
      "entropy (torch.Size([4])): tensor([0.4054, 1.0386, 1.0954, 1.3062])\n"
     ]
    }
   ],
   "source": [
    "# discrete.StepByStepMetaPPO\n",
    "# given a list of stocks, repeat topk times to select stock one by one to buy WITHOUT replacement\n",
    "# if the state is not changed, this is equivalent to TopkMetaPPO which selects topk all at once\n",
    "\n",
    "logits_ = copy.deepcopy(logits)\n",
    "for i in range(topk):\n",
    "    dist = Categorical(logits=logits_)\n",
    "    sample = test_dist(dist, return_sample=True)\n",
    "    # mask out selected ones\n",
    "    logits_.scatter_(1, sample.unsqueeze(1), NEG_INF)"
   ]
  },
  {
   "cell_type": "code",
   "execution_count": 9,
   "id": "86ca7f6d",
   "metadata": {},
   "outputs": [
    {
     "name": "stdout",
     "output_type": "stream",
     "text": [
      "sample (torch.Size([4, 5])): tensor([[4, 3, 1, 2, 0],\n",
      "        [4, 2, 0, 3, 1],\n",
      "        [3, 1, 2, 0, 4],\n",
      "        [2, 0, 4, 3, 1]])\n",
      "log_prob (torch.Size([4])): tensor([-1.9890, -3.0844, -3.3981, -4.6636])\n",
      "entropy (torch.Size([4])): tensor([0.4880, 1.3387, 1.3828, 1.5363])\n"
     ]
    }
   ],
   "source": [
    "# discrete.TopkMetaPPO\n",
    "# given a list of stocks, repeat topk times to select which stock to buy WITHOUT replacement\n",
    "\n",
    "probs = torch.softmax(logits, dim=1)\n",
    "dist = MultivariateHypergeometric(probs=probs)\n",
    "test_dist(dist)"
   ]
  },
  {
   "cell_type": "code",
   "execution_count": 10,
   "id": "e2fe506b",
   "metadata": {},
   "outputs": [
    {
     "name": "stdout",
     "output_type": "stream",
     "text": [
      "sample (torch.Size([4, 5])): tensor([[0., 0., 0., 0., 2.],\n",
      "        [1., 0., 0., 0., 1.],\n",
      "        [0., 1., 0., 0., 1.],\n",
      "        [0., 1., 0., 1., 0.]])\n",
      "log_prob (torch.Size([4])): tensor([-0.2535, -1.6490, -2.8049, -2.7653])\n",
      "entropy (torch.Size([4])): tensor([0., 0., 0., 0.])\n"
     ]
    }
   ],
   "source": [
    "# discrete.WeightMetaPPO\n",
    "# given a list of stocks, repeat topk times to select which stock to buy WITH replacement\n",
    "# or given a budget (e.g., total_count=topk), chose one stock to buy each time\n",
    "\n",
    "probs = torch.softmax(logits, dim=1)\n",
    "dist = MyMultinomial(probs=probs, total_count=topk)\n",
    "test_dist(dist)"
   ]
  },
  {
   "cell_type": "code",
   "execution_count": null,
   "id": "baeee285",
   "metadata": {},
   "outputs": [],
   "source": []
  }
 ],
 "metadata": {
  "kernelspec": {
   "display_name": "qlib",
   "language": "python",
   "name": "qlib"
  },
  "language_info": {
   "codemirror_mode": {
    "name": "ipython",
    "version": 3
   },
   "file_extension": ".py",
   "mimetype": "text/x-python",
   "name": "python",
   "nbconvert_exporter": "python",
   "pygments_lexer": "ipython3",
   "version": "3.8.10"
  }
 },
 "nbformat": 4,
 "nbformat_minor": 5
}
