{
 "cells": [
  {
   "cell_type": "code",
   "execution_count": 1,
   "id": "b7c4a104",
   "metadata": {},
   "outputs": [],
   "source": [
    "import copy\n",
    "import torch\n",
    "\n",
    "import torch.nn.functional as F\n",
    "\n",
    "from torch.distributions import (\n",
    "    Bernoulli, \n",
    "    Categorical, \n",
    "    Independent, \n",
    "    Multinomial, \n",
    "    Normal,\n",
    ")\n",
    "\n",
    "from longcapital.rl.utils.distributions import MultivariateHypergeometric\n",
    "from longcapital.utils.constant import NEG_INF"
   ]
  },
  {
   "cell_type": "code",
   "execution_count": 2,
   "id": "378a557a",
   "metadata": {},
   "outputs": [],
   "source": [
    "class MyMultinomial(Multinomial):\n",
    "    def entropy(self):\n",
    "        return torch.zeros(self.batch_shape)\n",
    "    \n",
    "\n",
    "def test_dist(dist, return_sample=False):\n",
    "    sample = dist.sample()\n",
    "    log_prob = dist.log_prob(sample)\n",
    "    entropy = dist.entropy()\n",
    "    print(f\"sample ({sample.shape}): {sample}\")\n",
    "    print(f\"log_prob ({log_prob.shape}): {log_prob}\")\n",
    "    print(f\"entropy ({entropy.shape}): {entropy}\")\n",
    "    if return_sample:\n",
    "        return sample"
   ]
  },
  {
   "cell_type": "code",
   "execution_count": 3,
   "id": "ac184d6e",
   "metadata": {},
   "outputs": [],
   "source": [
    "batch_size = 4\n",
    "stock_num = 5\n",
    "topk = 2"
   ]
  },
  {
   "cell_type": "code",
   "execution_count": 4,
   "id": "5643f008",
   "metadata": {},
   "outputs": [
    {
     "name": "stdout",
     "output_type": "stream",
     "text": [
      "sample (torch.Size([4, 5])): tensor([[ 0.2421,  0.1619, -0.0146, -2.6176, -0.1047],\n",
      "        [-0.3999, -0.5017,  2.5170, -1.8666,  0.5309],\n",
      "        [-0.6478, -0.8725, -0.7073,  0.4213,  0.0070],\n",
      "        [-1.6563,  3.0381,  1.4929, -1.2735, -1.5603]])\n",
      "log_prob (torch.Size([4])): tensor([-6.3076, -6.0465, -5.4885, -9.7413])\n",
      "entropy (torch.Size([4])): tensor([7.0947, 7.0947, 7.0947, 7.0947])\n"
     ]
    }
   ],
   "source": [
    "# continuous.MetaPPO/MetaDDPG/MetaTD3/MetaSAC\n",
    "# given a list of stocks, assign each stock a value for ranking (TopkDropoutStrategy) or weighting (WeightStrategy)\n",
    "\n",
    "loc = torch.randn(batch_size, stock_num)\n",
    "scale = torch.ones_like(loc)\n",
    "dist = Independent(Normal(loc=loc, scale=scale), 1)\n",
    "test_dist(dist)"
   ]
  },
  {
   "cell_type": "code",
   "execution_count": 5,
   "id": "4757a36d",
   "metadata": {},
   "outputs": [
    {
     "name": "stdout",
     "output_type": "stream",
     "text": [
      "sample (torch.Size([4])): tensor([0, 1, 1, 1])\n",
      "log_prob (torch.Size([4])): tensor([-0.0508, -0.6032, -0.4094, -0.5834])\n",
      "entropy (torch.Size([4])): tensor([0.1971, 0.6887, 0.6383, 0.6864])\n"
     ]
    }
   ],
   "source": [
    "# discrete.PPO\n",
    "# given the state and a set of params candidates (n_drop), choose one param for trading\n",
    "\n",
    "n_drop_list = list(range(topk))\n",
    "probs = torch.rand(batch_size, len(n_drop_list))\n",
    "dist = Categorical(probs)\n",
    "test_dist(dist)"
   ]
  },
  {
   "cell_type": "code",
   "execution_count": 6,
   "id": "c7f184d1",
   "metadata": {},
   "outputs": [
    {
     "name": "stdout",
     "output_type": "stream",
     "text": [
      "sample (torch.Size([4, 5])): tensor([[1., 1., 1., 0., 0.],\n",
      "        [0., 0., 1., 0., 0.],\n",
      "        [1., 0., 1., 1., 0.],\n",
      "        [0., 1., 0., 0., 0.]])\n",
      "log_prob (torch.Size([4])): tensor([-2.8576, -2.9559, -2.4545, -3.1865])\n",
      "entropy (torch.Size([4])): tensor([3.2848, 3.3272, 2.7741, 3.1801])\n",
      "tensor([-2.8576, -2.9559, -2.4545, -3.1865])\n"
     ]
    },
    {
     "name": "stderr",
     "output_type": "stream",
     "text": [
      "/Users/chenglong.chen/Library/Python/3.8/lib/python/site-packages/torch/nn/functional.py:1805: UserWarning: nn.functional.sigmoid is deprecated. Use torch.sigmoid instead.\n",
      "  warnings.warn(\"nn.functional.sigmoid is deprecated. Use torch.sigmoid instead.\")\n"
     ]
    }
   ],
   "source": [
    "# discrete.MultiBinaryMetaPPO\n",
    "# given a list of stocks, for each stock decide whether buy or not (each stock is independent)\n",
    "\n",
    "logits = torch.randn(batch_size, stock_num)\n",
    "probs = F.sigmoid(logits)\n",
    "dist = Independent(Bernoulli(probs), 1)\n",
    "sample = test_dist(dist, return_sample=True)\n",
    "# log_prob\n",
    "log_prob = (sample * probs + (1 - sample) * (1 - probs)).log().sum(axis=-1)\n",
    "print(log_prob)"
   ]
  },
  {
   "cell_type": "code",
   "execution_count": 7,
   "id": "8cb1b8df",
   "metadata": {},
   "outputs": [
    {
     "name": "stdout",
     "output_type": "stream",
     "text": [
      "sample (torch.Size([4])): tensor([2, 2, 4, 2])\n",
      "log_prob (torch.Size([4])): tensor([-1.7199, -0.9449, -4.0417, -0.7596])\n",
      "entropy (torch.Size([4])): tensor([1.5366, 1.4922, 1.2386, 1.3566])\n",
      "sample (torch.Size([4])): tensor([3, 4, 2, 1])\n",
      "log_prob (torch.Size([4])): tensor([-1.3575, -1.1661, -0.6317, -0.7316])\n",
      "entropy (torch.Size([4])): tensor([1.2992, 1.3480, 1.1707, 1.2506])\n"
     ]
    }
   ],
   "source": [
    "# discrete.StepByStepMetaPPO\n",
    "# given a list of stocks, repeat topk times to select stock one by one to buy WITHOUT replacement\n",
    "# if the state is not changed, this is equivalent to TopkMetaPPO which selects topk all at once\n",
    "\n",
    "logits_ = copy.deepcopy(logits)\n",
    "for i in range(topk):\n",
    "    dist = Categorical(logits=logits_)\n",
    "    sample = test_dist(dist, return_sample=True)\n",
    "    # mask out selected ones\n",
    "    logits_.scatter_(1, sample.unsqueeze(1), NEG_INF)"
   ]
  },
  {
   "cell_type": "code",
   "execution_count": 8,
   "id": "86ca7f6d",
   "metadata": {},
   "outputs": [
    {
     "name": "stdout",
     "output_type": "stream",
     "text": [
      "sample (torch.Size([4, 2])): tensor([[1, 3],\n",
      "        [2, 3],\n",
      "        [2, 1],\n",
      "        [2, 1]])\n",
      "log_prob (torch.Size([4])): tensor([-2.3067, -2.2749, -1.7333, -1.4913])\n",
      "entropy (torch.Size([4])): tensor([1.5366, 1.4922, 1.2386, 1.3566])\n"
     ]
    }
   ],
   "source": [
    "# discrete.TopkMetaPPO\n",
    "# given a list of stocks, repeat topk times to select which stock to buy WITHOUT replacement\n",
    "\n",
    "probs = F.softmax(logits, dim=1)\n",
    "dist = MultivariateHypergeometric(probs=probs, topk=topk)\n",
    "test_dist(dist)"
   ]
  },
  {
   "cell_type": "code",
   "execution_count": 9,
   "id": "e2fe506b",
   "metadata": {},
   "outputs": [
    {
     "name": "stdout",
     "output_type": "stream",
     "text": [
      "sample (torch.Size([4, 5])): tensor([[0., 1., 1., 0., 0.],\n",
      "        [0., 0., 0., 2., 0.],\n",
      "        [0., 1., 0., 1., 0.],\n",
      "        [1., 1., 0., 0., 0.]])\n",
      "log_prob (torch.Size([4])): tensor([-2.1648, -3.6443, -2.6480, -3.2730])\n",
      "entropy (torch.Size([4])): tensor([0., 0., 0., 0.])\n"
     ]
    }
   ],
   "source": [
    "# discrete.WeightMetaPPO\n",
    "# given a list of stocks, repeat topk times to select which stock to buy WITH replacement\n",
    "# or given a budget (e.g., total_count=topk), chose one stock to buy each time\n",
    "\n",
    "probs = F.softmax(logits, dim=1)\n",
    "dist = MyMultinomial(probs=probs, total_count=topk)\n",
    "test_dist(dist)"
   ]
  },
  {
   "cell_type": "code",
   "execution_count": null,
   "id": "baeee285",
   "metadata": {},
   "outputs": [],
   "source": []
  }
 ],
 "metadata": {
  "kernelspec": {
   "display_name": "qlib",
   "language": "python",
   "name": "qlib"
  },
  "language_info": {
   "codemirror_mode": {
    "name": "ipython",
    "version": 3
   },
   "file_extension": ".py",
   "mimetype": "text/x-python",
   "name": "python",
   "nbconvert_exporter": "python",
   "pygments_lexer": "ipython3",
   "version": "3.8.10"
  }
 },
 "nbformat": 4,
 "nbformat_minor": 5
}
