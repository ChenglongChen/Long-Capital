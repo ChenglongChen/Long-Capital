{
 "cells": [
  {
   "cell_type": "code",
   "execution_count": 1,
   "id": "b02198ad",
   "metadata": {},
   "outputs": [],
   "source": [
    "import torch\n",
    "\n",
    "import numpy as np\n",
    "\n",
    "from torch.distributions import constraints\n",
    "from torch.distributions.distribution import Distribution\n",
    "from torch.distributions import Categorical"
   ]
  },
  {
   "cell_type": "code",
   "execution_count": 2,
   "id": "aa33321e",
   "metadata": {},
   "outputs": [],
   "source": [
    "class MultivariateCategorical(Distribution):\n",
    "    def __init__(self, nvec, probs=None, logits=None, validate_args=None):\n",
    "        nvec = list(nvec)\n",
    "        dims = np.cumsum([0] + nvec)\n",
    "        if probs is not None:\n",
    "            self._dists = [\n",
    "                Categorical(probs=probs[:, i:j]) for i, j in zip(dims[:-1], dims[1:])\n",
    "            ]\n",
    "        elif logits is not None:\n",
    "            self._dists = [\n",
    "                Categorical(logits=logits[:, i:j]) for i, j in zip(dims[:-1], dims[1:])\n",
    "            ]\n",
    "        else:\n",
    "            raise ValueError(\"probs and logits are both None.\")\n",
    "        batch_shape = self._dists[0].batch_shape\n",
    "        super(MultivariateCategorical, self).__init__(batch_shape, validate_args=False)\n",
    "\n",
    "    def sample(self, sample_shape=torch.Size()):\n",
    "        sample = torch.stack([d.sample(sample_shape) for d in self._dists], dim=1)\n",
    "        return sample\n",
    "\n",
    "    def log_prob(self, value):\n",
    "        log_prob = torch.stack(\n",
    "            [d.log_prob(value[:,i]) for i, d in enumerate(self._dists)], dim=1\n",
    "        )\n",
    "        return log_prob.sum(1)\n",
    "\n",
    "    def entropy(self):\n",
    "        entropy = torch.stack([d.entropy() for d in self._dists], dim=1)\n",
    "        return entropy.sum(1)\n",
    "\n",
    "    def argmax(self):\n",
    "        return torch.stack([d.logits.argmax(1) for d in self._dists], dim=1)"
   ]
  },
  {
   "cell_type": "code",
   "execution_count": 3,
   "id": "bcd63f4a",
   "metadata": {},
   "outputs": [],
   "source": [
    "logits = torch.randn(1,13)"
   ]
  },
  {
   "cell_type": "code",
   "execution_count": 4,
   "id": "bf05d650",
   "metadata": {},
   "outputs": [
    {
     "data": {
      "text/plain": [
       "tensor([[ 0.5107, -1.8501,  1.5848, -0.2882, -1.7965, -0.0613, -0.8995,  0.6027,\n",
       "         -0.2925,  0.7570, -0.6498,  1.5419, -0.5167]])"
      ]
     },
     "execution_count": 4,
     "metadata": {},
     "output_type": "execute_result"
    }
   ],
   "source": [
    "logits"
   ]
  },
  {
   "cell_type": "code",
   "execution_count": 5,
   "id": "eba4c7e4",
   "metadata": {},
   "outputs": [],
   "source": [
    "d = MultivariateCategorical(nvec=[10,3], logits=logits)"
   ]
  },
  {
   "cell_type": "code",
   "execution_count": 6,
   "id": "380ac56f",
   "metadata": {},
   "outputs": [],
   "source": [
    "a = d.sample()"
   ]
  },
  {
   "cell_type": "code",
   "execution_count": 7,
   "id": "162e0613",
   "metadata": {},
   "outputs": [
    {
     "data": {
      "text/plain": [
       "tensor([[2, 1]])"
      ]
     },
     "execution_count": 7,
     "metadata": {},
     "output_type": "execute_result"
    }
   ],
   "source": [
    "a"
   ]
  },
  {
   "cell_type": "code",
   "execution_count": 8,
   "id": "edee0d3c",
   "metadata": {},
   "outputs": [
    {
     "data": {
      "text/plain": [
       "tensor([-1.2450])"
      ]
     },
     "execution_count": 8,
     "metadata": {},
     "output_type": "execute_result"
    }
   ],
   "source": [
    "d.log_prob(a)"
   ]
  },
  {
   "cell_type": "code",
   "execution_count": 9,
   "id": "d6e87446",
   "metadata": {},
   "outputs": [
    {
     "data": {
      "text/plain": [
       "tensor([2.5188])"
      ]
     },
     "execution_count": 9,
     "metadata": {},
     "output_type": "execute_result"
    }
   ],
   "source": [
    "d.entropy()"
   ]
  },
  {
   "cell_type": "code",
   "execution_count": 10,
   "id": "3c306ec8",
   "metadata": {},
   "outputs": [
    {
     "data": {
      "text/plain": [
       "tensor([[2, 1]])"
      ]
     },
     "execution_count": 10,
     "metadata": {},
     "output_type": "execute_result"
    }
   ],
   "source": [
    "d.argmax()"
   ]
  },
  {
   "cell_type": "code",
   "execution_count": 11,
   "id": "cf8a8866",
   "metadata": {},
   "outputs": [
    {
     "data": {
      "text/plain": [
       "tensor([-1.2450])"
      ]
     },
     "execution_count": 11,
     "metadata": {},
     "output_type": "execute_result"
    }
   ],
   "source": [
    "d.log_prob(d.argmax())"
   ]
  },
  {
   "cell_type": "code",
   "execution_count": null,
   "id": "7e5573fe",
   "metadata": {},
   "outputs": [],
   "source": []
  }
 ],
 "metadata": {
  "kernelspec": {
   "display_name": "qlib",
   "language": "python",
   "name": "qlib"
  },
  "language_info": {
   "codemirror_mode": {
    "name": "ipython",
    "version": 3
   },
   "file_extension": ".py",
   "mimetype": "text/x-python",
   "name": "python",
   "nbconvert_exporter": "python",
   "pygments_lexer": "ipython3",
   "version": "3.8.10"
  }
 },
 "nbformat": 4,
 "nbformat_minor": 5
}
