{
 "cells": [
  {
   "cell_type": "code",
   "execution_count": 1,
   "id": "bdf83ff2",
   "metadata": {},
   "outputs": [],
   "source": [
    "import torch\n",
    "\n",
    "import numpy as np"
   ]
  },
  {
   "cell_type": "code",
   "execution_count": 2,
   "id": "9070a681",
   "metadata": {},
   "outputs": [],
   "source": [
    "EPS = 1e-8\n",
    "\n",
    "\n",
    "class NPMultivariateHypergeometric:\n",
    "    def __init__(self, probs):\n",
    "        self.probs = np.array(probs)\n",
    "        self.n = len(probs)\n",
    "        \n",
    "    def sample(self, size=1):\n",
    "        return np.random.choice(np.arange(self.n), self.n, p=self.probs, replace=False)\n",
    "    \n",
    "    def log_prob(self, value):\n",
    "        return np.log(self.prob(value))\n",
    "    \n",
    "    def prob(self, value):\n",
    "        value = value.astype(int)\n",
    "        numerator = self.probs[value]\n",
    "        denominator = np.hstack([np.zeros((len(value), 1)), numerator[:,:-1]])\n",
    "        denominator = 1 - np.cumsum(denominator, axis=1)\n",
    "        p = np.prod(numerator/(denominator+EPS), axis=1)\n",
    "        return p\n",
    "    \n",
    "\n",
    "class MultivariateHypergeometric(torch.distributions.Categorical):\n",
    "    \"\"\"Sample ranking index according to Softmax distribution\"\"\"\n",
    "\n",
    "    def __init__(self, probs=None, logits=None, validate_args=None):\n",
    "        super().__init__(probs, logits, validate_args)\n",
    "        self._event_shape = (self._param.size()[-1],)\n",
    "\n",
    "    def sample(self, sample_shape=torch.Size(), replacement=False):\n",
    "        probs_2d = self.probs.reshape(-1, self._num_events)\n",
    "        samples_2d = torch.multinomial(probs_2d, self._num_events, replacement)\n",
    "        return samples_2d\n",
    "\n",
    "    def log_prob(self, value):\n",
    "        if self._validate_args:\n",
    "            self._validate_sample(value)\n",
    "        return self.prob(value).log()\n",
    "\n",
    "    def prob(self, value):\n",
    "        numerator = self.probs[value.long()]\n",
    "        denominator = torch.hstack(\n",
    "            [torch.zeros_like(numerator[:, :1]), numerator[:, :-1]]\n",
    "        )\n",
    "        denominator = 1 - torch.cumsum(denominator, dim=1)\n",
    "        p = torch.prod(numerator / (denominator + EPS), dim=1)\n",
    "        return p"
   ]
  },
  {
   "cell_type": "code",
   "execution_count": 3,
   "id": "7de935c4",
   "metadata": {},
   "outputs": [],
   "source": [
    "probs = np.array([0.6, 0.25, 0.15])\n",
    "size = 100000"
   ]
  },
  {
   "cell_type": "code",
   "execution_count": 4,
   "id": "d9cc983c",
   "metadata": {},
   "outputs": [],
   "source": [
    "dist1 = NPMultivariateHypergeometric(probs)\n",
    "\n",
    "sample1 = np.zeros((size, len(probs)))\n",
    "for i in range(size):\n",
    "    sample1[i] = dist1.sample()\n",
    "\n",
    "act1, count1 = np.unique(sample1, axis=0, return_counts=True)"
   ]
  },
  {
   "cell_type": "code",
   "execution_count": 5,
   "id": "3bd0995b",
   "metadata": {},
   "outputs": [],
   "source": [
    "dist2 = MultivariateHypergeometric(torch.Tensor(probs))\n",
    "\n",
    "sample2 = np.zeros((size, len(probs)))\n",
    "for i in range(size):\n",
    "    sample2[i] = dist2.sample().numpy().flatten()\n",
    "    \n",
    "act2, count2 = np.unique(sample2, axis=0, return_counts=True)"
   ]
  },
  {
   "cell_type": "code",
   "execution_count": 6,
   "id": "56979c4d",
   "metadata": {},
   "outputs": [
    {
     "data": {
      "text/plain": [
       "True"
      ]
     },
     "execution_count": 6,
     "metadata": {},
     "output_type": "execute_result"
    }
   ],
   "source": [
    "(act1 == act2).all()"
   ]
  },
  {
   "cell_type": "code",
   "execution_count": 7,
   "id": "cf8bb31d",
   "metadata": {},
   "outputs": [
    {
     "data": {
      "text/plain": [
       "array([0.3769 , 0.22439, 0.19878, 0.04956, 0.10618, 0.04419])"
      ]
     },
     "execution_count": 7,
     "metadata": {},
     "output_type": "execute_result"
    }
   ],
   "source": [
    "count1/count1.sum()"
   ]
  },
  {
   "cell_type": "code",
   "execution_count": 8,
   "id": "589a9625",
   "metadata": {},
   "outputs": [
    {
     "data": {
      "text/plain": [
       "array([0.37553, 0.22441, 0.19887, 0.05032, 0.10618, 0.04469])"
      ]
     },
     "execution_count": 8,
     "metadata": {},
     "output_type": "execute_result"
    }
   ],
   "source": [
    "count2/count2.sum()"
   ]
  },
  {
   "cell_type": "code",
   "execution_count": 9,
   "id": "44c20e7f",
   "metadata": {},
   "outputs": [
    {
     "data": {
      "text/plain": [
       "array([0.37499996, 0.22499998, 0.19999998, 0.05      , 0.10588235,\n",
       "       0.04411765])"
      ]
     },
     "execution_count": 9,
     "metadata": {},
     "output_type": "execute_result"
    }
   ],
   "source": [
    "dist1.prob(act1)"
   ]
  },
  {
   "cell_type": "code",
   "execution_count": 10,
   "id": "236f9ac9",
   "metadata": {},
   "outputs": [
    {
     "data": {
      "text/plain": [
       "tensor([0.3750, 0.2250, 0.2000, 0.0500, 0.1059, 0.0441])"
      ]
     },
     "execution_count": 10,
     "metadata": {},
     "output_type": "execute_result"
    }
   ],
   "source": [
    "dist2.prob(torch.Tensor(act1))"
   ]
  },
  {
   "cell_type": "code",
   "execution_count": 11,
   "id": "87f896ec",
   "metadata": {},
   "outputs": [
    {
     "data": {
      "text/plain": [
       "array([0.37499996, 0.22499998, 0.19999998, 0.05      , 0.10588235,\n",
       "       0.04411765])"
      ]
     },
     "execution_count": 11,
     "metadata": {},
     "output_type": "execute_result"
    }
   ],
   "source": [
    "dist1.prob(act2)"
   ]
  },
  {
   "cell_type": "code",
   "execution_count": 12,
   "id": "a1333d4d",
   "metadata": {},
   "outputs": [
    {
     "data": {
      "text/plain": [
       "tensor([0.3750, 0.2250, 0.2000, 0.0500, 0.1059, 0.0441])"
      ]
     },
     "execution_count": 12,
     "metadata": {},
     "output_type": "execute_result"
    }
   ],
   "source": [
    "dist2.prob(torch.Tensor(act2))"
   ]
  },
  {
   "cell_type": "code",
   "execution_count": 13,
   "id": "afd3902f",
   "metadata": {},
   "outputs": [
    {
     "data": {
      "text/plain": [
       "tensor(1.5505)"
      ]
     },
     "execution_count": 13,
     "metadata": {},
     "output_type": "execute_result"
    }
   ],
   "source": [
    "-(dist2.prob(torch.Tensor(act1)) * dist2.log_prob(torch.Tensor(act1))).sum()"
   ]
  },
  {
   "cell_type": "code",
   "execution_count": 14,
   "id": "8fad6278",
   "metadata": {},
   "outputs": [
    {
     "data": {
      "text/plain": [
       "tensor(0.9376)"
      ]
     },
     "execution_count": 14,
     "metadata": {},
     "output_type": "execute_result"
    }
   ],
   "source": [
    "dist2.entropy()"
   ]
  },
  {
   "cell_type": "code",
   "execution_count": 15,
   "id": "7169b724",
   "metadata": {},
   "outputs": [],
   "source": [
    "probs = np.array([1e-8, 0.99, 0.01-1e-8])\n",
    "dist3 = MultivariateHypergeometric(torch.Tensor(probs))"
   ]
  },
  {
   "cell_type": "code",
   "execution_count": 16,
   "id": "baa490ad",
   "metadata": {},
   "outputs": [
    {
     "data": {
      "text/plain": [
       "tensor(0.0560)"
      ]
     },
     "execution_count": 16,
     "metadata": {},
     "output_type": "execute_result"
    }
   ],
   "source": [
    "dist3.entropy()"
   ]
  },
  {
   "cell_type": "code",
   "execution_count": 17,
   "id": "b95fbe4c",
   "metadata": {},
   "outputs": [
    {
     "data": {
      "text/plain": [
       "tensor(0.0560)"
      ]
     },
     "execution_count": 17,
     "metadata": {},
     "output_type": "execute_result"
    }
   ],
   "source": [
    "-(dist3.prob(torch.Tensor(act1)) * dist3.log_prob(torch.Tensor(act1))).sum()"
   ]
  },
  {
   "cell_type": "code",
   "execution_count": null,
   "id": "d446bcaa",
   "metadata": {},
   "outputs": [],
   "source": []
  }
 ],
 "metadata": {
  "kernelspec": {
   "display_name": "qlib",
   "language": "python",
   "name": "qlib"
  },
  "language_info": {
   "codemirror_mode": {
    "name": "ipython",
    "version": 3
   },
   "file_extension": ".py",
   "mimetype": "text/x-python",
   "name": "python",
   "nbconvert_exporter": "python",
   "pygments_lexer": "ipython3",
   "version": "3.8.10"
  }
 },
 "nbformat": 4,
 "nbformat_minor": 5
}
