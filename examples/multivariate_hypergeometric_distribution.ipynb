{
 "cells": [
  {
   "cell_type": "code",
   "execution_count": 1,
   "id": "bdf83ff2",
   "metadata": {},
   "outputs": [],
   "source": [
    "import torch\n",
    "\n",
    "import numpy as np"
   ]
  },
  {
   "cell_type": "code",
   "execution_count": 2,
   "id": "9070a681",
   "metadata": {},
   "outputs": [],
   "source": [
    "class MultivariateHypergeometric:\n",
    "    def __init__(self, probs):\n",
    "        self.probs = np.array(probs)\n",
    "        self.n = len(probs)\n",
    "        \n",
    "    def sample(self, size=1):\n",
    "        a = np.zeros((size, self.n))\n",
    "        for i in range(size):\n",
    "            a[i] = np.random.choice(np.arange(self.n), self.n, p=self.probs, replace=False)\n",
    "        return a\n",
    "    \n",
    "    def log_prob(self, value):\n",
    "        return np.log(self.prob(value))\n",
    "    \n",
    "    def prob(self, value):\n",
    "        value = value.astype(int)\n",
    "        numerator = self.probs[value]\n",
    "        denominator = np.hstack([np.zeros((len(value), 1)), numerator[:,:-1]])\n",
    "        denominator = 1 - np.cumsum(denominator, axis=1)\n",
    "        p = np.prod(numerator/(denominator+1e-8), axis=1)\n",
    "        return p"
   ]
  },
  {
   "cell_type": "code",
   "execution_count": 3,
   "id": "7de935c4",
   "metadata": {},
   "outputs": [],
   "source": [
    "probs = np.array([0.6, 0.25, 0.15])"
   ]
  },
  {
   "cell_type": "code",
   "execution_count": 4,
   "id": "d9cc983c",
   "metadata": {},
   "outputs": [],
   "source": [
    "dist = MultivariateHypergeometric(probs)"
   ]
  },
  {
   "cell_type": "code",
   "execution_count": 5,
   "id": "9dbee9db",
   "metadata": {},
   "outputs": [],
   "source": [
    "sample = dist.sample(size=1000000)"
   ]
  },
  {
   "cell_type": "code",
   "execution_count": 6,
   "id": "ad5973d8",
   "metadata": {},
   "outputs": [],
   "source": [
    "act, count = np.unique(sample, axis=0, return_counts=True)"
   ]
  },
  {
   "cell_type": "code",
   "execution_count": 7,
   "id": "fc4636f2",
   "metadata": {},
   "outputs": [
    {
     "data": {
      "text/plain": [
       "array([[0., 1., 2.],\n",
       "       [0., 2., 1.],\n",
       "       [1., 0., 2.],\n",
       "       [1., 2., 0.],\n",
       "       [2., 0., 1.],\n",
       "       [2., 1., 0.]])"
      ]
     },
     "execution_count": 7,
     "metadata": {},
     "output_type": "execute_result"
    }
   ],
   "source": [
    "act"
   ]
  },
  {
   "cell_type": "code",
   "execution_count": 8,
   "id": "6950027e",
   "metadata": {},
   "outputs": [
    {
     "data": {
      "text/plain": [
       "array([0.375602, 0.224338, 0.199959, 0.050254, 0.106042, 0.043805])"
      ]
     },
     "execution_count": 8,
     "metadata": {},
     "output_type": "execute_result"
    }
   ],
   "source": [
    "count/count.sum()"
   ]
  },
  {
   "cell_type": "code",
   "execution_count": 9,
   "id": "776f061d",
   "metadata": {},
   "outputs": [
    {
     "data": {
      "text/plain": [
       "array([0.37499996, 0.22499998, 0.19999998, 0.05      , 0.10588235,\n",
       "       0.04411765])"
      ]
     },
     "execution_count": 9,
     "metadata": {},
     "output_type": "execute_result"
    }
   ],
   "source": [
    "dist.prob(act)"
   ]
  },
  {
   "cell_type": "code",
   "execution_count": 10,
   "id": "f2676f93",
   "metadata": {},
   "outputs": [
    {
     "data": {
      "text/plain": [
       "array([-0.98082935, -1.49165495, -1.609438  , -2.99573231, -2.24542674,\n",
       "       -3.12089545])"
      ]
     },
     "execution_count": 10,
     "metadata": {},
     "output_type": "execute_result"
    }
   ],
   "source": [
    "dist.log_prob(act)"
   ]
  },
  {
   "cell_type": "code",
   "execution_count": 11,
   "id": "87c6c6ba",
   "metadata": {},
   "outputs": [],
   "source": [
    "EPS = 1e-8\n",
    "\n",
    "\n",
    "class MultivariateHypergeometric(torch.distributions.Categorical):\n",
    "    \"\"\"Sample ranking index according to Softmax distribution\"\"\"\n",
    "\n",
    "    def __init__(self, probs=None, logits=None, validate_args=None):\n",
    "        super().__init__(probs, logits, validate_args)\n",
    "        self._event_shape = (self._param.size()[-1],)\n",
    "\n",
    "    def sample(self, sample_shape=torch.Size(), replacement=False):\n",
    "        probs_2d = self.probs.reshape(-1, self._num_events)\n",
    "        samples_2d = torch.multinomial(probs_2d, self._num_events, replacement)\n",
    "        return samples_2d\n",
    "\n",
    "    def log_prob(self, value):\n",
    "        if self._validate_args:\n",
    "            self._validate_sample(value)\n",
    "        return self.prob(value).log()\n",
    "\n",
    "    def prob(self, value):\n",
    "        numerator = self.probs.gather(-1, value.long())\n",
    "        denominator = torch.hstack(\n",
    "            [torch.zeros_like(numerator[:, :1]), numerator[:, :-1]]\n",
    "        )\n",
    "        denominator = 1 - torch.cumsum(denominator, dim=1)\n",
    "        p = torch.prod(numerator / (denominator + EPS), dim=1)\n",
    "        return p"
   ]
  },
  {
   "cell_type": "code",
   "execution_count": 12,
   "id": "3bd0995b",
   "metadata": {},
   "outputs": [],
   "source": [
    "dist = MultivariateHypergeometric(torch.Tensor(probs))"
   ]
  },
  {
   "cell_type": "code",
   "execution_count": 13,
   "id": "cb6092a9",
   "metadata": {},
   "outputs": [
    {
     "data": {
      "text/plain": [
       "tensor([0.3750, 0.2250, 0.2000, 0.0500, 0.1059, 0.0441])"
      ]
     },
     "execution_count": 13,
     "metadata": {},
     "output_type": "execute_result"
    }
   ],
   "source": [
    "dist.prob(torch.Tensor(act))"
   ]
  },
  {
   "cell_type": "code",
   "execution_count": 14,
   "id": "512b7b45",
   "metadata": {},
   "outputs": [
    {
     "data": {
      "text/plain": [
       "tensor([-0.9808, -1.4917, -1.6094, -2.9957, -2.2454, -3.1209])"
      ]
     },
     "execution_count": 14,
     "metadata": {},
     "output_type": "execute_result"
    }
   ],
   "source": [
    "dist.log_prob(torch.Tensor(act))"
   ]
  },
  {
   "cell_type": "code",
   "execution_count": 15,
   "id": "a2e940ab",
   "metadata": {},
   "outputs": [
    {
     "data": {
      "text/plain": [
       "tensor(0.9376)"
      ]
     },
     "execution_count": 15,
     "metadata": {},
     "output_type": "execute_result"
    }
   ],
   "source": [
    "dist.entropy()"
   ]
  },
  {
   "cell_type": "code",
   "execution_count": 16,
   "id": "77cd9900",
   "metadata": {},
   "outputs": [
    {
     "data": {
      "text/plain": [
       "tensor(1.5505)"
      ]
     },
     "execution_count": 16,
     "metadata": {},
     "output_type": "execute_result"
    }
   ],
   "source": [
    "-(dist.prob(torch.Tensor(act)) * dist.log_prob(torch.Tensor(act))).sum()"
   ]
  },
  {
   "cell_type": "code",
   "execution_count": 17,
   "id": "4616e620",
   "metadata": {},
   "outputs": [],
   "source": [
    "probs = np.array([1e-8, 0.99, 0.01-1e-8])"
   ]
  },
  {
   "cell_type": "code",
   "execution_count": 18,
   "id": "f69120b1",
   "metadata": {},
   "outputs": [],
   "source": [
    "dist = MultivariateHypergeometric(torch.Tensor(probs))"
   ]
  },
  {
   "cell_type": "code",
   "execution_count": 19,
   "id": "236f9ac9",
   "metadata": {},
   "outputs": [
    {
     "data": {
      "text/plain": [
       "tensor([9.9000e-09, 1.0000e-10, 9.9000e-07, 9.9000e-01, 1.0101e-10, 1.0000e-02])"
      ]
     },
     "execution_count": 19,
     "metadata": {},
     "output_type": "execute_result"
    }
   ],
   "source": [
    "dist.prob(torch.Tensor(act))"
   ]
  },
  {
   "cell_type": "code",
   "execution_count": 20,
   "id": "4b583c9a",
   "metadata": {},
   "outputs": [
    {
     "data": {
      "text/plain": [
       "tensor([-1.8431e+01, -2.3026e+01, -1.3826e+01, -1.0051e-02, -2.3016e+01,\n",
       "        -4.6052e+00])"
      ]
     },
     "execution_count": 20,
     "metadata": {},
     "output_type": "execute_result"
    }
   ],
   "source": [
    "dist.log_prob(torch.Tensor(act))"
   ]
  },
  {
   "cell_type": "code",
   "execution_count": 21,
   "id": "9faf57ed",
   "metadata": {},
   "outputs": [
    {
     "data": {
      "text/plain": [
       "tensor([-1.8431e+01, -2.3026e+01, -1.3826e+01, -1.0051e-02, -2.3016e+01,\n",
       "        -4.6052e+00])"
      ]
     },
     "execution_count": 21,
     "metadata": {},
     "output_type": "execute_result"
    }
   ],
   "source": [
    "dist.log_prob(torch.Tensor(act))"
   ]
  },
  {
   "cell_type": "code",
   "execution_count": 22,
   "id": "baa490ad",
   "metadata": {},
   "outputs": [
    {
     "data": {
      "text/plain": [
       "tensor(0.0560)"
      ]
     },
     "execution_count": 22,
     "metadata": {},
     "output_type": "execute_result"
    }
   ],
   "source": [
    "dist.entropy()"
   ]
  },
  {
   "cell_type": "code",
   "execution_count": 23,
   "id": "b95fbe4c",
   "metadata": {},
   "outputs": [
    {
     "data": {
      "text/plain": [
       "tensor(0.0560)"
      ]
     },
     "execution_count": 23,
     "metadata": {},
     "output_type": "execute_result"
    }
   ],
   "source": [
    "-(dist.prob(torch.Tensor(act)) * dist.log_prob(torch.Tensor(act))).sum()"
   ]
  },
  {
   "cell_type": "code",
   "execution_count": null,
   "id": "fdce9ae6",
   "metadata": {},
   "outputs": [],
   "source": []
  }
 ],
 "metadata": {
  "kernelspec": {
   "display_name": "qlib",
   "language": "python",
   "name": "qlib"
  },
  "language_info": {
   "codemirror_mode": {
    "name": "ipython",
    "version": 3
   },
   "file_extension": ".py",
   "mimetype": "text/x-python",
   "name": "python",
   "nbconvert_exporter": "python",
   "pygments_lexer": "ipython3",
   "version": "3.8.10"
  }
 },
 "nbformat": 4,
 "nbformat_minor": 5
}
