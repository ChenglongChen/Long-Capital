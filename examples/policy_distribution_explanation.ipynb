{
 "cells": [
  {
   "cell_type": "code",
   "execution_count": 1,
   "id": "572cf9c4",
   "metadata": {},
   "outputs": [],
   "source": [
    "import torch\n",
    "\n",
    "from torch.distributions import Bernoulli, Categorical, Independent, Multinomial, Normal\n",
    "from longcapital.rl.utils.distributions import MultivariateHypergeometric\n",
    "from longcapital.utils.constant import NEG_INF"
   ]
  },
  {
   "cell_type": "code",
   "execution_count": 2,
   "id": "cf6c055d",
   "metadata": {},
   "outputs": [],
   "source": [
    "class MyMultinomial(Multinomial):\n",
    "    def entropy(self):\n",
    "        return torch.zeros(self.batch_shape)\n",
    "    \n",
    "\n",
    "def test_dist(dist):\n",
    "    sample = dist.sample()\n",
    "    log_prob = dist.log_prob(sample)\n",
    "    entropy = dist.entropy()\n",
    "    print(f\"sample ({sample.shape}): {sample}\")\n",
    "    print(f\"log_prob ({log_prob.shape}): {log_prob}\")\n",
    "    print(f\"entropy ({entropy.shape}): {entropy}\")"
   ]
  },
  {
   "cell_type": "code",
   "execution_count": 3,
   "id": "6da73537",
   "metadata": {},
   "outputs": [],
   "source": [
    "batch_size = 4\n",
    "stock_num = 5\n",
    "topk = 2"
   ]
  },
  {
   "cell_type": "code",
   "execution_count": 4,
   "id": "157403fb",
   "metadata": {},
   "outputs": [
    {
     "name": "stdout",
     "output_type": "stream",
     "text": [
      "sample (torch.Size([4, 5])): tensor([[-1.1518,  1.8908,  2.3198, -0.6100, -0.4247],\n",
      "        [-1.3236, -1.3905, -1.6903,  1.7480, -1.2054],\n",
      "        [-0.7742,  0.8872,  2.0958,  0.5362,  0.1253],\n",
      "        [ 0.2307,  1.7311, -0.2698, -1.6820, -0.1353]])\n",
      "log_prob (torch.Size([4])): tensor([-6.5114, -8.0955, -6.7380, -7.8099])\n",
      "entropy (torch.Size([4])): tensor([7.0947, 7.0947, 7.0947, 7.0947])\n"
     ]
    }
   ],
   "source": [
    "# continuous.MetaPPO/MetaDDPG/MetaTD3/MetaSAC\n",
    "# given a list of stocks, assign each stock a value for ranking (TopkDropoutStrategy) or weighting (WeightStrategy)\n",
    "\n",
    "loc = torch.randn(batch_size, stock_num)\n",
    "scale = torch.ones_like(loc)\n",
    "dist = Independent(Normal(loc=loc, scale=scale), 1)\n",
    "test_dist(dist)"
   ]
  },
  {
   "cell_type": "code",
   "execution_count": 5,
   "id": "9ff61e78",
   "metadata": {},
   "outputs": [
    {
     "name": "stdout",
     "output_type": "stream",
     "text": [
      "sample (torch.Size([4])): tensor([0, 1, 0, 1])\n",
      "log_prob (torch.Size([4])): tensor([-0.7213, -0.3690, -0.1278, -0.6006])\n",
      "entropy (torch.Size([4])): tensor([0.6928, 0.6180, 0.3668, 0.6884])\n"
     ]
    }
   ],
   "source": [
    "# discrete.PPO\n",
    "# given the state and a set of params candidates (n_drop), choose one param for trading\n",
    "\n",
    "n_drop_list = list(range(topk))\n",
    "probs = torch.rand(batch_size, len(n_drop_list))\n",
    "dist = Categorical(probs)\n",
    "test_dist(dist)"
   ]
  },
  {
   "cell_type": "code",
   "execution_count": 6,
   "id": "41ecb7c3",
   "metadata": {},
   "outputs": [
    {
     "name": "stdout",
     "output_type": "stream",
     "text": [
      "sample (torch.Size([4, 5])): tensor([[0., 1., 0., 1., 1.],\n",
      "        [1., 1., 0., 0., 0.],\n",
      "        [0., 0., 1., 0., 0.],\n",
      "        [0., 1., 1., 0., 0.]])\n",
      "log_prob (torch.Size([4])): tensor([-2.9925, -2.0541, -2.1748, -3.8611])\n",
      "entropy (torch.Size([4])): tensor([2.4892, 2.0643, 2.7707, 2.0659])\n"
     ]
    }
   ],
   "source": [
    "# discrete.MultiBinaryMetaPPO\n",
    "# given a list of stocks, for each stock decide whether buy or not (each stock is independent)\n",
    "\n",
    "probs = torch.rand(batch_size, stock_num)\n",
    "dist = Independent(Bernoulli(probs), 1)\n",
    "test_dist(dist)"
   ]
  },
  {
   "cell_type": "code",
   "execution_count": 7,
   "id": "6c60c62d",
   "metadata": {},
   "outputs": [
    {
     "name": "stdout",
     "output_type": "stream",
     "text": [
      "sample (torch.Size([4])): tensor([1, 2, 3, 0])\n",
      "log_prob (torch.Size([4])): tensor([-1.2132, -1.6683, -2.2203, -1.3199])\n",
      "entropy (torch.Size([4])): tensor([1.4314, 1.4539, 1.3485, 1.1749])\n",
      "sample (torch.Size([4])): tensor([4, 4, 3, 0])\n",
      "log_prob (torch.Size([4])): tensor([-1.0265, -1.8034, -1.5004, -0.5820])\n",
      "entropy (torch.Size([4])): tensor([1.1869, 1.2424, 1.3469, 1.0097])\n"
     ]
    }
   ],
   "source": [
    "# discrete.StepByStepMetaPPO\n",
    "# given a list of stocks, repeat topk times to select stock one by one to buy WITHOUT replacement\n",
    "# if the state is not changed, this is equivalent to TopkMetaPPO\n",
    "\n",
    "logits = torch.randn(batch_size, stock_num)\n",
    "selected = torch.zeros_like(logits)\n",
    "for i in range(topk):\n",
    "    logits = (1 - selected) * logits + selected * NEG_INF\n",
    "    dist = Categorical(logits=logits)\n",
    "    test_dist(dist)\n",
    "    selected.scatter_(1, logits.argmax(-1).unsqueeze(1), 1)"
   ]
  },
  {
   "cell_type": "code",
   "execution_count": 8,
   "id": "e8d868d4",
   "metadata": {},
   "outputs": [
    {
     "name": "stdout",
     "output_type": "stream",
     "text": [
      "sample (torch.Size([4, 2])): tensor([[0, 2],\n",
      "        [2, 1],\n",
      "        [4, 2],\n",
      "        [2, 0]])\n",
      "log_prob (torch.Size([4])): tensor([-2.6579, -2.7395, -2.1988, -1.9295])\n",
      "entropy (torch.Size([4])): tensor([1.5391, 1.4907, 1.4681, 1.3701])\n"
     ]
    }
   ],
   "source": [
    "# discrete.TopkMetaPPO\n",
    "# given a list of stocks, repeat topk times to select which stock to buy WITHOUT replacement\n",
    "\n",
    "logits = torch.randn(batch_size, stock_num)\n",
    "dist = MultivariateHypergeometric(logits=logits, topk=topk)\n",
    "test_dist(dist)"
   ]
  },
  {
   "cell_type": "code",
   "execution_count": 9,
   "id": "d61fa942",
   "metadata": {},
   "outputs": [
    {
     "name": "stdout",
     "output_type": "stream",
     "text": [
      "sample (torch.Size([4, 5])): tensor([[0., 0., 0., 1., 1.],\n",
      "        [0., 0., 0., 2., 0.],\n",
      "        [0., 2., 0., 0., 0.],\n",
      "        [0., 0., 0., 2., 0.]])\n",
      "log_prob (torch.Size([4])): tensor([-2.0916, -1.4665, -1.1537, -2.4307])\n",
      "entropy (torch.Size([4])): tensor([0., 0., 0., 0.])\n"
     ]
    }
   ],
   "source": [
    "# discrete.WeightMetaPPO\n",
    "# given a list of stocks, repeat topk times to select which stock to buy WITH replacement\n",
    "# or given a budget (e.g., total_count=topk), chose one stock to buy each time\n",
    "\n",
    "logits = torch.randn(batch_size, stock_num)\n",
    "dist = MyMultinomial(logits=logits, total_count=topk)\n",
    "test_dist(dist)"
   ]
  },
  {
   "cell_type": "code",
   "execution_count": null,
   "id": "2feef372",
   "metadata": {},
   "outputs": [],
   "source": []
  }
 ],
 "metadata": {
  "kernelspec": {
   "display_name": "qlib",
   "language": "python",
   "name": "qlib"
  },
  "language_info": {
   "codemirror_mode": {
    "name": "ipython",
    "version": 3
   },
   "file_extension": ".py",
   "mimetype": "text/x-python",
   "name": "python",
   "nbconvert_exporter": "python",
   "pygments_lexer": "ipython3",
   "version": "3.8.10"
  }
 },
 "nbformat": 4,
 "nbformat_minor": 5
}
