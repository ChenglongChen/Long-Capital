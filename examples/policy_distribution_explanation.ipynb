{
 "cells": [
  {
   "cell_type": "code",
   "execution_count": 1,
   "id": "c564903d",
   "metadata": {},
   "outputs": [],
   "source": [
    "import torch\n",
    "\n",
    "from torch.distributions import (\n",
    "    Bernoulli, \n",
    "    Categorical, \n",
    "    Independent, \n",
    "    Multinomial, \n",
    "    Normal,\n",
    ")\n",
    "\n",
    "from longcapital.rl.utils.distributions import MultivariateHypergeometric\n",
    "from longcapital.utils.constant import NEG_INF"
   ]
  },
  {
   "cell_type": "code",
   "execution_count": 2,
   "id": "4ad2d113",
   "metadata": {},
   "outputs": [],
   "source": [
    "class MyMultinomial(Multinomial):\n",
    "    def entropy(self):\n",
    "        return torch.zeros(self.batch_shape)\n",
    "    \n",
    "\n",
    "def test_dist(dist):\n",
    "    sample = dist.sample()\n",
    "    log_prob = dist.log_prob(sample)\n",
    "    entropy = dist.entropy()\n",
    "    print(f\"sample ({sample.shape}): {sample}\")\n",
    "    print(f\"log_prob ({log_prob.shape}): {log_prob}\")\n",
    "    print(f\"entropy ({entropy.shape}): {entropy}\")"
   ]
  },
  {
   "cell_type": "code",
   "execution_count": 3,
   "id": "2a145302",
   "metadata": {},
   "outputs": [],
   "source": [
    "batch_size = 4\n",
    "stock_num = 5\n",
    "topk = 2"
   ]
  },
  {
   "cell_type": "code",
   "execution_count": 4,
   "id": "fc4c7463",
   "metadata": {},
   "outputs": [
    {
     "name": "stdout",
     "output_type": "stream",
     "text": [
      "sample (torch.Size([4, 5])): tensor([[ 0.7195, -2.0932,  0.3654,  0.5980, -0.6570],\n",
      "        [-0.9277,  2.1504, -1.9409, -4.8942, -0.4706],\n",
      "        [ 1.8688,  2.6778, -0.0615, -1.4287, -0.8648],\n",
      "        [ 2.1370, -0.8389,  1.8719,  0.7652, -2.9274]])\n",
      "log_prob (torch.Size([4])): tensor([-6.2783, -9.4490, -7.3731, -7.8984])\n",
      "entropy (torch.Size([4])): tensor([7.0947, 7.0947, 7.0947, 7.0947])\n"
     ]
    }
   ],
   "source": [
    "# continuous.MetaPPO/MetaDDPG/MetaTD3/MetaSAC\n",
    "# given a list of stocks, assign each stock a value for ranking (TopkDropoutStrategy) or weighting (WeightStrategy)\n",
    "\n",
    "loc = torch.randn(batch_size, stock_num)\n",
    "scale = torch.ones_like(loc)\n",
    "dist = Independent(Normal(loc=loc, scale=scale), 1)\n",
    "test_dist(dist)"
   ]
  },
  {
   "cell_type": "code",
   "execution_count": 5,
   "id": "4f0ebdde",
   "metadata": {},
   "outputs": [
    {
     "name": "stdout",
     "output_type": "stream",
     "text": [
      "sample (torch.Size([4])): tensor([1, 1, 1, 0])\n",
      "log_prob (torch.Size([4])): tensor([-0.4659, -0.6305, -0.3924, -0.1561])\n",
      "entropy (torch.Size([4])): tensor([0.6602, 0.6911, 0.6303, 0.4130])\n"
     ]
    }
   ],
   "source": [
    "# discrete.PPO\n",
    "# given the state and a set of params candidates (n_drop), choose one param for trading\n",
    "\n",
    "n_drop_list = list(range(topk))\n",
    "probs = torch.rand(batch_size, len(n_drop_list))\n",
    "dist = Categorical(probs)\n",
    "test_dist(dist)"
   ]
  },
  {
   "cell_type": "code",
   "execution_count": 6,
   "id": "6aef5041",
   "metadata": {},
   "outputs": [
    {
     "name": "stdout",
     "output_type": "stream",
     "text": [
      "sample (torch.Size([4, 5])): tensor([[1., 1., 0., 1., 0.],\n",
      "        [0., 1., 1., 0., 1.],\n",
      "        [0., 0., 0., 0., 1.],\n",
      "        [0., 1., 0., 1., 0.]])\n",
      "log_prob (torch.Size([4])): tensor([-1.3788, -1.7273, -3.1913, -2.8856])\n",
      "entropy (torch.Size([4])): tensor([2.4236, 2.3921, 2.7697, 2.4109])\n"
     ]
    }
   ],
   "source": [
    "# discrete.MultiBinaryMetaPPO\n",
    "# given a list of stocks, for each stock decide whether buy or not (each stock is independent)\n",
    "\n",
    "probs = torch.rand(batch_size, stock_num)\n",
    "dist = Independent(Bernoulli(probs), 1)\n",
    "test_dist(dist)"
   ]
  },
  {
   "cell_type": "code",
   "execution_count": 7,
   "id": "f15d99ff",
   "metadata": {},
   "outputs": [
    {
     "name": "stdout",
     "output_type": "stream",
     "text": [
      "sample (torch.Size([4])): tensor([4, 4, 4, 3])\n",
      "log_prob (torch.Size([4])): tensor([-1.0513, -0.9424, -2.2990, -0.4879])\n",
      "entropy (torch.Size([4])): tensor([1.4960, 1.3942, 0.9058, 1.0789])\n",
      "sample (torch.Size([4])): tensor([3, 3, 4, 2])\n",
      "log_prob (torch.Size([4])): tensor([-1.2981, -0.9102, -0.9513, -0.5726])\n",
      "entropy (torch.Size([4])): tensor([1.3049, 1.1890, 1.2812, 1.0670])\n"
     ]
    }
   ],
   "source": [
    "# discrete.StepByStepMetaPPO\n",
    "# given a list of stocks, repeat topk times to select stock one by one to buy WITHOUT replacement\n",
    "# if the state is not changed, this is equivalent to TopkMetaPPO\n",
    "\n",
    "logits = torch.randn(batch_size, stock_num)\n",
    "selected = torch.zeros_like(logits)\n",
    "for i in range(topk):\n",
    "    logits = (1 - selected) * logits + selected * NEG_INF\n",
    "    dist = Categorical(logits=logits)\n",
    "    test_dist(dist)\n",
    "    selected.scatter_(1, logits.argmax(-1).unsqueeze(1), 1)"
   ]
  },
  {
   "cell_type": "code",
   "execution_count": 8,
   "id": "956111d4",
   "metadata": {},
   "outputs": [
    {
     "name": "stdout",
     "output_type": "stream",
     "text": [
      "sample (torch.Size([4, 2])): tensor([[3, 1],\n",
      "        [2, 1],\n",
      "        [0, 4],\n",
      "        [0, 2]])\n",
      "log_prob (torch.Size([4])): tensor([-3.9768, -2.6084, -2.0306, -1.5059])\n",
      "entropy (torch.Size([4])): tensor([1.3623, 1.2967, 1.1532, 1.2774])\n"
     ]
    }
   ],
   "source": [
    "# discrete.TopkMetaPPO\n",
    "# given a list of stocks, repeat topk times to select which stock to buy WITHOUT replacement\n",
    "\n",
    "logits = torch.randn(batch_size, stock_num)\n",
    "dist = MultivariateHypergeometric(logits=logits, topk=topk)\n",
    "test_dist(dist)"
   ]
  },
  {
   "cell_type": "code",
   "execution_count": 9,
   "id": "0b05f6aa",
   "metadata": {},
   "outputs": [
    {
     "name": "stdout",
     "output_type": "stream",
     "text": [
      "sample (torch.Size([4, 5])): tensor([[0., 1., 0., 0., 1.],\n",
      "        [0., 0., 2., 0., 0.],\n",
      "        [1., 0., 1., 0., 0.],\n",
      "        [0., 0., 0., 1., 1.]])\n",
      "log_prob (torch.Size([4])): tensor([-1.8317, -1.0850, -1.5075, -3.2836])\n",
      "entropy (torch.Size([4])): tensor([0., 0., 0., 0.])\n"
     ]
    }
   ],
   "source": [
    "# discrete.WeightMetaPPO\n",
    "# given a list of stocks, repeat topk times to select which stock to buy WITH replacement\n",
    "# or given a budget (e.g., total_count=topk), chose one stock to buy each time\n",
    "\n",
    "logits = torch.randn(batch_size, stock_num)\n",
    "dist = MyMultinomial(logits=logits, total_count=topk)\n",
    "test_dist(dist)"
   ]
  },
  {
   "cell_type": "code",
   "execution_count": null,
   "id": "a85d1175",
   "metadata": {},
   "outputs": [],
   "source": []
  }
 ],
 "metadata": {
  "kernelspec": {
   "display_name": "qlib",
   "language": "python",
   "name": "qlib"
  },
  "language_info": {
   "codemirror_mode": {
    "name": "ipython",
    "version": 3
   },
   "file_extension": ".py",
   "mimetype": "text/x-python",
   "name": "python",
   "nbconvert_exporter": "python",
   "pygments_lexer": "ipython3",
   "version": "3.8.10"
  }
 },
 "nbformat": 4,
 "nbformat_minor": 5
}
