{
 "cells": [
  {
   "cell_type": "code",
   "execution_count": 1,
   "id": "b7c4a104",
   "metadata": {},
   "outputs": [],
   "source": [
    "import torch\n",
    "\n",
    "from torch.distributions import (\n",
    "    Bernoulli, \n",
    "    Categorical, \n",
    "    Independent, \n",
    "    Multinomial, \n",
    "    Normal,\n",
    ")\n",
    "\n",
    "from longcapital.rl.utils.distributions import MultivariateHypergeometric\n",
    "from longcapital.utils.constant import NEG_INF"
   ]
  },
  {
   "cell_type": "code",
   "execution_count": 2,
   "id": "378a557a",
   "metadata": {},
   "outputs": [],
   "source": [
    "class MyMultinomial(Multinomial):\n",
    "    def entropy(self):\n",
    "        return torch.zeros(self.batch_shape)\n",
    "    \n",
    "\n",
    "def test_dist(dist, return_sample=False):\n",
    "    sample = dist.sample()\n",
    "    log_prob = dist.log_prob(sample)\n",
    "    entropy = dist.entropy()\n",
    "    print(f\"sample ({sample.shape}): {sample}\")\n",
    "    print(f\"log_prob ({log_prob.shape}): {log_prob}\")\n",
    "    print(f\"entropy ({entropy.shape}): {entropy}\")\n",
    "    if return_sample:\n",
    "        return sample"
   ]
  },
  {
   "cell_type": "code",
   "execution_count": 3,
   "id": "ac184d6e",
   "metadata": {},
   "outputs": [],
   "source": [
    "batch_size = 4\n",
    "stock_num = 5\n",
    "topk = 2"
   ]
  },
  {
   "cell_type": "code",
   "execution_count": 4,
   "id": "5643f008",
   "metadata": {},
   "outputs": [
    {
     "name": "stdout",
     "output_type": "stream",
     "text": [
      "sample (torch.Size([4, 5])): tensor([[-7.5870e-01,  8.8834e-01,  4.3071e-01,  1.5514e+00,  1.6033e+00],\n",
      "        [ 7.1720e-01, -2.0396e-01,  5.1662e-01, -3.3107e+00, -2.9578e-02],\n",
      "        [ 8.1710e-02, -6.7831e-01,  5.1750e-01, -8.1944e-01, -1.0100e+00],\n",
      "        [-2.2577e+00, -2.9829e-03, -2.3051e+00, -1.1247e+00,  8.3585e-01]])\n",
      "log_prob (torch.Size([4])): tensor([-7.4591, -8.3586, -5.7100, -6.3486])\n",
      "entropy (torch.Size([4])): tensor([7.0947, 7.0947, 7.0947, 7.0947])\n"
     ]
    }
   ],
   "source": [
    "# continuous.MetaPPO/MetaDDPG/MetaTD3/MetaSAC\n",
    "# given a list of stocks, assign each stock a value for ranking (TopkDropoutStrategy) or weighting (WeightStrategy)\n",
    "\n",
    "loc = torch.randn(batch_size, stock_num)\n",
    "scale = torch.ones_like(loc)\n",
    "dist = Independent(Normal(loc=loc, scale=scale), 1)\n",
    "test_dist(dist)"
   ]
  },
  {
   "cell_type": "code",
   "execution_count": 5,
   "id": "4757a36d",
   "metadata": {},
   "outputs": [
    {
     "name": "stdout",
     "output_type": "stream",
     "text": [
      "sample (torch.Size([4])): tensor([1, 1, 0, 0])\n",
      "log_prob (torch.Size([4])): tensor([-0.3730, -0.6471, -0.1849, -0.5225])\n",
      "entropy (torch.Size([4])): tensor([0.6202, 0.6920, 0.4540, 0.6757])\n"
     ]
    }
   ],
   "source": [
    "# discrete.PPO\n",
    "# given the state and a set of params candidates (n_drop), choose one param for trading\n",
    "\n",
    "n_drop_list = list(range(topk))\n",
    "probs = torch.rand(batch_size, len(n_drop_list))\n",
    "dist = Categorical(probs)\n",
    "test_dist(dist)"
   ]
  },
  {
   "cell_type": "code",
   "execution_count": 6,
   "id": "c7f184d1",
   "metadata": {},
   "outputs": [
    {
     "name": "stdout",
     "output_type": "stream",
     "text": [
      "sample (torch.Size([4, 5])): tensor([[0., 0., 0., 1., 1.],\n",
      "        [0., 1., 0., 1., 0.],\n",
      "        [1., 1., 0., 1., 0.],\n",
      "        [1., 1., 1., 1., 1.]])\n",
      "log_prob (torch.Size([4])): tensor([-2.9593, -2.5406, -2.2767, -2.0295])\n",
      "entropy (torch.Size([4])): tensor([2.9821, 2.6975, 3.0601, 2.4700])\n"
     ]
    }
   ],
   "source": [
    "# discrete.MultiBinaryMetaPPO\n",
    "# given a list of stocks, for each stock decide whether buy or not (each stock is independent)\n",
    "\n",
    "probs = torch.rand(batch_size, stock_num)\n",
    "dist = Independent(Bernoulli(probs), 1)\n",
    "test_dist(dist)"
   ]
  },
  {
   "cell_type": "code",
   "execution_count": 7,
   "id": "8cb1b8df",
   "metadata": {},
   "outputs": [
    {
     "name": "stdout",
     "output_type": "stream",
     "text": [
      "sample (torch.Size([4])): tensor([1, 4, 4, 1])\n",
      "log_prob (torch.Size([4])): tensor([-0.9068, -2.2671, -0.7272, -2.6500])\n",
      "entropy (torch.Size([4])): tensor([1.4198, 1.3411, 1.2733, 1.3611])\n",
      "sample (torch.Size([4])): tensor([2, 0, 3, 0])\n",
      "log_prob (torch.Size([4])): tensor([-0.7142, -1.6009, -0.6231, -0.9216])\n",
      "entropy (torch.Size([4])): tensor([1.2501, 1.1246, 1.1237, 1.1899])\n"
     ]
    }
   ],
   "source": [
    "# discrete.StepByStepMetaPPO\n",
    "# given a list of stocks, repeat topk times to select stock one by one to buy WITHOUT replacement\n",
    "# if the state is not changed, this is equivalent to TopkMetaPPO which selects topk all in once\n",
    "\n",
    "logits = torch.randn(batch_size, stock_num)\n",
    "for i in range(topk):\n",
    "    dist = Categorical(logits=logits)\n",
    "    sample = test_dist(dist, return_sample=True)\n",
    "    # mask out selected ones\n",
    "    logits.scatter_(1, sample.unsqueeze(1), NEG_INF)"
   ]
  },
  {
   "cell_type": "code",
   "execution_count": 8,
   "id": "86ca7f6d",
   "metadata": {},
   "outputs": [
    {
     "name": "stdout",
     "output_type": "stream",
     "text": [
      "sample (torch.Size([4, 2])): tensor([[0, 4],\n",
      "        [4, 3],\n",
      "        [4, 2],\n",
      "        [4, 0]])\n",
      "log_prob (torch.Size([4])): tensor([-3.1807, -2.2466, -2.7735, -1.7747])\n",
      "entropy (torch.Size([4])): tensor([1.4737, 1.3995, 1.5030, 1.2700])\n"
     ]
    }
   ],
   "source": [
    "# discrete.TopkMetaPPO\n",
    "# given a list of stocks, repeat topk times to select which stock to buy WITHOUT replacement\n",
    "\n",
    "logits = torch.randn(batch_size, stock_num)\n",
    "dist = MultivariateHypergeometric(logits=logits, topk=topk)\n",
    "test_dist(dist)"
   ]
  },
  {
   "cell_type": "code",
   "execution_count": 9,
   "id": "e2fe506b",
   "metadata": {},
   "outputs": [
    {
     "name": "stdout",
     "output_type": "stream",
     "text": [
      "sample (torch.Size([4, 5])): tensor([[0., 1., 0., 0., 1.],\n",
      "        [0., 2., 0., 0., 0.],\n",
      "        [1., 0., 0., 1., 0.],\n",
      "        [0., 1., 0., 0., 1.]])\n",
      "log_prob (torch.Size([4])): tensor([-2.2070, -1.5353, -2.2308, -1.2772])\n",
      "entropy (torch.Size([4])): tensor([0., 0., 0., 0.])\n"
     ]
    }
   ],
   "source": [
    "# discrete.WeightMetaPPO\n",
    "# given a list of stocks, repeat topk times to select which stock to buy WITH replacement\n",
    "# or given a budget (e.g., total_count=topk), chose one stock to buy each time\n",
    "\n",
    "logits = torch.randn(batch_size, stock_num)\n",
    "dist = MyMultinomial(logits=logits, total_count=topk)\n",
    "test_dist(dist)"
   ]
  },
  {
   "cell_type": "code",
   "execution_count": null,
   "id": "baeee285",
   "metadata": {},
   "outputs": [],
   "source": []
  }
 ],
 "metadata": {
  "kernelspec": {
   "display_name": "qlib",
   "language": "python",
   "name": "qlib"
  },
  "language_info": {
   "codemirror_mode": {
    "name": "ipython",
    "version": 3
   },
   "file_extension": ".py",
   "mimetype": "text/x-python",
   "name": "python",
   "nbconvert_exporter": "python",
   "pygments_lexer": "ipython3",
   "version": "3.8.10"
  }
 },
 "nbformat": 4,
 "nbformat_minor": 5
}
