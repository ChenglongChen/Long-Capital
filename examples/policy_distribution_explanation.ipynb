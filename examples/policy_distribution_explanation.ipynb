{
 "cells": [
  {
   "cell_type": "code",
   "execution_count": 1,
   "id": "12a0d706",
   "metadata": {},
   "outputs": [],
   "source": [
    "import torch\n",
    "\n",
    "from torch.distributions import (\n",
    "    Bernoulli, \n",
    "    Categorical, \n",
    "    Independent, \n",
    "    Multinomial, \n",
    "    Normal,\n",
    ")\n",
    "\n",
    "from longcapital.rl.utils.distributions import MultivariateHypergeometric\n",
    "from longcapital.utils.constant import NEG_INF"
   ]
  },
  {
   "cell_type": "code",
   "execution_count": 2,
   "id": "8b3abea6",
   "metadata": {},
   "outputs": [],
   "source": [
    "class MyMultinomial(Multinomial):\n",
    "    def entropy(self):\n",
    "        return torch.zeros(self.batch_shape)\n",
    "    \n",
    "\n",
    "def test_dist(dist, return_sample=False):\n",
    "    sample = dist.sample()\n",
    "    log_prob = dist.log_prob(sample)\n",
    "    entropy = dist.entropy()\n",
    "    print(f\"sample ({sample.shape}): {sample}\")\n",
    "    print(f\"log_prob ({log_prob.shape}): {log_prob}\")\n",
    "    print(f\"entropy ({entropy.shape}): {entropy}\")\n",
    "    if return_sample:\n",
    "        return sample"
   ]
  },
  {
   "cell_type": "code",
   "execution_count": 3,
   "id": "4d95fe6d",
   "metadata": {},
   "outputs": [],
   "source": [
    "batch_size = 4\n",
    "stock_num = 5\n",
    "topk = 2"
   ]
  },
  {
   "cell_type": "code",
   "execution_count": 4,
   "id": "6ef9541d",
   "metadata": {},
   "outputs": [
    {
     "name": "stdout",
     "output_type": "stream",
     "text": [
      "sample (torch.Size([4, 5])): tensor([[-0.6264,  1.0204, -0.3040,  1.1052, -1.6539],\n",
      "        [-1.1005,  1.3430,  0.2871, -0.8482, -1.9938],\n",
      "        [-0.5263, -1.9366, -2.1826,  1.7727,  1.9515],\n",
      "        [-0.4482, -1.4156, -0.3358, -2.0101, -0.0604]])\n",
      "log_prob (torch.Size([4])): tensor([-7.4220, -6.4291, -6.7273, -8.9786])\n",
      "entropy (torch.Size([4])): tensor([7.0947, 7.0947, 7.0947, 7.0947])\n"
     ]
    }
   ],
   "source": [
    "# continuous.MetaPPO/MetaDDPG/MetaTD3/MetaSAC\n",
    "# given a list of stocks, assign each stock a value for ranking (TopkDropoutStrategy) or weighting (WeightStrategy)\n",
    "\n",
    "loc = torch.randn(batch_size, stock_num)\n",
    "scale = torch.ones_like(loc)\n",
    "dist = Independent(Normal(loc=loc, scale=scale), 1)\n",
    "test_dist(dist)"
   ]
  },
  {
   "cell_type": "code",
   "execution_count": 5,
   "id": "415c4a18",
   "metadata": {},
   "outputs": [
    {
     "name": "stdout",
     "output_type": "stream",
     "text": [
      "sample (torch.Size([4])): tensor([0, 0, 0, 0])\n",
      "log_prob (torch.Size([4])): tensor([-0.2423, -0.8840, -0.5941, -0.4371])\n",
      "entropy (torch.Size([4])): tensor([0.5207, 0.6780, 0.6877, 0.6500])\n"
     ]
    }
   ],
   "source": [
    "# discrete.PPO\n",
    "# given the state and a set of params candidates (n_drop), choose one param for trading\n",
    "\n",
    "n_drop_list = list(range(topk))\n",
    "probs = torch.rand(batch_size, len(n_drop_list))\n",
    "dist = Categorical(probs)\n",
    "test_dist(dist)"
   ]
  },
  {
   "cell_type": "code",
   "execution_count": 6,
   "id": "6d375a41",
   "metadata": {},
   "outputs": [
    {
     "name": "stdout",
     "output_type": "stream",
     "text": [
      "sample (torch.Size([4, 5])): tensor([[1., 1., 1., 0., 1.],\n",
      "        [1., 0., 0., 0., 0.],\n",
      "        [0., 1., 1., 0., 0.],\n",
      "        [0., 1., 1., 1., 1.]])\n",
      "log_prob (torch.Size([4])): tensor([-3.0781, -3.9245, -2.2733, -3.1525])\n",
      "entropy (torch.Size([4])): tensor([2.7842, 2.1866, 2.9176, 2.8146])\n"
     ]
    }
   ],
   "source": [
    "# discrete.MultiBinaryMetaPPO\n",
    "# given a list of stocks, for each stock decide whether buy or not (each stock is independent)\n",
    "\n",
    "probs = torch.rand(batch_size, stock_num)\n",
    "dist = Independent(Bernoulli(probs), 1)\n",
    "test_dist(dist)"
   ]
  },
  {
   "cell_type": "code",
   "execution_count": 7,
   "id": "b7a861b8",
   "metadata": {},
   "outputs": [
    {
     "name": "stdout",
     "output_type": "stream",
     "text": [
      "sample (torch.Size([4])): tensor([3, 2, 2, 1])\n",
      "log_prob (torch.Size([4])): tensor([-0.2373, -0.3380, -0.1331, -1.1716])\n",
      "entropy (torch.Size([4])): tensor([0.6888, 0.9824, 0.5290, 1.5170])\n",
      "sample (torch.Size([4])): tensor([1, 0, 0, 4])\n",
      "log_prob (torch.Size([4])): tensor([-2.5913, -1.4515, -1.3618, -0.8278])\n",
      "entropy (torch.Size([4])): tensor([0.8199, 1.3361, 1.2264, 1.3012])\n"
     ]
    }
   ],
   "source": [
    "# discrete.StepByStepMetaPPO\n",
    "# given a list of stocks, repeat topk times to select stock one by one to buy WITHOUT replacement\n",
    "# if the state is not changed, this is equivalent to TopkMetaPPO\n",
    "\n",
    "logits = torch.randn(batch_size, stock_num)\n",
    "for i in range(topk):\n",
    "    dist = Categorical(logits=logits)\n",
    "    sample = test_dist(dist, return_sample=True)\n",
    "    # mask out selected ones\n",
    "    logits.scatter_(1, sample.unsqueeze(1), NEG_INF)"
   ]
  },
  {
   "cell_type": "code",
   "execution_count": 8,
   "id": "e4f8c083",
   "metadata": {},
   "outputs": [
    {
     "name": "stdout",
     "output_type": "stream",
     "text": [
      "sample (torch.Size([4, 2])): tensor([[4, 1],\n",
      "        [3, 4],\n",
      "        [4, 3],\n",
      "        [4, 3]])\n",
      "log_prob (torch.Size([4])): tensor([-1.1390, -4.6722, -3.4064, -1.6144])\n",
      "entropy (torch.Size([4])): tensor([0.6774, 1.1958, 1.5731, 1.3330])\n"
     ]
    }
   ],
   "source": [
    "# discrete.TopkMetaPPO\n",
    "# given a list of stocks, repeat topk times to select which stock to buy WITHOUT replacement\n",
    "\n",
    "logits = torch.randn(batch_size, stock_num)\n",
    "dist = MultivariateHypergeometric(logits=logits, topk=topk)\n",
    "test_dist(dist)"
   ]
  },
  {
   "cell_type": "code",
   "execution_count": 9,
   "id": "4a7dfd85",
   "metadata": {},
   "outputs": [
    {
     "name": "stdout",
     "output_type": "stream",
     "text": [
      "sample (torch.Size([4, 5])): tensor([[0., 1., 0., 0., 1.],\n",
      "        [0., 0., 0., 2., 0.],\n",
      "        [0., 0., 1., 0., 1.],\n",
      "        [0., 0., 1., 1., 0.]])\n",
      "log_prob (torch.Size([4])): tensor([-1.1677, -2.3930, -2.0860, -1.9851])\n",
      "entropy (torch.Size([4])): tensor([0., 0., 0., 0.])\n"
     ]
    }
   ],
   "source": [
    "# discrete.WeightMetaPPO\n",
    "# given a list of stocks, repeat topk times to select which stock to buy WITH replacement\n",
    "# or given a budget (e.g., total_count=topk), chose one stock to buy each time\n",
    "\n",
    "logits = torch.randn(batch_size, stock_num)\n",
    "dist = MyMultinomial(logits=logits, total_count=topk)\n",
    "test_dist(dist)"
   ]
  },
  {
   "cell_type": "code",
   "execution_count": null,
   "id": "8820ca2b",
   "metadata": {},
   "outputs": [],
   "source": []
  }
 ],
 "metadata": {
  "kernelspec": {
   "display_name": "qlib",
   "language": "python",
   "name": "qlib"
  },
  "language_info": {
   "codemirror_mode": {
    "name": "ipython",
    "version": 3
   },
   "file_extension": ".py",
   "mimetype": "text/x-python",
   "name": "python",
   "nbconvert_exporter": "python",
   "pygments_lexer": "ipython3",
   "version": "3.8.10"
  }
 },
 "nbformat": 4,
 "nbformat_minor": 5
}
