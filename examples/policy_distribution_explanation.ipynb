{
 "cells": [
  {
   "cell_type": "code",
   "execution_count": 1,
   "id": "175238a4",
   "metadata": {},
   "outputs": [],
   "source": [
    "import torch\n",
    "\n",
    "from longcapital.rl.utils.distributions import MultivariateHypergeometric\n",
    "from longcapital.utils.constant import NEG_INF"
   ]
  },
  {
   "cell_type": "code",
   "execution_count": 2,
   "id": "d9a2e310",
   "metadata": {},
   "outputs": [],
   "source": [
    "class MyMultinomial(torch.distributions.Multinomial):\n",
    "    def entropy(self):\n",
    "        return torch.tensor(0.0)\n",
    "    \n",
    "\n",
    "def test_dist(dist):\n",
    "    sample = dist.sample()\n",
    "    print(f\"sample: {sample}\")\n",
    "    print(f\"log_prob: {dist.log_prob(sample)}\")\n",
    "    print(f\"entropy: {dist.entropy()}\")"
   ]
  },
  {
   "cell_type": "code",
   "execution_count": 3,
   "id": "0f20211f",
   "metadata": {},
   "outputs": [],
   "source": [
    "stock_num = 20\n",
    "topk = 10"
   ]
  },
  {
   "cell_type": "code",
   "execution_count": 4,
   "id": "387f6dbb",
   "metadata": {},
   "outputs": [
    {
     "name": "stdout",
     "output_type": "stream",
     "text": [
      "sample: tensor([[[ 0.4384,  2.0295,  0.8916,  0.2447,  2.5761,  0.0384, -1.3316,\n",
      "           0.4999, -1.2367,  1.1050,  0.1799, -2.1011,  0.7804, -1.5405,\n",
      "          -2.9782, -0.8935,  1.0627,  1.6370,  1.6496, -3.2920]]])\n",
      "log_prob: tensor([[-28.3119]])\n",
      "entropy: tensor([[28.3788]])\n"
     ]
    }
   ],
   "source": [
    "# continuous.MetaPPO/MetaDDPG/MetaTD3/MetaSAC\n",
    "# given a list of stocks, assign each stock a value for ranking (TopkDropoutStrategy) or weighting (WeightStrategy)\n",
    "# (each stock is independent)\n",
    "\n",
    "loc = torch.randn(stock_num).unsqueeze(0)\n",
    "scale = torch.ones_like(loc).unsqueeze(0)\n",
    "dist = torch.distributions.Independent(torch.distributions.Normal(loc=loc, scale=scale), 1)\n",
    "test_dist(dist)"
   ]
  },
  {
   "cell_type": "code",
   "execution_count": 5,
   "id": "8ae30111",
   "metadata": {},
   "outputs": [
    {
     "name": "stdout",
     "output_type": "stream",
     "text": [
      "sample: 5\n",
      "log_prob: -1.401569128036499\n",
      "entropy: 1.8952332735061646\n"
     ]
    }
   ],
   "source": [
    "# discrete.PPO\n",
    "# given the state and a set of params candidates (n_drop), choose one param for trading\n",
    "\n",
    "n_drop_list = list(range(topk))\n",
    "probs = torch.rand(len(n_drop_list))\n",
    "dist = torch.distributions.Categorical(probs)\n",
    "test_dist(dist)"
   ]
  },
  {
   "cell_type": "code",
   "execution_count": 6,
   "id": "cc7ad66a",
   "metadata": {},
   "outputs": [
    {
     "name": "stdout",
     "output_type": "stream",
     "text": [
      "sample: tensor([1., 0., 0., 0., 0., 0., 1., 0., 0., 1., 0., 1., 0., 1., 0., 0., 0., 0.,\n",
      "        0., 0.])\n",
      "log_prob: tensor([-0.6646, -0.4393, -0.0883, -0.3198, -0.2408, -0.2539, -1.0633, -1.0930,\n",
      "        -0.1103, -0.2586, -1.2609, -0.3197, -0.3170, -1.8816, -0.0276, -0.0739,\n",
      "        -0.0171, -0.0279, -1.2286, -0.9519])\n",
      "entropy: tensor([0.6927, 0.6508, 0.2896, 0.5869, 0.5192, 0.5322, 0.6445, 0.6378, 0.3348,\n",
      "        0.5367, 0.5961, 0.5868, 0.5849, 0.4267, 0.1250, 0.2569, 0.0858, 0.1261,\n",
      "        0.6045, 0.6669])\n"
     ]
    }
   ],
   "source": [
    "# discrete.MultiBinaryMetaPPO\n",
    "# given a list of stocks, for each stock decide whether buy or not (each stock is independent)\n",
    "\n",
    "probs = torch.rand(stock_num)\n",
    "dist = torch.distributions.Bernoulli(probs)\n",
    "test_dist(dist)"
   ]
  },
  {
   "cell_type": "code",
   "execution_count": 7,
   "id": "f3dc3af1",
   "metadata": {},
   "outputs": [
    {
     "name": "stdout",
     "output_type": "stream",
     "text": [
      "sample: 3\n",
      "log_prob: -1.5412710905075073\n",
      "entropy: 2.4693713188171387\n",
      "sample: 10\n",
      "log_prob: -2.819950819015503\n",
      "entropy: 2.4812870025634766\n",
      "sample: 0\n",
      "log_prob: -3.6166977882385254\n",
      "entropy: 2.504544258117676\n",
      "sample: 9\n",
      "log_prob: -2.8392186164855957\n",
      "entropy: 2.6052680015563965\n",
      "sample: 17\n",
      "log_prob: -2.0475592613220215\n",
      "entropy: 2.6295950412750244\n",
      "sample: 12\n",
      "log_prob: -3.989326000213623\n",
      "entropy: 2.5796475410461426\n",
      "sample: 10\n",
      "log_prob: -1.7504608631134033\n",
      "entropy: 2.536266326904297\n",
      "sample: 9\n",
      "log_prob: -2.124523639678955\n",
      "entropy: 2.5106568336486816\n",
      "sample: 18\n",
      "log_prob: -2.5838990211486816\n",
      "entropy: 2.4358034133911133\n",
      "sample: 15\n",
      "log_prob: -2.036226272583008\n",
      "entropy: 2.34993314743042\n"
     ]
    }
   ],
   "source": [
    "# discrete.StepByStepMetaPPO\n",
    "# given a list of stocks, repeat topk times to select stock one by one to buy WITHOUT replacement\n",
    "\n",
    "logits = torch.randn(stock_num)\n",
    "selected = []\n",
    "for i in range(topk):\n",
    "    logits[selected] = NEG_INF\n",
    "    dist = torch.distributions.Categorical(logits=logits)\n",
    "    test_dist(dist)\n",
    "    selected.append(int(logits.argmax(-1)))"
   ]
  },
  {
   "cell_type": "code",
   "execution_count": 8,
   "id": "a1a82bba",
   "metadata": {},
   "outputs": [
    {
     "name": "stdout",
     "output_type": "stream",
     "text": [
      "sample: tensor([[11,  9,  0, 18, 10, 16,  5, 14, 19,  1]])\n",
      "log_prob: tensor([-19.0819])\n",
      "entropy: tensor([2.4289])\n"
     ]
    }
   ],
   "source": [
    "# discrete.TopkMetaPPO\n",
    "# given a list of stocks, repeat topk times to select which stock to buy WITHOUT replacement\n",
    "\n",
    "logits = torch.randn(stock_num).unsqueeze(0)\n",
    "dist = MultivariateHypergeometric(logits=logits, topk=topk)\n",
    "test_dist(dist)"
   ]
  },
  {
   "cell_type": "code",
   "execution_count": 9,
   "id": "fa0d9f0a",
   "metadata": {},
   "outputs": [
    {
     "name": "stdout",
     "output_type": "stream",
     "text": [
      "sample: tensor([0., 1., 3., 1., 0., 0., 0., 1., 0., 0., 0., 0., 1., 1., 0., 0., 1., 0.,\n",
      "        1., 0.])\n",
      "log_prob: -12.822747230529785\n",
      "entropy: 0.0\n"
     ]
    }
   ],
   "source": [
    "# discrete.WeightMetaPPO\n",
    "# given a list of stocks, repeat topk times to select which stock to buy WITH replacement\n",
    "# or given a budget (e.g., total_count=topk), chose one stock to buy each time\n",
    "\n",
    "logits = torch.randn(stock_num)\n",
    "dist = MyMultinomial(logits=logits, total_count=topk)\n",
    "test_dist(dist)"
   ]
  },
  {
   "cell_type": "code",
   "execution_count": null,
   "id": "1e532462",
   "metadata": {},
   "outputs": [],
   "source": []
  }
 ],
 "metadata": {
  "kernelspec": {
   "display_name": "qlib",
   "language": "python",
   "name": "qlib"
  },
  "language_info": {
   "codemirror_mode": {
    "name": "ipython",
    "version": 3
   },
   "file_extension": ".py",
   "mimetype": "text/x-python",
   "name": "python",
   "nbconvert_exporter": "python",
   "pygments_lexer": "ipython3",
   "version": "3.8.10"
  }
 },
 "nbformat": 4,
 "nbformat_minor": 5
}
