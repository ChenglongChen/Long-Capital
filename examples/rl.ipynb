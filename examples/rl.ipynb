{
 "cells": [
  {
   "cell_type": "code",
   "execution_count": 1,
   "metadata": {},
   "outputs": [],
   "source": [
    "%reload_ext autoreload"
   ]
  },
  {
   "cell_type": "code",
   "execution_count": 2,
   "metadata": {},
   "outputs": [],
   "source": [
    "%autoreload 2"
   ]
  },
  {
   "cell_type": "code",
   "execution_count": 3,
   "metadata": {},
   "outputs": [],
   "source": [
    "import warnings"
   ]
  },
  {
   "cell_type": "code",
   "execution_count": 4,
   "metadata": {},
   "outputs": [],
   "source": [
    "warnings.filterwarnings('ignore')"
   ]
  },
  {
   "cell_type": "code",
   "execution_count": 5,
   "metadata": {},
   "outputs": [],
   "source": [
    "import datetime\n",
    "import glob\n",
    "import mlflow\n",
    "import os\n",
    "\n",
    "import numpy as np\n",
    "import pandas as pd\n",
    "\n",
    "from pathlib import Path"
   ]
  },
  {
   "cell_type": "code",
   "execution_count": 6,
   "metadata": {},
   "outputs": [],
   "source": [
    "import qlib\n",
    "\n",
    "from qlib.data.dataset import DataHandlerLP\n",
    "from qlib.constant import REG_CN, REG_US\n",
    "from qlib.contrib.report import analysis_model, analysis_position\n",
    "from qlib.utils import init_instance_by_config\n",
    "from qlib.workflow import R\n",
    "from qlib.workflow.record_temp import PortAnaRecord, SigAnaRecord"
   ]
  },
  {
   "cell_type": "code",
   "execution_count": 7,
   "metadata": {},
   "outputs": [
    {
     "name": "stderr",
     "output_type": "stream",
     "text": [
      "/Library/Frameworks/Python.framework/Versions/3.8/lib/python3.8/site-packages/ipykernel/ipkernel.py:283: DeprecationWarning:\n",
      "\n",
      "`should_run_async` will not call `transform_cell` automatically in the future. Please pass the result to `transformed_cell` argument and any exception that happen during thetransform in `preprocessing_exc_tuple` in IPython 7.17 and above.\n",
      "\n"
     ]
    }
   ],
   "source": [
    "from longcapital.data.dataset.processor import ChangeInstrument, DropInstrument, Fillna\n",
    "from longcapital.utils.io import get_params_from_file, update_params_to_file, update_report_df\n",
    "from longcapital.utils.time import get_diff_date\n",
    "from longcapital.workflow.record_temp import SignalRecord"
   ]
  },
  {
   "cell_type": "code",
   "execution_count": 8,
   "metadata": {},
   "outputs": [],
   "source": [
    "EXP_NAME = \"long-capital\""
   ]
  },
  {
   "cell_type": "code",
   "execution_count": 9,
   "metadata": {},
   "outputs": [],
   "source": [
    "# records\n",
    "STRATEGY_PARAMS_FILE = \"../data/params/strategy.json\"\n",
    "MODEL_PARAMS_FILE = \"../data/params/model.json\"\n",
    "PERFORMANCE_FILE = \"../data/params/performance.json\"\n",
    "REPORT_DF_FOLDER = \"../data/report_df\""
   ]
  },
  {
   "cell_type": "code",
   "execution_count": 10,
   "metadata": {},
   "outputs": [],
   "source": [
    "# model\n",
    "MODEL_VALID_LOSS_KEY_DICT = {\n",
    "    \"mse\": \"l2\",\n",
    "    \"mse_log\": \"l2\",\n",
    "    \"binary\": \"binary_logloss\",\n",
    "    \"lambdarank\": \"ndcg@5\",\n",
    "}\n",
    "MODEL_LOSS_NAME_DICT = {\n",
    "    \"mse\": \"mse\",\n",
    "    \"mse_log\": \"mse\",\n",
    "    \"binary\": \"binary\",\n",
    "    \"lambdarank\": \"lambdarank\"\n",
    "}\n",
    "\n",
    "# strategy\n",
    "BECHMARK_PARAMS = {\n",
    "    \"csi300\": \"SH000300\",\n",
    "    \"csi500\": \"SH000905\",\n",
    "    \"csi800\": \"SH000906\",\n",
    "    # https://github.com/microsoft/qlib/issues/720\n",
    "    \"SP500\": \"^gspc\",\n",
    "    \"NASDAQ100\": \"^ndx\",\n",
    "}"
   ]
  },
  {
   "cell_type": "code",
   "execution_count": 11,
   "metadata": {},
   "outputs": [],
   "source": [
    "def get_last_date_from_calendar(region=REG_CN):\n",
    "    file = f\"~/.qlib/qlib_data/{region}_data/calendars/day.txt\"\n",
    "    date = os.popen(f\"tail -n 1 {file}\").read().split(\"\\n\")[0]\n",
    "    return date\n",
    "\n",
    "\n",
    "def get_date_config(region=REG_CN, pred_date=None):\n",
    "    if pred_date is None:\n",
    "        pred_date = get_last_date_from_calendar(region)\n",
    "    test_end_date = pred_date\n",
    "    backtest_end_date = get_diff_date(pred_date, -1)\n",
    "    DATE_CONFIG = {\n",
    "        REG_CN: {\n",
    "            \"train\": {\n",
    "                \"start\": \"2006-01-01\",\n",
    "                \"end\": \"2016-12-31\"\n",
    "            },\n",
    "            \"valid\": {\n",
    "                \"start\": \"2017-01-01\",\n",
    "                \"end\": \"2018-12-31\"\n",
    "            },\n",
    "            \"test\": {\n",
    "                \"start\": \"2019-01-01\",\n",
    "                \"end\": test_end_date\n",
    "            },\n",
    "            \"backtest\": {\n",
    "                \"start\": \"2019-01-01\",\n",
    "                \"end\": backtest_end_date\n",
    "            }\n",
    "        },\n",
    "        REG_US: {\n",
    "            \"train\": {\n",
    "                \"start\": \"2006-01-01\",\n",
    "                \"end\": \"2016-12-31\"\n",
    "            },\n",
    "            \"valid\": {\n",
    "                \"start\": \"2017-01-01\",\n",
    "                \"end\": \"2018-12-31\"\n",
    "            },\n",
    "            \"test\": {\n",
    "                \"start\": \"2019-01-01\",\n",
    "                \"end\": test_end_date\n",
    "            },\n",
    "            \"backtest\": {\n",
    "                \"start\": \"2019-01-01\",\n",
    "                \"end\": backtest_end_date\n",
    "            }\n",
    "        }\n",
    "    }\n",
    "    return DATE_CONFIG[region]\n",
    "\n",
    "\n",
    "def get_backtest_config(region=REG_CN, instruments=\"csi300\", deal_price=\"open\"):\n",
    "    REGION_CONFIG = {\n",
    "        REG_CN: {\n",
    "            \"benchmark\": BECHMARK_PARAMS[instruments],\n",
    "            \"exchange_kwargs\": {\n",
    "                \"codes\": instruments,\n",
    "                \"freq\": \"day\",\n",
    "                \"trade_unit\": 100,\n",
    "                \"limit_threshold\": 0.095,\n",
    "                \"deal_price\": deal_price,\n",
    "                \"open_cost\": 0.0005,\n",
    "                \"close_cost\": 0.0015,\n",
    "                \"min_cost\": 5,\n",
    "            }\n",
    "        },\n",
    "        REG_US: {\n",
    "            \"benchmark\": BECHMARK_PARAMS[instruments],\n",
    "            \"exchange_kwargs\": {\n",
    "                \"codes\": instruments,\n",
    "                \"freq\": \"day\",\n",
    "                \"trade_unit\": 1,\n",
    "                \"limit_threshold\": None,\n",
    "                \"deal_price\": deal_price,\n",
    "                # estimated from moomoo sg\n",
    "                \"open_cost\": 0.003,\n",
    "                \"close_cost\": 0.005,\n",
    "                \"min_cost\": 0\n",
    "            }\n",
    "        }\n",
    "    }\n",
    "    return REGION_CONFIG[region]"
   ]
  },
  {
   "cell_type": "code",
   "execution_count": 12,
   "metadata": {},
   "outputs": [],
   "source": [
    "def get_all_config(\n",
    "    region=REG_CN,\n",
    "    instruments=\"csi300\",\n",
    "    benchmark_feature=None,\n",
    "    deal_price=\"open\",\n",
    "    days_ahead=4, \n",
    "    loss_type=\"mse\",\n",
    "    label_norm=\"CSZScoreNorm\",\n",
    "    model_type=\"default\", \n",
    "    strategy_type=\"best\",\n",
    "    hold_thresh=2, \n",
    "    date_config=None\n",
    "):\n",
    "    config = {\n",
    "        # market\n",
    "        # [REG_CN, REG_US]\n",
    "        \"region\": region,\n",
    "        # [\"csi300\", \"csi500\", \"csi800\", \"csiall\", \"all\"]\n",
    "        \"instruments\": instruments,\n",
    "\n",
    "        # feature\n",
    "        # [None, \"raw\", \"diff\", \"both\"]\n",
    "        \"benchmark_feature\": benchmark_feature,\n",
    "\n",
    "        # label\n",
    "        # [\"open\", \"close\"]\n",
    "        \"deal_price\": deal_price,\n",
    "        # [1,2,3,...]\n",
    "        \"days_ahead\": days_ahead,\n",
    "        # [\"mse\", \"mse_log\", \"binary\", \"lambdarank\"]\n",
    "        \"loss_type\": loss_type,\n",
    "        # [\"CSZScoreNorm\", \"CSRankNorm\"]\n",
    "        \"label_norm\": label_norm,\n",
    "        \n",
    "        # model\n",
    "        # [\"default\", \"best\"]\n",
    "        \"model_type\": model_type,\n",
    "\n",
    "        # strategy\n",
    "        \"strategy_type\": \"best\",\n",
    "        # [1,2,3,...]\n",
    "        \"hold_thresh\": hold_thresh\n",
    "    }\n",
    "    dataset_key = \"-\".join([f\"{k}={v}\" for k,v in config.items() if k not in [\"model_type\",\"strategy_type\",\"hold_thresh\"]])\n",
    "    model_key = \"-\".join([f\"{k}={v}\" for k,v in config.items() if k not in [\"strategy_type\",\"hold_thresh\"]])\n",
    "    config_key = \"-\".join([f\"{k}={v}\" for k,v in config.items()])\n",
    "    if date_config is None:\n",
    "        date_config = get_date_config(region=config[\"region\"])\n",
    "    config[\"date\"] = date_config\n",
    "    config[\"backtest\"] = get_backtest_config(\n",
    "        region=config[\"region\"], \n",
    "        instruments=config[\"instruments\"], \n",
    "        deal_price=config[\"deal_price\"]\n",
    "    )\n",
    "    config.update({\n",
    "        \"dataset_key\": dataset_key,\n",
    "        \"model_key\": model_key,\n",
    "        \"config_key\": config_key,\n",
    "    })\n",
    "    return config"
   ]
  },
  {
   "cell_type": "code",
   "execution_count": 13,
   "metadata": {},
   "outputs": [],
   "source": [
    "def append_benchmark_to_pool(region, instrument, benchmark):\n",
    "    folder = f\"/Users/chenglong.chen/.qlib/qlib_data/{region}_data/instruments\"\n",
    "    # already appended\n",
    "    with open(f\"{folder}/{instrument}.txt\", \"r\") as f:\n",
    "        for line in f.readlines():\n",
    "            if benchmark in line:\n",
    "                return\n",
    "    # append\n",
    "    with open(f\"{folder}/all.txt\", \"r\") as f:\n",
    "        for line in f.readlines():\n",
    "            if benchmark in line:\n",
    "                break\n",
    "    with open(f\"{folder}/{instrument}.txt\", \"a\") as f:\n",
    "        f.write(line)"
   ]
  },
  {
   "cell_type": "code",
   "execution_count": 14,
   "metadata": {},
   "outputs": [],
   "source": [
    "def load_dataset(config, label=None):\n",
    "    # processors\n",
    "    fields = []\n",
    "    names = []\n",
    "    if config[\"benchmark_feature\"] in [\"raw\",\"diff\",\"both\"]:\n",
    "        infer_processors = [\n",
    "            {\"class\": \"Fillna\"},\n",
    "#             Fillna(fields_group=\"feature\"),\n",
    "            ChangeInstrument(instrument=BECHMARK_PARAMS[config[\"instruments\"]], append_type=config[\"benchmark_feature\"], fields_group=\"feature\"),\n",
    "            DropInstrument(instruments=[BECHMARK_PARAMS[config[\"instruments\"]]])\n",
    "        ]\n",
    "        append_benchmark_to_pool(config[\"region\"], config[\"instruments\"], BECHMARK_PARAMS[config[\"instruments\"]])\n",
    "    else:\n",
    "        infer_processors = [\n",
    "            {\"class\": \"Fillna\"},\n",
    "#             Fillna(fields_group=\"feature\"),\n",
    "            DropInstrument(instruments=[BECHMARK_PARAMS[config[\"instruments\"]]])\n",
    "        ]\n",
    "    learn_processors = [\n",
    "        {\"class\": \"DropnaLabel\"}\n",
    "    ]\n",
    "    if config[\"loss_type\"] not in [\"lambdarank\"]:\n",
    "        learn_processors += [\n",
    "            {\"class\": config[\"label_norm\"], \"kwargs\": {\"fields_group\": \"label\"}},\n",
    "        ]\n",
    "    \n",
    "    # handler\n",
    "    data_start_time = min(\n",
    "        config[\"date\"][\"train\"][\"start\"], \n",
    "        config[\"date\"][\"valid\"][\"start\"], \n",
    "        config[\"date\"][\"test\"][\"start\"]\n",
    "    )\n",
    "    data_end_time = max(\n",
    "        config[\"date\"][\"train\"][\"end\"], \n",
    "        config[\"date\"][\"valid\"][\"end\"], \n",
    "        config[\"date\"][\"test\"][\"end\"]\n",
    "    )\n",
    "    \n",
    "    handler_kwargs = {\n",
    "        \"start_time\": data_start_time,\n",
    "        \"end_time\": data_end_time,\n",
    "        \"fit_start_time\": config[\"date\"][\"train\"][\"start\"],\n",
    "        \"fit_end_time\": config[\"date\"][\"train\"][\"end\"],\n",
    "        \"instruments\": config[\"instruments\"],\n",
    "        \"feature\": (fields, names),\n",
    "        \"learn_processors\": learn_processors,\n",
    "        \"infer_processors\": infer_processors,\n",
    "        \"loss_type\": config[\"loss_type\"],\n",
    "        \"next_label_price_expr\": f\"$open\",\n",
    "        \"curr_label_price_expr\": f\"$open\",\n",
    "        \"days_ahead\": config[\"days_ahead\"],\n",
    "        \"include_volume\": False,\n",
    "    }\n",
    "    if label:\n",
    "        handler_kwargs[\"label\"] = label\n",
    "    handler_conf = {\n",
    "        \"class\": \"Alpha158\",\n",
    "        \"module_path\": \"longcapital.contrib.data.handler\",\n",
    "        \"kwargs\": handler_kwargs,\n",
    "    }\n",
    "    hd = init_instance_by_config(handler_conf)\n",
    "    \n",
    "    # dataset\n",
    "    dataset_conf = {\n",
    "        \"class\": \"DatasetH\",\n",
    "        \"module_path\": \"qlib.data.dataset\",\n",
    "        \"kwargs\": {\n",
    "            \"handler\": hd,\n",
    "            \"segments\": {\n",
    "                \"train\": (config[\"date\"][\"train\"][\"start\"], config[\"date\"][\"train\"][\"end\"]),\n",
    "                \"valid\": (config[\"date\"][\"valid\"][\"start\"], config[\"date\"][\"valid\"][\"end\"]),\n",
    "                \"test\": (config[\"date\"][\"test\"][\"start\"], config[\"date\"][\"test\"][\"end\"]),\n",
    "            },\n",
    "        },\n",
    "    }\n",
    "    dataset = init_instance_by_config(dataset_conf)\n",
    "    \n",
    "    # nan check\n",
    "    df_train = dataset.prepare(\"train\", col_set=[\"feature\", \"label\"], data_key=DataHandlerLP.DK_L)\n",
    "    df_test = dataset.prepare(\"test\", col_set=[\"feature\"], data_key=DataHandlerLP.DK_I)\n",
    "    m = np.isfinite(df_train[\"feature\"].values).mean(axis=0) != 1\n",
    "    if m.sum():\n",
    "        print(df_train[\"feature\"].columns[m])\n",
    "    m = np.isfinite(df_test[\"feature\"].values).mean(axis=0) != 1\n",
    "    if m.sum():\n",
    "        print(df_test[\"feature\"].columns[m])\n",
    "    \n",
    "    return dataset"
   ]
  },
  {
   "cell_type": "code",
   "execution_count": 15,
   "metadata": {},
   "outputs": [],
   "source": [
    "def train_model(dataset, config):\n",
    "    mlflow.end_run()\n",
    "    with R.start(experiment_name=EXP_NAME):\n",
    "        if get_params_from_file(MODEL_PARAMS_FILE, config[\"config_key\"]) is None:\n",
    "            model_params = get_params_from_file(MODEL_PARAMS_FILE, \"default\")\n",
    "            update_params_to_file(MODEL_PARAMS_FILE, config[\"config_key\"], model_params)\n",
    "        else:\n",
    "            model_params = get_params_from_file(MODEL_PARAMS_FILE, config[\"config_key\"])\n",
    "        model = init_instance_by_config({\n",
    "            \"class\": \"LGBModel\",\n",
    "            \"module_path\": \"longcapital.contrib.model.gbdt\",\n",
    "            \"kwargs\": model_params\n",
    "        })\n",
    "        model.fit(dataset)\n",
    "        \n",
    "        R.save_objects(trained_model=model)\n",
    "\n",
    "        rec = R.get_recorder()\n",
    "        rid = rec.id # save the record id\n",
    "\n",
    "        # Inference and saving signal\n",
    "        sr = SignalRecord(model, dataset, rec, neutralize=False, riskiest_features_num=50)\n",
    "        sr.generate()\n",
    "        \n",
    "    return model, rid"
   ]
  },
  {
   "cell_type": "code",
   "execution_count": 16,
   "metadata": {},
   "outputs": [],
   "source": [
    "def prepare_signal(days_aheads, signal_names, hold_thresh):\n",
    "    df_valid = None\n",
    "    df_test = None\n",
    "    for days_ahead, signal_name in zip(days_aheads, signal_names):\n",
    "        config = get_all_config(days_ahead=days_ahead, hold_thresh=hold_thresh)\n",
    "        qlib.init(provider_uri=f\"~/.qlib/qlib_data/{config['region']}_data\", region=config[\"region\"])\n",
    "        dataset = load_dataset(config)\n",
    "        model, rid = train_model(dataset, config)\n",
    "        if df_valid is None:\n",
    "            df_valid = dataset.prepare(\"valid\", col_set=[\"feature\"], data_key=DataHandlerLP.DK_L)\n",
    "        if df_test is None:\n",
    "            df_test = dataset.prepare(\"test\", col_set=[\"feature\"], data_key=DataHandlerLP.DK_I)\n",
    "        df_valid.insert(0, (\"feature\",signal_name), model.predict(dataset, \"valid\"))\n",
    "        df_test.insert(0, (\"feature\",signal_name), model.predict(dataset, \"test\"))\n",
    "    signal = pd.concat([df_valid, df_test], axis=0)\n",
    "    return signal, rid"
   ]
  },
  {
   "cell_type": "code",
   "execution_count": 17,
   "metadata": {},
   "outputs": [],
   "source": [
    "# trading config\n",
    "topk = 10\n",
    "n_drop = 2\n",
    "hold_thresh = 3\n",
    "account = 100000000"
   ]
  },
  {
   "cell_type": "code",
   "execution_count": 18,
   "metadata": {},
   "outputs": [],
   "source": [
    "# the following signal will be inserted in the 0 index one by one\n",
    "# so finally, the first signal will be days_aheads[-1] and signal_names[-1] at last position\n",
    "# which will be used in TopkDropoutStrategy as default signal for ranking\n",
    "# (see: https://github.com/microsoft/qlib/blob/main/qlib/contrib/strategy/signal_strategy.py#L147)\n",
    "# and also will be used in ranking the features to get the obs/state space for RL training.\n",
    "# (see: TradeStrategy.get_feature)\n",
    "days_aheads = [2, 3, 4, 5, 6, 7, 8][-1:]\n",
    "signal_names = [\"signal_2\", \"signal_3\", \"signal_4\", \"signal_5\", \"signal_6\", \"signal_7\", \"signal\"][-1:]\n",
    "signal_key = \"signal\"\n",
    "\n",
    "# model config\n",
    "# alpha158 + signals + position flag + unhold flag\n",
    "dim = 158 + len(signal_names) + 1 + 1\n",
    "# number of stock candidates for ranking\n",
    "stock_num = 20"
   ]
  },
  {
   "cell_type": "code",
   "execution_count": 19,
   "metadata": {},
   "outputs": [
    {
     "name": "stderr",
     "output_type": "stream",
     "text": [
      "[67924:MainThread](2023-03-14 21:47:08,461) INFO - qlib.Initialization - [config.py:416] - default_conf: client.\n",
      "[67924:MainThread](2023-03-14 21:47:08,469) INFO - qlib.Initialization - [__init__.py:74] - qlib successfully initialized based on client settings.\n",
      "[67924:MainThread](2023-03-14 21:47:08,470) INFO - qlib.Initialization - [__init__.py:76] - data_path={'__DEFAULT_FREQ': PosixPath('/Users/chenglong.chen/.qlib/qlib_data/cn_data')}\n",
      "[67924:MainThread](2023-03-14 21:48:17,385) INFO - qlib.timer - [log.py:128] - Time cost: 68.907s | Loading data Done\n",
      "[67924:MainThread](2023-03-14 21:48:23,786) INFO - qlib.timer - [log.py:128] - Time cost: 4.756s | Fillna Done\n",
      "[67924:MainThread](2023-03-14 21:48:24,461) INFO - qlib.timer - [log.py:128] - Time cost: 0.674s | DropInstrument Done\n",
      "[67924:MainThread](2023-03-14 21:48:25,369) INFO - qlib.timer - [log.py:128] - Time cost: 0.412s | DropnaLabel Done\n",
      "[67924:MainThread](2023-03-14 21:48:33,163) INFO - qlib.timer - [log.py:128] - Time cost: 7.792s | CSZScoreNorm Done\n",
      "[67924:MainThread](2023-03-14 21:48:33,211) INFO - qlib.timer - [log.py:128] - Time cost: 15.823s | fit & process data Done\n",
      "[67924:MainThread](2023-03-14 21:48:33,212) INFO - qlib.timer - [log.py:128] - Time cost: 84.736s | Init data Done\n",
      "[67924:MainThread](2023-03-14 21:48:36,342) INFO - qlib.workflow - [exp.py:258] - Experiment 3 starts running ...\n",
      "[67924:MainThread](2023-03-14 21:48:36,485) INFO - qlib.workflow - [recorder.py:341] - Recorder c4287770bdfc4ba4897528e5e7f34470 starts running under Experiment 3 ...\n",
      "/Users/chenglong.chen/Library/Python/3.8/lib/python/site-packages/sklearn/utils/multiclass.py:14: DeprecationWarning:\n",
      "\n",
      "Please use `spmatrix` from the `scipy.sparse` namespace, the `scipy.sparse.base` namespace is deprecated.\n",
      "\n"
     ]
    },
    {
     "name": "stdout",
     "output_type": "stream",
     "text": [
      "ModuleNotFoundError. CatBoostModel are skipped. (optional: maybe installing CatBoostModel can fix it.)\n"
     ]
    },
    {
     "name": "stderr",
     "output_type": "stream",
     "text": [
      "/Users/chenglong.chen/Library/Python/3.8/lib/python/site-packages/sklearn/utils/optimize.py:18: DeprecationWarning:\n",
      "\n",
      "Please use `line_search_wolfe2` from the `scipy.optimize` namespace, the `scipy.optimize.linesearch` namespace is deprecated.\n",
      "\n",
      "/Users/chenglong.chen/Library/Python/3.8/lib/python/site-packages/sklearn/utils/optimize.py:18: DeprecationWarning:\n",
      "\n",
      "Please use `line_search_wolfe1` from the `scipy.optimize` namespace, the `scipy.optimize.linesearch` namespace is deprecated.\n",
      "\n"
     ]
    },
    {
     "name": "stdout",
     "output_type": "stream",
     "text": [
      "Training until validation scores don't improve for 50 rounds\n",
      "[20]\ttrain's l2: 0.961997\tvalid's l2: 0.986656\n",
      "[40]\ttrain's l2: 0.941246\tvalid's l2: 0.985369\n",
      "[60]\ttrain's l2: 0.924647\tvalid's l2: 0.986241\n",
      "[80]\ttrain's l2: 0.909259\tvalid's l2: 0.98719\n",
      "Early stopping, best iteration is:\n",
      "[36]\ttrain's l2: 0.945509\tvalid's l2: 0.985177\n"
     ]
    },
    {
     "name": "stderr",
     "output_type": "stream",
     "text": [
      "[67924:MainThread](2023-03-14 21:49:04,018) INFO - qlib.workflow - [record_temp.py:196] - Signal record 'pred.pkl' has been saved as the artifact of the Experiment 3\n"
     ]
    },
    {
     "name": "stdout",
     "output_type": "stream",
     "text": [
      "'The following are prediction results of the LGBModel model.'\n",
      "                          score\n",
      "datetime   instrument          \n",
      "2019-01-02 SH600000   -0.077803\n",
      "           SH600004   -0.108537\n",
      "           SH600009    0.248091\n",
      "           SH600010   -0.010179\n",
      "           SH600011    0.030957\n"
     ]
    },
    {
     "name": "stderr",
     "output_type": "stream",
     "text": [
      "[67924:MainThread](2023-03-14 21:49:04,970) INFO - qlib.timer - [log.py:128] - Time cost: 0.000s | waiting `async_log` Done\n"
     ]
    }
   ],
   "source": [
    "config = get_all_config(days_ahead=days_aheads[-1], hold_thresh=hold_thresh)\n",
    "signal, rid = prepare_signal(days_aheads, signal_names, hold_thresh)"
   ]
  },
  {
   "cell_type": "markdown",
   "metadata": {},
   "source": [
    "# RL"
   ]
  },
  {
   "cell_type": "code",
   "execution_count": 20,
   "metadata": {},
   "outputs": [
    {
     "name": "stderr",
     "output_type": "stream",
     "text": [
      "/Library/Frameworks/Python.framework/Versions/3.8/lib/python3.8/site-packages/ipykernel/ipkernel.py:283: DeprecationWarning:\n",
      "\n",
      "`should_run_async` will not call `transform_cell` automatically in the future. Please pass the result to `transformed_cell` argument and any exception that happen during thetransform in `preprocessing_exc_tuple` in IPython 7.17 and above.\n",
      "\n",
      "/Library/Frameworks/Python.framework/Versions/3.8/lib/python3.8/site-packages/h5py/__init__.py:46: DeprecationWarning:\n",
      "\n",
      "`np.typeDict` is a deprecated alias for `np.sctypeDict`.\n",
      "\n"
     ]
    }
   ],
   "source": [
    "from qlib.contrib.evaluate import risk_analysis\n",
    "from qlib.rl.trainer import Checkpoint, EarlyStopping, MetricsWriter, train, backtest\n",
    "from qlib.rl.utils.log import CsvWriter"
   ]
  },
  {
   "cell_type": "code",
   "execution_count": 21,
   "metadata": {},
   "outputs": [
    {
     "name": "stderr",
     "output_type": "stream",
     "text": [
      "/Library/Frameworks/Python.framework/Versions/3.8/lib/python3.8/site-packages/ipykernel/ipkernel.py:283: DeprecationWarning:\n",
      "\n",
      "`should_run_async` will not call `transform_cell` automatically in the future. Please pass the result to `transformed_cell` argument and any exception that happen during thetransform in `preprocessing_exc_tuple` in IPython 7.17 and above.\n",
      "\n"
     ]
    }
   ],
   "source": [
    "from tianshou.data import Batch"
   ]
  },
  {
   "cell_type": "code",
   "execution_count": 22,
   "metadata": {},
   "outputs": [
    {
     "name": "stderr",
     "output_type": "stream",
     "text": [
      "/Library/Frameworks/Python.framework/Versions/3.8/lib/python3.8/site-packages/cvxpy-1.0.21-py3.8-macosx-10.9-x86_64.egg/cvxpy/interface/scipy_wrapper.py:17: DeprecationWarning:\n",
      "\n",
      "Please use `spmatrix` from the `scipy.sparse` namespace, the `scipy.sparse.base` namespace is deprecated.\n",
      "\n"
     ]
    }
   ],
   "source": [
    "from longcapital.rl.order_execution.reward import (\n",
    "    ExcessReturnReward, \n",
    "    EpisodeInformationRatioReward, \n",
    "    ExecutionInformationRatioReward, \n",
    "    ExcessExecutionInformationRatioReward\n",
    ")\n",
    "from longcapital.rl.order_execution.state import TradeStrategyInitiateState\n",
    "from longcapital.rl.order_execution.strategy import (\n",
    "    TopkDropoutStrategy, \n",
    "    TopkDropoutSignalStrategy, \n",
    "    TopkStrategy, \n",
    "    WeightStrategy\n",
    ")\n",
    "from longcapital.rl.order_execution.simulator import TradeStrategySimulator\n",
    "from longcapital.rl.order_execution.policy import continuous\n",
    "from longcapital.rl.order_execution.policy import discrete"
   ]
  },
  {
   "cell_type": "markdown",
   "metadata": {},
   "source": [
    "## Check Simulator"
   ]
  },
  {
   "cell_type": "code",
   "execution_count": 23,
   "metadata": {},
   "outputs": [],
   "source": [
    "def check_simulator(trade_strategy, simulator):\n",
    "    reward = EpisodeInformationRatioReward(scale=1.)\n",
    "    state = simulator.get_state()\n",
    "    obs = [{\"obs\": trade_strategy.state_interpreter.interpret(state), \"info\": {}}]\n",
    "\n",
    "    policy_out = trade_strategy.policy(Batch(obs))\n",
    "\n",
    "    act = trade_strategy.action_interpreter.interpret(state, policy_out.act)\n",
    "    print(f\"Action = {act}\")\n",
    "\n",
    "    simulator.step(act)\n",
    "    rew = float(reward.reward(simulator.get_state()))\n",
    "    print(f\"Reward = {rew:.6f}\")"
   ]
  },
  {
   "cell_type": "code",
   "execution_count": 24,
   "metadata": {},
   "outputs": [],
   "source": [
    "initial_states_train = [\n",
    "    TradeStrategyInitiateState(\n",
    "        start_time=get_diff_date(config[\"date\"][\"valid\"][\"start\"], 7), # to avoid start_time not tradable\n",
    "        end_time=config[\"date\"][\"valid\"][\"end\"],\n",
    "        sample_date=False\n",
    "    )\n",
    "]\n",
    "initial_states_valid = [\n",
    "    TradeStrategyInitiateState(\n",
    "        start_time=config[\"date\"][\"backtest\"][\"start\"],\n",
    "        end_time=config[\"date\"][\"backtest\"][\"end\"],\n",
    "        sample_date=False\n",
    "    )\n",
    "]"
   ]
  },
  {
   "cell_type": "code",
   "execution_count": 25,
   "metadata": {},
   "outputs": [],
   "source": [
    "topk_dropout_strategy = TopkDropoutStrategy(\n",
    "    signal=signal,\n",
    "    dim=dim,\n",
    "    stock_num=stock_num,\n",
    "    topk=topk,\n",
    "    n_drop=n_drop,\n",
    "    only_tradable=True,\n",
    "    hold_thresh=hold_thresh,\n",
    "    signal_key=\"signal\",\n",
    "    policy_cls=discrete.PPO\n",
    ")"
   ]
  },
  {
   "cell_type": "code",
   "execution_count": 26,
   "metadata": {},
   "outputs": [
    {
     "name": "stderr",
     "output_type": "stream",
     "text": [
      "/Library/Frameworks/Python.framework/Versions/3.8/lib/python3.8/site-packages/ipykernel/ipkernel.py:283: DeprecationWarning:\n",
      "\n",
      "`should_run_async` will not call `transform_cell` automatically in the future. Please pass the result to `transformed_cell` argument and any exception that happen during thetransform in `preprocessing_exc_tuple` in IPython 7.17 and above.\n",
      "\n",
      "[67924:MainThread](2023-03-14 21:49:10,616) INFO - qlib.backtest caller - [__init__.py:93] - Create new exchange\n",
      "[67924:MainThread](2023-03-14 21:49:21,579) WARNING - qlib.online operator - [exchange.py:219] - $open field data contains nan.\n",
      "[67924:MainThread](2023-03-14 21:49:21,582) WARNING - qlib.online operator - [exchange.py:219] - $open field data contains nan.\n",
      "[67924:MainThread](2023-03-14 21:49:22,885) WARNING - qlib.data - [data.py:666] - load calendar error: freq=day, future=True; return current calendar!\n",
      "[67924:MainThread](2023-03-14 21:49:22,886) WARNING - qlib.data - [data.py:669] - You can get future calendar by referring to the following document: https://github.com/microsoft/qlib/blob/main/scripts/data_collector/contrib/README.md\n"
     ]
    },
    {
     "name": "stdout",
     "output_type": "stream",
     "text": [
      "start_time: 2017-01-08, end_time: 2018-12-31\n"
     ]
    }
   ],
   "source": [
    "topk_dropout_simulator = TradeStrategySimulator(\n",
    "    trade_strategy=topk_dropout_strategy, \n",
    "    initial_state=initial_states_train[0], \n",
    "    account=account,\n",
    "    benchmark=config[\"backtest\"][\"benchmark\"],\n",
    "    exchange_kwargs=config[\"backtest\"][\"exchange_kwargs\"]\n",
    ")"
   ]
  },
  {
   "cell_type": "code",
   "execution_count": 27,
   "metadata": {},
   "outputs": [
    {
     "name": "stdout",
     "output_type": "stream",
     "text": [
      "Action = TopkDropoutStrategyAction(n_drop=0)\n",
      "Reward = 0.000000\n"
     ]
    },
    {
     "name": "stderr",
     "output_type": "stream",
     "text": [
      "/Library/Frameworks/Python.framework/Versions/3.8/lib/python3.8/site-packages/ipykernel/ipkernel.py:283: DeprecationWarning:\n",
      "\n",
      "`should_run_async` will not call `transform_cell` automatically in the future. Please pass the result to `transformed_cell` argument and any exception that happen during thetransform in `preprocessing_exc_tuple` in IPython 7.17 and above.\n",
      "\n"
     ]
    }
   ],
   "source": [
    "check_simulator(topk_dropout_strategy, topk_dropout_simulator)"
   ]
  },
  {
   "cell_type": "code",
   "execution_count": 28,
   "metadata": {},
   "outputs": [
    {
     "name": "stderr",
     "output_type": "stream",
     "text": [
      "/Library/Frameworks/Python.framework/Versions/3.8/lib/python3.8/site-packages/ipykernel/ipkernel.py:283: DeprecationWarning:\n",
      "\n",
      "`should_run_async` will not call `transform_cell` automatically in the future. Please pass the result to `transformed_cell` argument and any exception that happen during thetransform in `preprocessing_exc_tuple` in IPython 7.17 and above.\n",
      "\n"
     ]
    }
   ],
   "source": [
    "topk_dropout_signal_strategy = TopkDropoutSignalStrategy(\n",
    "    signal=signal,\n",
    "    dim=dim,\n",
    "    stock_num=stock_num,\n",
    "    topk=topk,\n",
    "    n_drop=n_drop,\n",
    "    only_tradable=True,\n",
    "    hold_thresh=hold_thresh,\n",
    "    signal_key=\"signal\",\n",
    "    policy_cls=continuous.MetaPPO\n",
    ")"
   ]
  },
  {
   "cell_type": "code",
   "execution_count": 29,
   "metadata": {},
   "outputs": [
    {
     "name": "stderr",
     "output_type": "stream",
     "text": [
      "[67924:MainThread](2023-03-14 21:49:23,136) INFO - qlib.backtest caller - [__init__.py:93] - Create new exchange\n",
      "[67924:MainThread](2023-03-14 21:49:32,768) WARNING - qlib.online operator - [exchange.py:219] - $open field data contains nan.\n",
      "[67924:MainThread](2023-03-14 21:49:32,771) WARNING - qlib.online operator - [exchange.py:219] - $open field data contains nan.\n"
     ]
    },
    {
     "name": "stdout",
     "output_type": "stream",
     "text": [
      "start_time: 2017-01-08, end_time: 2018-12-31\n"
     ]
    }
   ],
   "source": [
    "topk_dropout_signal_simulator = TradeStrategySimulator(\n",
    "    trade_strategy=topk_dropout_signal_strategy, \n",
    "    initial_state=initial_states_train[0], \n",
    "    account=account,\n",
    "    benchmark=config[\"backtest\"][\"benchmark\"],\n",
    "    exchange_kwargs=config[\"backtest\"][\"exchange_kwargs\"]\n",
    ")"
   ]
  },
  {
   "cell_type": "code",
   "execution_count": 30,
   "metadata": {},
   "outputs": [
    {
     "name": "stdout",
     "output_type": "stream",
     "text": [
      "Action = TopkDropoutSignalStrategyAction(signal=instrument\n",
      "SH600519   -1.822446\n",
      "SH600703    0.139540\n",
      "SZ000568    1.389984\n",
      "SH600660    1.147429\n",
      "SZ000858    0.956798\n",
      "SZ002304   -1.639224\n",
      "SH600196    0.550667\n",
      "SZ300070    0.182697\n",
      "SZ000768    0.021002\n",
      "SH600023   -0.250455\n",
      "SH600297   -1.442085\n",
      "SH601888    1.721602\n",
      "SZ002475   -0.771709\n",
      "SH600383   -0.241921\n",
      "SZ002008   -1.223077\n",
      "SZ000063   -0.950663\n",
      "SH601333   -0.308749\n",
      "SH600372   -0.384635\n",
      "SH600688   -0.279528\n",
      "SH601939   -0.582056\n",
      "Name: (feature, signal), dtype: float64)\n",
      "Reward = 0.000000\n"
     ]
    },
    {
     "name": "stderr",
     "output_type": "stream",
     "text": [
      "/Library/Frameworks/Python.framework/Versions/3.8/lib/python3.8/site-packages/ipykernel/ipkernel.py:283: DeprecationWarning:\n",
      "\n",
      "`should_run_async` will not call `transform_cell` automatically in the future. Please pass the result to `transformed_cell` argument and any exception that happen during thetransform in `preprocessing_exc_tuple` in IPython 7.17 and above.\n",
      "\n"
     ]
    }
   ],
   "source": [
    "check_simulator(topk_dropout_signal_strategy, topk_dropout_signal_simulator)"
   ]
  },
  {
   "cell_type": "code",
   "execution_count": 31,
   "metadata": {},
   "outputs": [
    {
     "name": "stderr",
     "output_type": "stream",
     "text": [
      "/Library/Frameworks/Python.framework/Versions/3.8/lib/python3.8/site-packages/ipykernel/ipkernel.py:283: DeprecationWarning:\n",
      "\n",
      "`should_run_async` will not call `transform_cell` automatically in the future. Please pass the result to `transformed_cell` argument and any exception that happen during thetransform in `preprocessing_exc_tuple` in IPython 7.17 and above.\n",
      "\n"
     ]
    }
   ],
   "source": [
    "topk_strategy = TopkStrategy(\n",
    "    signal=signal,\n",
    "    dim=dim,\n",
    "    stock_num=stock_num,\n",
    "    signal_key=\"signal\",\n",
    "    policy_cls=discrete.MetaPPO\n",
    ")"
   ]
  },
  {
   "cell_type": "code",
   "execution_count": 32,
   "metadata": {},
   "outputs": [
    {
     "name": "stderr",
     "output_type": "stream",
     "text": [
      "[67924:MainThread](2023-03-14 21:49:34,131) INFO - qlib.backtest caller - [__init__.py:93] - Create new exchange\n",
      "[67924:MainThread](2023-03-14 21:49:43,775) WARNING - qlib.online operator - [exchange.py:219] - $open field data contains nan.\n",
      "[67924:MainThread](2023-03-14 21:49:43,777) WARNING - qlib.online operator - [exchange.py:219] - $open field data contains nan.\n"
     ]
    },
    {
     "name": "stdout",
     "output_type": "stream",
     "text": [
      "start_time: 2017-01-08, end_time: 2018-12-31\n"
     ]
    }
   ],
   "source": [
    "topk_simulator = TradeStrategySimulator(\n",
    "    trade_strategy=topk_strategy, \n",
    "    initial_state=initial_states_train[0], \n",
    "    account=account,\n",
    "    benchmark=config[\"backtest\"][\"benchmark\"],\n",
    "    exchange_kwargs=config[\"backtest\"][\"exchange_kwargs\"]\n",
    ")"
   ]
  },
  {
   "cell_type": "code",
   "execution_count": 33,
   "metadata": {},
   "outputs": [
    {
     "name": "stdout",
     "output_type": "stream",
     "text": [
      "Action = WeightStrategyAction(target_weight_position={'SH600519': 0.16666666666666666, 'SZ000568': 0.16666666666666666, 'SH600660': 0.16666666666666666, 'SH600196': 0.16666666666666666, 'SH600297': 0.16666666666666666, 'SH600383': 0.16666666666666666})\n",
      "Reward = 0.000000\n"
     ]
    },
    {
     "name": "stderr",
     "output_type": "stream",
     "text": [
      "/Library/Frameworks/Python.framework/Versions/3.8/lib/python3.8/site-packages/ipykernel/ipkernel.py:283: DeprecationWarning:\n",
      "\n",
      "`should_run_async` will not call `transform_cell` automatically in the future. Please pass the result to `transformed_cell` argument and any exception that happen during thetransform in `preprocessing_exc_tuple` in IPython 7.17 and above.\n",
      "\n"
     ]
    }
   ],
   "source": [
    "check_simulator(topk_strategy, topk_simulator)"
   ]
  },
  {
   "cell_type": "code",
   "execution_count": 34,
   "metadata": {},
   "outputs": [
    {
     "name": "stderr",
     "output_type": "stream",
     "text": [
      "/Library/Frameworks/Python.framework/Versions/3.8/lib/python3.8/site-packages/ipykernel/ipkernel.py:283: DeprecationWarning:\n",
      "\n",
      "`should_run_async` will not call `transform_cell` automatically in the future. Please pass the result to `transformed_cell` argument and any exception that happen during thetransform in `preprocessing_exc_tuple` in IPython 7.17 and above.\n",
      "\n"
     ]
    }
   ],
   "source": [
    "weight_strategy = WeightStrategy(\n",
    "    signal=signal,\n",
    "    dim=dim,\n",
    "    stock_num=stock_num,\n",
    "    topk=topk,\n",
    "    signal_key=\"signal\",\n",
    "    policy_cls=continuous.MetaPPO\n",
    ")"
   ]
  },
  {
   "cell_type": "code",
   "execution_count": 35,
   "metadata": {},
   "outputs": [
    {
     "name": "stderr",
     "output_type": "stream",
     "text": [
      "[67924:MainThread](2023-03-14 21:49:45,104) INFO - qlib.backtest caller - [__init__.py:93] - Create new exchange\n",
      "[67924:MainThread](2023-03-14 21:49:54,681) WARNING - qlib.online operator - [exchange.py:219] - $open field data contains nan.\n",
      "[67924:MainThread](2023-03-14 21:49:54,683) WARNING - qlib.online operator - [exchange.py:219] - $open field data contains nan.\n"
     ]
    },
    {
     "name": "stdout",
     "output_type": "stream",
     "text": [
      "start_time: 2017-01-08, end_time: 2018-12-31\n"
     ]
    }
   ],
   "source": [
    "weight_strategy_simulator = TradeStrategySimulator(\n",
    "    trade_strategy=weight_strategy, \n",
    "    initial_state=initial_states_train[0], \n",
    "    account=account,\n",
    "    benchmark=config[\"backtest\"][\"benchmark\"],\n",
    "    exchange_kwargs=config[\"backtest\"][\"exchange_kwargs\"]\n",
    ")"
   ]
  },
  {
   "cell_type": "code",
   "execution_count": 36,
   "metadata": {},
   "outputs": [
    {
     "name": "stdout",
     "output_type": "stream",
     "text": [
      "Action = WeightStrategyAction(target_weight_position={'SZ000768': 0.1, 'SH600519': 0.1, 'SH600688': 0.1, 'SZ000063': 0.1, 'SZ002008': 0.1, 'SH601939': 0.1, 'SH600297': 0.1, 'SZ000858': 0.1, 'SH600372': 0.1, 'SH600023': 0.1})\n",
      "Reward = 0.000000\n"
     ]
    },
    {
     "name": "stderr",
     "output_type": "stream",
     "text": [
      "/Library/Frameworks/Python.framework/Versions/3.8/lib/python3.8/site-packages/ipykernel/ipkernel.py:283: DeprecationWarning:\n",
      "\n",
      "`should_run_async` will not call `transform_cell` automatically in the future. Please pass the result to `transformed_cell` argument and any exception that happen during thetransform in `preprocessing_exc_tuple` in IPython 7.17 and above.\n",
      "\n"
     ]
    }
   ],
   "source": [
    "check_simulator(weight_strategy, weight_strategy_simulator)"
   ]
  },
  {
   "cell_type": "markdown",
   "metadata": {},
   "source": [
    "## Train Policy"
   ]
  },
  {
   "cell_type": "code",
   "execution_count": 37,
   "metadata": {
    "scrolled": true
   },
   "outputs": [
    {
     "name": "stderr",
     "output_type": "stream",
     "text": [
      "/Library/Frameworks/Python.framework/Versions/3.8/lib/python3.8/site-packages/ipykernel/ipkernel.py:283: DeprecationWarning:\n",
      "\n",
      "`should_run_async` will not call `transform_cell` automatically in the future. Please pass the result to `transformed_cell` argument and any exception that happen during thetransform in `preprocessing_exc_tuple` in IPython 7.17 and above.\n",
      "\n"
     ]
    }
   ],
   "source": [
    "def train_trade_strategy(trade_strategy, max_iters=2, concurrency=1, episode_per_iter=1):\n",
    "    def _exploration_noise():\n",
    "        if trade_strategy.policy_cls in [continuous.MetaDDPG, continuous.MetaTD3, continuous.MetaSAC]:\n",
    "            return True\n",
    "        return False\n",
    "    \n",
    "    def _start_episodes():\n",
    "        if trade_strategy.policy_cls in [continuous.MetaDDPG, continuous.MetaTD3, continuous.MetaSAC]:\n",
    "            return 5 * episode_per_iter\n",
    "        return None\n",
    "    \n",
    "    reward = EpisodeInformationRatioReward(scale=1.)\n",
    "    \n",
    "    output_dir = f'../records/EpisodeInformationRatioReward/{trade_strategy}/{trade_strategy.policy}/{datetime.datetime.now().strftime(\"%Y_%m_%d_%H_%M\")}'\n",
    "    \n",
    "    trainer_kwargs = {\n",
    "        \"max_iters\": max_iters,\n",
    "        \"finite_env_type\": \"dummy\",\n",
    "        \"concurrency\": concurrency,\n",
    "        \"val_every_n_iters\": 1,\n",
    "        \"callbacks\": [\n",
    "            Checkpoint(\n",
    "                dirpath=Path(f\"{output_dir}/checkpoints\"),\n",
    "                every_n_iters=1,\n",
    "                save_latest=\"copy\",\n",
    "            ),\n",
    "            EarlyStopping(\n",
    "                monitor=\"reward\", \n",
    "                min_delta=0.0, \n",
    "                patience=1000, \n",
    "                restore_best_weights=True\n",
    "            ),\n",
    "            MetricsWriter(\n",
    "                dirpath=Path(f\"{output_dir}/metrics\")\n",
    "            ),\n",
    "        ],\n",
    "    }\n",
    "    vessel_kwargs = {\n",
    "        \"update_kwargs\": {\"batch_size\": 64, \"repeat\": 5},\n",
    "        \"episode_per_iter\": episode_per_iter,\n",
    "        \"val_initial_states\": initial_states_valid,\n",
    "        \"exploration_noise\": _exploration_noise(),\n",
    "        \"start_episodes\": _start_episodes(),\n",
    "    }\n",
    "    \n",
    "    simulator_fn=lambda initial_state: TradeStrategySimulator(\n",
    "        trade_strategy=trade_strategy, \n",
    "        initial_state=initial_state, \n",
    "        account=account,\n",
    "        benchmark=config[\"backtest\"][\"benchmark\"],\n",
    "        exchange_kwargs=config[\"backtest\"][\"exchange_kwargs\"]\n",
    "    )\n",
    "    \n",
    "    # baseline\n",
    "    baseline_logger = CsvWriter(\n",
    "        output_dir=Path(f\"{output_dir}/baseline\")\n",
    "    )\n",
    "    backtest(\n",
    "        simulator_fn=simulator_fn,\n",
    "        state_interpreter=trade_strategy.state_interpreter,\n",
    "        action_interpreter=trade_strategy.baseline_action_interpreter,\n",
    "        policy=trade_strategy.policy,\n",
    "        reward=reward,\n",
    "        initial_states=initial_states_valid,\n",
    "        finite_env_type=trainer_kwargs[\"finite_env_type\"],\n",
    "        logger=[baseline_logger]\n",
    "    )\n",
    "    del baseline_logger\n",
    "    \n",
    "    # train\n",
    "    train(\n",
    "        simulator_fn=simulator_fn,\n",
    "        state_interpreter=trade_strategy.state_interpreter,\n",
    "        action_interpreter=trade_strategy.action_interpreter,\n",
    "        policy=trade_strategy.policy,\n",
    "        reward=reward,\n",
    "        initial_states=initial_states_train,\n",
    "        trainer_kwargs=trainer_kwargs,\n",
    "        vessel_kwargs=vessel_kwargs\n",
    "    )"
   ]
  },
  {
   "cell_type": "code",
   "execution_count": 38,
   "metadata": {
    "scrolled": true
   },
   "outputs": [],
   "source": [
    "# train_trade_strategy(trade_strategy=topk_dropout_strategy, max_iters=1, concurrency=1)"
   ]
  },
  {
   "cell_type": "code",
   "execution_count": null,
   "metadata": {
    "scrolled": true
   },
   "outputs": [
    {
     "name": "stderr",
     "output_type": "stream",
     "text": [
      "[67924:MainThread](2023-03-14 21:49:56,065) INFO - qlib.rl.trainer.vessel - [vessel.py:163] - Testing initial states collection size: 1\n",
      "[67924:MainThread](2023-03-14 21:49:56,067) INFO - qlib.rl.utils.data_queue - [data_queue.py:70] - Automatically set data queue maxsize to 12 to avoid overwhelming.\n",
      "[67924:MainThread](2023-03-14 21:49:57,249) INFO - qlib.backtest caller - [__init__.py:93] - Create new exchange\n",
      "[67924:MainThread](2023-03-14 21:50:07,243) WARNING - qlib.online operator - [exchange.py:219] - $open field data contains nan.\n",
      "[67924:MainThread](2023-03-14 21:50:07,245) WARNING - qlib.online operator - [exchange.py:219] - $open field data contains nan.\n"
     ]
    },
    {
     "name": "stdout",
     "output_type": "stream",
     "text": [
      "start_time: 2019-01-01, end_time: 2023-03-13\n"
     ]
    },
    {
     "name": "stderr",
     "output_type": "stream",
     "text": [
      "[67924:MainThread](2023-03-14 21:50:28,361) INFO - qlib.rl.trainer.trainer - [trainer.py:211] - \n",
      "2023-03-14 21:50:28\tTrain iteration 1/1000\n",
      "[67924:MainThread](2023-03-14 21:50:28,363) INFO - qlib.rl.trainer.vessel - [vessel.py:148] - Training initial states collection size: 1\n",
      "[67924:MainThread](2023-03-14 21:50:28,365) INFO - qlib.rl.utils.data_queue - [data_queue.py:70] - Automatically set data queue maxsize to 12 to avoid overwhelming.\n",
      "[67924:MainThread](2023-03-14 21:50:28,371) INFO - qlib.backtest caller - [__init__.py:93] - Create new exchange\n",
      "[67924:MainThread](2023-03-14 21:50:38,205) WARNING - qlib.online operator - [exchange.py:219] - $open field data contains nan.\n",
      "[67924:MainThread](2023-03-14 21:50:38,208) WARNING - qlib.online operator - [exchange.py:219] - $open field data contains nan.\n"
     ]
    },
    {
     "name": "stdout",
     "output_type": "stream",
     "text": [
      "start_time: 2017-01-08, end_time: 2018-12-31\n"
     ]
    },
    {
     "name": "stderr",
     "output_type": "stream",
     "text": [
      "[67924:MainThread](2023-03-14 21:50:48,417) INFO - qlib.backtest caller - [__init__.py:93] - Create new exchange\n",
      "[67924:MainThread](2023-03-14 21:50:58,501) WARNING - qlib.online operator - [exchange.py:219] - $open field data contains nan.\n",
      "[67924:MainThread](2023-03-14 21:50:58,504) WARNING - qlib.online operator - [exchange.py:219] - $open field data contains nan.\n",
      "[67924:MainThread](2023-03-14 21:50:59,764) INFO - qlib.backtest caller - [__init__.py:93] - Create new exchange\n"
     ]
    },
    {
     "name": "stdout",
     "output_type": "stream",
     "text": [
      "start_time: 2017-01-08, end_time: 2018-12-31\n"
     ]
    },
    {
     "name": "stderr",
     "output_type": "stream",
     "text": [
      "[67924:MainThread](2023-03-14 21:51:10,021) WARNING - qlib.online operator - [exchange.py:219] - $open field data contains nan.\n",
      "[67924:MainThread](2023-03-14 21:51:10,025) WARNING - qlib.online operator - [exchange.py:219] - $open field data contains nan.\n"
     ]
    },
    {
     "name": "stdout",
     "output_type": "stream",
     "text": [
      "start_time: 2017-01-08, end_time: 2018-12-31\n"
     ]
    },
    {
     "name": "stderr",
     "output_type": "stream",
     "text": [
      "[67924:MainThread](2023-03-14 21:51:13,157) INFO - qlib.rl.trainer.vessel - [vessel.py:83] - [Iter 1] n/ep = 1\n",
      "[67924:MainThread](2023-03-14 21:51:13,159) INFO - qlib.rl.trainer.vessel - [vessel.py:83] - [Iter 1] n/st = 483\n",
      "[67924:MainThread](2023-03-14 21:51:13,160) INFO - qlib.rl.trainer.vessel - [vessel.py:83] - [Iter 1] rews = 0.7329425479242712\n",
      "[67924:MainThread](2023-03-14 21:51:13,162) INFO - qlib.rl.trainer.vessel - [vessel.py:83] - [Iter 1] lens = 483.0\n",
      "[67924:MainThread](2023-03-14 21:51:13,163) INFO - qlib.rl.trainer.vessel - [vessel.py:83] - [Iter 1] idxs = 0.0\n",
      "[67924:MainThread](2023-03-14 21:51:13,165) INFO - qlib.rl.trainer.vessel - [vessel.py:83] - [Iter 1] rew = 0.7329425479242712\n",
      "[67924:MainThread](2023-03-14 21:51:13,166) INFO - qlib.rl.trainer.vessel - [vessel.py:83] - [Iter 1] len = 483.0\n",
      "[67924:MainThread](2023-03-14 21:51:13,168) INFO - qlib.rl.trainer.vessel - [vessel.py:83] - [Iter 1] rew_std = 0.0\n",
      "[67924:MainThread](2023-03-14 21:51:13,169) INFO - qlib.rl.trainer.vessel - [vessel.py:83] - [Iter 1] len_std = 0.0\n",
      "[67924:MainThread](2023-03-14 21:51:13,170) INFO - qlib.rl.trainer.vessel - [vessel.py:83] - [Iter 1] loss = 0.5267253560679299\n",
      "[67924:MainThread](2023-03-14 21:51:13,172) INFO - qlib.rl.trainer.vessel - [vessel.py:83] - [Iter 1] loss/clip = 0.16747383528522083\n",
      "[67924:MainThread](2023-03-14 21:51:13,174) INFO - qlib.rl.trainer.vessel - [vessel.py:83] - [Iter 1] loss/vf = 0.35925152046339853\n",
      "[67924:MainThread](2023-03-14 21:51:13,175) INFO - qlib.rl.trainer.vessel - [vessel.py:83] - [Iter 1] loss/ent = 28.386957386561804\n",
      "[67924:MainThread](2023-03-14 21:51:14,216) INFO - qlib.rl.trainer.vessel - [vessel.py:156] - Validation initial states collection size: 1\n",
      "[67924:MainThread](2023-03-14 21:51:14,217) INFO - qlib.rl.utils.data_queue - [data_queue.py:70] - Automatically set data queue maxsize to 12 to avoid overwhelming.\n",
      "[67924:MainThread](2023-03-14 21:51:15,224) INFO - qlib.backtest caller - [__init__.py:93] - Create new exchange\n",
      "[67924:MainThread](2023-03-14 21:51:24,937) WARNING - qlib.online operator - [exchange.py:219] - $open field data contains nan.\n",
      "[67924:MainThread](2023-03-14 21:51:24,940) WARNING - qlib.online operator - [exchange.py:219] - $open field data contains nan.\n"
     ]
    },
    {
     "name": "stdout",
     "output_type": "stream",
     "text": [
      "start_time: 2019-01-01, end_time: 2023-03-13\n"
     ]
    },
    {
     "name": "stderr",
     "output_type": "stream",
     "text": [
      "[67924:MainThread](2023-03-14 21:51:44,781) INFO - qlib.rl.trainer.callbacks - [callbacks.py:161] - #0 current reward: 0.7329, best reward: 0.7329 in #0\n",
      "[67924:MainThread](2023-03-14 21:51:44,806) INFO - qlib.rl.trainer.trainer - [trainer.py:211] - \n",
      "2023-03-14 21:51:44\tTrain iteration 2/1000\n",
      "[67924:MainThread](2023-03-14 21:51:44,808) INFO - qlib.rl.trainer.vessel - [vessel.py:148] - Training initial states collection size: 1\n",
      "[67924:MainThread](2023-03-14 21:51:44,809) INFO - qlib.rl.utils.data_queue - [data_queue.py:70] - Automatically set data queue maxsize to 12 to avoid overwhelming.\n",
      "[67924:MainThread](2023-03-14 21:51:45,817) INFO - qlib.backtest caller - [__init__.py:93] - Create new exchange\n",
      "[67924:MainThread](2023-03-14 21:51:56,167) WARNING - qlib.online operator - [exchange.py:219] - $open field data contains nan.\n",
      "[67924:MainThread](2023-03-14 21:51:56,169) WARNING - qlib.online operator - [exchange.py:219] - $open field data contains nan.\n"
     ]
    },
    {
     "name": "stdout",
     "output_type": "stream",
     "text": [
      "start_time: 2017-01-08, end_time: 2018-12-31\n"
     ]
    }
   ],
   "source": [
    "train_trade_strategy(trade_strategy=topk_dropout_signal_strategy, max_iters=1000, concurrency=1)"
   ]
  },
  {
   "cell_type": "code",
   "execution_count": null,
   "metadata": {},
   "outputs": [],
   "source": [
    "# train_trade_strategy(trade_strategy=topk_strategy, max_iters=1, concurrency=1)"
   ]
  },
  {
   "cell_type": "code",
   "execution_count": null,
   "metadata": {},
   "outputs": [],
   "source": [
    "# train_trade_strategy(trade_strategy=weight_strategy, max_iters=1, concurrency=1)"
   ]
  },
  {
   "cell_type": "markdown",
   "metadata": {},
   "source": [
    "## Backtest Policy"
   ]
  },
  {
   "cell_type": "code",
   "execution_count": null,
   "metadata": {},
   "outputs": [],
   "source": [
    "def get_port_analysis_config(config, strategy_config):\n",
    "    port_analysis_config = {\n",
    "        \"executor\": {\n",
    "            \"class\": \"SimulatorExecutor\",\n",
    "            \"module_path\": \"qlib.backtest.executor\",\n",
    "            \"kwargs\": {\n",
    "                \"time_per_step\": \"day\",\n",
    "                \"generate_portfolio_metrics\": True,\n",
    "            },\n",
    "        },\n",
    "        \"strategy\": strategy_config,\n",
    "        \"backtest\": {\n",
    "            \"start_time\": config[\"date\"][\"backtest\"][\"start\"],\n",
    "            \"end_time\": config[\"date\"][\"backtest\"][\"end\"],\n",
    "            \"account\": account,\n",
    "            \"benchmark\": config[\"backtest\"][\"benchmark\"],\n",
    "            \"exchange_kwargs\": config[\"backtest\"][\"exchange_kwargs\"]\n",
    "        },\n",
    "    }\n",
    "    return port_analysis_config"
   ]
  },
  {
   "cell_type": "code",
   "execution_count": null,
   "metadata": {},
   "outputs": [],
   "source": [
    "def get_topk_dropout_port_analysis_config(config):\n",
    "    strategy_config = {\n",
    "        \"class\": \"TopkDropoutStrategy\",\n",
    "        \"module_path\": \"qlib.contrib.strategy.signal_strategy\",\n",
    "        \"kwargs\": {\n",
    "            \"signal\": signal,\n",
    "            \"topk\": topk,\n",
    "            \"n_drop\": n_drop,\n",
    "            \"risk_degree\": 0.95,\n",
    "            \"only_tradable\": True,\n",
    "            \"hold_thresh\": hold_thresh,\n",
    "        }\n",
    "    }\n",
    "    return get_port_analysis_config(config, strategy_config)"
   ]
  },
  {
   "cell_type": "code",
   "execution_count": null,
   "metadata": {},
   "outputs": [],
   "source": [
    "def get_latest_checkpoint_path(strategy):\n",
    "    output_dir = sorted(glob.glob(f\"../records/EpisodeInformationRatioReward/{strategy}/{strategy.policy}/*\"))[-1]\n",
    "    checkpoint_path = f\"./{output_dir}/checkpoints/latest.pth\"\n",
    "    print(checkpoint_path)\n",
    "    return checkpoint_path\n",
    "\n",
    "\n",
    "def get_best_checkpoint_path(strategy):\n",
    "    output_dir = sorted(glob.glob(f\"../records/EpisodeInformationRatioReward/{strategy}/{strategy.policy}/*\"))[-1]\n",
    "    df_valid = pd.read_csv(f\"{output_dir}/metrics/validation_result.csv\", index_col=0)\n",
    "    best = df_valid.sort_values(\"val/reward\", ascending=True).iloc[-1]\n",
    "    epoch = int(best.name) + 1\n",
    "    checkpoint_path = f\"./{output_dir}/checkpoints/{epoch:03d}.pth\"\n",
    "    print(checkpoint_path)\n",
    "    print(best[\"val/reward\"])\n",
    "    return checkpoint_path"
   ]
  },
  {
   "cell_type": "code",
   "execution_count": null,
   "metadata": {},
   "outputs": [],
   "source": [
    "def get_topk_dropout_strategy_port_analysis_config(config, checkpoint_path=None):\n",
    "    if checkpoint_path is None:\n",
    "        checkpoint_path = get_best_checkpoint_path(topk_dropout_strategy)\n",
    "    strategy_config = {\n",
    "        \"class\": \"TopkDropoutStrategy\",\n",
    "        \"module_path\": \"longcapital.rl.order_execution.strategy\",\n",
    "        \"kwargs\": {\n",
    "            \"signal\": signal,\n",
    "            \"dim\": dim,\n",
    "            \"stock_num\": stock_num,\n",
    "            \"topk\": topk,\n",
    "            \"risk_degree\": 0.95,\n",
    "            \"only_tradable\": True,\n",
    "            \"hold_thresh\": hold_thresh,\n",
    "            \"signal_key\": \"signal\",\n",
    "            \"policy_cls\": topk_dropout_strategy.policy_cls,\n",
    "            \"checkpoint_path\": checkpoint_path\n",
    "        }\n",
    "    }\n",
    "    return get_port_analysis_config(config, strategy_config)"
   ]
  },
  {
   "cell_type": "code",
   "execution_count": null,
   "metadata": {},
   "outputs": [],
   "source": [
    "def get_topk_dropout_signal_strategy_port_analysis_config(config, checkpoint_path=None):\n",
    "    if checkpoint_path is None:\n",
    "        checkpoint_path = get_best_checkpoint_path(topk_dropout_signal_strategy)\n",
    "    strategy_config = {\n",
    "        \"class\": \"TopkDropoutSignalStrategy\",\n",
    "        \"module_path\": \"longcapital.rl.order_execution.strategy\",\n",
    "        \"kwargs\": {\n",
    "            \"signal\": signal,\n",
    "            \"dim\": dim,\n",
    "            \"stock_num\": stock_num,\n",
    "            \"topk\": topk,\n",
    "            \"n_drop\": n_drop,\n",
    "            \"risk_degree\": 0.95,\n",
    "            \"only_tradable\": True,\n",
    "            \"hold_thresh\": hold_thresh,\n",
    "            \"signal_key\": \"signal\",\n",
    "            \"policy_cls\": topk_dropout_signal_strategy.policy_cls,\n",
    "            \"checkpoint_path\": checkpoint_path\n",
    "        }\n",
    "    }\n",
    "    return get_port_analysis_config(config, strategy_config)"
   ]
  },
  {
   "cell_type": "code",
   "execution_count": null,
   "metadata": {},
   "outputs": [],
   "source": [
    "def get_topk_strategy_port_analysis_config(config, checkpoint_path=None):\n",
    "    if checkpoint_path is None:\n",
    "        checkpoint_path = get_best_checkpoint_path(topk_strategy)\n",
    "    strategy_config = {\n",
    "        \"class\": \"TopkStrategy\",\n",
    "        \"module_path\": \"longcapital.rl.order_execution.strategy\",\n",
    "        \"kwargs\": {\n",
    "            \"signal\": signal,\n",
    "            \"dim\": dim,\n",
    "            \"stock_num\": stock_num,\n",
    "            \"policy_cls\": topk_strategy.policy_cls,\n",
    "            \"checkpoint_path\": checkpoint_path\n",
    "        }\n",
    "    }\n",
    "    return get_port_analysis_config(config, strategy_config)"
   ]
  },
  {
   "cell_type": "code",
   "execution_count": null,
   "metadata": {},
   "outputs": [],
   "source": [
    "def get_weight_strategy_port_analysis_config(config, checkpoint_path=None):\n",
    "    if checkpoint_path is None:\n",
    "        checkpoint_path = get_best_checkpoint_path(weight_strategy)\n",
    "    strategy_config = {\n",
    "        \"class\": \"WeightStrategy\",\n",
    "        \"module_path\": \"longcapital.rl.order_execution.strategy\",\n",
    "        \"kwargs\": {\n",
    "            \"signal\": signal,\n",
    "            \"dim\": dim,\n",
    "            \"stock_num\": stock_num,\n",
    "            \"topk\": topk,\n",
    "            \"signal_key\": \"signal\",\n",
    "            \"policy_cls\": weight_strategy.policy_cls,\n",
    "            \"checkpoint_path\": checkpoint_path\n",
    "        }\n",
    "    }\n",
    "    return get_port_analysis_config(config, strategy_config)"
   ]
  },
  {
   "cell_type": "code",
   "execution_count": null,
   "metadata": {},
   "outputs": [],
   "source": [
    "def run_trade_strategy_backtest(rid, port_analysis_config, start_time=None, end_time=None):\n",
    "    mlflow.end_run()\n",
    "    with R.start(experiment_name=EXP_NAME, recorder_id=rid, resume=True):\n",
    "        if start_time:\n",
    "            port_analysis_config[\"backtest\"][\"start_time\"] = start_time\n",
    "        if end_time:\n",
    "            port_analysis_config[\"backtest\"][\"end_time\"] = end_time\n",
    "        \n",
    "        rec = R.get_recorder()\n",
    "        par = PortAnaRecord(rec, port_analysis_config, skip_existing=False)\n",
    "        par.generate()\n",
    "        \n",
    "        analysis_df = rec.load_object(\"portfolio_analysis/port_analysis_1day.pkl\")\n",
    "        report_normal_df = rec.load_object(\"portfolio_analysis/report_normal_1day.pkl\")\n",
    "        print(analysis_df)\n",
    "        analysis_position.report_graph(report_normal_df)"
   ]
  },
  {
   "cell_type": "code",
   "execution_count": null,
   "metadata": {},
   "outputs": [],
   "source": [
    "run_trade_strategy_backtest(\n",
    "    rid, \n",
    "    port_analysis_config=get_topk_dropout_port_analysis_config(\n",
    "        config=config\n",
    "    )\n",
    ")"
   ]
  },
  {
   "cell_type": "code",
   "execution_count": null,
   "metadata": {},
   "outputs": [],
   "source": [
    "# run_trade_strategy_backtest(\n",
    "#     rid, \n",
    "#     port_analysis_config=get_topk_dropout_strategy_port_analysis_config(\n",
    "#         config,\n",
    "#     )\n",
    "# )"
   ]
  },
  {
   "cell_type": "code",
   "execution_count": null,
   "metadata": {},
   "outputs": [],
   "source": [
    "run_trade_strategy_backtest(\n",
    "    rid, \n",
    "    port_analysis_config=get_topk_dropout_signal_strategy_port_analysis_config(\n",
    "        config, \n",
    "    )\n",
    ")"
   ]
  },
  {
   "cell_type": "code",
   "execution_count": null,
   "metadata": {},
   "outputs": [],
   "source": [
    "# run_trade_strategy_backtest(\n",
    "#     rid, \n",
    "#     port_analysis_config=get_topk_strategy_port_analysis_config(\n",
    "#         config, \n",
    "#     )\n",
    "# )"
   ]
  },
  {
   "cell_type": "code",
   "execution_count": null,
   "metadata": {
    "scrolled": true
   },
   "outputs": [],
   "source": [
    "# run_trade_strategy_backtest(\n",
    "#     rid, \n",
    "#     port_analysis_config=get_weight_strategy_port_analysis_config(\n",
    "#         config, \n",
    "#     )\n",
    "# )"
   ]
  },
  {
   "cell_type": "markdown",
   "metadata": {},
   "source": [
    "# Trade"
   ]
  },
  {
   "cell_type": "code",
   "execution_count": null,
   "metadata": {},
   "outputs": [],
   "source": [
    "initial_states_test = [\n",
    "    TradeStrategyInitiateState(\n",
    "        start_time=config[\"date\"][\"test\"][\"end\"],\n",
    "        end_time=config[\"date\"][\"test\"][\"end\"],\n",
    "        sample_date=False\n",
    "    )\n",
    "]"
   ]
  },
  {
   "cell_type": "code",
   "execution_count": null,
   "metadata": {},
   "outputs": [],
   "source": [
    "account = {\n",
    "    \"cash\": 17392,\n",
    "    \"SH601985\": {\"amount\": 4000, \"price\": 6.49, \"count_day\": 1},\n",
    "    \"SH601225\": {\"amount\": 1200, \"price\": 19.34, \"count_day\": 6},\n",
    "    \"SH603833\": {\"amount\": 200, \"price\": 129.69, \"count_day\": 4},\n",
    "    \"SH600188\": {\"amount\": 700, \"price\": 32.46, \"count_day\": 6},\n",
    "    \"SZ002032\": {\"amount\": 500, \"price\": 56.09, \"count_day\": 6},\n",
    "    \"SH603986\": {\"amount\": 200, \"price\": 101.03, \"count_day\": 2},\n",
    "}"
   ]
  },
  {
   "cell_type": "code",
   "execution_count": null,
   "metadata": {},
   "outputs": [],
   "source": [
    "topk_dropout_signal_strategy = TopkDropoutSignalStrategy(\n",
    "    signal=signal,\n",
    "    dim=dim,\n",
    "    stock_num=stock_num,\n",
    "    topk=10,\n",
    "    n_drop=2,\n",
    "    only_tradable=False, # we don't know it before trading\n",
    "    hold_thresh=hold_thresh,\n",
    "    signal_key=\"signal\",\n",
    "    policy_cls=continuous.MetaPPO,\n",
    "    checkpoint_path=get_best_checkpoint_path(topk_dropout_signal_strategy)\n",
    ")"
   ]
  },
  {
   "cell_type": "code",
   "execution_count": null,
   "metadata": {},
   "outputs": [],
   "source": [
    "topk_dropout_signal_simulator = TradeStrategySimulator(\n",
    "    trade_strategy=topk_dropout_signal_strategy, \n",
    "    initial_state=initial_states_test[0], \n",
    "    account=account,\n",
    "    benchmark=None,\n",
    "    exchange_kwargs=config[\"backtest\"][\"exchange_kwargs\"]\n",
    ")"
   ]
  },
  {
   "cell_type": "code",
   "execution_count": null,
   "metadata": {},
   "outputs": [],
   "source": [
    "decision = topk_dropout_signal_strategy.trade()"
   ]
  },
  {
   "cell_type": "code",
   "execution_count": null,
   "metadata": {},
   "outputs": [],
   "source": [
    "decision"
   ]
  },
  {
   "cell_type": "code",
   "execution_count": null,
   "metadata": {},
   "outputs": [],
   "source": []
  }
 ],
 "metadata": {
  "kernelspec": {
   "display_name": "Python 3",
   "language": "python",
   "name": "python3"
  },
  "language_info": {
   "codemirror_mode": {
    "name": "ipython",
    "version": 3
   },
   "file_extension": ".py",
   "mimetype": "text/x-python",
   "name": "python",
   "nbconvert_exporter": "python",
   "pygments_lexer": "ipython3",
   "version": "3.8.10"
  },
  "toc": {
   "base_numbering": 1,
   "nav_menu": {},
   "number_sections": true,
   "sideBar": true,
   "skip_h1_title": false,
   "title_cell": "Table of Contents",
   "title_sidebar": "Contents",
   "toc_cell": false,
   "toc_position": {},
   "toc_section_display": true,
   "toc_window_display": false
  }
 },
 "nbformat": 4,
 "nbformat_minor": 4
}
