{
 "cells": [
  {
   "cell_type": "code",
   "execution_count": 1,
   "metadata": {},
   "outputs": [],
   "source": [
    "%reload_ext autoreload"
   ]
  },
  {
   "cell_type": "code",
   "execution_count": 2,
   "metadata": {},
   "outputs": [],
   "source": [
    "%autoreload 2"
   ]
  },
  {
   "cell_type": "code",
   "execution_count": 3,
   "metadata": {},
   "outputs": [],
   "source": [
    "import warnings"
   ]
  },
  {
   "cell_type": "code",
   "execution_count": 4,
   "metadata": {},
   "outputs": [],
   "source": [
    "warnings.filterwarnings('ignore')"
   ]
  },
  {
   "cell_type": "code",
   "execution_count": 5,
   "metadata": {},
   "outputs": [],
   "source": [
    "import datetime\n",
    "import glob\n",
    "import mlflow\n",
    "import os\n",
    "\n",
    "import numpy as np\n",
    "import pandas as pd\n",
    "\n",
    "from pathlib import Path"
   ]
  },
  {
   "cell_type": "code",
   "execution_count": 6,
   "metadata": {},
   "outputs": [],
   "source": [
    "import qlib\n",
    "\n",
    "from qlib.data.dataset import DataHandlerLP\n",
    "from qlib.constant import REG_CN, REG_US\n",
    "from qlib.contrib.report import analysis_model, analysis_position\n",
    "from qlib.utils import init_instance_by_config\n",
    "from qlib.workflow import R\n",
    "from qlib.workflow.record_temp import PortAnaRecord, SigAnaRecord"
   ]
  },
  {
   "cell_type": "code",
   "execution_count": 7,
   "metadata": {},
   "outputs": [
    {
     "name": "stderr",
     "output_type": "stream",
     "text": [
      "/Library/Frameworks/Python.framework/Versions/3.8/lib/python3.8/site-packages/ipykernel/ipkernel.py:283: DeprecationWarning:\n",
      "\n",
      "`should_run_async` will not call `transform_cell` automatically in the future. Please pass the result to `transformed_cell` argument and any exception that happen during thetransform in `preprocessing_exc_tuple` in IPython 7.17 and above.\n",
      "\n"
     ]
    }
   ],
   "source": [
    "from longcapital.data.dataset.processor import ChangeInstrument, DropInstrument, Fillna\n",
    "from longcapital.utils.io import get_params_from_file, update_params_to_file, update_report_df\n",
    "from longcapital.utils.time import get_diff_date\n",
    "from longcapital.workflow.record_temp import SignalRecord"
   ]
  },
  {
   "cell_type": "code",
   "execution_count": 8,
   "metadata": {},
   "outputs": [],
   "source": [
    "EXP_NAME = \"long-capital\""
   ]
  },
  {
   "cell_type": "code",
   "execution_count": 9,
   "metadata": {},
   "outputs": [],
   "source": [
    "# records\n",
    "STRATEGY_PARAMS_FILE = \"../data/params/strategy.json\"\n",
    "MODEL_PARAMS_FILE = \"../data/params/model.json\"\n",
    "PERFORMANCE_FILE = \"../data/params/performance.json\"\n",
    "REPORT_DF_FOLDER = \"../data/report_df\""
   ]
  },
  {
   "cell_type": "code",
   "execution_count": 10,
   "metadata": {},
   "outputs": [],
   "source": [
    "# model\n",
    "MODEL_VALID_LOSS_KEY_DICT = {\n",
    "    \"mse\": \"l2\",\n",
    "    \"mse_log\": \"l2\",\n",
    "    \"binary\": \"binary_logloss\",\n",
    "    \"lambdarank\": \"ndcg@5\",\n",
    "}\n",
    "MODEL_LOSS_NAME_DICT = {\n",
    "    \"mse\": \"mse\",\n",
    "    \"mse_log\": \"mse\",\n",
    "    \"binary\": \"binary\",\n",
    "    \"lambdarank\": \"lambdarank\"\n",
    "}\n",
    "\n",
    "# strategy\n",
    "BECHMARK_PARAMS = {\n",
    "    \"csi300\": \"SH000300\",\n",
    "    \"csi500\": \"SH000905\",\n",
    "    \"csi800\": \"SH000906\",\n",
    "    # https://github.com/microsoft/qlib/issues/720\n",
    "    \"SP500\": \"^gspc\",\n",
    "    \"NASDAQ100\": \"^ndx\",\n",
    "}"
   ]
  },
  {
   "cell_type": "code",
   "execution_count": 11,
   "metadata": {},
   "outputs": [],
   "source": [
    "def get_last_date_from_calendar(region=REG_CN):\n",
    "    file = f\"~/.qlib/qlib_data/{region}_data/calendars/day.txt\"\n",
    "    date = os.popen(f\"tail -n 1 {file}\").read().split(\"\\n\")[0]\n",
    "    return date\n",
    "\n",
    "\n",
    "def get_date_config(region=REG_CN, pred_date=None):\n",
    "    if pred_date is None:\n",
    "        pred_date = get_last_date_from_calendar(region)\n",
    "    test_end_date = pred_date\n",
    "    backtest_end_date = get_diff_date(pred_date, -1)\n",
    "    DATE_CONFIG = {\n",
    "        REG_CN: {\n",
    "            \"train\": {\n",
    "                \"start\": \"2006-01-01\",\n",
    "                \"end\": \"2016-12-31\"\n",
    "            },\n",
    "            \"valid\": {\n",
    "                \"start\": \"2017-01-01\",\n",
    "                \"end\": \"2018-12-31\"\n",
    "            },\n",
    "            \"test\": {\n",
    "                \"start\": \"2019-01-01\",\n",
    "                \"end\": test_end_date\n",
    "            },\n",
    "            \"backtest\": {\n",
    "                \"start\": \"2019-01-01\",\n",
    "                \"end\": backtest_end_date\n",
    "            }\n",
    "        },\n",
    "        REG_US: {\n",
    "            \"train\": {\n",
    "                \"start\": \"2006-01-01\",\n",
    "                \"end\": \"2016-12-31\"\n",
    "            },\n",
    "            \"valid\": {\n",
    "                \"start\": \"2017-01-01\",\n",
    "                \"end\": \"2018-12-31\"\n",
    "            },\n",
    "            \"test\": {\n",
    "                \"start\": \"2019-01-01\",\n",
    "                \"end\": test_end_date\n",
    "            },\n",
    "            \"backtest\": {\n",
    "                \"start\": \"2019-01-01\",\n",
    "                \"end\": backtest_end_date\n",
    "            }\n",
    "        }\n",
    "    }\n",
    "    return DATE_CONFIG[region]\n",
    "\n",
    "\n",
    "def get_backtest_config(region=REG_CN, instruments=\"csi300\", deal_price=\"open\"):\n",
    "    REGION_CONFIG = {\n",
    "        REG_CN: {\n",
    "            \"benchmark\": BECHMARK_PARAMS[instruments],\n",
    "            \"exchange_kwargs\": {\n",
    "                \"codes\": instruments,\n",
    "                \"freq\": \"day\",\n",
    "                \"trade_unit\": 100,\n",
    "                \"limit_threshold\": 0.095,\n",
    "                \"deal_price\": deal_price,\n",
    "                \"open_cost\": 0.0005,\n",
    "                \"close_cost\": 0.0015,\n",
    "                \"min_cost\": 5,\n",
    "            }\n",
    "        },\n",
    "        REG_US: {\n",
    "            \"benchmark\": BECHMARK_PARAMS[instruments],\n",
    "            \"exchange_kwargs\": {\n",
    "                \"codes\": instruments,\n",
    "                \"freq\": \"day\",\n",
    "                \"trade_unit\": 1,\n",
    "                \"limit_threshold\": None,\n",
    "                \"deal_price\": deal_price,\n",
    "                # estimated from moomoo sg\n",
    "                \"open_cost\": 0.003,\n",
    "                \"close_cost\": 0.005,\n",
    "                \"min_cost\": 0\n",
    "            }\n",
    "        }\n",
    "    }\n",
    "    return REGION_CONFIG[region]"
   ]
  },
  {
   "cell_type": "code",
   "execution_count": 12,
   "metadata": {},
   "outputs": [],
   "source": [
    "def get_all_config(\n",
    "    region=REG_CN,\n",
    "    instruments=\"csi300\",\n",
    "    benchmark_feature=None,\n",
    "    deal_price=\"open\",\n",
    "    days_ahead=4, \n",
    "    loss_type=\"mse\",\n",
    "    label_norm=\"CSZScoreNorm\",\n",
    "    model_type=\"default\", \n",
    "    strategy_type=\"best\",\n",
    "    hold_thresh=2, \n",
    "    date_config=None\n",
    "):\n",
    "    config = {\n",
    "        # market\n",
    "        # [REG_CN, REG_US]\n",
    "        \"region\": region,\n",
    "        # [\"csi300\", \"csi500\", \"csi800\", \"csiall\", \"all\"]\n",
    "        \"instruments\": instruments,\n",
    "\n",
    "        # feature\n",
    "        # [None, \"raw\", \"diff\", \"both\"]\n",
    "        \"benchmark_feature\": benchmark_feature,\n",
    "\n",
    "        # label\n",
    "        # [\"open\", \"close\"]\n",
    "        \"deal_price\": deal_price,\n",
    "        # [1,2,3,...]\n",
    "        \"days_ahead\": days_ahead,\n",
    "        # [\"mse\", \"mse_log\", \"binary\", \"lambdarank\"]\n",
    "        \"loss_type\": loss_type,\n",
    "        # [\"CSZScoreNorm\", \"CSRankNorm\"]\n",
    "        \"label_norm\": label_norm,\n",
    "        \n",
    "        # model\n",
    "        # [\"default\", \"best\"]\n",
    "        \"model_type\": model_type,\n",
    "\n",
    "        # strategy\n",
    "        \"strategy_type\": \"best\",\n",
    "        # [1,2,3,...]\n",
    "        \"hold_thresh\": hold_thresh\n",
    "    }\n",
    "    dataset_key = \"-\".join([f\"{k}={v}\" for k,v in config.items() if k not in [\"model_type\",\"strategy_type\",\"hold_thresh\"]])\n",
    "    model_key = \"-\".join([f\"{k}={v}\" for k,v in config.items() if k not in [\"strategy_type\",\"hold_thresh\"]])\n",
    "    config_key = \"-\".join([f\"{k}={v}\" for k,v in config.items()])\n",
    "    if date_config is None:\n",
    "        date_config = get_date_config(region=config[\"region\"])\n",
    "    config[\"date\"] = date_config\n",
    "    config[\"backtest\"] = get_backtest_config(\n",
    "        region=config[\"region\"], \n",
    "        instruments=config[\"instruments\"], \n",
    "        deal_price=config[\"deal_price\"]\n",
    "    )\n",
    "    config.update({\n",
    "        \"dataset_key\": dataset_key,\n",
    "        \"model_key\": model_key,\n",
    "        \"config_key\": config_key,\n",
    "    })\n",
    "    return config"
   ]
  },
  {
   "cell_type": "code",
   "execution_count": 13,
   "metadata": {},
   "outputs": [],
   "source": [
    "def append_benchmark_to_pool(region, instrument, benchmark):\n",
    "    folder = f\"/Users/chenglong.chen/.qlib/qlib_data/{region}_data/instruments\"\n",
    "    # already appended\n",
    "    with open(f\"{folder}/{instrument}.txt\", \"r\") as f:\n",
    "        for line in f.readlines():\n",
    "            if benchmark in line:\n",
    "                return\n",
    "    # append\n",
    "    with open(f\"{folder}/all.txt\", \"r\") as f:\n",
    "        for line in f.readlines():\n",
    "            if benchmark in line:\n",
    "                break\n",
    "    with open(f\"{folder}/{instrument}.txt\", \"a\") as f:\n",
    "        f.write(line)"
   ]
  },
  {
   "cell_type": "code",
   "execution_count": 14,
   "metadata": {},
   "outputs": [],
   "source": [
    "def load_dataset(config, label=None):\n",
    "    # processors\n",
    "    fields = []\n",
    "    names = []\n",
    "    if config[\"benchmark_feature\"] in [\"raw\",\"diff\",\"both\"]:\n",
    "        infer_processors = [\n",
    "            {\"class\": \"Fillna\"},\n",
    "#             Fillna(fields_group=\"feature\"),\n",
    "            ChangeInstrument(instrument=BECHMARK_PARAMS[config[\"instruments\"]], append_type=config[\"benchmark_feature\"], fields_group=\"feature\"),\n",
    "            DropInstrument(instruments=[BECHMARK_PARAMS[config[\"instruments\"]]])\n",
    "        ]\n",
    "        append_benchmark_to_pool(config[\"region\"], config[\"instruments\"], BECHMARK_PARAMS[config[\"instruments\"]])\n",
    "    else:\n",
    "        infer_processors = [\n",
    "            {\"class\": \"Fillna\"},\n",
    "#             Fillna(fields_group=\"feature\"),\n",
    "            DropInstrument(instruments=[BECHMARK_PARAMS[config[\"instruments\"]]])\n",
    "        ]\n",
    "    learn_processors = [\n",
    "        {\"class\": \"DropnaLabel\"}\n",
    "    ]\n",
    "    if config[\"loss_type\"] not in [\"lambdarank\"]:\n",
    "        learn_processors += [\n",
    "            {\"class\": config[\"label_norm\"], \"kwargs\": {\"fields_group\": \"label\"}},\n",
    "        ]\n",
    "    \n",
    "    # handler\n",
    "    data_start_time = min(\n",
    "        config[\"date\"][\"train\"][\"start\"], \n",
    "        config[\"date\"][\"valid\"][\"start\"], \n",
    "        config[\"date\"][\"test\"][\"start\"]\n",
    "    )\n",
    "    data_end_time = max(\n",
    "        config[\"date\"][\"train\"][\"end\"], \n",
    "        config[\"date\"][\"valid\"][\"end\"], \n",
    "        config[\"date\"][\"test\"][\"end\"]\n",
    "    )\n",
    "    \n",
    "    handler_kwargs = {\n",
    "        \"start_time\": data_start_time,\n",
    "        \"end_time\": data_end_time,\n",
    "        \"fit_start_time\": config[\"date\"][\"train\"][\"start\"],\n",
    "        \"fit_end_time\": config[\"date\"][\"train\"][\"end\"],\n",
    "        \"instruments\": config[\"instruments\"],\n",
    "        \"feature\": (fields, names),\n",
    "        \"learn_processors\": learn_processors,\n",
    "        \"infer_processors\": infer_processors,\n",
    "        \"loss_type\": config[\"loss_type\"],\n",
    "        \"next_label_price_expr\": f\"$open\",\n",
    "        \"curr_label_price_expr\": f\"$open\",\n",
    "        \"days_ahead\": config[\"days_ahead\"],\n",
    "        \"include_volume\": False,\n",
    "    }\n",
    "    if label:\n",
    "        handler_kwargs[\"label\"] = label\n",
    "    handler_conf = {\n",
    "        \"class\": \"Alpha158\",\n",
    "        \"module_path\": \"longcapital.contrib.data.handler\",\n",
    "        \"kwargs\": handler_kwargs,\n",
    "    }\n",
    "    hd = init_instance_by_config(handler_conf)\n",
    "    \n",
    "    # dataset\n",
    "    dataset_conf = {\n",
    "        \"class\": \"DatasetH\",\n",
    "        \"module_path\": \"qlib.data.dataset\",\n",
    "        \"kwargs\": {\n",
    "            \"handler\": hd,\n",
    "            \"segments\": {\n",
    "                \"train\": (config[\"date\"][\"train\"][\"start\"], config[\"date\"][\"train\"][\"end\"]),\n",
    "                \"valid\": (config[\"date\"][\"valid\"][\"start\"], config[\"date\"][\"valid\"][\"end\"]),\n",
    "                \"test\": (config[\"date\"][\"test\"][\"start\"], config[\"date\"][\"test\"][\"end\"]),\n",
    "            },\n",
    "        },\n",
    "    }\n",
    "    dataset = init_instance_by_config(dataset_conf)\n",
    "    \n",
    "    # nan check\n",
    "    df_train = dataset.prepare(\"train\", col_set=[\"feature\", \"label\"], data_key=DataHandlerLP.DK_L)\n",
    "    df_test = dataset.prepare(\"test\", col_set=[\"feature\"], data_key=DataHandlerLP.DK_I)\n",
    "    m = np.isfinite(df_train[\"feature\"].values).mean(axis=0) != 1\n",
    "    if m.sum():\n",
    "        print(df_train[\"feature\"].columns[m])\n",
    "    m = np.isfinite(df_test[\"feature\"].values).mean(axis=0) != 1\n",
    "    if m.sum():\n",
    "        print(df_test[\"feature\"].columns[m])\n",
    "    \n",
    "    return dataset"
   ]
  },
  {
   "cell_type": "code",
   "execution_count": 15,
   "metadata": {},
   "outputs": [],
   "source": [
    "def train_model(dataset, config):\n",
    "    mlflow.end_run()\n",
    "    with R.start(experiment_name=EXP_NAME):\n",
    "        if get_params_from_file(MODEL_PARAMS_FILE, config[\"config_key\"]) is None:\n",
    "            model_params = get_params_from_file(MODEL_PARAMS_FILE, \"default\")\n",
    "            update_params_to_file(MODEL_PARAMS_FILE, config[\"config_key\"], model_params)\n",
    "        else:\n",
    "            model_params = get_params_from_file(MODEL_PARAMS_FILE, config[\"config_key\"])\n",
    "        model = init_instance_by_config({\n",
    "            \"class\": \"LGBModel\",\n",
    "            \"module_path\": \"longcapital.contrib.model.gbdt\",\n",
    "            \"kwargs\": model_params\n",
    "        })\n",
    "        model.fit(dataset)\n",
    "        \n",
    "        R.save_objects(trained_model=model)\n",
    "\n",
    "        rec = R.get_recorder()\n",
    "        rid = rec.id # save the record id\n",
    "\n",
    "        # Inference and saving signal\n",
    "        sr = SignalRecord(model, dataset, rec, neutralize=False, riskiest_features_num=50)\n",
    "        sr.generate()\n",
    "        \n",
    "    return model, rid"
   ]
  },
  {
   "cell_type": "code",
   "execution_count": 16,
   "metadata": {},
   "outputs": [],
   "source": [
    "def prepare_signal(days_aheads, signal_names, hold_thresh):\n",
    "    df_valid = None\n",
    "    df_test = None\n",
    "    for days_ahead, signal_name in zip(days_aheads, signal_names):\n",
    "        config = get_all_config(days_ahead=days_ahead, hold_thresh=hold_thresh)\n",
    "        qlib.init(provider_uri=f\"~/.qlib/qlib_data/{config['region']}_data\", region=config[\"region\"])\n",
    "        dataset = load_dataset(config)\n",
    "        model, rid = train_model(dataset, config)\n",
    "        if df_valid is None:\n",
    "            df_valid = dataset.prepare(\"valid\", col_set=[\"feature\"], data_key=DataHandlerLP.DK_L)\n",
    "        if df_test is None:\n",
    "            df_test = dataset.prepare(\"test\", col_set=[\"feature\"], data_key=DataHandlerLP.DK_I)\n",
    "        df_valid.insert(0, (\"feature\",signal_name), model.predict(dataset, \"valid\"))\n",
    "        df_test.insert(0, (\"feature\",signal_name), model.predict(dataset, \"test\"))\n",
    "    signal = pd.concat([df_valid, df_test], axis=0)\n",
    "    return signal, rid"
   ]
  },
  {
   "cell_type": "code",
   "execution_count": 17,
   "metadata": {},
   "outputs": [],
   "source": [
    "# trading config\n",
    "topk = 10\n",
    "n_drop = 2\n",
    "hold_thresh = 3\n",
    "account = 100000000"
   ]
  },
  {
   "cell_type": "code",
   "execution_count": 18,
   "metadata": {},
   "outputs": [],
   "source": [
    "# the following signal will be inserted in the 0 index one by one\n",
    "# so finally, the first signal will be days_aheads[-1] and signal_names[-1] at last position\n",
    "# which will be used in TopkDropoutStrategy as default signal for ranking\n",
    "# (see: https://github.com/microsoft/qlib/blob/main/qlib/contrib/strategy/signal_strategy.py#L147)\n",
    "# and also will be used in ranking the features to get the obs/state space for RL training.\n",
    "# (see: TradeStrategy.get_feature)\n",
    "days_aheads = [2, 3, 4, 5, 6, 7, 8][-1:]\n",
    "signal_names = [\"signal_2\", \"signal_3\", \"signal_4\", \"signal_5\", \"signal_6\", \"signal_7\", \"signal\"][-1:]\n",
    "signal_key = \"signal\"\n",
    "\n",
    "# model config\n",
    "# alpha158 + signals + position flag + unhold flag + [amount, weight, price, count_day]\n",
    "dim = 158 + len(signal_names) + 1 + 1 + 2\n",
    "feature_buffer_size = 1\n",
    "# number of stock candidates for ranking\n",
    "stock_num = 20"
   ]
  },
  {
   "cell_type": "code",
   "execution_count": 19,
   "metadata": {
    "scrolled": true
   },
   "outputs": [
    {
     "name": "stderr",
     "output_type": "stream",
     "text": [
      "[34473:MainThread](2023-03-18 07:24:08,315) INFO - qlib.Initialization - [config.py:416] - default_conf: client.\n",
      "[34473:MainThread](2023-03-18 07:24:08,323) INFO - qlib.Initialization - [__init__.py:74] - qlib successfully initialized based on client settings.\n",
      "[34473:MainThread](2023-03-18 07:24:08,324) INFO - qlib.Initialization - [__init__.py:76] - data_path={'__DEFAULT_FREQ': PosixPath('/Users/chenglong.chen/.qlib/qlib_data/cn_data')}\n",
      "[34473:MainThread](2023-03-18 07:25:13,587) INFO - qlib.timer - [log.py:128] - Time cost: 65.256s | Loading data Done\n",
      "[34473:MainThread](2023-03-18 07:25:19,446) INFO - qlib.timer - [log.py:128] - Time cost: 4.440s | Fillna Done\n",
      "[34473:MainThread](2023-03-18 07:25:20,271) INFO - qlib.timer - [log.py:128] - Time cost: 0.824s | DropInstrument Done\n",
      "[34473:MainThread](2023-03-18 07:25:21,273) INFO - qlib.timer - [log.py:128] - Time cost: 0.462s | DropnaLabel Done\n",
      "[34473:MainThread](2023-03-18 07:25:28,888) INFO - qlib.timer - [log.py:128] - Time cost: 7.614s | CSZScoreNorm Done\n",
      "[34473:MainThread](2023-03-18 07:25:28,953) INFO - qlib.timer - [log.py:128] - Time cost: 15.363s | fit & process data Done\n",
      "[34473:MainThread](2023-03-18 07:25:28,954) INFO - qlib.timer - [log.py:128] - Time cost: 80.624s | Init data Done\n",
      "[34473:MainThread](2023-03-18 07:25:33,309) INFO - qlib.workflow - [exp.py:258] - Experiment 3 starts running ...\n",
      "[34473:MainThread](2023-03-18 07:25:33,467) INFO - qlib.workflow - [recorder.py:341] - Recorder 9b01a7f085b8445d9a050610a6ccddf5 starts running under Experiment 3 ...\n",
      "/Users/chenglong.chen/Library/Python/3.8/lib/python/site-packages/sklearn/utils/multiclass.py:14: DeprecationWarning:\n",
      "\n",
      "Please use `spmatrix` from the `scipy.sparse` namespace, the `scipy.sparse.base` namespace is deprecated.\n",
      "\n"
     ]
    },
    {
     "name": "stdout",
     "output_type": "stream",
     "text": [
      "ModuleNotFoundError. CatBoostModel are skipped. (optional: maybe installing CatBoostModel can fix it.)\n"
     ]
    },
    {
     "name": "stderr",
     "output_type": "stream",
     "text": [
      "/Users/chenglong.chen/Library/Python/3.8/lib/python/site-packages/sklearn/utils/optimize.py:18: DeprecationWarning:\n",
      "\n",
      "Please use `line_search_wolfe2` from the `scipy.optimize` namespace, the `scipy.optimize.linesearch` namespace is deprecated.\n",
      "\n",
      "/Users/chenglong.chen/Library/Python/3.8/lib/python/site-packages/sklearn/utils/optimize.py:18: DeprecationWarning:\n",
      "\n",
      "Please use `line_search_wolfe1` from the `scipy.optimize` namespace, the `scipy.optimize.linesearch` namespace is deprecated.\n",
      "\n"
     ]
    },
    {
     "name": "stdout",
     "output_type": "stream",
     "text": [
      "Training until validation scores don't improve for 50 rounds\n",
      "[20]\ttrain's l2: 0.961997\tvalid's l2: 0.986656\n",
      "[40]\ttrain's l2: 0.941246\tvalid's l2: 0.985369\n",
      "[60]\ttrain's l2: 0.924647\tvalid's l2: 0.986241\n",
      "[80]\ttrain's l2: 0.909259\tvalid's l2: 0.98719\n",
      "Early stopping, best iteration is:\n",
      "[36]\ttrain's l2: 0.945509\tvalid's l2: 0.985177\n"
     ]
    },
    {
     "name": "stderr",
     "output_type": "stream",
     "text": [
      "[34473:MainThread](2023-03-18 07:26:06,413) INFO - qlib.workflow - [record_temp.py:196] - Signal record 'pred.pkl' has been saved as the artifact of the Experiment 3\n"
     ]
    },
    {
     "name": "stdout",
     "output_type": "stream",
     "text": [
      "'The following are prediction results of the LGBModel model.'\n",
      "                          score\n",
      "datetime   instrument          \n",
      "2019-01-02 SH600000   -0.077803\n",
      "           SH600004   -0.108537\n",
      "           SH600009    0.248091\n",
      "           SH600010   -0.010179\n",
      "           SH600011    0.030957\n"
     ]
    },
    {
     "name": "stderr",
     "output_type": "stream",
     "text": [
      "[34473:MainThread](2023-03-18 07:26:08,164) INFO - qlib.timer - [log.py:128] - Time cost: 0.000s | waiting `async_log` Done\n"
     ]
    }
   ],
   "source": [
    "config = get_all_config(days_ahead=days_aheads[-1], hold_thresh=hold_thresh)\n",
    "signal, rid = prepare_signal(days_aheads, signal_names, hold_thresh)"
   ]
  },
  {
   "cell_type": "markdown",
   "metadata": {},
   "source": [
    "# RL"
   ]
  },
  {
   "cell_type": "code",
   "execution_count": 20,
   "metadata": {},
   "outputs": [
    {
     "name": "stderr",
     "output_type": "stream",
     "text": [
      "/Library/Frameworks/Python.framework/Versions/3.8/lib/python3.8/site-packages/ipykernel/ipkernel.py:283: DeprecationWarning:\n",
      "\n",
      "`should_run_async` will not call `transform_cell` automatically in the future. Please pass the result to `transformed_cell` argument and any exception that happen during thetransform in `preprocessing_exc_tuple` in IPython 7.17 and above.\n",
      "\n",
      "/Library/Frameworks/Python.framework/Versions/3.8/lib/python3.8/site-packages/h5py/__init__.py:46: DeprecationWarning:\n",
      "\n",
      "`np.typeDict` is a deprecated alias for `np.sctypeDict`.\n",
      "\n"
     ]
    }
   ],
   "source": [
    "from qlib.contrib.evaluate import risk_analysis\n",
    "from qlib.rl.trainer import Checkpoint, EarlyStopping, MetricsWriter, train, backtest\n",
    "from qlib.rl.utils.log import CsvWriter"
   ]
  },
  {
   "cell_type": "code",
   "execution_count": 21,
   "metadata": {},
   "outputs": [
    {
     "name": "stderr",
     "output_type": "stream",
     "text": [
      "/Library/Frameworks/Python.framework/Versions/3.8/lib/python3.8/site-packages/ipykernel/ipkernel.py:283: DeprecationWarning:\n",
      "\n",
      "`should_run_async` will not call `transform_cell` automatically in the future. Please pass the result to `transformed_cell` argument and any exception that happen during thetransform in `preprocessing_exc_tuple` in IPython 7.17 and above.\n",
      "\n"
     ]
    }
   ],
   "source": [
    "from tianshou.data import Batch"
   ]
  },
  {
   "cell_type": "code",
   "execution_count": 43,
   "metadata": {},
   "outputs": [
    {
     "name": "stderr",
     "output_type": "stream",
     "text": [
      "/Library/Frameworks/Python.framework/Versions/3.8/lib/python3.8/site-packages/ipykernel/ipkernel.py:283: DeprecationWarning:\n",
      "\n",
      "`should_run_async` will not call `transform_cell` automatically in the future. Please pass the result to `transformed_cell` argument and any exception that happen during thetransform in `preprocessing_exc_tuple` in IPython 7.17 and above.\n",
      "\n"
     ]
    }
   ],
   "source": [
    "from longcapital.rl.order_execution.reward import (\n",
    "    ExcessReturnReward, \n",
    "    EpisodeInformationRatioReward, \n",
    "    ExecutionInformationRatioReward, \n",
    "    ExcessExecutionInformationRatioReward\n",
    ")\n",
    "from longcapital.rl.order_execution.state import TradeStrategyInitiateState\n",
    "from longcapital.rl.order_execution.strategy import (\n",
    "    TopkDropoutStrategy, \n",
    "    TopkDropoutSignalStrategy, \n",
    "    TopkDropoutSelectionStrategy,\n",
    "    TopkDropoutDynamicStrategy,\n",
    "    TopkStrategy, \n",
    "    WeightStrategy\n",
    ")\n",
    "from longcapital.rl.order_execution.simulator import TradeStrategySimulator\n",
    "from longcapital.rl.order_execution.policy import continuous\n",
    "from longcapital.rl.order_execution.policy import discrete"
   ]
  },
  {
   "cell_type": "markdown",
   "metadata": {},
   "source": [
    "## Check Simulator"
   ]
  },
  {
   "cell_type": "code",
   "execution_count": 44,
   "metadata": {},
   "outputs": [],
   "source": [
    "def check_simulator(trade_strategy, simulator):\n",
    "    reward = EpisodeInformationRatioReward(scale=1.)\n",
    "    state = simulator.get_state()\n",
    "    obs = [{\"obs\": trade_strategy.state_interpreter.interpret(state), \"info\": {}}]\n",
    "\n",
    "    policy_out = trade_strategy.policy(Batch(obs))\n",
    "\n",
    "    act = trade_strategy.action_interpreter.interpret(state, policy_out.act)\n",
    "    print(f\"Action = {act}\")\n",
    "\n",
    "    simulator.step(act)\n",
    "    rew = float(reward.reward(simulator.get_state()))\n",
    "    print(f\"Reward = {rew:.6f}\")"
   ]
  },
  {
   "cell_type": "code",
   "execution_count": 45,
   "metadata": {},
   "outputs": [],
   "source": [
    "initial_states_train = [\n",
    "    TradeStrategyInitiateState(\n",
    "        start_time=get_diff_date(config[\"date\"][\"valid\"][\"start\"], 7), # to avoid start_time not tradable\n",
    "        end_time=config[\"date\"][\"valid\"][\"end\"],\n",
    "        sample_date=False\n",
    "    )\n",
    "]\n",
    "initial_states_valid = [\n",
    "    TradeStrategyInitiateState(\n",
    "        start_time=config[\"date\"][\"backtest\"][\"start\"],\n",
    "        end_time=config[\"date\"][\"backtest\"][\"end\"],\n",
    "        sample_date=False\n",
    "    )\n",
    "]"
   ]
  },
  {
   "cell_type": "code",
   "execution_count": 46,
   "metadata": {},
   "outputs": [],
   "source": [
    "topk_dropout_strategy = TopkDropoutStrategy(\n",
    "    signal=signal,\n",
    "    dim=dim,\n",
    "    stock_num=stock_num,\n",
    "    topk=topk,\n",
    "    n_drop=n_drop,\n",
    "    only_tradable=True,\n",
    "    hold_thresh=hold_thresh,\n",
    "    signal_key=\"signal\",\n",
    "    policy_cls=discrete.PPO,\n",
    "    feature_buffer_size=feature_buffer_size\n",
    ")"
   ]
  },
  {
   "cell_type": "code",
   "execution_count": 47,
   "metadata": {},
   "outputs": [
    {
     "name": "stderr",
     "output_type": "stream",
     "text": [
      "[34473:MainThread](2023-03-18 07:31:31,835) INFO - qlib.backtest caller - [__init__.py:93] - Create new exchange\n",
      "[34473:MainThread](2023-03-18 07:31:42,513) WARNING - qlib.online operator - [exchange.py:219] - $open field data contains nan.\n",
      "[34473:MainThread](2023-03-18 07:31:42,515) WARNING - qlib.online operator - [exchange.py:219] - $open field data contains nan.\n"
     ]
    },
    {
     "name": "stdout",
     "output_type": "stream",
     "text": [
      "start_time: 2017-01-08, end_time: 2018-12-31\n"
     ]
    }
   ],
   "source": [
    "topk_dropout_simulator = TradeStrategySimulator(\n",
    "    trade_strategy=topk_dropout_strategy, \n",
    "    initial_state=initial_states_train[0], \n",
    "    account=account,\n",
    "    benchmark=config[\"backtest\"][\"benchmark\"],\n",
    "    exchange_kwargs=config[\"backtest\"][\"exchange_kwargs\"]\n",
    ")"
   ]
  },
  {
   "cell_type": "code",
   "execution_count": 48,
   "metadata": {},
   "outputs": [
    {
     "name": "stdout",
     "output_type": "stream",
     "text": [
      "Action = TopkDropoutStrategyAction(n_drop=6)\n",
      "Reward = 0.000000\n"
     ]
    },
    {
     "name": "stderr",
     "output_type": "stream",
     "text": [
      "/Library/Frameworks/Python.framework/Versions/3.8/lib/python3.8/site-packages/ipykernel/ipkernel.py:283: DeprecationWarning:\n",
      "\n",
      "`should_run_async` will not call `transform_cell` automatically in the future. Please pass the result to `transformed_cell` argument and any exception that happen during thetransform in `preprocessing_exc_tuple` in IPython 7.17 and above.\n",
      "\n"
     ]
    }
   ],
   "source": [
    "check_simulator(topk_dropout_strategy, topk_dropout_simulator)"
   ]
  },
  {
   "cell_type": "code",
   "execution_count": 49,
   "metadata": {},
   "outputs": [
    {
     "name": "stderr",
     "output_type": "stream",
     "text": [
      "/Library/Frameworks/Python.framework/Versions/3.8/lib/python3.8/site-packages/ipykernel/ipkernel.py:283: DeprecationWarning:\n",
      "\n",
      "`should_run_async` will not call `transform_cell` automatically in the future. Please pass the result to `transformed_cell` argument and any exception that happen during thetransform in `preprocessing_exc_tuple` in IPython 7.17 and above.\n",
      "\n"
     ]
    }
   ],
   "source": [
    "topk_dropout_signal_strategy = TopkDropoutSignalStrategy(\n",
    "    signal=signal,\n",
    "    dim=dim,\n",
    "    stock_num=stock_num,\n",
    "    topk=topk,\n",
    "    n_drop=n_drop,\n",
    "    only_tradable=True,\n",
    "    hold_thresh=hold_thresh,\n",
    "    signal_key=\"signal\",\n",
    "    policy_cls=continuous.MetaPPO,\n",
    "    feature_buffer_size=feature_buffer_size\n",
    ")"
   ]
  },
  {
   "cell_type": "code",
   "execution_count": 50,
   "metadata": {},
   "outputs": [
    {
     "name": "stderr",
     "output_type": "stream",
     "text": [
      "[34473:MainThread](2023-03-18 07:31:44,083) INFO - qlib.backtest caller - [__init__.py:93] - Create new exchange\n",
      "[34473:MainThread](2023-03-18 07:31:58,160) WARNING - qlib.online operator - [exchange.py:219] - $open field data contains nan.\n",
      "[34473:MainThread](2023-03-18 07:31:58,163) WARNING - qlib.online operator - [exchange.py:219] - $open field data contains nan.\n"
     ]
    },
    {
     "name": "stdout",
     "output_type": "stream",
     "text": [
      "start_time: 2017-01-08, end_time: 2018-12-31\n"
     ]
    }
   ],
   "source": [
    "topk_dropout_signal_simulator = TradeStrategySimulator(\n",
    "    trade_strategy=topk_dropout_signal_strategy, \n",
    "    initial_state=initial_states_train[0], \n",
    "    account=account,\n",
    "    benchmark=config[\"backtest\"][\"benchmark\"],\n",
    "    exchange_kwargs=config[\"backtest\"][\"exchange_kwargs\"]\n",
    ")"
   ]
  },
  {
   "cell_type": "code",
   "execution_count": 51,
   "metadata": {},
   "outputs": [
    {
     "name": "stdout",
     "output_type": "stream",
     "text": [
      "Action = TopkDropoutSignalStrategyAction(signal=instrument\n",
      "SH600519   -3.439271\n",
      "SH600703    0.276011\n",
      "SZ000568   -0.809705\n",
      "SH600660   -0.339498\n",
      "SZ000858   -0.442969\n",
      "SZ002304   -0.049251\n",
      "SH600196   -1.340284\n",
      "SZ300070    1.281227\n",
      "SZ000768   -0.137250\n",
      "SH600023   -0.731666\n",
      "SH600297    0.279189\n",
      "SH601888   -2.166513\n",
      "SZ002475   -1.043969\n",
      "SH600383    0.398076\n",
      "SZ002008    1.786606\n",
      "SZ000063    0.308335\n",
      "SH601333   -2.288858\n",
      "SH600372   -0.872858\n",
      "SH600688    0.350583\n",
      "SH601939   -1.037247\n",
      "Name: (feature, signal), dtype: float64)\n",
      "Reward = 0.000000\n"
     ]
    },
    {
     "name": "stderr",
     "output_type": "stream",
     "text": [
      "/Library/Frameworks/Python.framework/Versions/3.8/lib/python3.8/site-packages/ipykernel/ipkernel.py:283: DeprecationWarning:\n",
      "\n",
      "`should_run_async` will not call `transform_cell` automatically in the future. Please pass the result to `transformed_cell` argument and any exception that happen during thetransform in `preprocessing_exc_tuple` in IPython 7.17 and above.\n",
      "\n"
     ]
    }
   ],
   "source": [
    "check_simulator(topk_dropout_signal_strategy, topk_dropout_signal_simulator)"
   ]
  },
  {
   "cell_type": "code",
   "execution_count": 52,
   "metadata": {},
   "outputs": [
    {
     "name": "stderr",
     "output_type": "stream",
     "text": [
      "/Library/Frameworks/Python.framework/Versions/3.8/lib/python3.8/site-packages/ipykernel/ipkernel.py:283: DeprecationWarning:\n",
      "\n",
      "`should_run_async` will not call `transform_cell` automatically in the future. Please pass the result to `transformed_cell` argument and any exception that happen during thetransform in `preprocessing_exc_tuple` in IPython 7.17 and above.\n",
      "\n"
     ]
    }
   ],
   "source": [
    "topk_dropout_selection_strategy = TopkDropoutSelectionStrategy(\n",
    "    signal=signal,\n",
    "    dim=dim,\n",
    "    stock_num=stock_num,\n",
    "    topk=topk,\n",
    "    n_drop=n_drop,\n",
    "    only_tradable=True,\n",
    "    hold_thresh=hold_thresh,\n",
    "    signal_key=\"signal\",\n",
    "    policy_cls=discrete.PPO,\n",
    "    feature_buffer_size=feature_buffer_size\n",
    ")"
   ]
  },
  {
   "cell_type": "code",
   "execution_count": 53,
   "metadata": {},
   "outputs": [
    {
     "name": "stderr",
     "output_type": "stream",
     "text": [
      "[34473:MainThread](2023-03-18 07:31:59,690) INFO - qlib.backtest caller - [__init__.py:93] - Create new exchange\n",
      "[34473:MainThread](2023-03-18 07:32:11,608) WARNING - qlib.online operator - [exchange.py:219] - $open field data contains nan.\n",
      "[34473:MainThread](2023-03-18 07:32:11,614) WARNING - qlib.online operator - [exchange.py:219] - $open field data contains nan.\n"
     ]
    },
    {
     "name": "stdout",
     "output_type": "stream",
     "text": [
      "start_time: 2017-01-08, end_time: 2018-12-31\n"
     ]
    }
   ],
   "source": [
    "topk_dropout_selction_simulator = TradeStrategySimulator(\n",
    "    trade_strategy=topk_dropout_selection_strategy, \n",
    "    initial_state=initial_states_train[0], \n",
    "    account=account,\n",
    "    benchmark=config[\"backtest\"][\"benchmark\"],\n",
    "    exchange_kwargs=config[\"backtest\"][\"exchange_kwargs\"]\n",
    ")"
   ]
  },
  {
   "cell_type": "code",
   "execution_count": 54,
   "metadata": {},
   "outputs": [
    {
     "name": "stdout",
     "output_type": "stream",
     "text": [
      "Action = TopkDropoutSignalStrategyAction(signal=instrument\n",
      "SH600519    0.255932\n",
      "SH600703    0.240300\n",
      "SZ000568    0.235384\n",
      "SH600660    0.230448\n",
      "SZ000858    0.207171\n",
      "SZ002304    0.203800\n",
      "SH600196    0.190205\n",
      "SZ300070    0.188669\n",
      "SZ000768    0.188146\n",
      "SH600023    0.174263\n",
      "SH600297    0.173814\n",
      "SH601888    0.171736\n",
      "SZ002475    0.166362\n",
      "SH600383    0.160947\n",
      "SZ002008    0.160311\n",
      "SZ000063    0.158970\n",
      "SH601333    0.157508\n",
      "SH600372    0.155727\n",
      "SH600688    0.152897\n",
      "SH601939    0.146187\n",
      "Name: (feature, signal), dtype: float64)\n",
      "Reward = 0.000000\n"
     ]
    },
    {
     "name": "stderr",
     "output_type": "stream",
     "text": [
      "/Library/Frameworks/Python.framework/Versions/3.8/lib/python3.8/site-packages/ipykernel/ipkernel.py:283: DeprecationWarning:\n",
      "\n",
      "`should_run_async` will not call `transform_cell` automatically in the future. Please pass the result to `transformed_cell` argument and any exception that happen during thetransform in `preprocessing_exc_tuple` in IPython 7.17 and above.\n",
      "\n"
     ]
    }
   ],
   "source": [
    "check_simulator(topk_dropout_selection_strategy, topk_dropout_selction_simulator)"
   ]
  },
  {
   "cell_type": "code",
   "execution_count": 55,
   "metadata": {},
   "outputs": [
    {
     "name": "stderr",
     "output_type": "stream",
     "text": [
      "/Library/Frameworks/Python.framework/Versions/3.8/lib/python3.8/site-packages/ipykernel/ipkernel.py:283: DeprecationWarning:\n",
      "\n",
      "`should_run_async` will not call `transform_cell` automatically in the future. Please pass the result to `transformed_cell` argument and any exception that happen during thetransform in `preprocessing_exc_tuple` in IPython 7.17 and above.\n",
      "\n"
     ]
    }
   ],
   "source": [
    "topk_dropout_dynamic_strategy = TopkDropoutDynamicStrategy(\n",
    "    signal=signal,\n",
    "    dim=dim,\n",
    "    stock_num=stock_num,\n",
    "    topk=topk,\n",
    "    n_drop=n_drop,\n",
    "    only_tradable=True,\n",
    "    hold_thresh=hold_thresh,\n",
    "    signal_key=\"signal\",\n",
    "    policy_cls=continuous.MetaPPO,\n",
    "    feature_buffer_size=feature_buffer_size\n",
    ")"
   ]
  },
  {
   "cell_type": "code",
   "execution_count": 56,
   "metadata": {},
   "outputs": [
    {
     "name": "stderr",
     "output_type": "stream",
     "text": [
      "[34473:MainThread](2023-03-18 07:32:13,460) INFO - qlib.backtest caller - [__init__.py:93] - Create new exchange\n",
      "[34473:MainThread](2023-03-18 07:32:27,079) WARNING - qlib.online operator - [exchange.py:219] - $open field data contains nan.\n",
      "[34473:MainThread](2023-03-18 07:32:27,082) WARNING - qlib.online operator - [exchange.py:219] - $open field data contains nan.\n"
     ]
    },
    {
     "name": "stdout",
     "output_type": "stream",
     "text": [
      "start_time: 2017-01-08, end_time: 2018-12-31\n"
     ]
    }
   ],
   "source": [
    "topk_dropout_dynamic_simulator = TradeStrategySimulator(\n",
    "    trade_strategy=topk_dropout_dynamic_strategy, \n",
    "    initial_state=initial_states_train[0], \n",
    "    account=account,\n",
    "    benchmark=config[\"backtest\"][\"benchmark\"],\n",
    "    exchange_kwargs=config[\"backtest\"][\"exchange_kwargs\"]\n",
    ")"
   ]
  },
  {
   "cell_type": "code",
   "execution_count": 57,
   "metadata": {},
   "outputs": [
    {
     "name": "stderr",
     "output_type": "stream",
     "text": [
      "/Library/Frameworks/Python.framework/Versions/3.8/lib/python3.8/site-packages/ipykernel/ipkernel.py:283: DeprecationWarning:\n",
      "\n",
      "`should_run_async` will not call `transform_cell` automatically in the future. Please pass the result to `transformed_cell` argument and any exception that happen during thetransform in `preprocessing_exc_tuple` in IPython 7.17 and above.\n",
      "\n"
     ]
    },
    {
     "name": "stdout",
     "output_type": "stream",
     "text": [
      "Action = TopkDropoutDynamicStrategyAction(signal=instrument\n",
      "SH600519    1.0\n",
      "SH600703    1.0\n",
      "SZ000568    1.0\n",
      "SH600660    1.0\n",
      "SZ000858    0.0\n",
      "SZ002304    1.0\n",
      "SH600196    0.0\n",
      "SZ300070    1.0\n",
      "SZ000768    1.0\n",
      "SH600023    0.0\n",
      "SH600297    0.0\n",
      "SH601888    1.0\n",
      "SZ002475    0.0\n",
      "SH600383    0.0\n",
      "SZ002008    1.0\n",
      "SZ000063    0.0\n",
      "SH601333    0.0\n",
      "SH600372    0.0\n",
      "SH600688    1.0\n",
      "SH601939    0.0\n",
      "Name: (feature, signal), dtype: float64, topk=10, n_drop=0)\n",
      "Reward = 0.000000\n"
     ]
    }
   ],
   "source": [
    "check_simulator(topk_dropout_dynamic_strategy, topk_dropout_dynamic_simulator)"
   ]
  },
  {
   "cell_type": "code",
   "execution_count": 58,
   "metadata": {},
   "outputs": [
    {
     "name": "stderr",
     "output_type": "stream",
     "text": [
      "/Library/Frameworks/Python.framework/Versions/3.8/lib/python3.8/site-packages/ipykernel/ipkernel.py:283: DeprecationWarning:\n",
      "\n",
      "`should_run_async` will not call `transform_cell` automatically in the future. Please pass the result to `transformed_cell` argument and any exception that happen during thetransform in `preprocessing_exc_tuple` in IPython 7.17 and above.\n",
      "\n"
     ]
    }
   ],
   "source": [
    "topk_strategy = TopkStrategy(\n",
    "    signal=signal,\n",
    "    dim=dim,\n",
    "    stock_num=stock_num,\n",
    "    signal_key=\"signal\",\n",
    "    policy_cls=discrete.MetaPPO,\n",
    "    feature_buffer_size=feature_buffer_size\n",
    ")"
   ]
  },
  {
   "cell_type": "code",
   "execution_count": 59,
   "metadata": {},
   "outputs": [
    {
     "name": "stderr",
     "output_type": "stream",
     "text": [
      "[34473:MainThread](2023-03-18 07:32:29,561) INFO - qlib.backtest caller - [__init__.py:93] - Create new exchange\n",
      "[34473:MainThread](2023-03-18 07:32:41,954) WARNING - qlib.online operator - [exchange.py:219] - $open field data contains nan.\n",
      "[34473:MainThread](2023-03-18 07:32:41,957) WARNING - qlib.online operator - [exchange.py:219] - $open field data contains nan.\n"
     ]
    },
    {
     "name": "stdout",
     "output_type": "stream",
     "text": [
      "start_time: 2017-01-08, end_time: 2018-12-31\n"
     ]
    }
   ],
   "source": [
    "topk_simulator = TradeStrategySimulator(\n",
    "    trade_strategy=topk_strategy, \n",
    "    initial_state=initial_states_train[0], \n",
    "    account=account,\n",
    "    benchmark=config[\"backtest\"][\"benchmark\"],\n",
    "    exchange_kwargs=config[\"backtest\"][\"exchange_kwargs\"]\n",
    ")"
   ]
  },
  {
   "cell_type": "code",
   "execution_count": 60,
   "metadata": {},
   "outputs": [
    {
     "name": "stdout",
     "output_type": "stream",
     "text": [
      "Action = WeightStrategyAction(target_weight_position={'SH600519': 0.125, 'SZ300070': 0.125, 'SZ002475': 0.125, 'SZ002008': 0.125, 'SZ000063': 0.125, 'SH601333': 0.125, 'SH600372': 0.125, 'SH600688': 0.125})\n",
      "Reward = 0.000000\n"
     ]
    },
    {
     "name": "stderr",
     "output_type": "stream",
     "text": [
      "/Library/Frameworks/Python.framework/Versions/3.8/lib/python3.8/site-packages/ipykernel/ipkernel.py:283: DeprecationWarning:\n",
      "\n",
      "`should_run_async` will not call `transform_cell` automatically in the future. Please pass the result to `transformed_cell` argument and any exception that happen during thetransform in `preprocessing_exc_tuple` in IPython 7.17 and above.\n",
      "\n"
     ]
    }
   ],
   "source": [
    "check_simulator(topk_strategy, topk_simulator)"
   ]
  },
  {
   "cell_type": "code",
   "execution_count": 61,
   "metadata": {},
   "outputs": [
    {
     "name": "stderr",
     "output_type": "stream",
     "text": [
      "/Library/Frameworks/Python.framework/Versions/3.8/lib/python3.8/site-packages/ipykernel/ipkernel.py:283: DeprecationWarning:\n",
      "\n",
      "`should_run_async` will not call `transform_cell` automatically in the future. Please pass the result to `transformed_cell` argument and any exception that happen during thetransform in `preprocessing_exc_tuple` in IPython 7.17 and above.\n",
      "\n"
     ]
    }
   ],
   "source": [
    "weight_strategy = WeightStrategy(\n",
    "    signal=signal,\n",
    "    dim=dim,\n",
    "    stock_num=stock_num,\n",
    "    topk=topk,\n",
    "    signal_key=\"signal\",\n",
    "    policy_cls=continuous.MetaPPO,\n",
    "    feature_buffer_size=feature_buffer_size\n",
    ")"
   ]
  },
  {
   "cell_type": "code",
   "execution_count": 62,
   "metadata": {},
   "outputs": [
    {
     "name": "stderr",
     "output_type": "stream",
     "text": [
      "[34473:MainThread](2023-03-18 07:32:43,420) INFO - qlib.backtest caller - [__init__.py:93] - Create new exchange\n",
      "[34473:MainThread](2023-03-18 07:32:53,798) WARNING - qlib.online operator - [exchange.py:219] - $open field data contains nan.\n",
      "[34473:MainThread](2023-03-18 07:32:53,801) WARNING - qlib.online operator - [exchange.py:219] - $open field data contains nan.\n"
     ]
    },
    {
     "name": "stdout",
     "output_type": "stream",
     "text": [
      "start_time: 2017-01-08, end_time: 2018-12-31\n"
     ]
    }
   ],
   "source": [
    "weight_strategy_simulator = TradeStrategySimulator(\n",
    "    trade_strategy=weight_strategy, \n",
    "    initial_state=initial_states_train[0], \n",
    "    account=account,\n",
    "    benchmark=config[\"backtest\"][\"benchmark\"],\n",
    "    exchange_kwargs=config[\"backtest\"][\"exchange_kwargs\"]\n",
    ")"
   ]
  },
  {
   "cell_type": "code",
   "execution_count": 63,
   "metadata": {},
   "outputs": [
    {
     "name": "stdout",
     "output_type": "stream",
     "text": [
      "Action = WeightStrategyAction(target_weight_position={'SZ300070': 0.1, 'SH600383': 0.1, 'SZ000063': 0.1, 'SH601333': 0.1, 'SZ000768': 0.1, 'SZ002304': 0.1, 'SH600023': 0.1, 'SZ002008': 0.1, 'SH600196': 0.1, 'SH600660': 0.1})\n"
     ]
    },
    {
     "name": "stderr",
     "output_type": "stream",
     "text": [
      "/Library/Frameworks/Python.framework/Versions/3.8/lib/python3.8/site-packages/ipykernel/ipkernel.py:283: DeprecationWarning:\n",
      "\n",
      "`should_run_async` will not call `transform_cell` automatically in the future. Please pass the result to `transformed_cell` argument and any exception that happen during thetransform in `preprocessing_exc_tuple` in IPython 7.17 and above.\n",
      "\n"
     ]
    },
    {
     "name": "stdout",
     "output_type": "stream",
     "text": [
      "Reward = 0.000000\n"
     ]
    }
   ],
   "source": [
    "check_simulator(weight_strategy, weight_strategy_simulator)"
   ]
  },
  {
   "cell_type": "markdown",
   "metadata": {},
   "source": [
    "## Train Policy"
   ]
  },
  {
   "cell_type": "code",
   "execution_count": 64,
   "metadata": {
    "scrolled": true
   },
   "outputs": [
    {
     "name": "stderr",
     "output_type": "stream",
     "text": [
      "/Library/Frameworks/Python.framework/Versions/3.8/lib/python3.8/site-packages/ipykernel/ipkernel.py:283: DeprecationWarning:\n",
      "\n",
      "`should_run_async` will not call `transform_cell` automatically in the future. Please pass the result to `transformed_cell` argument and any exception that happen during thetransform in `preprocessing_exc_tuple` in IPython 7.17 and above.\n",
      "\n"
     ]
    }
   ],
   "source": [
    "def train_trade_strategy(trade_strategy, max_iters=2, concurrency=1, episode_per_iter=1):\n",
    "    def _exploration_noise():\n",
    "        if trade_strategy.policy_cls in [continuous.MetaDDPG, continuous.MetaTD3, continuous.MetaSAC]:\n",
    "            return True\n",
    "        return False\n",
    "    \n",
    "    def _start_episodes():\n",
    "        if trade_strategy.policy_cls in [continuous.MetaDDPG, continuous.MetaTD3, continuous.MetaSAC]:\n",
    "            return 5 * episode_per_iter\n",
    "        return None\n",
    "    \n",
    "    reward = EpisodeInformationRatioReward(scale=1.)\n",
    "    val_reward = EpisodeInformationRatioReward(scale=1.)\n",
    "    \n",
    "    output_dir = f'../records/EpisodeInformationRatioReward/{trade_strategy}/{trade_strategy.policy}/{datetime.datetime.now().strftime(\"%Y_%m_%d_%H_%M\")}'\n",
    "    \n",
    "    trainer_kwargs = {\n",
    "        \"max_iters\": max_iters,\n",
    "        \"finite_env_type\": \"dummy\",\n",
    "        \"concurrency\": concurrency,\n",
    "        \"val_every_n_iters\": 1,\n",
    "        \"callbacks\": [\n",
    "            Checkpoint(\n",
    "                dirpath=Path(f\"{output_dir}/checkpoints\"),\n",
    "                every_n_iters=1,\n",
    "                save_latest=\"copy\",\n",
    "            ),\n",
    "            EarlyStopping(\n",
    "                monitor=\"reward\", \n",
    "                min_delta=0.0, \n",
    "                patience=1000, \n",
    "                restore_best_weights=True\n",
    "            ),\n",
    "            MetricsWriter(\n",
    "                dirpath=Path(f\"{output_dir}/metrics\")\n",
    "            ),\n",
    "        ],\n",
    "    }\n",
    "    vessel_kwargs = {\n",
    "        \"update_kwargs\": {\"batch_size\": 64, \"repeat\": 5},\n",
    "        \"episode_per_iter\": episode_per_iter,\n",
    "        \"val_initial_states\": initial_states_valid,\n",
    "        \"exploration_noise\": _exploration_noise(),\n",
    "        \"start_episodes\": _start_episodes(),\n",
    "    }\n",
    "    \n",
    "    simulator_fn=lambda initial_state: TradeStrategySimulator(\n",
    "        trade_strategy=trade_strategy, \n",
    "        initial_state=initial_state, \n",
    "        account=account,\n",
    "        benchmark=config[\"backtest\"][\"benchmark\"],\n",
    "        exchange_kwargs=config[\"backtest\"][\"exchange_kwargs\"]\n",
    "    )\n",
    "    \n",
    "    # baseline\n",
    "    baseline_logger = CsvWriter(\n",
    "        output_dir=Path(f\"{output_dir}/baseline\")\n",
    "    )\n",
    "    backtest(\n",
    "        simulator_fn=simulator_fn,\n",
    "        state_interpreter=trade_strategy.state_interpreter,\n",
    "        action_interpreter=trade_strategy.baseline_action_interpreter,\n",
    "        policy=trade_strategy.policy,\n",
    "        reward=val_reward,\n",
    "        initial_states=initial_states_valid,\n",
    "        finite_env_type=trainer_kwargs[\"finite_env_type\"],\n",
    "        logger=[baseline_logger]\n",
    "    )\n",
    "    del baseline_logger\n",
    "    \n",
    "    # train\n",
    "    train(\n",
    "        simulator_fn=simulator_fn,\n",
    "        state_interpreter=trade_strategy.state_interpreter,\n",
    "        action_interpreter=trade_strategy.action_interpreter,\n",
    "        policy=trade_strategy.policy,\n",
    "        reward=reward,\n",
    "        val_reward=val_reward,\n",
    "        initial_states=initial_states_train,\n",
    "        trainer_kwargs=trainer_kwargs,\n",
    "        vessel_kwargs=vessel_kwargs\n",
    "    )"
   ]
  },
  {
   "cell_type": "code",
   "execution_count": 65,
   "metadata": {
    "scrolled": true
   },
   "outputs": [],
   "source": [
    "# train_trade_strategy(trade_strategy=topk_dropout_strategy, max_iters=1000, concurrency=1)"
   ]
  },
  {
   "cell_type": "code",
   "execution_count": 66,
   "metadata": {
    "scrolled": true
   },
   "outputs": [],
   "source": [
    "# train_trade_strategy(trade_strategy=topk_dropout_signal_strategy, max_iters=1000, concurrency=1)"
   ]
  },
  {
   "cell_type": "code",
   "execution_count": 67,
   "metadata": {},
   "outputs": [],
   "source": [
    "# train_trade_strategy(trade_strategy=topk_dropout_selection_strategy, max_iters=1000, concurrency=1)"
   ]
  },
  {
   "cell_type": "code",
   "execution_count": null,
   "metadata": {},
   "outputs": [
    {
     "name": "stderr",
     "output_type": "stream",
     "text": [
      "[34473:MainThread](2023-03-18 07:32:55,567) INFO - qlib.rl.trainer.vessel - [vessel.py:166] - Testing initial states collection size: 1\n",
      "[34473:MainThread](2023-03-18 07:32:55,569) INFO - qlib.rl.utils.data_queue - [data_queue.py:70] - Automatically set data queue maxsize to 12 to avoid overwhelming.\n",
      "[34473:MainThread](2023-03-18 07:32:56,857) INFO - qlib.backtest caller - [__init__.py:93] - Create new exchange\n",
      "[34473:MainThread](2023-03-18 07:33:07,080) WARNING - qlib.online operator - [exchange.py:219] - $open field data contains nan.\n",
      "[34473:MainThread](2023-03-18 07:33:07,083) WARNING - qlib.online operator - [exchange.py:219] - $open field data contains nan.\n"
     ]
    },
    {
     "name": "stdout",
     "output_type": "stream",
     "text": [
      "start_time: 2019-01-01, end_time: 2023-03-15\n"
     ]
    },
    {
     "name": "stderr",
     "output_type": "stream",
     "text": [
      "[34473:MainThread](2023-03-18 07:33:41,356) INFO - qlib.rl.trainer.trainer - [trainer.py:211] - \n",
      "2023-03-18 07:33:41\tTrain iteration 1/1000\n",
      "[34473:MainThread](2023-03-18 07:33:41,358) INFO - qlib.rl.trainer.vessel - [vessel.py:151] - Training initial states collection size: 1\n",
      "[34473:MainThread](2023-03-18 07:33:41,359) INFO - qlib.rl.utils.data_queue - [data_queue.py:70] - Automatically set data queue maxsize to 12 to avoid overwhelming.\n",
      "[34473:MainThread](2023-03-18 07:33:41,367) INFO - qlib.backtest caller - [__init__.py:93] - Create new exchange\n",
      "[34473:MainThread](2023-03-18 07:33:52,891) WARNING - qlib.online operator - [exchange.py:219] - $open field data contains nan.\n",
      "[34473:MainThread](2023-03-18 07:33:52,894) WARNING - qlib.online operator - [exchange.py:219] - $open field data contains nan.\n"
     ]
    },
    {
     "name": "stdout",
     "output_type": "stream",
     "text": [
      "start_time: 2017-01-08, end_time: 2018-12-31\n"
     ]
    },
    {
     "name": "stderr",
     "output_type": "stream",
     "text": [
      "[34473:MainThread](2023-03-18 07:34:10,321) INFO - qlib.backtest caller - [__init__.py:93] - Create new exchange\n",
      "[34473:MainThread](2023-03-18 07:34:22,377) WARNING - qlib.online operator - [exchange.py:219] - $open field data contains nan.\n",
      "[34473:MainThread](2023-03-18 07:34:22,380) WARNING - qlib.online operator - [exchange.py:219] - $open field data contains nan.\n",
      "[34473:MainThread](2023-03-18 07:34:23,615) INFO - qlib.backtest caller - [__init__.py:93] - Create new exchange\n"
     ]
    },
    {
     "name": "stdout",
     "output_type": "stream",
     "text": [
      "start_time: 2017-01-08, end_time: 2018-12-31\n"
     ]
    },
    {
     "name": "stderr",
     "output_type": "stream",
     "text": [
      "[34473:MainThread](2023-03-18 07:34:33,716) WARNING - qlib.online operator - [exchange.py:219] - $open field data contains nan.\n",
      "[34473:MainThread](2023-03-18 07:34:33,720) WARNING - qlib.online operator - [exchange.py:219] - $open field data contains nan.\n"
     ]
    },
    {
     "name": "stdout",
     "output_type": "stream",
     "text": [
      "start_time: 2017-01-08, end_time: 2018-12-31\n"
     ]
    },
    {
     "name": "stderr",
     "output_type": "stream",
     "text": [
      "[34473:MainThread](2023-03-18 07:34:38,922) INFO - qlib.rl.trainer.vessel - [vessel.py:84] - [Iter 1] n/ep = 1\n",
      "[34473:MainThread](2023-03-18 07:34:38,923) INFO - qlib.rl.trainer.vessel - [vessel.py:84] - [Iter 1] n/st = 483\n",
      "[34473:MainThread](2023-03-18 07:34:38,925) INFO - qlib.rl.trainer.vessel - [vessel.py:84] - [Iter 1] rews = 2.43329750879226\n",
      "[34473:MainThread](2023-03-18 07:34:38,926) INFO - qlib.rl.trainer.vessel - [vessel.py:84] - [Iter 1] lens = 483.0\n",
      "[34473:MainThread](2023-03-18 07:34:38,927) INFO - qlib.rl.trainer.vessel - [vessel.py:84] - [Iter 1] idxs = 0.0\n",
      "[34473:MainThread](2023-03-18 07:34:38,928) INFO - qlib.rl.trainer.vessel - [vessel.py:84] - [Iter 1] rew = 2.43329750879226\n",
      "[34473:MainThread](2023-03-18 07:34:38,930) INFO - qlib.rl.trainer.vessel - [vessel.py:84] - [Iter 1] len = 483.0\n",
      "[34473:MainThread](2023-03-18 07:34:38,931) INFO - qlib.rl.trainer.vessel - [vessel.py:84] - [Iter 1] rew_std = 0.0\n",
      "[34473:MainThread](2023-03-18 07:34:38,932) INFO - qlib.rl.trainer.vessel - [vessel.py:84] - [Iter 1] len_std = 0.0\n",
      "[34473:MainThread](2023-03-18 07:34:38,934) INFO - qlib.rl.trainer.vessel - [vessel.py:84] - [Iter 1] loss = 25.658701160975866\n",
      "[34473:MainThread](2023-03-18 07:34:38,935) INFO - qlib.rl.trainer.vessel - [vessel.py:84] - [Iter 1] loss/clip = 14.698234543630056\n",
      "[34473:MainThread](2023-03-18 07:34:38,936) INFO - qlib.rl.trainer.vessel - [vessel.py:84] - [Iter 1] loss/vf = 10.960466630118233\n",
      "[34473:MainThread](2023-03-18 07:34:38,938) INFO - qlib.rl.trainer.vessel - [vessel.py:84] - [Iter 1] loss/ent = 28.362561580113002\n",
      "[34473:MainThread](2023-03-18 07:34:39,986) INFO - qlib.rl.trainer.vessel - [vessel.py:159] - Validation initial states collection size: 1\n",
      "[34473:MainThread](2023-03-18 07:34:39,987) INFO - qlib.rl.utils.data_queue - [data_queue.py:70] - Automatically set data queue maxsize to 12 to avoid overwhelming.\n",
      "[34473:MainThread](2023-03-18 07:34:40,997) INFO - qlib.backtest caller - [__init__.py:93] - Create new exchange\n",
      "[34473:MainThread](2023-03-18 07:34:51,281) WARNING - qlib.online operator - [exchange.py:219] - $open field data contains nan.\n",
      "[34473:MainThread](2023-03-18 07:34:51,284) WARNING - qlib.online operator - [exchange.py:219] - $open field data contains nan.\n"
     ]
    },
    {
     "name": "stdout",
     "output_type": "stream",
     "text": [
      "start_time: 2019-01-01, end_time: 2023-03-15\n"
     ]
    },
    {
     "name": "stderr",
     "output_type": "stream",
     "text": [
      "[34473:MainThread](2023-03-18 07:35:25,751) INFO - qlib.rl.trainer.callbacks - [callbacks.py:161] - #0 current reward: 2.4333, best reward: 2.4333 in #0\n",
      "[34473:MainThread](2023-03-18 07:35:25,790) INFO - qlib.rl.trainer.trainer - [trainer.py:211] - \n",
      "2023-03-18 07:35:25\tTrain iteration 2/1000\n",
      "[34473:MainThread](2023-03-18 07:35:25,791) INFO - qlib.rl.trainer.vessel - [vessel.py:151] - Training initial states collection size: 1\n",
      "[34473:MainThread](2023-03-18 07:35:25,793) INFO - qlib.rl.utils.data_queue - [data_queue.py:70] - Automatically set data queue maxsize to 12 to avoid overwhelming.\n",
      "[34473:MainThread](2023-03-18 07:35:26,803) INFO - qlib.backtest caller - [__init__.py:93] - Create new exchange\n",
      "[34473:MainThread](2023-03-18 07:35:37,584) WARNING - qlib.online operator - [exchange.py:219] - $open field data contains nan.\n",
      "[34473:MainThread](2023-03-18 07:35:37,587) WARNING - qlib.online operator - [exchange.py:219] - $open field data contains nan.\n"
     ]
    },
    {
     "name": "stdout",
     "output_type": "stream",
     "text": [
      "start_time: 2017-01-08, end_time: 2018-12-31\n"
     ]
    },
    {
     "name": "stderr",
     "output_type": "stream",
     "text": [
      "[34473:MainThread](2023-03-18 07:35:56,836) INFO - qlib.backtest caller - [__init__.py:93] - Create new exchange\n",
      "[34473:MainThread](2023-03-18 07:36:08,757) WARNING - qlib.online operator - [exchange.py:219] - $open field data contains nan.\n",
      "[34473:MainThread](2023-03-18 07:36:08,761) WARNING - qlib.online operator - [exchange.py:219] - $open field data contains nan.\n",
      "[34473:MainThread](2023-03-18 07:36:10,028) INFO - qlib.backtest caller - [__init__.py:93] - Create new exchange\n"
     ]
    },
    {
     "name": "stdout",
     "output_type": "stream",
     "text": [
      "start_time: 2017-01-08, end_time: 2018-12-31\n"
     ]
    },
    {
     "name": "stderr",
     "output_type": "stream",
     "text": [
      "[34473:MainThread](2023-03-18 07:36:22,313) WARNING - qlib.online operator - [exchange.py:219] - $open field data contains nan.\n",
      "[34473:MainThread](2023-03-18 07:36:22,316) WARNING - qlib.online operator - [exchange.py:219] - $open field data contains nan.\n"
     ]
    },
    {
     "name": "stdout",
     "output_type": "stream",
     "text": [
      "start_time: 2017-01-08, end_time: 2018-12-31\n"
     ]
    },
    {
     "name": "stderr",
     "output_type": "stream",
     "text": [
      "[34473:MainThread](2023-03-18 07:36:27,016) INFO - qlib.rl.trainer.vessel - [vessel.py:84] - [Iter 2] n/ep = 1\n",
      "[34473:MainThread](2023-03-18 07:36:27,018) INFO - qlib.rl.trainer.vessel - [vessel.py:84] - [Iter 2] n/st = 483\n",
      "[34473:MainThread](2023-03-18 07:36:27,019) INFO - qlib.rl.trainer.vessel - [vessel.py:84] - [Iter 2] rews = 3.0956133614666874\n",
      "[34473:MainThread](2023-03-18 07:36:27,020) INFO - qlib.rl.trainer.vessel - [vessel.py:84] - [Iter 2] lens = 483.0\n",
      "[34473:MainThread](2023-03-18 07:36:27,021) INFO - qlib.rl.trainer.vessel - [vessel.py:84] - [Iter 2] idxs = 0.0\n",
      "[34473:MainThread](2023-03-18 07:36:27,022) INFO - qlib.rl.trainer.vessel - [vessel.py:84] - [Iter 2] rew = 3.0956133614666874\n",
      "[34473:MainThread](2023-03-18 07:36:27,024) INFO - qlib.rl.trainer.vessel - [vessel.py:84] - [Iter 2] len = 483.0\n",
      "[34473:MainThread](2023-03-18 07:36:27,025) INFO - qlib.rl.trainer.vessel - [vessel.py:84] - [Iter 2] rew_std = 0.0\n",
      "[34473:MainThread](2023-03-18 07:36:27,026) INFO - qlib.rl.trainer.vessel - [vessel.py:84] - [Iter 2] len_std = 0.0\n",
      "[34473:MainThread](2023-03-18 07:36:27,027) INFO - qlib.rl.trainer.vessel - [vessel.py:84] - [Iter 2] loss = 402.074462890625\n",
      "[34473:MainThread](2023-03-18 07:36:27,028) INFO - qlib.rl.trainer.vessel - [vessel.py:84] - [Iter 2] loss/clip = 0.00770734586486859\n",
      "[34473:MainThread](2023-03-18 07:36:27,029) INFO - qlib.rl.trainer.vessel - [vessel.py:84] - [Iter 2] loss/vf = 402.06675676618306\n",
      "[34473:MainThread](2023-03-18 07:36:27,030) INFO - qlib.rl.trainer.vessel - [vessel.py:84] - [Iter 2] loss/ent = 28.353626251220703\n",
      "[34473:MainThread](2023-03-18 07:36:28,072) INFO - qlib.rl.trainer.vessel - [vessel.py:159] - Validation initial states collection size: 1\n",
      "[34473:MainThread](2023-03-18 07:36:28,073) INFO - qlib.rl.utils.data_queue - [data_queue.py:70] - Automatically set data queue maxsize to 12 to avoid overwhelming.\n",
      "[34473:MainThread](2023-03-18 07:36:29,084) INFO - qlib.backtest caller - [__init__.py:93] - Create new exchange\n",
      "[34473:MainThread](2023-03-18 07:36:40,525) WARNING - qlib.online operator - [exchange.py:219] - $open field data contains nan.\n",
      "[34473:MainThread](2023-03-18 07:36:40,528) WARNING - qlib.online operator - [exchange.py:219] - $open field data contains nan.\n"
     ]
    },
    {
     "name": "stdout",
     "output_type": "stream",
     "text": [
      "start_time: 2019-01-01, end_time: 2023-03-15\n"
     ]
    },
    {
     "name": "stderr",
     "output_type": "stream",
     "text": [
      "[34473:MainThread](2023-03-18 07:37:13,342) INFO - qlib.rl.trainer.callbacks - [callbacks.py:161] - #1 current reward: 3.0956, best reward: 3.0956 in #1\n",
      "[34473:MainThread](2023-03-18 07:37:13,381) INFO - qlib.rl.trainer.trainer - [trainer.py:211] - \n",
      "2023-03-18 07:37:13\tTrain iteration 3/1000\n",
      "[34473:MainThread](2023-03-18 07:37:13,383) INFO - qlib.rl.trainer.vessel - [vessel.py:151] - Training initial states collection size: 1\n",
      "[34473:MainThread](2023-03-18 07:37:13,384) INFO - qlib.rl.utils.data_queue - [data_queue.py:70] - Automatically set data queue maxsize to 12 to avoid overwhelming.\n",
      "[34473:MainThread](2023-03-18 07:37:14,395) INFO - qlib.backtest caller - [__init__.py:93] - Create new exchange\n",
      "[34473:MainThread](2023-03-18 07:37:24,718) WARNING - qlib.online operator - [exchange.py:219] - $open field data contains nan.\n",
      "[34473:MainThread](2023-03-18 07:37:24,721) WARNING - qlib.online operator - [exchange.py:219] - $open field data contains nan.\n"
     ]
    },
    {
     "name": "stdout",
     "output_type": "stream",
     "text": [
      "start_time: 2017-01-08, end_time: 2018-12-31\n"
     ]
    },
    {
     "name": "stderr",
     "output_type": "stream",
     "text": [
      "[34473:MainThread](2023-03-18 07:37:47,278) INFO - qlib.backtest caller - [__init__.py:93] - Create new exchange\n",
      "[34473:MainThread](2023-03-18 07:37:58,643) WARNING - qlib.online operator - [exchange.py:219] - $open field data contains nan.\n",
      "[34473:MainThread](2023-03-18 07:37:58,648) WARNING - qlib.online operator - [exchange.py:219] - $open field data contains nan.\n",
      "[34473:MainThread](2023-03-18 07:38:00,131) INFO - qlib.backtest caller - [__init__.py:93] - Create new exchange\n"
     ]
    },
    {
     "name": "stdout",
     "output_type": "stream",
     "text": [
      "start_time: 2017-01-08, end_time: 2018-12-31\n"
     ]
    },
    {
     "name": "stderr",
     "output_type": "stream",
     "text": [
      "[34473:MainThread](2023-03-18 07:38:12,119) WARNING - qlib.online operator - [exchange.py:219] - $open field data contains nan.\n",
      "[34473:MainThread](2023-03-18 07:38:12,122) WARNING - qlib.online operator - [exchange.py:219] - $open field data contains nan.\n"
     ]
    },
    {
     "name": "stdout",
     "output_type": "stream",
     "text": [
      "start_time: 2017-01-08, end_time: 2018-12-31\n"
     ]
    },
    {
     "name": "stderr",
     "output_type": "stream",
     "text": [
      "[34473:MainThread](2023-03-18 07:38:18,824) INFO - qlib.rl.trainer.vessel - [vessel.py:84] - [Iter 3] n/ep = 1\n",
      "[34473:MainThread](2023-03-18 07:38:18,825) INFO - qlib.rl.trainer.vessel - [vessel.py:84] - [Iter 3] n/st = 483\n",
      "[34473:MainThread](2023-03-18 07:38:18,827) INFO - qlib.rl.trainer.vessel - [vessel.py:84] - [Iter 3] rews = 2.7427622827101805\n",
      "[34473:MainThread](2023-03-18 07:38:18,828) INFO - qlib.rl.trainer.vessel - [vessel.py:84] - [Iter 3] lens = 483.0\n",
      "[34473:MainThread](2023-03-18 07:38:18,829) INFO - qlib.rl.trainer.vessel - [vessel.py:84] - [Iter 3] idxs = 0.0\n",
      "[34473:MainThread](2023-03-18 07:38:18,830) INFO - qlib.rl.trainer.vessel - [vessel.py:84] - [Iter 3] rew = 2.7427622827101805\n",
      "[34473:MainThread](2023-03-18 07:38:18,831) INFO - qlib.rl.trainer.vessel - [vessel.py:84] - [Iter 3] len = 483.0\n",
      "[34473:MainThread](2023-03-18 07:38:18,832) INFO - qlib.rl.trainer.vessel - [vessel.py:84] - [Iter 3] rew_std = 0.0\n",
      "[34473:MainThread](2023-03-18 07:38:18,834) INFO - qlib.rl.trainer.vessel - [vessel.py:84] - [Iter 3] len_std = 0.0\n",
      "[34473:MainThread](2023-03-18 07:38:18,835) INFO - qlib.rl.trainer.vessel - [vessel.py:84] - [Iter 3] loss = 89.13119550432478\n",
      "[34473:MainThread](2023-03-18 07:38:18,836) INFO - qlib.rl.trainer.vessel - [vessel.py:84] - [Iter 3] loss/clip = 0.051227681012824176\n",
      "[34473:MainThread](2023-03-18 07:38:18,837) INFO - qlib.rl.trainer.vessel - [vessel.py:84] - [Iter 3] loss/vf = 89.07996717180525\n",
      "[34473:MainThread](2023-03-18 07:38:18,839) INFO - qlib.rl.trainer.vessel - [vessel.py:84] - [Iter 3] loss/ent = 28.34849989754813\n",
      "[34473:MainThread](2023-03-18 07:38:19,881) INFO - qlib.rl.trainer.vessel - [vessel.py:159] - Validation initial states collection size: 1\n",
      "[34473:MainThread](2023-03-18 07:38:19,883) INFO - qlib.rl.utils.data_queue - [data_queue.py:70] - Automatically set data queue maxsize to 12 to avoid overwhelming.\n",
      "[34473:MainThread](2023-03-18 07:38:20,896) INFO - qlib.backtest caller - [__init__.py:93] - Create new exchange\n",
      "[34473:MainThread](2023-03-18 07:38:33,255) WARNING - qlib.online operator - [exchange.py:219] - $open field data contains nan.\n",
      "[34473:MainThread](2023-03-18 07:38:33,259) WARNING - qlib.online operator - [exchange.py:219] - $open field data contains nan.\n"
     ]
    },
    {
     "name": "stdout",
     "output_type": "stream",
     "text": [
      "start_time: 2019-01-01, end_time: 2023-03-15\n"
     ]
    },
    {
     "name": "stderr",
     "output_type": "stream",
     "text": [
      "[34473:MainThread](2023-03-18 07:39:05,443) INFO - qlib.rl.trainer.callbacks - [callbacks.py:161] - #2 current reward: 2.7428, best reward: 3.0956 in #1\n",
      "[34473:MainThread](2023-03-18 07:39:05,471) INFO - qlib.rl.trainer.trainer - [trainer.py:211] - \n",
      "2023-03-18 07:39:05\tTrain iteration 4/1000\n",
      "[34473:MainThread](2023-03-18 07:39:05,472) INFO - qlib.rl.trainer.vessel - [vessel.py:151] - Training initial states collection size: 1\n",
      "[34473:MainThread](2023-03-18 07:39:05,474) INFO - qlib.rl.utils.data_queue - [data_queue.py:70] - Automatically set data queue maxsize to 12 to avoid overwhelming.\n",
      "[34473:MainThread](2023-03-18 07:39:06,481) INFO - qlib.backtest caller - [__init__.py:93] - Create new exchange\n",
      "[34473:MainThread](2023-03-18 07:39:16,722) WARNING - qlib.online operator - [exchange.py:219] - $open field data contains nan.\n",
      "[34473:MainThread](2023-03-18 07:39:16,726) WARNING - qlib.online operator - [exchange.py:219] - $open field data contains nan.\n"
     ]
    },
    {
     "name": "stdout",
     "output_type": "stream",
     "text": [
      "start_time: 2017-01-08, end_time: 2018-12-31\n"
     ]
    },
    {
     "name": "stderr",
     "output_type": "stream",
     "text": [
      "[34473:MainThread](2023-03-18 07:39:37,443) INFO - qlib.backtest caller - [__init__.py:93] - Create new exchange\n",
      "[34473:MainThread](2023-03-18 07:39:48,037) WARNING - qlib.online operator - [exchange.py:219] - $open field data contains nan.\n",
      "[34473:MainThread](2023-03-18 07:39:48,041) WARNING - qlib.online operator - [exchange.py:219] - $open field data contains nan.\n",
      "[34473:MainThread](2023-03-18 07:39:49,258) INFO - qlib.backtest caller - [__init__.py:93] - Create new exchange\n"
     ]
    },
    {
     "name": "stdout",
     "output_type": "stream",
     "text": [
      "start_time: 2017-01-08, end_time: 2018-12-31\n"
     ]
    },
    {
     "name": "stderr",
     "output_type": "stream",
     "text": [
      "[34473:MainThread](2023-03-18 07:39:59,972) WARNING - qlib.online operator - [exchange.py:219] - $open field data contains nan.\n",
      "[34473:MainThread](2023-03-18 07:39:59,975) WARNING - qlib.online operator - [exchange.py:219] - $open field data contains nan.\n"
     ]
    },
    {
     "name": "stdout",
     "output_type": "stream",
     "text": [
      "start_time: 2017-01-08, end_time: 2018-12-31\n"
     ]
    },
    {
     "name": "stderr",
     "output_type": "stream",
     "text": [
      "[34473:MainThread](2023-03-18 07:40:05,136) INFO - qlib.rl.trainer.vessel - [vessel.py:84] - [Iter 4] n/ep = 1\n",
      "[34473:MainThread](2023-03-18 07:40:05,137) INFO - qlib.rl.trainer.vessel - [vessel.py:84] - [Iter 4] n/st = 483\n",
      "[34473:MainThread](2023-03-18 07:40:05,138) INFO - qlib.rl.trainer.vessel - [vessel.py:84] - [Iter 4] rews = 2.5675596803842717\n",
      "[34473:MainThread](2023-03-18 07:40:05,140) INFO - qlib.rl.trainer.vessel - [vessel.py:84] - [Iter 4] lens = 483.0\n",
      "[34473:MainThread](2023-03-18 07:40:05,141) INFO - qlib.rl.trainer.vessel - [vessel.py:84] - [Iter 4] idxs = 0.0\n",
      "[34473:MainThread](2023-03-18 07:40:05,142) INFO - qlib.rl.trainer.vessel - [vessel.py:84] - [Iter 4] rew = 2.5675596803842717\n",
      "[34473:MainThread](2023-03-18 07:40:05,144) INFO - qlib.rl.trainer.vessel - [vessel.py:84] - [Iter 4] len = 483.0\n",
      "[34473:MainThread](2023-03-18 07:40:05,145) INFO - qlib.rl.trainer.vessel - [vessel.py:84] - [Iter 4] rew_std = 0.0\n",
      "[34473:MainThread](2023-03-18 07:40:05,146) INFO - qlib.rl.trainer.vessel - [vessel.py:84] - [Iter 4] len_std = 0.0\n",
      "[34473:MainThread](2023-03-18 07:40:05,147) INFO - qlib.rl.trainer.vessel - [vessel.py:84] - [Iter 4] loss = 103.71146283830915\n",
      "[34473:MainThread](2023-03-18 07:40:05,148) INFO - qlib.rl.trainer.vessel - [vessel.py:84] - [Iter 4] loss/clip = 0.021884876170328686\n",
      "[34473:MainThread](2023-03-18 07:40:05,149) INFO - qlib.rl.trainer.vessel - [vessel.py:84] - [Iter 4] loss/vf = 103.68957802908761\n",
      "[34473:MainThread](2023-03-18 07:40:05,151) INFO - qlib.rl.trainer.vessel - [vessel.py:84] - [Iter 4] loss/ent = 28.344234139578685\n",
      "[34473:MainThread](2023-03-18 07:40:06,190) INFO - qlib.rl.trainer.vessel - [vessel.py:159] - Validation initial states collection size: 1\n",
      "[34473:MainThread](2023-03-18 07:40:06,192) INFO - qlib.rl.utils.data_queue - [data_queue.py:70] - Automatically set data queue maxsize to 12 to avoid overwhelming.\n",
      "[34473:MainThread](2023-03-18 07:40:07,199) INFO - qlib.backtest caller - [__init__.py:93] - Create new exchange\n",
      "[34473:MainThread](2023-03-18 07:40:17,870) WARNING - qlib.online operator - [exchange.py:219] - $open field data contains nan.\n",
      "[34473:MainThread](2023-03-18 07:40:17,873) WARNING - qlib.online operator - [exchange.py:219] - $open field data contains nan.\n"
     ]
    },
    {
     "name": "stdout",
     "output_type": "stream",
     "text": [
      "start_time: 2019-01-01, end_time: 2023-03-15\n"
     ]
    },
    {
     "name": "stderr",
     "output_type": "stream",
     "text": [
      "[34473:MainThread](2023-03-18 07:40:52,860) INFO - qlib.rl.trainer.callbacks - [callbacks.py:161] - #3 current reward: 2.5676, best reward: 3.0956 in #1\n",
      "[34473:MainThread](2023-03-18 07:40:52,890) INFO - qlib.rl.trainer.trainer - [trainer.py:211] - \n",
      "2023-03-18 07:40:52\tTrain iteration 5/1000\n",
      "[34473:MainThread](2023-03-18 07:40:52,892) INFO - qlib.rl.trainer.vessel - [vessel.py:151] - Training initial states collection size: 1\n",
      "[34473:MainThread](2023-03-18 07:40:52,894) INFO - qlib.rl.utils.data_queue - [data_queue.py:70] - Automatically set data queue maxsize to 12 to avoid overwhelming.\n",
      "[34473:MainThread](2023-03-18 07:40:53,902) INFO - qlib.backtest caller - [__init__.py:93] - Create new exchange\n",
      "[34473:MainThread](2023-03-18 07:41:06,263) WARNING - qlib.online operator - [exchange.py:219] - $open field data contains nan.\n",
      "[34473:MainThread](2023-03-18 07:41:06,266) WARNING - qlib.online operator - [exchange.py:219] - $open field data contains nan.\n"
     ]
    },
    {
     "name": "stdout",
     "output_type": "stream",
     "text": [
      "start_time: 2017-01-08, end_time: 2018-12-31\n"
     ]
    },
    {
     "name": "stderr",
     "output_type": "stream",
     "text": [
      "[34473:MainThread](2023-03-18 07:41:25,446) INFO - qlib.backtest caller - [__init__.py:93] - Create new exchange\n",
      "[34473:MainThread](2023-03-18 07:41:36,182) WARNING - qlib.online operator - [exchange.py:219] - $open field data contains nan.\n",
      "[34473:MainThread](2023-03-18 07:41:36,185) WARNING - qlib.online operator - [exchange.py:219] - $open field data contains nan.\n",
      "[34473:MainThread](2023-03-18 07:41:37,485) INFO - qlib.backtest caller - [__init__.py:93] - Create new exchange\n"
     ]
    },
    {
     "name": "stdout",
     "output_type": "stream",
     "text": [
      "start_time: 2017-01-08, end_time: 2018-12-31\n"
     ]
    },
    {
     "name": "stderr",
     "output_type": "stream",
     "text": [
      "[34473:MainThread](2023-03-18 07:41:47,901) WARNING - qlib.online operator - [exchange.py:219] - $open field data contains nan.\n",
      "[34473:MainThread](2023-03-18 07:41:47,904) WARNING - qlib.online operator - [exchange.py:219] - $open field data contains nan.\n"
     ]
    },
    {
     "name": "stdout",
     "output_type": "stream",
     "text": [
      "start_time: 2017-01-08, end_time: 2018-12-31\n"
     ]
    },
    {
     "name": "stderr",
     "output_type": "stream",
     "text": [
      "[34473:MainThread](2023-03-18 07:41:52,605) INFO - qlib.rl.trainer.vessel - [vessel.py:84] - [Iter 5] n/ep = 1\n",
      "[34473:MainThread](2023-03-18 07:41:52,606) INFO - qlib.rl.trainer.vessel - [vessel.py:84] - [Iter 5] n/st = 483\n",
      "[34473:MainThread](2023-03-18 07:41:52,607) INFO - qlib.rl.trainer.vessel - [vessel.py:84] - [Iter 5] rews = 2.7205613807821614\n",
      "[34473:MainThread](2023-03-18 07:41:52,608) INFO - qlib.rl.trainer.vessel - [vessel.py:84] - [Iter 5] lens = 483.0\n",
      "[34473:MainThread](2023-03-18 07:41:52,610) INFO - qlib.rl.trainer.vessel - [vessel.py:84] - [Iter 5] idxs = 0.0\n",
      "[34473:MainThread](2023-03-18 07:41:52,611) INFO - qlib.rl.trainer.vessel - [vessel.py:84] - [Iter 5] rew = 2.7205613807821614\n",
      "[34473:MainThread](2023-03-18 07:41:52,612) INFO - qlib.rl.trainer.vessel - [vessel.py:84] - [Iter 5] len = 483.0\n",
      "[34473:MainThread](2023-03-18 07:41:52,613) INFO - qlib.rl.trainer.vessel - [vessel.py:84] - [Iter 5] rew_std = 0.0\n",
      "[34473:MainThread](2023-03-18 07:41:52,614) INFO - qlib.rl.trainer.vessel - [vessel.py:84] - [Iter 5] len_std = 0.0\n",
      "[34473:MainThread](2023-03-18 07:41:52,615) INFO - qlib.rl.trainer.vessel - [vessel.py:84] - [Iter 5] loss = 81.03344094412667\n",
      "[34473:MainThread](2023-03-18 07:41:52,616) INFO - qlib.rl.trainer.vessel - [vessel.py:84] - [Iter 5] loss/clip = 0.2686515320358532\n",
      "[34473:MainThread](2023-03-18 07:41:52,618) INFO - qlib.rl.trainer.vessel - [vessel.py:84] - [Iter 5] loss/vf = 80.76478925432478\n",
      "[34473:MainThread](2023-03-18 07:41:52,619) INFO - qlib.rl.trainer.vessel - [vessel.py:84] - [Iter 5] loss/ent = 28.32626391819545\n",
      "[34473:MainThread](2023-03-18 07:41:53,660) INFO - qlib.rl.trainer.vessel - [vessel.py:159] - Validation initial states collection size: 1\n",
      "[34473:MainThread](2023-03-18 07:41:53,661) INFO - qlib.rl.utils.data_queue - [data_queue.py:70] - Automatically set data queue maxsize to 12 to avoid overwhelming.\n",
      "[34473:MainThread](2023-03-18 07:41:54,671) INFO - qlib.backtest caller - [__init__.py:93] - Create new exchange\n",
      "[34473:MainThread](2023-03-18 07:42:04,447) WARNING - qlib.online operator - [exchange.py:219] - $open field data contains nan.\n",
      "[34473:MainThread](2023-03-18 07:42:04,450) WARNING - qlib.online operator - [exchange.py:219] - $open field data contains nan.\n"
     ]
    },
    {
     "name": "stdout",
     "output_type": "stream",
     "text": [
      "start_time: 2019-01-01, end_time: 2023-03-15\n"
     ]
    },
    {
     "name": "stderr",
     "output_type": "stream",
     "text": [
      "[34473:MainThread](2023-03-18 07:42:41,926) INFO - qlib.rl.trainer.callbacks - [callbacks.py:161] - #4 current reward: 2.7206, best reward: 3.0956 in #1\n",
      "[34473:MainThread](2023-03-18 07:42:41,952) INFO - qlib.rl.trainer.trainer - [trainer.py:211] - \n",
      "2023-03-18 07:42:41\tTrain iteration 6/1000\n",
      "[34473:MainThread](2023-03-18 07:42:41,953) INFO - qlib.rl.trainer.vessel - [vessel.py:151] - Training initial states collection size: 1\n",
      "[34473:MainThread](2023-03-18 07:42:41,954) INFO - qlib.rl.utils.data_queue - [data_queue.py:70] - Automatically set data queue maxsize to 12 to avoid overwhelming.\n",
      "[34473:MainThread](2023-03-18 07:42:42,962) INFO - qlib.backtest caller - [__init__.py:93] - Create new exchange\n",
      "[34473:MainThread](2023-03-18 07:42:53,436) WARNING - qlib.online operator - [exchange.py:219] - $open field data contains nan.\n",
      "[34473:MainThread](2023-03-18 07:42:53,439) WARNING - qlib.online operator - [exchange.py:219] - $open field data contains nan.\n"
     ]
    },
    {
     "name": "stdout",
     "output_type": "stream",
     "text": [
      "start_time: 2017-01-08, end_time: 2018-12-31\n"
     ]
    },
    {
     "name": "stderr",
     "output_type": "stream",
     "text": [
      "[34473:MainThread](2023-03-18 07:43:09,521) INFO - qlib.backtest caller - [__init__.py:93] - Create new exchange\n",
      "[34473:MainThread](2023-03-18 07:43:19,758) WARNING - qlib.online operator - [exchange.py:219] - $open field data contains nan.\n",
      "[34473:MainThread](2023-03-18 07:43:19,760) WARNING - qlib.online operator - [exchange.py:219] - $open field data contains nan.\n",
      "[34473:MainThread](2023-03-18 07:43:21,014) INFO - qlib.backtest caller - [__init__.py:93] - Create new exchange\n"
     ]
    },
    {
     "name": "stdout",
     "output_type": "stream",
     "text": [
      "start_time: 2017-01-08, end_time: 2018-12-31\n"
     ]
    },
    {
     "name": "stderr",
     "output_type": "stream",
     "text": [
      "[34473:MainThread](2023-03-18 07:43:31,184) WARNING - qlib.online operator - [exchange.py:219] - $open field data contains nan.\n",
      "[34473:MainThread](2023-03-18 07:43:31,187) WARNING - qlib.online operator - [exchange.py:219] - $open field data contains nan.\n"
     ]
    },
    {
     "name": "stdout",
     "output_type": "stream",
     "text": [
      "start_time: 2017-01-08, end_time: 2018-12-31\n"
     ]
    },
    {
     "name": "stderr",
     "output_type": "stream",
     "text": [
      "[34473:MainThread](2023-03-18 07:43:35,901) INFO - qlib.rl.trainer.vessel - [vessel.py:84] - [Iter 6] n/ep = 1\n",
      "[34473:MainThread](2023-03-18 07:43:35,903) INFO - qlib.rl.trainer.vessel - [vessel.py:84] - [Iter 6] n/st = 483\n",
      "[34473:MainThread](2023-03-18 07:43:35,904) INFO - qlib.rl.trainer.vessel - [vessel.py:84] - [Iter 6] rews = 2.2985557014137554\n",
      "[34473:MainThread](2023-03-18 07:43:35,906) INFO - qlib.rl.trainer.vessel - [vessel.py:84] - [Iter 6] lens = 483.0\n",
      "[34473:MainThread](2023-03-18 07:43:35,907) INFO - qlib.rl.trainer.vessel - [vessel.py:84] - [Iter 6] idxs = 0.0\n",
      "[34473:MainThread](2023-03-18 07:43:35,909) INFO - qlib.rl.trainer.vessel - [vessel.py:84] - [Iter 6] rew = 2.2985557014137554\n",
      "[34473:MainThread](2023-03-18 07:43:35,910) INFO - qlib.rl.trainer.vessel - [vessel.py:84] - [Iter 6] len = 483.0\n",
      "[34473:MainThread](2023-03-18 07:43:35,912) INFO - qlib.rl.trainer.vessel - [vessel.py:84] - [Iter 6] rew_std = 0.0\n",
      "[34473:MainThread](2023-03-18 07:43:35,913) INFO - qlib.rl.trainer.vessel - [vessel.py:84] - [Iter 6] len_std = 0.0\n",
      "[34473:MainThread](2023-03-18 07:43:35,915) INFO - qlib.rl.trainer.vessel - [vessel.py:84] - [Iter 6] loss = 45.57995267595564\n",
      "[34473:MainThread](2023-03-18 07:43:35,916) INFO - qlib.rl.trainer.vessel - [vessel.py:84] - [Iter 6] loss/clip = 0.3590934801314558\n",
      "[34473:MainThread](2023-03-18 07:43:35,917) INFO - qlib.rl.trainer.vessel - [vessel.py:84] - [Iter 6] loss/vf = 45.22085941859654\n",
      "[34473:MainThread](2023-03-18 07:43:35,919) INFO - qlib.rl.trainer.vessel - [vessel.py:84] - [Iter 6] loss/ent = 28.300439943586078\n",
      "[34473:MainThread](2023-03-18 07:43:36,964) INFO - qlib.rl.trainer.vessel - [vessel.py:159] - Validation initial states collection size: 1\n",
      "[34473:MainThread](2023-03-18 07:43:36,966) INFO - qlib.rl.utils.data_queue - [data_queue.py:70] - Automatically set data queue maxsize to 12 to avoid overwhelming.\n",
      "[34473:MainThread](2023-03-18 07:43:37,977) INFO - qlib.backtest caller - [__init__.py:93] - Create new exchange\n",
      "[34473:MainThread](2023-03-18 07:43:48,388) WARNING - qlib.online operator - [exchange.py:219] - $open field data contains nan.\n",
      "[34473:MainThread](2023-03-18 07:43:48,391) WARNING - qlib.online operator - [exchange.py:219] - $open field data contains nan.\n"
     ]
    },
    {
     "name": "stdout",
     "output_type": "stream",
     "text": [
      "start_time: 2019-01-01, end_time: 2023-03-15\n"
     ]
    },
    {
     "name": "stderr",
     "output_type": "stream",
     "text": [
      "[34473:MainThread](2023-03-18 07:44:22,825) INFO - qlib.rl.trainer.callbacks - [callbacks.py:161] - #5 current reward: 2.2986, best reward: 3.0956 in #1\n",
      "[34473:MainThread](2023-03-18 07:44:22,863) INFO - qlib.rl.trainer.trainer - [trainer.py:211] - \n",
      "2023-03-18 07:44:22\tTrain iteration 7/1000\n",
      "[34473:MainThread](2023-03-18 07:44:22,865) INFO - qlib.rl.trainer.vessel - [vessel.py:151] - Training initial states collection size: 1\n",
      "[34473:MainThread](2023-03-18 07:44:22,866) INFO - qlib.rl.utils.data_queue - [data_queue.py:70] - Automatically set data queue maxsize to 12 to avoid overwhelming.\n",
      "[34473:MainThread](2023-03-18 07:44:23,877) INFO - qlib.backtest caller - [__init__.py:93] - Create new exchange\n",
      "[34473:MainThread](2023-03-18 07:44:34,663) WARNING - qlib.online operator - [exchange.py:219] - $open field data contains nan.\n",
      "[34473:MainThread](2023-03-18 07:44:34,666) WARNING - qlib.online operator - [exchange.py:219] - $open field data contains nan.\n"
     ]
    },
    {
     "name": "stdout",
     "output_type": "stream",
     "text": [
      "start_time: 2017-01-08, end_time: 2018-12-31\n"
     ]
    },
    {
     "name": "stderr",
     "output_type": "stream",
     "text": [
      "[34473:MainThread](2023-03-18 07:44:52,338) INFO - qlib.backtest caller - [__init__.py:93] - Create new exchange\n",
      "[34473:MainThread](2023-03-18 07:45:03,185) WARNING - qlib.online operator - [exchange.py:219] - $open field data contains nan.\n",
      "[34473:MainThread](2023-03-18 07:45:03,188) WARNING - qlib.online operator - [exchange.py:219] - $open field data contains nan.\n",
      "[34473:MainThread](2023-03-18 07:45:04,402) INFO - qlib.backtest caller - [__init__.py:93] - Create new exchange\n"
     ]
    },
    {
     "name": "stdout",
     "output_type": "stream",
     "text": [
      "start_time: 2017-01-08, end_time: 2018-12-31\n"
     ]
    },
    {
     "name": "stderr",
     "output_type": "stream",
     "text": [
      "[34473:MainThread](2023-03-18 07:45:15,668) WARNING - qlib.online operator - [exchange.py:219] - $open field data contains nan.\n",
      "[34473:MainThread](2023-03-18 07:45:15,673) WARNING - qlib.online operator - [exchange.py:219] - $open field data contains nan.\n"
     ]
    },
    {
     "name": "stdout",
     "output_type": "stream",
     "text": [
      "start_time: 2017-01-08, end_time: 2018-12-31\n"
     ]
    },
    {
     "name": "stderr",
     "output_type": "stream",
     "text": [
      "[34473:MainThread](2023-03-18 07:45:21,508) INFO - qlib.rl.trainer.vessel - [vessel.py:84] - [Iter 7] n/ep = 1\n",
      "[34473:MainThread](2023-03-18 07:45:21,510) INFO - qlib.rl.trainer.vessel - [vessel.py:84] - [Iter 7] n/st = 483\n",
      "[34473:MainThread](2023-03-18 07:45:21,511) INFO - qlib.rl.trainer.vessel - [vessel.py:84] - [Iter 7] rews = 2.796989705966456\n",
      "[34473:MainThread](2023-03-18 07:45:21,512) INFO - qlib.rl.trainer.vessel - [vessel.py:84] - [Iter 7] lens = 483.0\n",
      "[34473:MainThread](2023-03-18 07:45:21,514) INFO - qlib.rl.trainer.vessel - [vessel.py:84] - [Iter 7] idxs = 0.0\n",
      "[34473:MainThread](2023-03-18 07:45:21,515) INFO - qlib.rl.trainer.vessel - [vessel.py:84] - [Iter 7] rew = 2.796989705966456\n",
      "[34473:MainThread](2023-03-18 07:45:21,516) INFO - qlib.rl.trainer.vessel - [vessel.py:84] - [Iter 7] len = 483.0\n",
      "[34473:MainThread](2023-03-18 07:45:21,517) INFO - qlib.rl.trainer.vessel - [vessel.py:84] - [Iter 7] rew_std = 0.0\n",
      "[34473:MainThread](2023-03-18 07:45:21,518) INFO - qlib.rl.trainer.vessel - [vessel.py:84] - [Iter 7] len_std = 0.0\n",
      "[34473:MainThread](2023-03-18 07:45:21,520) INFO - qlib.rl.trainer.vessel - [vessel.py:84] - [Iter 7] loss = 18.54841932569231\n",
      "[34473:MainThread](2023-03-18 07:45:21,521) INFO - qlib.rl.trainer.vessel - [vessel.py:84] - [Iter 7] loss/clip = 0.3411556192806789\n",
      "[34473:MainThread](2023-03-18 07:45:21,522) INFO - qlib.rl.trainer.vessel - [vessel.py:84] - [Iter 7] loss/vf = 18.207263701302665\n",
      "[34473:MainThread](2023-03-18 07:45:21,523) INFO - qlib.rl.trainer.vessel - [vessel.py:84] - [Iter 7] loss/ent = 28.300515038626536\n",
      "[34473:MainThread](2023-03-18 07:45:22,560) INFO - qlib.rl.trainer.vessel - [vessel.py:159] - Validation initial states collection size: 1\n",
      "[34473:MainThread](2023-03-18 07:45:22,562) INFO - qlib.rl.utils.data_queue - [data_queue.py:70] - Automatically set data queue maxsize to 12 to avoid overwhelming.\n",
      "[34473:MainThread](2023-03-18 07:45:23,569) INFO - qlib.backtest caller - [__init__.py:93] - Create new exchange\n",
      "[34473:MainThread](2023-03-18 07:45:34,033) WARNING - qlib.online operator - [exchange.py:219] - $open field data contains nan.\n",
      "[34473:MainThread](2023-03-18 07:45:34,036) WARNING - qlib.online operator - [exchange.py:219] - $open field data contains nan.\n"
     ]
    },
    {
     "name": "stdout",
     "output_type": "stream",
     "text": [
      "start_time: 2019-01-01, end_time: 2023-03-15\n"
     ]
    },
    {
     "name": "stderr",
     "output_type": "stream",
     "text": [
      "[34473:MainThread](2023-03-18 07:46:09,415) INFO - qlib.rl.trainer.callbacks - [callbacks.py:161] - #6 current reward: 2.7970, best reward: 3.0956 in #1\n",
      "[34473:MainThread](2023-03-18 07:46:09,451) INFO - qlib.rl.trainer.trainer - [trainer.py:211] - \n",
      "2023-03-18 07:46:09\tTrain iteration 8/1000\n",
      "[34473:MainThread](2023-03-18 07:46:09,452) INFO - qlib.rl.trainer.vessel - [vessel.py:151] - Training initial states collection size: 1\n",
      "[34473:MainThread](2023-03-18 07:46:09,455) INFO - qlib.rl.utils.data_queue - [data_queue.py:70] - Automatically set data queue maxsize to 12 to avoid overwhelming.\n",
      "[34473:MainThread](2023-03-18 07:46:10,468) INFO - qlib.backtest caller - [__init__.py:93] - Create new exchange\n",
      "[34473:MainThread](2023-03-18 07:46:20,404) WARNING - qlib.online operator - [exchange.py:219] - $open field data contains nan.\n",
      "[34473:MainThread](2023-03-18 07:46:20,407) WARNING - qlib.online operator - [exchange.py:219] - $open field data contains nan.\n"
     ]
    },
    {
     "name": "stdout",
     "output_type": "stream",
     "text": [
      "start_time: 2017-01-08, end_time: 2018-12-31\n"
     ]
    },
    {
     "name": "stderr",
     "output_type": "stream",
     "text": [
      "[34473:MainThread](2023-03-18 07:46:37,118) INFO - qlib.backtest caller - [__init__.py:93] - Create new exchange\n",
      "[34473:MainThread](2023-03-18 07:46:47,330) WARNING - qlib.online operator - [exchange.py:219] - $open field data contains nan.\n",
      "[34473:MainThread](2023-03-18 07:46:47,333) WARNING - qlib.online operator - [exchange.py:219] - $open field data contains nan.\n",
      "[34473:MainThread](2023-03-18 07:46:48,511) INFO - qlib.backtest caller - [__init__.py:93] - Create new exchange\n"
     ]
    },
    {
     "name": "stdout",
     "output_type": "stream",
     "text": [
      "start_time: 2017-01-08, end_time: 2018-12-31\n"
     ]
    },
    {
     "name": "stderr",
     "output_type": "stream",
     "text": [
      "[34473:MainThread](2023-03-18 07:46:58,597) WARNING - qlib.online operator - [exchange.py:219] - $open field data contains nan.\n",
      "[34473:MainThread](2023-03-18 07:46:58,600) WARNING - qlib.online operator - [exchange.py:219] - $open field data contains nan.\n"
     ]
    },
    {
     "name": "stdout",
     "output_type": "stream",
     "text": [
      "start_time: 2017-01-08, end_time: 2018-12-31\n"
     ]
    },
    {
     "name": "stderr",
     "output_type": "stream",
     "text": [
      "[34473:MainThread](2023-03-18 07:47:03,253) INFO - qlib.rl.trainer.vessel - [vessel.py:84] - [Iter 8] n/ep = 1\n",
      "[34473:MainThread](2023-03-18 07:47:03,255) INFO - qlib.rl.trainer.vessel - [vessel.py:84] - [Iter 8] n/st = 483\n",
      "[34473:MainThread](2023-03-18 07:47:03,256) INFO - qlib.rl.trainer.vessel - [vessel.py:84] - [Iter 8] rews = 2.243513239883214\n",
      "[34473:MainThread](2023-03-18 07:47:03,257) INFO - qlib.rl.trainer.vessel - [vessel.py:84] - [Iter 8] lens = 483.0\n",
      "[34473:MainThread](2023-03-18 07:47:03,258) INFO - qlib.rl.trainer.vessel - [vessel.py:84] - [Iter 8] idxs = 0.0\n",
      "[34473:MainThread](2023-03-18 07:47:03,259) INFO - qlib.rl.trainer.vessel - [vessel.py:84] - [Iter 8] rew = 2.243513239883214\n",
      "[34473:MainThread](2023-03-18 07:47:03,260) INFO - qlib.rl.trainer.vessel - [vessel.py:84] - [Iter 8] len = 483.0\n",
      "[34473:MainThread](2023-03-18 07:47:03,261) INFO - qlib.rl.trainer.vessel - [vessel.py:84] - [Iter 8] rew_std = 0.0\n",
      "[34473:MainThread](2023-03-18 07:47:03,263) INFO - qlib.rl.trainer.vessel - [vessel.py:84] - [Iter 8] len_std = 0.0\n",
      "[34473:MainThread](2023-03-18 07:47:03,264) INFO - qlib.rl.trainer.vessel - [vessel.py:84] - [Iter 8] loss = 16.801741899762835\n",
      "[34473:MainThread](2023-03-18 07:47:03,265) INFO - qlib.rl.trainer.vessel - [vessel.py:84] - [Iter 8] loss/clip = 0.4837678607021059\n",
      "[34473:MainThread](2023-03-18 07:47:03,266) INFO - qlib.rl.trainer.vessel - [vessel.py:84] - [Iter 8] loss/vf = 16.317974036080496\n",
      "[34473:MainThread](2023-03-18 07:47:03,267) INFO - qlib.rl.trainer.vessel - [vessel.py:84] - [Iter 8] loss/ent = 28.29910659790039\n",
      "[34473:MainThread](2023-03-18 07:47:04,316) INFO - qlib.rl.trainer.vessel - [vessel.py:159] - Validation initial states collection size: 1\n",
      "[34473:MainThread](2023-03-18 07:47:04,317) INFO - qlib.rl.utils.data_queue - [data_queue.py:70] - Automatically set data queue maxsize to 12 to avoid overwhelming.\n",
      "[34473:MainThread](2023-03-18 07:47:05,327) INFO - qlib.backtest caller - [__init__.py:93] - Create new exchange\n",
      "[34473:MainThread](2023-03-18 07:47:15,124) WARNING - qlib.online operator - [exchange.py:219] - $open field data contains nan.\n",
      "[34473:MainThread](2023-03-18 07:47:15,127) WARNING - qlib.online operator - [exchange.py:219] - $open field data contains nan.\n"
     ]
    },
    {
     "name": "stdout",
     "output_type": "stream",
     "text": [
      "start_time: 2019-01-01, end_time: 2023-03-15\n"
     ]
    },
    {
     "name": "stderr",
     "output_type": "stream",
     "text": [
      "[34473:MainThread](2023-03-18 07:47:46,538) INFO - qlib.rl.trainer.callbacks - [callbacks.py:161] - #7 current reward: 2.2435, best reward: 3.0956 in #1\n",
      "[34473:MainThread](2023-03-18 07:47:46,575) INFO - qlib.rl.trainer.trainer - [trainer.py:211] - \n",
      "2023-03-18 07:47:46\tTrain iteration 9/1000\n",
      "[34473:MainThread](2023-03-18 07:47:46,576) INFO - qlib.rl.trainer.vessel - [vessel.py:151] - Training initial states collection size: 1\n",
      "[34473:MainThread](2023-03-18 07:47:46,578) INFO - qlib.rl.utils.data_queue - [data_queue.py:70] - Automatically set data queue maxsize to 12 to avoid overwhelming.\n",
      "[34473:MainThread](2023-03-18 07:47:47,587) INFO - qlib.backtest caller - [__init__.py:93] - Create new exchange\n",
      "[34473:MainThread](2023-03-18 07:47:57,428) WARNING - qlib.online operator - [exchange.py:219] - $open field data contains nan.\n",
      "[34473:MainThread](2023-03-18 07:47:57,431) WARNING - qlib.online operator - [exchange.py:219] - $open field data contains nan.\n"
     ]
    },
    {
     "name": "stdout",
     "output_type": "stream",
     "text": [
      "start_time: 2017-01-08, end_time: 2018-12-31\n"
     ]
    },
    {
     "name": "stderr",
     "output_type": "stream",
     "text": [
      "[34473:MainThread](2023-03-18 07:48:13,518) INFO - qlib.backtest caller - [__init__.py:93] - Create new exchange\n",
      "[34473:MainThread](2023-03-18 07:48:23,418) WARNING - qlib.online operator - [exchange.py:219] - $open field data contains nan.\n",
      "[34473:MainThread](2023-03-18 07:48:23,422) WARNING - qlib.online operator - [exchange.py:219] - $open field data contains nan.\n",
      "[34473:MainThread](2023-03-18 07:48:24,655) INFO - qlib.backtest caller - [__init__.py:93] - Create new exchange\n"
     ]
    },
    {
     "name": "stdout",
     "output_type": "stream",
     "text": [
      "start_time: 2017-01-08, end_time: 2018-12-31\n"
     ]
    },
    {
     "name": "stderr",
     "output_type": "stream",
     "text": [
      "[34473:MainThread](2023-03-18 07:48:34,505) WARNING - qlib.online operator - [exchange.py:219] - $open field data contains nan.\n",
      "[34473:MainThread](2023-03-18 07:48:34,508) WARNING - qlib.online operator - [exchange.py:219] - $open field data contains nan.\n"
     ]
    },
    {
     "name": "stdout",
     "output_type": "stream",
     "text": [
      "start_time: 2017-01-08, end_time: 2018-12-31\n"
     ]
    },
    {
     "name": "stderr",
     "output_type": "stream",
     "text": [
      "[34473:MainThread](2023-03-18 07:48:39,135) INFO - qlib.rl.trainer.vessel - [vessel.py:84] - [Iter 9] n/ep = 1\n",
      "[34473:MainThread](2023-03-18 07:48:39,136) INFO - qlib.rl.trainer.vessel - [vessel.py:84] - [Iter 9] n/st = 483\n",
      "[34473:MainThread](2023-03-18 07:48:39,137) INFO - qlib.rl.trainer.vessel - [vessel.py:84] - [Iter 9] rews = 2.146652057833966\n",
      "[34473:MainThread](2023-03-18 07:48:39,138) INFO - qlib.rl.trainer.vessel - [vessel.py:84] - [Iter 9] lens = 483.0\n",
      "[34473:MainThread](2023-03-18 07:48:39,140) INFO - qlib.rl.trainer.vessel - [vessel.py:84] - [Iter 9] idxs = 0.0\n",
      "[34473:MainThread](2023-03-18 07:48:39,141) INFO - qlib.rl.trainer.vessel - [vessel.py:84] - [Iter 9] rew = 2.146652057833966\n",
      "[34473:MainThread](2023-03-18 07:48:39,142) INFO - qlib.rl.trainer.vessel - [vessel.py:84] - [Iter 9] len = 483.0\n",
      "[34473:MainThread](2023-03-18 07:48:39,143) INFO - qlib.rl.trainer.vessel - [vessel.py:84] - [Iter 9] rew_std = 0.0\n",
      "[34473:MainThread](2023-03-18 07:48:39,144) INFO - qlib.rl.trainer.vessel - [vessel.py:84] - [Iter 9] len_std = 0.0\n",
      "[34473:MainThread](2023-03-18 07:48:39,145) INFO - qlib.rl.trainer.vessel - [vessel.py:84] - [Iter 9] loss = 16.301317514692034\n",
      "[34473:MainThread](2023-03-18 07:48:39,147) INFO - qlib.rl.trainer.vessel - [vessel.py:84] - [Iter 9] loss/clip = 0.1905166028865746\n",
      "[34473:MainThread](2023-03-18 07:48:39,148) INFO - qlib.rl.trainer.vessel - [vessel.py:84] - [Iter 9] loss/vf = 16.110800906590054\n",
      "[34473:MainThread](2023-03-18 07:48:39,149) INFO - qlib.rl.trainer.vessel - [vessel.py:84] - [Iter 9] loss/ent = 28.29818273271833\n",
      "[34473:MainThread](2023-03-18 07:48:40,190) INFO - qlib.rl.trainer.vessel - [vessel.py:159] - Validation initial states collection size: 1\n",
      "[34473:MainThread](2023-03-18 07:48:40,191) INFO - qlib.rl.utils.data_queue - [data_queue.py:70] - Automatically set data queue maxsize to 12 to avoid overwhelming.\n",
      "[34473:MainThread](2023-03-18 07:48:41,203) INFO - qlib.backtest caller - [__init__.py:93] - Create new exchange\n",
      "[34473:MainThread](2023-03-18 07:48:50,996) WARNING - qlib.online operator - [exchange.py:219] - $open field data contains nan.\n",
      "[34473:MainThread](2023-03-18 07:48:50,999) WARNING - qlib.online operator - [exchange.py:219] - $open field data contains nan.\n"
     ]
    },
    {
     "name": "stdout",
     "output_type": "stream",
     "text": [
      "start_time: 2019-01-01, end_time: 2023-03-15\n"
     ]
    },
    {
     "name": "stderr",
     "output_type": "stream",
     "text": [
      "[34473:MainThread](2023-03-18 07:49:22,298) INFO - qlib.rl.trainer.callbacks - [callbacks.py:161] - #8 current reward: 2.1467, best reward: 3.0956 in #1\n",
      "[34473:MainThread](2023-03-18 07:49:22,332) INFO - qlib.rl.trainer.trainer - [trainer.py:211] - \n",
      "2023-03-18 07:49:22\tTrain iteration 10/1000\n",
      "[34473:MainThread](2023-03-18 07:49:22,333) INFO - qlib.rl.trainer.vessel - [vessel.py:151] - Training initial states collection size: 1\n",
      "[34473:MainThread](2023-03-18 07:49:22,335) INFO - qlib.rl.utils.data_queue - [data_queue.py:70] - Automatically set data queue maxsize to 12 to avoid overwhelming.\n",
      "[34473:MainThread](2023-03-18 07:49:23,344) INFO - qlib.backtest caller - [__init__.py:93] - Create new exchange\n",
      "[34473:MainThread](2023-03-18 07:49:33,156) WARNING - qlib.online operator - [exchange.py:219] - $open field data contains nan.\n",
      "[34473:MainThread](2023-03-18 07:49:33,159) WARNING - qlib.online operator - [exchange.py:219] - $open field data contains nan.\n"
     ]
    },
    {
     "name": "stdout",
     "output_type": "stream",
     "text": [
      "start_time: 2017-01-08, end_time: 2018-12-31\n"
     ]
    },
    {
     "name": "stderr",
     "output_type": "stream",
     "text": [
      "[34473:MainThread](2023-03-18 07:49:49,001) INFO - qlib.backtest caller - [__init__.py:93] - Create new exchange\n",
      "[34473:MainThread](2023-03-18 07:49:59,137) WARNING - qlib.online operator - [exchange.py:219] - $open field data contains nan.\n",
      "[34473:MainThread](2023-03-18 07:49:59,140) WARNING - qlib.online operator - [exchange.py:219] - $open field data contains nan.\n",
      "[34473:MainThread](2023-03-18 07:50:00,365) INFO - qlib.backtest caller - [__init__.py:93] - Create new exchange\n"
     ]
    },
    {
     "name": "stdout",
     "output_type": "stream",
     "text": [
      "start_time: 2017-01-08, end_time: 2018-12-31\n"
     ]
    },
    {
     "name": "stderr",
     "output_type": "stream",
     "text": [
      "[34473:MainThread](2023-03-18 07:50:10,296) WARNING - qlib.online operator - [exchange.py:219] - $open field data contains nan.\n",
      "[34473:MainThread](2023-03-18 07:50:10,299) WARNING - qlib.online operator - [exchange.py:219] - $open field data contains nan.\n"
     ]
    },
    {
     "name": "stdout",
     "output_type": "stream",
     "text": [
      "start_time: 2017-01-08, end_time: 2018-12-31\n"
     ]
    },
    {
     "name": "stderr",
     "output_type": "stream",
     "text": [
      "[34473:MainThread](2023-03-18 07:50:14,947) INFO - qlib.rl.trainer.vessel - [vessel.py:84] - [Iter 10] n/ep = 1\n",
      "[34473:MainThread](2023-03-18 07:50:14,949) INFO - qlib.rl.trainer.vessel - [vessel.py:84] - [Iter 10] n/st = 483\n",
      "[34473:MainThread](2023-03-18 07:50:14,950) INFO - qlib.rl.trainer.vessel - [vessel.py:84] - [Iter 10] rews = 2.907500001126218\n",
      "[34473:MainThread](2023-03-18 07:50:14,951) INFO - qlib.rl.trainer.vessel - [vessel.py:84] - [Iter 10] lens = 483.0\n",
      "[34473:MainThread](2023-03-18 07:50:14,952) INFO - qlib.rl.trainer.vessel - [vessel.py:84] - [Iter 10] idxs = 0.0\n",
      "[34473:MainThread](2023-03-18 07:50:14,954) INFO - qlib.rl.trainer.vessel - [vessel.py:84] - [Iter 10] rew = 2.907500001126218\n",
      "[34473:MainThread](2023-03-18 07:50:14,955) INFO - qlib.rl.trainer.vessel - [vessel.py:84] - [Iter 10] len = 483.0\n",
      "[34473:MainThread](2023-03-18 07:50:14,956) INFO - qlib.rl.trainer.vessel - [vessel.py:84] - [Iter 10] rew_std = 0.0\n",
      "[34473:MainThread](2023-03-18 07:50:14,957) INFO - qlib.rl.trainer.vessel - [vessel.py:84] - [Iter 10] len_std = 0.0\n",
      "[34473:MainThread](2023-03-18 07:50:14,958) INFO - qlib.rl.trainer.vessel - [vessel.py:84] - [Iter 10] loss = 27.846677834647043\n",
      "[34473:MainThread](2023-03-18 07:50:14,959) INFO - qlib.rl.trainer.vessel - [vessel.py:84] - [Iter 10] loss/clip = 0.29783692764384406\n",
      "[34473:MainThread](2023-03-18 07:50:14,960) INFO - qlib.rl.trainer.vessel - [vessel.py:84] - [Iter 10] loss/vf = 27.548840985979353\n",
      "[34473:MainThread](2023-03-18 07:50:14,961) INFO - qlib.rl.trainer.vessel - [vessel.py:84] - [Iter 10] loss/ent = 28.29770518711635\n",
      "[34473:MainThread](2023-03-18 07:50:16,008) INFO - qlib.rl.trainer.vessel - [vessel.py:159] - Validation initial states collection size: 1\n",
      "[34473:MainThread](2023-03-18 07:50:16,010) INFO - qlib.rl.utils.data_queue - [data_queue.py:70] - Automatically set data queue maxsize to 12 to avoid overwhelming.\n",
      "[34473:MainThread](2023-03-18 07:50:17,018) INFO - qlib.backtest caller - [__init__.py:93] - Create new exchange\n",
      "[34473:MainThread](2023-03-18 07:50:26,877) WARNING - qlib.online operator - [exchange.py:219] - $open field data contains nan.\n",
      "[34473:MainThread](2023-03-18 07:50:26,879) WARNING - qlib.online operator - [exchange.py:219] - $open field data contains nan.\n"
     ]
    },
    {
     "name": "stdout",
     "output_type": "stream",
     "text": [
      "start_time: 2019-01-01, end_time: 2023-03-15\n"
     ]
    },
    {
     "name": "stderr",
     "output_type": "stream",
     "text": [
      "[34473:MainThread](2023-03-18 07:50:59,501) INFO - qlib.rl.trainer.callbacks - [callbacks.py:161] - #9 current reward: 2.9075, best reward: 3.0956 in #1\n",
      "[34473:MainThread](2023-03-18 07:50:59,531) INFO - qlib.rl.trainer.trainer - [trainer.py:211] - \n",
      "2023-03-18 07:50:59\tTrain iteration 11/1000\n",
      "[34473:MainThread](2023-03-18 07:50:59,533) INFO - qlib.rl.trainer.vessel - [vessel.py:151] - Training initial states collection size: 1\n",
      "[34473:MainThread](2023-03-18 07:50:59,534) INFO - qlib.rl.utils.data_queue - [data_queue.py:70] - Automatically set data queue maxsize to 12 to avoid overwhelming.\n",
      "[34473:MainThread](2023-03-18 07:51:00,543) INFO - qlib.backtest caller - [__init__.py:93] - Create new exchange\n",
      "[34473:MainThread](2023-03-18 07:51:15,049) WARNING - qlib.online operator - [exchange.py:219] - $open field data contains nan.\n",
      "[34473:MainThread](2023-03-18 07:51:15,052) WARNING - qlib.online operator - [exchange.py:219] - $open field data contains nan.\n"
     ]
    },
    {
     "name": "stdout",
     "output_type": "stream",
     "text": [
      "start_time: 2017-01-08, end_time: 2018-12-31\n"
     ]
    },
    {
     "name": "stderr",
     "output_type": "stream",
     "text": [
      "[34473:MainThread](2023-03-18 07:51:35,391) INFO - qlib.backtest caller - [__init__.py:93] - Create new exchange\n",
      "[34473:MainThread](2023-03-18 07:51:46,381) WARNING - qlib.online operator - [exchange.py:219] - $open field data contains nan.\n",
      "[34473:MainThread](2023-03-18 07:51:46,384) WARNING - qlib.online operator - [exchange.py:219] - $open field data contains nan.\n",
      "[34473:MainThread](2023-03-18 07:51:47,669) INFO - qlib.backtest caller - [__init__.py:93] - Create new exchange\n"
     ]
    },
    {
     "name": "stdout",
     "output_type": "stream",
     "text": [
      "start_time: 2017-01-08, end_time: 2018-12-31\n"
     ]
    },
    {
     "name": "stderr",
     "output_type": "stream",
     "text": [
      "[34473:MainThread](2023-03-18 07:51:59,024) WARNING - qlib.online operator - [exchange.py:219] - $open field data contains nan.\n",
      "[34473:MainThread](2023-03-18 07:51:59,027) WARNING - qlib.online operator - [exchange.py:219] - $open field data contains nan.\n"
     ]
    },
    {
     "name": "stdout",
     "output_type": "stream",
     "text": [
      "start_time: 2017-01-08, end_time: 2018-12-31\n"
     ]
    },
    {
     "name": "stderr",
     "output_type": "stream",
     "text": [
      "[34473:MainThread](2023-03-18 07:52:04,288) INFO - qlib.rl.trainer.vessel - [vessel.py:84] - [Iter 11] n/ep = 1\n",
      "[34473:MainThread](2023-03-18 07:52:04,290) INFO - qlib.rl.trainer.vessel - [vessel.py:84] - [Iter 11] n/st = 483\n",
      "[34473:MainThread](2023-03-18 07:52:04,291) INFO - qlib.rl.trainer.vessel - [vessel.py:84] - [Iter 11] rews = 3.176898321244443\n",
      "[34473:MainThread](2023-03-18 07:52:04,293) INFO - qlib.rl.trainer.vessel - [vessel.py:84] - [Iter 11] lens = 483.0\n",
      "[34473:MainThread](2023-03-18 07:52:04,294) INFO - qlib.rl.trainer.vessel - [vessel.py:84] - [Iter 11] idxs = 0.0\n",
      "[34473:MainThread](2023-03-18 07:52:04,295) INFO - qlib.rl.trainer.vessel - [vessel.py:84] - [Iter 11] rew = 3.176898321244443\n",
      "[34473:MainThread](2023-03-18 07:52:04,296) INFO - qlib.rl.trainer.vessel - [vessel.py:84] - [Iter 11] len = 483.0\n",
      "[34473:MainThread](2023-03-18 07:52:04,297) INFO - qlib.rl.trainer.vessel - [vessel.py:84] - [Iter 11] rew_std = 0.0\n",
      "[34473:MainThread](2023-03-18 07:52:04,299) INFO - qlib.rl.trainer.vessel - [vessel.py:84] - [Iter 11] len_std = 0.0\n",
      "[34473:MainThread](2023-03-18 07:52:04,300) INFO - qlib.rl.trainer.vessel - [vessel.py:84] - [Iter 11] loss = 91.27888532366072\n",
      "[34473:MainThread](2023-03-18 07:52:04,301) INFO - qlib.rl.trainer.vessel - [vessel.py:84] - [Iter 11] loss/clip = 0.17845005350453513\n",
      "[34473:MainThread](2023-03-18 07:52:04,302) INFO - qlib.rl.trainer.vessel - [vessel.py:84] - [Iter 11] loss/vf = 91.10043552943638\n",
      "[34473:MainThread](2023-03-18 07:52:04,304) INFO - qlib.rl.trainer.vessel - [vessel.py:84] - [Iter 11] loss/ent = 28.280381447928292\n",
      "[34473:MainThread](2023-03-18 07:52:05,333) INFO - qlib.rl.trainer.vessel - [vessel.py:159] - Validation initial states collection size: 1\n",
      "[34473:MainThread](2023-03-18 07:52:05,335) INFO - qlib.rl.utils.data_queue - [data_queue.py:70] - Automatically set data queue maxsize to 12 to avoid overwhelming.\n",
      "[34473:MainThread](2023-03-18 07:52:06,342) INFO - qlib.backtest caller - [__init__.py:93] - Create new exchange\n",
      "[34473:MainThread](2023-03-18 07:52:16,978) WARNING - qlib.online operator - [exchange.py:219] - $open field data contains nan.\n",
      "[34473:MainThread](2023-03-18 07:52:16,982) WARNING - qlib.online operator - [exchange.py:219] - $open field data contains nan.\n"
     ]
    },
    {
     "name": "stdout",
     "output_type": "stream",
     "text": [
      "start_time: 2019-01-01, end_time: 2023-03-15\n"
     ]
    },
    {
     "name": "stderr",
     "output_type": "stream",
     "text": [
      "[34473:MainThread](2023-03-18 07:52:51,343) INFO - qlib.rl.trainer.callbacks - [callbacks.py:161] - #10 current reward: 3.1769, best reward: 3.1769 in #10\n",
      "[34473:MainThread](2023-03-18 07:52:51,379) INFO - qlib.rl.trainer.trainer - [trainer.py:211] - \n",
      "2023-03-18 07:52:51\tTrain iteration 12/1000\n",
      "[34473:MainThread](2023-03-18 07:52:51,380) INFO - qlib.rl.trainer.vessel - [vessel.py:151] - Training initial states collection size: 1\n",
      "[34473:MainThread](2023-03-18 07:52:51,382) INFO - qlib.rl.utils.data_queue - [data_queue.py:70] - Automatically set data queue maxsize to 12 to avoid overwhelming.\n",
      "[34473:MainThread](2023-03-18 07:52:52,393) INFO - qlib.backtest caller - [__init__.py:93] - Create new exchange\n",
      "[34473:MainThread](2023-03-18 07:53:03,440) WARNING - qlib.online operator - [exchange.py:219] - $open field data contains nan.\n",
      "[34473:MainThread](2023-03-18 07:53:03,443) WARNING - qlib.online operator - [exchange.py:219] - $open field data contains nan.\n"
     ]
    },
    {
     "name": "stdout",
     "output_type": "stream",
     "text": [
      "start_time: 2017-01-08, end_time: 2018-12-31\n"
     ]
    },
    {
     "name": "stderr",
     "output_type": "stream",
     "text": [
      "[34473:MainThread](2023-03-18 07:53:23,196) INFO - qlib.backtest caller - [__init__.py:93] - Create new exchange\n",
      "[34473:MainThread](2023-03-18 07:53:35,987) WARNING - qlib.online operator - [exchange.py:219] - $open field data contains nan.\n",
      "[34473:MainThread](2023-03-18 07:53:36,053) WARNING - qlib.online operator - [exchange.py:219] - $open field data contains nan.\n",
      "[34473:MainThread](2023-03-18 07:53:40,129) INFO - qlib.backtest caller - [__init__.py:93] - Create new exchange\n"
     ]
    },
    {
     "name": "stdout",
     "output_type": "stream",
     "text": [
      "start_time: 2017-01-08, end_time: 2018-12-31\n"
     ]
    },
    {
     "name": "stderr",
     "output_type": "stream",
     "text": [
      "[34473:MainThread](2023-03-18 07:53:50,920) WARNING - qlib.online operator - [exchange.py:219] - $open field data contains nan.\n",
      "[34473:MainThread](2023-03-18 07:53:50,923) WARNING - qlib.online operator - [exchange.py:219] - $open field data contains nan.\n"
     ]
    },
    {
     "name": "stdout",
     "output_type": "stream",
     "text": [
      "start_time: 2017-01-08, end_time: 2018-12-31\n"
     ]
    },
    {
     "name": "stderr",
     "output_type": "stream",
     "text": [
      "[34473:MainThread](2023-03-18 07:53:58,397) INFO - qlib.rl.trainer.vessel - [vessel.py:84] - [Iter 12] n/ep = 1\n",
      "[34473:MainThread](2023-03-18 07:53:58,399) INFO - qlib.rl.trainer.vessel - [vessel.py:84] - [Iter 12] n/st = 483\n",
      "[34473:MainThread](2023-03-18 07:53:58,400) INFO - qlib.rl.trainer.vessel - [vessel.py:84] - [Iter 12] rews = 2.5971870014882232\n",
      "[34473:MainThread](2023-03-18 07:53:58,401) INFO - qlib.rl.trainer.vessel - [vessel.py:84] - [Iter 12] lens = 483.0\n",
      "[34473:MainThread](2023-03-18 07:53:58,403) INFO - qlib.rl.trainer.vessel - [vessel.py:84] - [Iter 12] idxs = 0.0\n",
      "[34473:MainThread](2023-03-18 07:53:58,404) INFO - qlib.rl.trainer.vessel - [vessel.py:84] - [Iter 12] rew = 2.5971870014882232\n",
      "[34473:MainThread](2023-03-18 07:53:58,406) INFO - qlib.rl.trainer.vessel - [vessel.py:84] - [Iter 12] len = 483.0\n",
      "[34473:MainThread](2023-03-18 07:53:58,407) INFO - qlib.rl.trainer.vessel - [vessel.py:84] - [Iter 12] rew_std = 0.0\n",
      "[34473:MainThread](2023-03-18 07:53:58,409) INFO - qlib.rl.trainer.vessel - [vessel.py:84] - [Iter 12] len_std = 0.0\n",
      "[34473:MainThread](2023-03-18 07:53:58,410) INFO - qlib.rl.trainer.vessel - [vessel.py:84] - [Iter 12] loss = 9.335502297537667\n",
      "[34473:MainThread](2023-03-18 07:53:58,412) INFO - qlib.rl.trainer.vessel - [vessel.py:84] - [Iter 12] loss/clip = 0.4012699661510331\n",
      "[34473:MainThread](2023-03-18 07:53:58,413) INFO - qlib.rl.trainer.vessel - [vessel.py:84] - [Iter 12] loss/vf = 8.934232316698347\n",
      "[34473:MainThread](2023-03-18 07:53:58,414) INFO - qlib.rl.trainer.vessel - [vessel.py:84] - [Iter 12] loss/ent = 28.27519612993513\n",
      "[34473:MainThread](2023-03-18 07:53:59,460) INFO - qlib.rl.trainer.vessel - [vessel.py:159] - Validation initial states collection size: 1\n",
      "[34473:MainThread](2023-03-18 07:53:59,462) INFO - qlib.rl.utils.data_queue - [data_queue.py:70] - Automatically set data queue maxsize to 12 to avoid overwhelming.\n",
      "[34473:MainThread](2023-03-18 07:54:00,470) INFO - qlib.backtest caller - [__init__.py:93] - Create new exchange\n",
      "[34473:MainThread](2023-03-18 07:54:12,718) WARNING - qlib.online operator - [exchange.py:219] - $open field data contains nan.\n",
      "[34473:MainThread](2023-03-18 07:54:12,721) WARNING - qlib.online operator - [exchange.py:219] - $open field data contains nan.\n"
     ]
    },
    {
     "name": "stdout",
     "output_type": "stream",
     "text": [
      "start_time: 2019-01-01, end_time: 2023-03-15\n"
     ]
    },
    {
     "name": "stderr",
     "output_type": "stream",
     "text": [
      "[34473:MainThread](2023-03-18 07:54:50,178) INFO - qlib.rl.trainer.callbacks - [callbacks.py:161] - #11 current reward: 2.5972, best reward: 3.1769 in #10\n",
      "[34473:MainThread](2023-03-18 07:54:50,224) INFO - qlib.rl.trainer.trainer - [trainer.py:211] - \n",
      "2023-03-18 07:54:50\tTrain iteration 13/1000\n",
      "[34473:MainThread](2023-03-18 07:54:50,228) INFO - qlib.rl.trainer.vessel - [vessel.py:151] - Training initial states collection size: 1\n",
      "[34473:MainThread](2023-03-18 07:54:50,229) INFO - qlib.rl.utils.data_queue - [data_queue.py:70] - Automatically set data queue maxsize to 12 to avoid overwhelming.\n",
      "[34473:MainThread](2023-03-18 07:54:51,241) INFO - qlib.backtest caller - [__init__.py:93] - Create new exchange\n",
      "[34473:MainThread](2023-03-18 07:55:01,663) WARNING - qlib.online operator - [exchange.py:219] - $open field data contains nan.\n",
      "[34473:MainThread](2023-03-18 07:55:01,666) WARNING - qlib.online operator - [exchange.py:219] - $open field data contains nan.\n"
     ]
    },
    {
     "name": "stdout",
     "output_type": "stream",
     "text": [
      "start_time: 2017-01-08, end_time: 2018-12-31\n"
     ]
    },
    {
     "name": "stderr",
     "output_type": "stream",
     "text": [
      "[34473:MainThread](2023-03-18 07:55:20,565) INFO - qlib.backtest caller - [__init__.py:93] - Create new exchange\n",
      "[34473:MainThread](2023-03-18 07:55:30,883) WARNING - qlib.online operator - [exchange.py:219] - $open field data contains nan.\n",
      "[34473:MainThread](2023-03-18 07:55:30,886) WARNING - qlib.online operator - [exchange.py:219] - $open field data contains nan.\n",
      "[34473:MainThread](2023-03-18 07:55:32,079) INFO - qlib.backtest caller - [__init__.py:93] - Create new exchange\n"
     ]
    },
    {
     "name": "stdout",
     "output_type": "stream",
     "text": [
      "start_time: 2017-01-08, end_time: 2018-12-31\n"
     ]
    },
    {
     "name": "stderr",
     "output_type": "stream",
     "text": [
      "[34473:MainThread](2023-03-18 07:55:42,076) WARNING - qlib.online operator - [exchange.py:219] - $open field data contains nan.\n",
      "[34473:MainThread](2023-03-18 07:55:42,081) WARNING - qlib.online operator - [exchange.py:219] - $open field data contains nan.\n"
     ]
    },
    {
     "name": "stdout",
     "output_type": "stream",
     "text": [
      "start_time: 2017-01-08, end_time: 2018-12-31\n"
     ]
    },
    {
     "name": "stderr",
     "output_type": "stream",
     "text": [
      "[34473:MainThread](2023-03-18 07:55:46,921) INFO - qlib.rl.trainer.vessel - [vessel.py:84] - [Iter 13] n/ep = 1\n",
      "[34473:MainThread](2023-03-18 07:55:46,922) INFO - qlib.rl.trainer.vessel - [vessel.py:84] - [Iter 13] n/st = 483\n",
      "[34473:MainThread](2023-03-18 07:55:46,923) INFO - qlib.rl.trainer.vessel - [vessel.py:84] - [Iter 13] rews = 3.2799291650855382\n",
      "[34473:MainThread](2023-03-18 07:55:46,924) INFO - qlib.rl.trainer.vessel - [vessel.py:84] - [Iter 13] lens = 483.0\n",
      "[34473:MainThread](2023-03-18 07:55:46,925) INFO - qlib.rl.trainer.vessel - [vessel.py:84] - [Iter 13] idxs = 0.0\n",
      "[34473:MainThread](2023-03-18 07:55:46,926) INFO - qlib.rl.trainer.vessel - [vessel.py:84] - [Iter 13] rew = 3.2799291650855382\n",
      "[34473:MainThread](2023-03-18 07:55:46,927) INFO - qlib.rl.trainer.vessel - [vessel.py:84] - [Iter 13] len = 483.0\n",
      "[34473:MainThread](2023-03-18 07:55:46,928) INFO - qlib.rl.trainer.vessel - [vessel.py:84] - [Iter 13] rew_std = 0.0\n",
      "[34473:MainThread](2023-03-18 07:55:46,929) INFO - qlib.rl.trainer.vessel - [vessel.py:84] - [Iter 13] len_std = 0.0\n",
      "[34473:MainThread](2023-03-18 07:55:46,930) INFO - qlib.rl.trainer.vessel - [vessel.py:84] - [Iter 13] loss = 1238.7935337611607\n",
      "[34473:MainThread](2023-03-18 07:55:46,931) INFO - qlib.rl.trainer.vessel - [vessel.py:84] - [Iter 13] loss/clip = 0.1545263114784445\n",
      "[34473:MainThread](2023-03-18 07:55:46,932) INFO - qlib.rl.trainer.vessel - [vessel.py:84] - [Iter 13] loss/vf = 1238.639013671875\n",
      "[34473:MainThread](2023-03-18 07:55:46,933) INFO - qlib.rl.trainer.vessel - [vessel.py:84] - [Iter 13] loss/ent = 28.281751578194754\n",
      "[34473:MainThread](2023-03-18 07:55:47,970) INFO - qlib.rl.trainer.vessel - [vessel.py:159] - Validation initial states collection size: 1\n",
      "[34473:MainThread](2023-03-18 07:55:47,972) INFO - qlib.rl.utils.data_queue - [data_queue.py:70] - Automatically set data queue maxsize to 12 to avoid overwhelming.\n",
      "[34473:MainThread](2023-03-18 07:55:48,983) INFO - qlib.backtest caller - [__init__.py:93] - Create new exchange\n",
      "[34473:MainThread](2023-03-18 07:55:58,820) WARNING - qlib.online operator - [exchange.py:219] - $open field data contains nan.\n",
      "[34473:MainThread](2023-03-18 07:55:58,823) WARNING - qlib.online operator - [exchange.py:219] - $open field data contains nan.\n"
     ]
    },
    {
     "name": "stdout",
     "output_type": "stream",
     "text": [
      "start_time: 2019-01-01, end_time: 2023-03-15\n"
     ]
    },
    {
     "name": "stderr",
     "output_type": "stream",
     "text": [
      "[34473:MainThread](2023-03-18 07:56:30,750) INFO - qlib.rl.trainer.callbacks - [callbacks.py:161] - #12 current reward: 3.2799, best reward: 3.2799 in #12\n",
      "[34473:MainThread](2023-03-18 07:56:30,787) INFO - qlib.rl.trainer.trainer - [trainer.py:211] - \n",
      "2023-03-18 07:56:30\tTrain iteration 14/1000\n",
      "[34473:MainThread](2023-03-18 07:56:30,789) INFO - qlib.rl.trainer.vessel - [vessel.py:151] - Training initial states collection size: 1\n",
      "[34473:MainThread](2023-03-18 07:56:30,790) INFO - qlib.rl.utils.data_queue - [data_queue.py:70] - Automatically set data queue maxsize to 12 to avoid overwhelming.\n",
      "[34473:MainThread](2023-03-18 07:56:31,799) INFO - qlib.backtest caller - [__init__.py:93] - Create new exchange\n",
      "[34473:MainThread](2023-03-18 07:56:41,786) WARNING - qlib.online operator - [exchange.py:219] - $open field data contains nan.\n",
      "[34473:MainThread](2023-03-18 07:56:41,789) WARNING - qlib.online operator - [exchange.py:219] - $open field data contains nan.\n"
     ]
    },
    {
     "name": "stdout",
     "output_type": "stream",
     "text": [
      "start_time: 2017-01-08, end_time: 2018-12-31\n"
     ]
    },
    {
     "name": "stderr",
     "output_type": "stream",
     "text": [
      "[34473:MainThread](2023-03-18 07:56:58,487) INFO - qlib.backtest caller - [__init__.py:93] - Create new exchange\n",
      "[34473:MainThread](2023-03-18 07:57:08,433) WARNING - qlib.online operator - [exchange.py:219] - $open field data contains nan.\n",
      "[34473:MainThread](2023-03-18 07:57:08,436) WARNING - qlib.online operator - [exchange.py:219] - $open field data contains nan.\n",
      "[34473:MainThread](2023-03-18 07:57:09,693) INFO - qlib.backtest caller - [__init__.py:93] - Create new exchange\n"
     ]
    },
    {
     "name": "stdout",
     "output_type": "stream",
     "text": [
      "start_time: 2017-01-08, end_time: 2018-12-31\n"
     ]
    },
    {
     "name": "stderr",
     "output_type": "stream",
     "text": [
      "[34473:MainThread](2023-03-18 07:57:19,750) WARNING - qlib.online operator - [exchange.py:219] - $open field data contains nan.\n",
      "[34473:MainThread](2023-03-18 07:57:19,753) WARNING - qlib.online operator - [exchange.py:219] - $open field data contains nan.\n"
     ]
    },
    {
     "name": "stdout",
     "output_type": "stream",
     "text": [
      "start_time: 2017-01-08, end_time: 2018-12-31\n"
     ]
    },
    {
     "name": "stderr",
     "output_type": "stream",
     "text": [
      "[34473:MainThread](2023-03-18 07:57:24,440) INFO - qlib.rl.trainer.vessel - [vessel.py:84] - [Iter 14] n/ep = 1\n",
      "[34473:MainThread](2023-03-18 07:57:24,441) INFO - qlib.rl.trainer.vessel - [vessel.py:84] - [Iter 14] n/st = 483\n",
      "[34473:MainThread](2023-03-18 07:57:24,443) INFO - qlib.rl.trainer.vessel - [vessel.py:84] - [Iter 14] rews = 3.248982119857062\n",
      "[34473:MainThread](2023-03-18 07:57:24,444) INFO - qlib.rl.trainer.vessel - [vessel.py:84] - [Iter 14] lens = 483.0\n",
      "[34473:MainThread](2023-03-18 07:57:24,445) INFO - qlib.rl.trainer.vessel - [vessel.py:84] - [Iter 14] idxs = 0.0\n",
      "[34473:MainThread](2023-03-18 07:57:24,447) INFO - qlib.rl.trainer.vessel - [vessel.py:84] - [Iter 14] rew = 3.248982119857062\n",
      "[34473:MainThread](2023-03-18 07:57:24,448) INFO - qlib.rl.trainer.vessel - [vessel.py:84] - [Iter 14] len = 483.0\n",
      "[34473:MainThread](2023-03-18 07:57:24,449) INFO - qlib.rl.trainer.vessel - [vessel.py:84] - [Iter 14] rew_std = 0.0\n",
      "[34473:MainThread](2023-03-18 07:57:24,450) INFO - qlib.rl.trainer.vessel - [vessel.py:84] - [Iter 14] len_std = 0.0\n",
      "[34473:MainThread](2023-03-18 07:57:24,451) INFO - qlib.rl.trainer.vessel - [vessel.py:84] - [Iter 14] loss = 117.1719988141741\n",
      "[34473:MainThread](2023-03-18 07:57:24,452) INFO - qlib.rl.trainer.vessel - [vessel.py:84] - [Iter 14] loss/clip = 0.25316887657557213\n",
      "[34473:MainThread](2023-03-18 07:57:24,454) INFO - qlib.rl.trainer.vessel - [vessel.py:84] - [Iter 14] loss/vf = 116.91883021763392\n",
      "[34473:MainThread](2023-03-18 07:57:24,455) INFO - qlib.rl.trainer.vessel - [vessel.py:84] - [Iter 14] loss/ent = 28.28408432006836\n",
      "[34473:MainThread](2023-03-18 07:57:25,497) INFO - qlib.rl.trainer.vessel - [vessel.py:159] - Validation initial states collection size: 1\n",
      "[34473:MainThread](2023-03-18 07:57:25,499) INFO - qlib.rl.utils.data_queue - [data_queue.py:70] - Automatically set data queue maxsize to 12 to avoid overwhelming.\n",
      "[34473:MainThread](2023-03-18 07:57:26,507) INFO - qlib.backtest caller - [__init__.py:93] - Create new exchange\n",
      "[34473:MainThread](2023-03-18 07:57:37,585) WARNING - qlib.online operator - [exchange.py:219] - $open field data contains nan.\n",
      "[34473:MainThread](2023-03-18 07:57:37,589) WARNING - qlib.online operator - [exchange.py:219] - $open field data contains nan.\n"
     ]
    },
    {
     "name": "stdout",
     "output_type": "stream",
     "text": [
      "start_time: 2019-01-01, end_time: 2023-03-15\n"
     ]
    },
    {
     "name": "stderr",
     "output_type": "stream",
     "text": [
      "[34473:MainThread](2023-03-18 07:58:12,963) INFO - qlib.rl.trainer.callbacks - [callbacks.py:161] - #13 current reward: 3.2490, best reward: 3.2799 in #12\n",
      "[34473:MainThread](2023-03-18 07:58:13,000) INFO - qlib.rl.trainer.trainer - [trainer.py:211] - \n",
      "2023-03-18 07:58:12\tTrain iteration 15/1000\n",
      "[34473:MainThread](2023-03-18 07:58:13,001) INFO - qlib.rl.trainer.vessel - [vessel.py:151] - Training initial states collection size: 1\n",
      "[34473:MainThread](2023-03-18 07:58:13,003) INFO - qlib.rl.utils.data_queue - [data_queue.py:70] - Automatically set data queue maxsize to 12 to avoid overwhelming.\n",
      "[34473:MainThread](2023-03-18 07:58:14,015) INFO - qlib.backtest caller - [__init__.py:93] - Create new exchange\n",
      "[34473:MainThread](2023-03-18 07:58:24,991) WARNING - qlib.online operator - [exchange.py:219] - $open field data contains nan.\n",
      "[34473:MainThread](2023-03-18 07:58:24,994) WARNING - qlib.online operator - [exchange.py:219] - $open field data contains nan.\n"
     ]
    },
    {
     "name": "stdout",
     "output_type": "stream",
     "text": [
      "start_time: 2017-01-08, end_time: 2018-12-31\n"
     ]
    },
    {
     "name": "stderr",
     "output_type": "stream",
     "text": [
      "[34473:MainThread](2023-03-18 07:58:49,517) INFO - qlib.backtest caller - [__init__.py:93] - Create new exchange\n",
      "[34473:MainThread](2023-03-18 07:59:02,408) WARNING - qlib.online operator - [exchange.py:219] - $open field data contains nan.\n",
      "[34473:MainThread](2023-03-18 07:59:02,411) WARNING - qlib.online operator - [exchange.py:219] - $open field data contains nan.\n",
      "[34473:MainThread](2023-03-18 07:59:04,250) INFO - qlib.backtest caller - [__init__.py:93] - Create new exchange\n"
     ]
    },
    {
     "name": "stdout",
     "output_type": "stream",
     "text": [
      "start_time: 2017-01-08, end_time: 2018-12-31\n"
     ]
    },
    {
     "name": "stderr",
     "output_type": "stream",
     "text": [
      "[34473:MainThread](2023-03-18 07:59:18,686) WARNING - qlib.online operator - [exchange.py:219] - $open field data contains nan.\n",
      "[34473:MainThread](2023-03-18 07:59:18,689) WARNING - qlib.online operator - [exchange.py:219] - $open field data contains nan.\n"
     ]
    },
    {
     "name": "stdout",
     "output_type": "stream",
     "text": [
      "start_time: 2017-01-08, end_time: 2018-12-31\n"
     ]
    },
    {
     "name": "stderr",
     "output_type": "stream",
     "text": [
      "[34473:MainThread](2023-03-18 07:59:23,855) INFO - qlib.rl.trainer.vessel - [vessel.py:84] - [Iter 15] n/ep = 1\n",
      "[34473:MainThread](2023-03-18 07:59:23,857) INFO - qlib.rl.trainer.vessel - [vessel.py:84] - [Iter 15] n/st = 483\n",
      "[34473:MainThread](2023-03-18 07:59:23,858) INFO - qlib.rl.trainer.vessel - [vessel.py:84] - [Iter 15] rews = 2.228651933403118\n",
      "[34473:MainThread](2023-03-18 07:59:23,860) INFO - qlib.rl.trainer.vessel - [vessel.py:84] - [Iter 15] lens = 483.0\n",
      "[34473:MainThread](2023-03-18 07:59:23,861) INFO - qlib.rl.trainer.vessel - [vessel.py:84] - [Iter 15] idxs = 0.0\n",
      "[34473:MainThread](2023-03-18 07:59:23,862) INFO - qlib.rl.trainer.vessel - [vessel.py:84] - [Iter 15] rew = 2.228651933403118\n",
      "[34473:MainThread](2023-03-18 07:59:23,863) INFO - qlib.rl.trainer.vessel - [vessel.py:84] - [Iter 15] len = 483.0\n",
      "[34473:MainThread](2023-03-18 07:59:23,865) INFO - qlib.rl.trainer.vessel - [vessel.py:84] - [Iter 15] rew_std = 0.0\n",
      "[34473:MainThread](2023-03-18 07:59:23,866) INFO - qlib.rl.trainer.vessel - [vessel.py:84] - [Iter 15] len_std = 0.0\n",
      "[34473:MainThread](2023-03-18 07:59:23,867) INFO - qlib.rl.trainer.vessel - [vessel.py:84] - [Iter 15] loss = 32.75421475001744\n",
      "[34473:MainThread](2023-03-18 07:59:23,868) INFO - qlib.rl.trainer.vessel - [vessel.py:84] - [Iter 15] loss/clip = 0.12646299701716218\n",
      "[34473:MainThread](2023-03-18 07:59:23,869) INFO - qlib.rl.trainer.vessel - [vessel.py:84] - [Iter 15] loss/vf = 32.627751868111744\n",
      "[34473:MainThread](2023-03-18 07:59:23,871) INFO - qlib.rl.trainer.vessel - [vessel.py:84] - [Iter 15] loss/ent = 28.27404338291713\n",
      "[34473:MainThread](2023-03-18 07:59:24,907) INFO - qlib.rl.trainer.vessel - [vessel.py:159] - Validation initial states collection size: 1\n",
      "[34473:MainThread](2023-03-18 07:59:24,908) INFO - qlib.rl.utils.data_queue - [data_queue.py:70] - Automatically set data queue maxsize to 12 to avoid overwhelming.\n",
      "[34473:MainThread](2023-03-18 07:59:25,916) INFO - qlib.backtest caller - [__init__.py:93] - Create new exchange\n",
      "[34473:MainThread](2023-03-18 07:59:36,769) WARNING - qlib.online operator - [exchange.py:219] - $open field data contains nan.\n",
      "[34473:MainThread](2023-03-18 07:59:36,772) WARNING - qlib.online operator - [exchange.py:219] - $open field data contains nan.\n"
     ]
    },
    {
     "name": "stdout",
     "output_type": "stream",
     "text": [
      "start_time: 2019-01-01, end_time: 2023-03-15\n"
     ]
    },
    {
     "name": "stderr",
     "output_type": "stream",
     "text": [
      "[34473:MainThread](2023-03-18 08:00:13,653) INFO - qlib.rl.trainer.callbacks - [callbacks.py:161] - #14 current reward: 2.2287, best reward: 3.2799 in #12\n",
      "[34473:MainThread](2023-03-18 08:00:13,691) INFO - qlib.rl.trainer.trainer - [trainer.py:211] - \n",
      "2023-03-18 08:00:13\tTrain iteration 16/1000\n",
      "[34473:MainThread](2023-03-18 08:00:13,693) INFO - qlib.rl.trainer.vessel - [vessel.py:151] - Training initial states collection size: 1\n",
      "[34473:MainThread](2023-03-18 08:00:13,694) INFO - qlib.rl.utils.data_queue - [data_queue.py:70] - Automatically set data queue maxsize to 12 to avoid overwhelming.\n",
      "[34473:MainThread](2023-03-18 08:00:14,702) INFO - qlib.backtest caller - [__init__.py:93] - Create new exchange\n",
      "[34473:MainThread](2023-03-18 08:00:25,800) WARNING - qlib.online operator - [exchange.py:219] - $open field data contains nan.\n",
      "[34473:MainThread](2023-03-18 08:00:25,803) WARNING - qlib.online operator - [exchange.py:219] - $open field data contains nan.\n"
     ]
    },
    {
     "name": "stdout",
     "output_type": "stream",
     "text": [
      "start_time: 2017-01-08, end_time: 2018-12-31\n"
     ]
    },
    {
     "name": "stderr",
     "output_type": "stream",
     "text": [
      "[34473:MainThread](2023-03-18 08:00:43,604) INFO - qlib.backtest caller - [__init__.py:93] - Create new exchange\n",
      "[34473:MainThread](2023-03-18 08:00:56,216) WARNING - qlib.online operator - [exchange.py:219] - $open field data contains nan.\n",
      "[34473:MainThread](2023-03-18 08:00:56,218) WARNING - qlib.online operator - [exchange.py:219] - $open field data contains nan.\n",
      "[34473:MainThread](2023-03-18 08:00:57,581) INFO - qlib.backtest caller - [__init__.py:93] - Create new exchange\n"
     ]
    },
    {
     "name": "stdout",
     "output_type": "stream",
     "text": [
      "start_time: 2017-01-08, end_time: 2018-12-31\n"
     ]
    },
    {
     "name": "stderr",
     "output_type": "stream",
     "text": [
      "[34473:MainThread](2023-03-18 08:01:09,434) WARNING - qlib.online operator - [exchange.py:219] - $open field data contains nan.\n",
      "[34473:MainThread](2023-03-18 08:01:09,437) WARNING - qlib.online operator - [exchange.py:219] - $open field data contains nan.\n"
     ]
    },
    {
     "name": "stdout",
     "output_type": "stream",
     "text": [
      "start_time: 2017-01-08, end_time: 2018-12-31\n"
     ]
    },
    {
     "name": "stderr",
     "output_type": "stream",
     "text": [
      "[34473:MainThread](2023-03-18 08:01:14,592) INFO - qlib.rl.trainer.vessel - [vessel.py:84] - [Iter 16] n/ep = 1\n",
      "[34473:MainThread](2023-03-18 08:01:14,594) INFO - qlib.rl.trainer.vessel - [vessel.py:84] - [Iter 16] n/st = 483\n",
      "[34473:MainThread](2023-03-18 08:01:14,595) INFO - qlib.rl.trainer.vessel - [vessel.py:84] - [Iter 16] rews = 1.9551147616920768\n",
      "[34473:MainThread](2023-03-18 08:01:14,597) INFO - qlib.rl.trainer.vessel - [vessel.py:84] - [Iter 16] lens = 483.0\n",
      "[34473:MainThread](2023-03-18 08:01:14,598) INFO - qlib.rl.trainer.vessel - [vessel.py:84] - [Iter 16] idxs = 0.0\n",
      "[34473:MainThread](2023-03-18 08:01:14,599) INFO - qlib.rl.trainer.vessel - [vessel.py:84] - [Iter 16] rew = 1.9551147616920768\n",
      "[34473:MainThread](2023-03-18 08:01:14,601) INFO - qlib.rl.trainer.vessel - [vessel.py:84] - [Iter 16] len = 483.0\n",
      "[34473:MainThread](2023-03-18 08:01:14,602) INFO - qlib.rl.trainer.vessel - [vessel.py:84] - [Iter 16] rew_std = 0.0\n",
      "[34473:MainThread](2023-03-18 08:01:14,603) INFO - qlib.rl.trainer.vessel - [vessel.py:84] - [Iter 16] len_std = 0.0\n",
      "[34473:MainThread](2023-03-18 08:01:14,605) INFO - qlib.rl.trainer.vessel - [vessel.py:84] - [Iter 16] loss = 12.793497167314802\n",
      "[34473:MainThread](2023-03-18 08:01:14,606) INFO - qlib.rl.trainer.vessel - [vessel.py:84] - [Iter 16] loss/clip = 0.19186388381889888\n",
      "[34473:MainThread](2023-03-18 08:01:14,608) INFO - qlib.rl.trainer.vessel - [vessel.py:84] - [Iter 16] loss/vf = 12.601633208138603\n",
      "[34473:MainThread](2023-03-18 08:01:14,609) INFO - qlib.rl.trainer.vessel - [vessel.py:84] - [Iter 16] loss/ent = 28.27540648324149\n",
      "[34473:MainThread](2023-03-18 08:01:15,636) INFO - qlib.rl.trainer.vessel - [vessel.py:159] - Validation initial states collection size: 1\n",
      "[34473:MainThread](2023-03-18 08:01:15,638) INFO - qlib.rl.utils.data_queue - [data_queue.py:70] - Automatically set data queue maxsize to 12 to avoid overwhelming.\n",
      "[34473:MainThread](2023-03-18 08:01:16,648) INFO - qlib.backtest caller - [__init__.py:93] - Create new exchange\n",
      "[34473:MainThread](2023-03-18 08:01:34,016) WARNING - qlib.online operator - [exchange.py:219] - $open field data contains nan.\n",
      "[34473:MainThread](2023-03-18 08:01:34,019) WARNING - qlib.online operator - [exchange.py:219] - $open field data contains nan.\n"
     ]
    },
    {
     "name": "stdout",
     "output_type": "stream",
     "text": [
      "start_time: 2019-01-01, end_time: 2023-03-15\n"
     ]
    },
    {
     "name": "stderr",
     "output_type": "stream",
     "text": [
      "[34473:MainThread](2023-03-18 08:02:10,572) INFO - qlib.rl.trainer.callbacks - [callbacks.py:161] - #15 current reward: 1.9551, best reward: 3.2799 in #12\n",
      "[34473:MainThread](2023-03-18 08:02:10,607) INFO - qlib.rl.trainer.trainer - [trainer.py:211] - \n",
      "2023-03-18 08:02:10\tTrain iteration 17/1000\n",
      "[34473:MainThread](2023-03-18 08:02:10,608) INFO - qlib.rl.trainer.vessel - [vessel.py:151] - Training initial states collection size: 1\n",
      "[34473:MainThread](2023-03-18 08:02:10,610) INFO - qlib.rl.utils.data_queue - [data_queue.py:70] - Automatically set data queue maxsize to 12 to avoid overwhelming.\n",
      "[34473:MainThread](2023-03-18 08:02:11,624) INFO - qlib.backtest caller - [__init__.py:93] - Create new exchange\n",
      "[34473:MainThread](2023-03-18 08:02:23,608) WARNING - qlib.online operator - [exchange.py:219] - $open field data contains nan.\n",
      "[34473:MainThread](2023-03-18 08:02:23,610) WARNING - qlib.online operator - [exchange.py:219] - $open field data contains nan.\n"
     ]
    },
    {
     "name": "stdout",
     "output_type": "stream",
     "text": [
      "start_time: 2017-01-08, end_time: 2018-12-31\n"
     ]
    },
    {
     "name": "stderr",
     "output_type": "stream",
     "text": [
      "[34473:MainThread](2023-03-18 08:02:43,252) INFO - qlib.backtest caller - [__init__.py:93] - Create new exchange\n",
      "[34473:MainThread](2023-03-18 08:02:54,529) WARNING - qlib.online operator - [exchange.py:219] - $open field data contains nan.\n",
      "[34473:MainThread](2023-03-18 08:02:54,532) WARNING - qlib.online operator - [exchange.py:219] - $open field data contains nan.\n",
      "[34473:MainThread](2023-03-18 08:02:56,046) INFO - qlib.backtest caller - [__init__.py:93] - Create new exchange\n"
     ]
    },
    {
     "name": "stdout",
     "output_type": "stream",
     "text": [
      "start_time: 2017-01-08, end_time: 2018-12-31\n"
     ]
    },
    {
     "name": "stderr",
     "output_type": "stream",
     "text": [
      "[34473:MainThread](2023-03-18 08:03:12,279) WARNING - qlib.online operator - [exchange.py:219] - $open field data contains nan.\n",
      "[34473:MainThread](2023-03-18 08:03:12,283) WARNING - qlib.online operator - [exchange.py:219] - $open field data contains nan.\n"
     ]
    },
    {
     "name": "stdout",
     "output_type": "stream",
     "text": [
      "start_time: 2017-01-08, end_time: 2018-12-31\n"
     ]
    },
    {
     "name": "stderr",
     "output_type": "stream",
     "text": [
      "[34473:MainThread](2023-03-18 08:03:19,037) INFO - qlib.rl.trainer.vessel - [vessel.py:84] - [Iter 17] n/ep = 1\n",
      "[34473:MainThread](2023-03-18 08:03:19,039) INFO - qlib.rl.trainer.vessel - [vessel.py:84] - [Iter 17] n/st = 483\n",
      "[34473:MainThread](2023-03-18 08:03:19,040) INFO - qlib.rl.trainer.vessel - [vessel.py:84] - [Iter 17] rews = 2.1125519622310875\n",
      "[34473:MainThread](2023-03-18 08:03:19,041) INFO - qlib.rl.trainer.vessel - [vessel.py:84] - [Iter 17] lens = 483.0\n",
      "[34473:MainThread](2023-03-18 08:03:19,043) INFO - qlib.rl.trainer.vessel - [vessel.py:84] - [Iter 17] idxs = 0.0\n",
      "[34473:MainThread](2023-03-18 08:03:19,044) INFO - qlib.rl.trainer.vessel - [vessel.py:84] - [Iter 17] rew = 2.1125519622310875\n",
      "[34473:MainThread](2023-03-18 08:03:19,045) INFO - qlib.rl.trainer.vessel - [vessel.py:84] - [Iter 17] len = 483.0\n",
      "[34473:MainThread](2023-03-18 08:03:19,046) INFO - qlib.rl.trainer.vessel - [vessel.py:84] - [Iter 17] rew_std = 0.0\n",
      "[34473:MainThread](2023-03-18 08:03:19,047) INFO - qlib.rl.trainer.vessel - [vessel.py:84] - [Iter 17] len_std = 0.0\n",
      "[34473:MainThread](2023-03-18 08:03:19,049) INFO - qlib.rl.trainer.vessel - [vessel.py:84] - [Iter 17] loss = 24.834729930332728\n",
      "[34473:MainThread](2023-03-18 08:03:19,050) INFO - qlib.rl.trainer.vessel - [vessel.py:84] - [Iter 17] loss/clip = 0.17050597768809114\n",
      "[34473:MainThread](2023-03-18 08:03:19,051) INFO - qlib.rl.trainer.vessel - [vessel.py:84] - [Iter 17] loss/vf = 24.664223752702984\n",
      "[34473:MainThread](2023-03-18 08:03:19,052) INFO - qlib.rl.trainer.vessel - [vessel.py:84] - [Iter 17] loss/ent = 28.27027609688895\n",
      "[34473:MainThread](2023-03-18 08:03:20,072) INFO - qlib.rl.trainer.vessel - [vessel.py:159] - Validation initial states collection size: 1\n",
      "[34473:MainThread](2023-03-18 08:03:20,073) INFO - qlib.rl.utils.data_queue - [data_queue.py:70] - Automatically set data queue maxsize to 12 to avoid overwhelming.\n",
      "[34473:MainThread](2023-03-18 08:03:21,085) INFO - qlib.backtest caller - [__init__.py:93] - Create new exchange\n",
      "[34473:MainThread](2023-03-18 08:03:32,809) WARNING - qlib.online operator - [exchange.py:219] - $open field data contains nan.\n",
      "[34473:MainThread](2023-03-18 08:03:32,812) WARNING - qlib.online operator - [exchange.py:219] - $open field data contains nan.\n"
     ]
    },
    {
     "name": "stdout",
     "output_type": "stream",
     "text": [
      "start_time: 2019-01-01, end_time: 2023-03-15\n"
     ]
    },
    {
     "name": "stderr",
     "output_type": "stream",
     "text": [
      "[34473:MainThread](2023-03-18 08:04:08,900) INFO - qlib.rl.trainer.callbacks - [callbacks.py:161] - #16 current reward: 2.1126, best reward: 3.2799 in #12\n",
      "[34473:MainThread](2023-03-18 08:04:08,939) INFO - qlib.rl.trainer.trainer - [trainer.py:211] - \n",
      "2023-03-18 08:04:08\tTrain iteration 18/1000\n",
      "[34473:MainThread](2023-03-18 08:04:08,941) INFO - qlib.rl.trainer.vessel - [vessel.py:151] - Training initial states collection size: 1\n",
      "[34473:MainThread](2023-03-18 08:04:08,942) INFO - qlib.rl.utils.data_queue - [data_queue.py:70] - Automatically set data queue maxsize to 12 to avoid overwhelming.\n",
      "[34473:MainThread](2023-03-18 08:04:09,948) INFO - qlib.backtest caller - [__init__.py:93] - Create new exchange\n",
      "[34473:MainThread](2023-03-18 08:04:22,070) WARNING - qlib.online operator - [exchange.py:219] - $open field data contains nan.\n",
      "[34473:MainThread](2023-03-18 08:04:22,074) WARNING - qlib.online operator - [exchange.py:219] - $open field data contains nan.\n"
     ]
    },
    {
     "name": "stdout",
     "output_type": "stream",
     "text": [
      "start_time: 2017-01-08, end_time: 2018-12-31\n"
     ]
    },
    {
     "name": "stderr",
     "output_type": "stream",
     "text": [
      "[34473:MainThread](2023-03-18 08:04:44,974) INFO - qlib.backtest caller - [__init__.py:93] - Create new exchange\n",
      "[34473:MainThread](2023-03-18 08:04:56,803) WARNING - qlib.online operator - [exchange.py:219] - $open field data contains nan.\n",
      "[34473:MainThread](2023-03-18 08:04:56,806) WARNING - qlib.online operator - [exchange.py:219] - $open field data contains nan.\n",
      "[34473:MainThread](2023-03-18 08:04:58,079) INFO - qlib.backtest caller - [__init__.py:93] - Create new exchange\n"
     ]
    },
    {
     "name": "stdout",
     "output_type": "stream",
     "text": [
      "start_time: 2017-01-08, end_time: 2018-12-31\n"
     ]
    },
    {
     "name": "stderr",
     "output_type": "stream",
     "text": [
      "[34473:MainThread](2023-03-18 08:05:09,620) WARNING - qlib.online operator - [exchange.py:219] - $open field data contains nan.\n",
      "[34473:MainThread](2023-03-18 08:05:09,623) WARNING - qlib.online operator - [exchange.py:219] - $open field data contains nan.\n"
     ]
    },
    {
     "name": "stdout",
     "output_type": "stream",
     "text": [
      "start_time: 2017-01-08, end_time: 2018-12-31\n"
     ]
    },
    {
     "name": "stderr",
     "output_type": "stream",
     "text": [
      "[34473:MainThread](2023-03-18 08:05:14,635) INFO - qlib.rl.trainer.vessel - [vessel.py:84] - [Iter 18] n/ep = 1\n",
      "[34473:MainThread](2023-03-18 08:05:14,636) INFO - qlib.rl.trainer.vessel - [vessel.py:84] - [Iter 18] n/st = 483\n",
      "[34473:MainThread](2023-03-18 08:05:14,638) INFO - qlib.rl.trainer.vessel - [vessel.py:84] - [Iter 18] rews = 2.660951320545316\n",
      "[34473:MainThread](2023-03-18 08:05:14,639) INFO - qlib.rl.trainer.vessel - [vessel.py:84] - [Iter 18] lens = 483.0\n",
      "[34473:MainThread](2023-03-18 08:05:14,641) INFO - qlib.rl.trainer.vessel - [vessel.py:84] - [Iter 18] idxs = 0.0\n",
      "[34473:MainThread](2023-03-18 08:05:14,643) INFO - qlib.rl.trainer.vessel - [vessel.py:84] - [Iter 18] rew = 2.660951320545316\n",
      "[34473:MainThread](2023-03-18 08:05:14,644) INFO - qlib.rl.trainer.vessel - [vessel.py:84] - [Iter 18] len = 483.0\n",
      "[34473:MainThread](2023-03-18 08:05:14,645) INFO - qlib.rl.trainer.vessel - [vessel.py:84] - [Iter 18] rew_std = 0.0\n",
      "[34473:MainThread](2023-03-18 08:05:14,647) INFO - qlib.rl.trainer.vessel - [vessel.py:84] - [Iter 18] len_std = 0.0\n",
      "[34473:MainThread](2023-03-18 08:05:14,648) INFO - qlib.rl.trainer.vessel - [vessel.py:84] - [Iter 18] loss = 1.887393171446664\n",
      "[34473:MainThread](2023-03-18 08:05:14,650) INFO - qlib.rl.trainer.vessel - [vessel.py:84] - [Iter 18] loss/clip = 0.08802915284676212\n",
      "[34473:MainThread](2023-03-18 08:05:14,651) INFO - qlib.rl.trainer.vessel - [vessel.py:84] - [Iter 18] loss/vf = 1.799364025252206\n",
      "[34473:MainThread](2023-03-18 08:05:14,653) INFO - qlib.rl.trainer.vessel - [vessel.py:84] - [Iter 18] loss/ent = 28.24968365260533\n",
      "[34473:MainThread](2023-03-18 08:05:15,695) INFO - qlib.rl.trainer.vessel - [vessel.py:159] - Validation initial states collection size: 1\n",
      "[34473:MainThread](2023-03-18 08:05:15,697) INFO - qlib.rl.utils.data_queue - [data_queue.py:70] - Automatically set data queue maxsize to 12 to avoid overwhelming.\n",
      "[34473:MainThread](2023-03-18 08:05:16,707) INFO - qlib.backtest caller - [__init__.py:93] - Create new exchange\n",
      "[34473:MainThread](2023-03-18 08:05:27,737) WARNING - qlib.online operator - [exchange.py:219] - $open field data contains nan.\n",
      "[34473:MainThread](2023-03-18 08:05:27,742) WARNING - qlib.online operator - [exchange.py:219] - $open field data contains nan.\n"
     ]
    },
    {
     "name": "stdout",
     "output_type": "stream",
     "text": [
      "start_time: 2019-01-01, end_time: 2023-03-15\n"
     ]
    },
    {
     "name": "stderr",
     "output_type": "stream",
     "text": [
      "[34473:MainThread](2023-03-18 08:06:03,057) INFO - qlib.rl.trainer.callbacks - [callbacks.py:161] - #17 current reward: 2.6610, best reward: 3.2799 in #12\n",
      "[34473:MainThread](2023-03-18 08:06:03,094) INFO - qlib.rl.trainer.trainer - [trainer.py:211] - \n",
      "2023-03-18 08:06:03\tTrain iteration 19/1000\n",
      "[34473:MainThread](2023-03-18 08:06:03,095) INFO - qlib.rl.trainer.vessel - [vessel.py:151] - Training initial states collection size: 1\n",
      "[34473:MainThread](2023-03-18 08:06:03,097) INFO - qlib.rl.utils.data_queue - [data_queue.py:70] - Automatically set data queue maxsize to 12 to avoid overwhelming.\n",
      "[34473:MainThread](2023-03-18 08:06:04,109) INFO - qlib.backtest caller - [__init__.py:93] - Create new exchange\n",
      "[34473:MainThread](2023-03-18 08:06:19,506) WARNING - qlib.online operator - [exchange.py:219] - $open field data contains nan.\n",
      "[34473:MainThread](2023-03-18 08:06:19,508) WARNING - qlib.online operator - [exchange.py:219] - $open field data contains nan.\n"
     ]
    },
    {
     "name": "stdout",
     "output_type": "stream",
     "text": [
      "start_time: 2017-01-08, end_time: 2018-12-31\n"
     ]
    },
    {
     "name": "stderr",
     "output_type": "stream",
     "text": [
      "[34473:MainThread](2023-03-18 08:06:41,026) INFO - qlib.backtest caller - [__init__.py:93] - Create new exchange\n",
      "[34473:MainThread](2023-03-18 08:06:54,179) WARNING - qlib.online operator - [exchange.py:219] - $open field data contains nan.\n",
      "[34473:MainThread](2023-03-18 08:06:54,182) WARNING - qlib.online operator - [exchange.py:219] - $open field data contains nan.\n",
      "[34473:MainThread](2023-03-18 08:06:55,482) INFO - qlib.backtest caller - [__init__.py:93] - Create new exchange\n"
     ]
    },
    {
     "name": "stdout",
     "output_type": "stream",
     "text": [
      "start_time: 2017-01-08, end_time: 2018-12-31\n"
     ]
    }
   ],
   "source": [
    "train_trade_strategy(trade_strategy=topk_dropout_dynamic_strategy, max_iters=1000, concurrency=1)"
   ]
  },
  {
   "cell_type": "code",
   "execution_count": null,
   "metadata": {},
   "outputs": [],
   "source": [
    "# train_trade_strategy(trade_strategy=topk_strategy, max_iters=1, concurrency=1)"
   ]
  },
  {
   "cell_type": "code",
   "execution_count": null,
   "metadata": {},
   "outputs": [],
   "source": [
    "# train_trade_strategy(trade_strategy=weight_strategy, max_iters=1, concurrency=1)"
   ]
  },
  {
   "cell_type": "markdown",
   "metadata": {},
   "source": [
    "## Backtest Policy"
   ]
  },
  {
   "cell_type": "code",
   "execution_count": null,
   "metadata": {},
   "outputs": [],
   "source": [
    "def get_port_analysis_config(config, strategy_config):\n",
    "    port_analysis_config = {\n",
    "        \"executor\": {\n",
    "            \"class\": \"SimulatorExecutor\",\n",
    "            \"module_path\": \"qlib.backtest.executor\",\n",
    "            \"kwargs\": {\n",
    "                \"time_per_step\": \"day\",\n",
    "                \"generate_portfolio_metrics\": True,\n",
    "            },\n",
    "        },\n",
    "        \"strategy\": strategy_config,\n",
    "        \"backtest\": {\n",
    "            \"start_time\": config[\"date\"][\"backtest\"][\"start\"],\n",
    "            \"end_time\": config[\"date\"][\"backtest\"][\"end\"],\n",
    "            \"account\": account,\n",
    "            \"benchmark\": config[\"backtest\"][\"benchmark\"],\n",
    "            \"exchange_kwargs\": config[\"backtest\"][\"exchange_kwargs\"]\n",
    "        },\n",
    "    }\n",
    "    return port_analysis_config"
   ]
  },
  {
   "cell_type": "code",
   "execution_count": null,
   "metadata": {},
   "outputs": [],
   "source": [
    "def get_topk_dropout_port_analysis_config(config):\n",
    "    strategy_config = {\n",
    "        \"class\": \"TopkDropoutStrategy\",\n",
    "        \"module_path\": \"qlib.contrib.strategy.signal_strategy\",\n",
    "        \"kwargs\": {\n",
    "            \"signal\": signal,\n",
    "            \"topk\": topk,\n",
    "            \"n_drop\": n_drop,\n",
    "            \"risk_degree\": 0.95,\n",
    "            \"only_tradable\": True,\n",
    "            \"hold_thresh\": hold_thresh,\n",
    "        }\n",
    "    }\n",
    "    return get_port_analysis_config(config, strategy_config)"
   ]
  },
  {
   "cell_type": "code",
   "execution_count": null,
   "metadata": {},
   "outputs": [],
   "source": [
    "def get_latest_checkpoint_path(strategy):\n",
    "    output_dir = sorted(glob.glob(f\"../records/EpisodeInformationRatioReward/{strategy}/{strategy.policy}/*\"))[-1]\n",
    "    checkpoint_path = f\"./{output_dir}/checkpoints/latest.pth\"\n",
    "    print(checkpoint_path)\n",
    "    return checkpoint_path\n",
    "\n",
    "\n",
    "def get_best_checkpoint_path(strategy):\n",
    "    output_dir = sorted(glob.glob(f\"../records/EpisodeInformationRatioReward/{strategy}/{strategy.policy}/*\"))[-1]\n",
    "    df_valid = pd.read_csv(f\"{output_dir}/metrics/validation_result.csv\", index_col=0)\n",
    "    best = df_valid.sort_values(\"val/reward\", ascending=True).iloc[-1]\n",
    "    epoch = int(best.name) + 1\n",
    "    checkpoint_path = f\"./{output_dir}/checkpoints/{epoch:03d}.pth\"\n",
    "    print(checkpoint_path)\n",
    "    print(best[\"val/reward\"])\n",
    "    return checkpoint_path"
   ]
  },
  {
   "cell_type": "code",
   "execution_count": null,
   "metadata": {},
   "outputs": [],
   "source": [
    "def get_topk_dropout_strategy_port_analysis_config(config, checkpoint_path=None):\n",
    "    if checkpoint_path is None:\n",
    "        checkpoint_path = get_best_checkpoint_path(topk_dropout_strategy)\n",
    "    strategy_config = {\n",
    "        \"class\": \"TopkDropoutStrategy\",\n",
    "        \"module_path\": \"longcapital.rl.order_execution.strategy\",\n",
    "        \"kwargs\": {\n",
    "            \"signal\": signal,\n",
    "            \"dim\": dim,\n",
    "            \"stock_num\": stock_num,\n",
    "            \"topk\": topk,\n",
    "            \"risk_degree\": 0.95,\n",
    "            \"only_tradable\": True,\n",
    "            \"hold_thresh\": hold_thresh,\n",
    "            \"signal_key\": \"signal\",\n",
    "            \"policy_cls\": topk_dropout_strategy.policy_cls,\n",
    "            \"checkpoint_path\": checkpoint_path\n",
    "        }\n",
    "    }\n",
    "    return get_port_analysis_config(config, strategy_config)"
   ]
  },
  {
   "cell_type": "code",
   "execution_count": null,
   "metadata": {},
   "outputs": [],
   "source": [
    "def get_topk_dropout_signal_strategy_port_analysis_config(config, checkpoint_path=None):\n",
    "    if checkpoint_path is None:\n",
    "        checkpoint_path = get_best_checkpoint_path(topk_dropout_signal_strategy)\n",
    "    strategy_config = {\n",
    "        \"class\": \"TopkDropoutSignalStrategy\",\n",
    "        \"module_path\": \"longcapital.rl.order_execution.strategy\",\n",
    "        \"kwargs\": {\n",
    "            \"signal\": signal,\n",
    "            \"dim\": dim,\n",
    "            \"stock_num\": stock_num,\n",
    "            \"topk\": topk,\n",
    "            \"n_drop\": n_drop,\n",
    "            \"risk_degree\": 0.95,\n",
    "            \"only_tradable\": True,\n",
    "            \"hold_thresh\": hold_thresh,\n",
    "            \"signal_key\": \"signal\",\n",
    "            \"policy_cls\": topk_dropout_signal_strategy.policy_cls,\n",
    "            \"checkpoint_path\": checkpoint_path\n",
    "        }\n",
    "    }\n",
    "    return get_port_analysis_config(config, strategy_config)"
   ]
  },
  {
   "cell_type": "code",
   "execution_count": null,
   "metadata": {},
   "outputs": [],
   "source": [
    "def get_topk_strategy_port_analysis_config(config, checkpoint_path=None):\n",
    "    if checkpoint_path is None:\n",
    "        checkpoint_path = get_best_checkpoint_path(topk_strategy)\n",
    "    strategy_config = {\n",
    "        \"class\": \"TopkStrategy\",\n",
    "        \"module_path\": \"longcapital.rl.order_execution.strategy\",\n",
    "        \"kwargs\": {\n",
    "            \"signal\": signal,\n",
    "            \"dim\": dim,\n",
    "            \"stock_num\": stock_num,\n",
    "            \"policy_cls\": topk_strategy.policy_cls,\n",
    "            \"checkpoint_path\": checkpoint_path\n",
    "        }\n",
    "    }\n",
    "    return get_port_analysis_config(config, strategy_config)"
   ]
  },
  {
   "cell_type": "code",
   "execution_count": null,
   "metadata": {},
   "outputs": [],
   "source": [
    "def get_weight_strategy_port_analysis_config(config, checkpoint_path=None):\n",
    "    if checkpoint_path is None:\n",
    "        checkpoint_path = get_best_checkpoint_path(weight_strategy)\n",
    "    strategy_config = {\n",
    "        \"class\": \"WeightStrategy\",\n",
    "        \"module_path\": \"longcapital.rl.order_execution.strategy\",\n",
    "        \"kwargs\": {\n",
    "            \"signal\": signal,\n",
    "            \"dim\": dim,\n",
    "            \"stock_num\": stock_num,\n",
    "            \"topk\": topk,\n",
    "            \"signal_key\": \"signal\",\n",
    "            \"policy_cls\": weight_strategy.policy_cls,\n",
    "            \"checkpoint_path\": checkpoint_path\n",
    "        }\n",
    "    }\n",
    "    return get_port_analysis_config(config, strategy_config)"
   ]
  },
  {
   "cell_type": "code",
   "execution_count": null,
   "metadata": {},
   "outputs": [],
   "source": [
    "def run_trade_strategy_backtest(rid, port_analysis_config, start_time=None, end_time=None):\n",
    "    mlflow.end_run()\n",
    "    with R.start(experiment_name=EXP_NAME, recorder_id=rid, resume=True):\n",
    "        if start_time:\n",
    "            port_analysis_config[\"backtest\"][\"start_time\"] = start_time\n",
    "        if end_time:\n",
    "            port_analysis_config[\"backtest\"][\"end_time\"] = end_time\n",
    "        \n",
    "        rec = R.get_recorder()\n",
    "        par = PortAnaRecord(rec, port_analysis_config, skip_existing=False)\n",
    "        par.generate()\n",
    "        \n",
    "        analysis_df = rec.load_object(\"portfolio_analysis/port_analysis_1day.pkl\")\n",
    "        report_normal_df = rec.load_object(\"portfolio_analysis/report_normal_1day.pkl\")\n",
    "        print(analysis_df)\n",
    "        analysis_position.report_graph(report_normal_df)"
   ]
  },
  {
   "cell_type": "code",
   "execution_count": null,
   "metadata": {},
   "outputs": [],
   "source": [
    "run_trade_strategy_backtest(\n",
    "    rid, \n",
    "    port_analysis_config=get_topk_dropout_port_analysis_config(\n",
    "        config=config\n",
    "    )\n",
    ")"
   ]
  },
  {
   "cell_type": "code",
   "execution_count": null,
   "metadata": {},
   "outputs": [],
   "source": [
    "# run_trade_strategy_backtest(\n",
    "#     rid, \n",
    "#     port_analysis_config=get_topk_dropout_strategy_port_analysis_config(\n",
    "#         config,\n",
    "#     )\n",
    "# )"
   ]
  },
  {
   "cell_type": "code",
   "execution_count": null,
   "metadata": {},
   "outputs": [],
   "source": [
    "run_trade_strategy_backtest(\n",
    "    rid, \n",
    "    port_analysis_config=get_topk_dropout_signal_strategy_port_analysis_config(\n",
    "        config, \n",
    "    )\n",
    ")"
   ]
  },
  {
   "cell_type": "code",
   "execution_count": null,
   "metadata": {},
   "outputs": [],
   "source": [
    "# run_trade_strategy_backtest(\n",
    "#     rid, \n",
    "#     port_analysis_config=get_topk_strategy_port_analysis_config(\n",
    "#         config, \n",
    "#     )\n",
    "# )"
   ]
  },
  {
   "cell_type": "code",
   "execution_count": null,
   "metadata": {
    "scrolled": true
   },
   "outputs": [],
   "source": [
    "# run_trade_strategy_backtest(\n",
    "#     rid, \n",
    "#     port_analysis_config=get_weight_strategy_port_analysis_config(\n",
    "#         config, \n",
    "#     )\n",
    "# )"
   ]
  },
  {
   "cell_type": "markdown",
   "metadata": {},
   "source": [
    "# Trade"
   ]
  },
  {
   "cell_type": "code",
   "execution_count": null,
   "metadata": {},
   "outputs": [],
   "source": [
    "initial_states_test = [\n",
    "    TradeStrategyInitiateState(\n",
    "        start_time=config[\"date\"][\"test\"][\"end\"],\n",
    "        end_time=config[\"date\"][\"test\"][\"end\"],\n",
    "        sample_date=False\n",
    "    )\n",
    "]"
   ]
  },
  {
   "cell_type": "code",
   "execution_count": null,
   "metadata": {},
   "outputs": [],
   "source": [
    "account = {\n",
    "    \"cash\": 17392,\n",
    "    \"SH601985\": {\"amount\": 4000, \"price\": 6.49, \"count_day\": 1},\n",
    "    \"SH601225\": {\"amount\": 1200, \"price\": 19.34, \"count_day\": 6},\n",
    "    \"SH603833\": {\"amount\": 200, \"price\": 129.69, \"count_day\": 4},\n",
    "    \"SH600188\": {\"amount\": 700, \"price\": 32.46, \"count_day\": 6},\n",
    "    \"SZ002032\": {\"amount\": 500, \"price\": 56.09, \"count_day\": 6},\n",
    "    \"SH603986\": {\"amount\": 200, \"price\": 101.03, \"count_day\": 2},\n",
    "}"
   ]
  },
  {
   "cell_type": "code",
   "execution_count": null,
   "metadata": {},
   "outputs": [],
   "source": [
    "topk_dropout_signal_strategy = TopkDropoutSignalStrategy(\n",
    "    signal=signal,\n",
    "    dim=dim,\n",
    "    stock_num=stock_num,\n",
    "    topk=10,\n",
    "    n_drop=2,\n",
    "    only_tradable=False, # we don't know it before trading\n",
    "    hold_thresh=hold_thresh,\n",
    "    signal_key=\"signal\",\n",
    "    policy_cls=continuous.MetaPPO,\n",
    "    feature_buffer_size=feature_buffer_size,\n",
    "    checkpoint_path=get_best_checkpoint_path(topk_dropout_signal_strategy)\n",
    ")"
   ]
  },
  {
   "cell_type": "code",
   "execution_count": null,
   "metadata": {},
   "outputs": [],
   "source": [
    "topk_dropout_signal_simulator = TradeStrategySimulator(\n",
    "    trade_strategy=topk_dropout_signal_strategy, \n",
    "    initial_state=initial_states_test[0], \n",
    "    account=account,\n",
    "    benchmark=None,\n",
    "    exchange_kwargs=config[\"backtest\"][\"exchange_kwargs\"]\n",
    ")"
   ]
  },
  {
   "cell_type": "code",
   "execution_count": null,
   "metadata": {},
   "outputs": [],
   "source": [
    "decision = topk_dropout_signal_strategy.trade()"
   ]
  },
  {
   "cell_type": "code",
   "execution_count": null,
   "metadata": {},
   "outputs": [],
   "source": [
    "decision"
   ]
  },
  {
   "cell_type": "code",
   "execution_count": null,
   "metadata": {},
   "outputs": [],
   "source": []
  }
 ],
 "metadata": {
  "kernelspec": {
   "display_name": "Python 3",
   "language": "python",
   "name": "python3"
  },
  "language_info": {
   "codemirror_mode": {
    "name": "ipython",
    "version": 3
   },
   "file_extension": ".py",
   "mimetype": "text/x-python",
   "name": "python",
   "nbconvert_exporter": "python",
   "pygments_lexer": "ipython3",
   "version": "3.8.10"
  },
  "toc": {
   "base_numbering": 1,
   "nav_menu": {},
   "number_sections": true,
   "sideBar": true,
   "skip_h1_title": false,
   "title_cell": "Table of Contents",
   "title_sidebar": "Contents",
   "toc_cell": false,
   "toc_position": {},
   "toc_section_display": true,
   "toc_window_display": false
  }
 },
 "nbformat": 4,
 "nbformat_minor": 4
}
