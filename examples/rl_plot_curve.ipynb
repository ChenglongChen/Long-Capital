{
 "cells": [
  {
   "cell_type": "code",
   "execution_count": 6,
   "id": "397bba88",
   "metadata": {},
   "outputs": [],
   "source": [
    "import glob\n",
    "\n",
    "import numpy as np\n",
    "import pandas as pd\n",
    "\n",
    "import matplotlib.pyplot as plt"
   ]
  },
  {
   "cell_type": "code",
   "execution_count": 10,
   "id": "17bcde2d",
   "metadata": {},
   "outputs": [],
   "source": [
    "def get_latest_output_dir(strategy, policy_cls):\n",
    "    output_dir = sorted(glob.glob(f\"../records/{strategy}/{policy_cls}/*\"))[-1]\n",
    "    return output_dir\n",
    "\n",
    "\n",
    "def load_metrics(strategy, policy_cls, scale=1, ann_scaler=252, norm_steps_per_episode=False):\n",
    "    \n",
    "    output_dir = get_latest_output_dir(strategy, policy_cls)\n",
    "    \n",
    "    df_base = pd.read_csv(f\"{output_dir}/baseline/result.csv\")\n",
    "    df_train = pd.read_csv(f\"{output_dir}/metrics/train_result.csv\", index_col=0)\n",
    "    df_valid = pd.read_csv(f\"{output_dir}/metrics/validation_result.csv\", index_col=0)\n",
    "    df_base = df_base.loc[df_base.index.repeat(len(df_train))].reset_index(drop=True)\n",
    "\n",
    "    df_base[\"reward\"] = (df_base[\"reward\"] / scale) * ann_scaler\n",
    "    df_train[\"reward\"] = (df_train[\"reward\"] / scale) * ann_scaler\n",
    "    df_valid[\"val/reward\"] = (df_valid[\"val/reward\"] / scale) * ann_scaler\n",
    "    \n",
    "    if norm_steps_per_episode:\n",
    "        df_base[\"reward\"] = df_base[\"reward\"] / df_base[\"steps_per_episode\"]\n",
    "        df_train[\"reward\"] = df_train[\"reward\"] / df_train[\"steps_per_episode\"]\n",
    "        df_valid[\"val/reward\"] = df_valid[\"val/reward\"] / df_valid[\"val/steps_per_episode\"]\n",
    "    \n",
    "    df = pd.DataFrame({\n",
    "        \"baseline\": df_base[\"reward\"],\n",
    "        \"train\": df_train[\"reward\"],\n",
    "        \"valid\": df_valid[\"val/reward\"]\n",
    "    })\n",
    "    \n",
    "    print(f\"Loaded metrics from: {output_dir}\")\n",
    "    print(df)\n",
    "    return df\n",
    "\n",
    "\n",
    "def plot_metrics(df):\n",
    "    df.plot(figsize=(10, 6))\n",
    "    plt.legend([\"baseline\",\"train\",\"valid\"])\n",
    "    plt.title(\"RL Trade Strategy\")\n",
    "    plt.xlabel(\"Episode\")\n",
    "    plt.ylabel(\"Reward\")"
   ]
  },
  {
   "cell_type": "code",
   "execution_count": 12,
   "id": "0359f9f7",
   "metadata": {},
   "outputs": [
    {
     "name": "stdout",
     "output_type": "stream",
     "text": [
      "Loaded metrics from: ../records/TopkDropoutStrategy/PPO/2023_03_11_17_55\n",
      "   baseline     train     valid\n",
      "0  1.656972  2.575845  1.589774\n"
     ]
    },
    {
     "data": {
      "image/png": "[encoded data removed]",
      "text/plain": [
       "<Figure size 720x432 with 1 Axes>"
      ]
     },
     "metadata": {
      "needs_background": "light"
     },
     "output_type": "display_data"
    }
   ],
   "source": [
    "df = load_metrics(\n",
    "    strategy=\"TopkDropoutStrategy\", \n",
    "    policy_cls=\"PPO\", \n",
    "    scale=1, \n",
    "    ann_scaler=1, \n",
    "    norm_steps_per_episode=False\n",
    ")\n",
    "plot_metrics(df)"
   ]
  },
  {
   "cell_type": "code",
   "execution_count": null,
   "id": "9eac8831",
   "metadata": {},
   "outputs": [],
   "source": []
  },
  {
   "cell_type": "code",
   "execution_count": null,
   "id": "bac7c3d5",
   "metadata": {},
   "outputs": [],
   "source": []
  }
 ],
 "metadata": {
  "kernelspec": {
   "display_name": "qlib",
   "language": "python",
   "name": "qlib"
  },
  "language_info": {
   "codemirror_mode": {
    "name": "ipython",
    "version": 3
   },
   "file_extension": ".py",
   "mimetype": "text/x-python",
   "name": "python",
   "nbconvert_exporter": "python",
   "pygments_lexer": "ipython3",
   "version": "3.8.10"
  }
 },
 "nbformat": 4,
 "nbformat_minor": 5
}
