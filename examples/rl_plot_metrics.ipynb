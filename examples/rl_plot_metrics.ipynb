{
 "cells": [
  {
   "cell_type": "code",
   "execution_count": 1,
   "id": "005e77b5",
   "metadata": {},
   "outputs": [],
   "source": [
    "import glob\n",
    "\n",
    "import numpy as np\n",
    "import pandas as pd\n",
    "\n",
    "import matplotlib.pyplot as plt"
   ]
  },
  {
   "cell_type": "code",
   "execution_count": 2,
   "id": "cb7969ec",
   "metadata": {},
   "outputs": [],
   "source": [
    "def get_latest_output_dir(reward, strategy, policy_cls, index=-1):\n",
    "    output_dir = sorted(glob.glob(f\"../records/{reward}/{strategy}/{policy_cls}/*\"))[index]\n",
    "    return output_dir\n",
    "\n",
    "\n",
    "def plot_metrics(reward, strategy, policy_cls, scale=1, ann_scaler=252, norm_steps_per_episode=False, index=-1):\n",
    "    \n",
    "    output_dir = get_latest_output_dir(reward, strategy, policy_cls, index)\n",
    "    \n",
    "    df_base = pd.read_csv(f\"{output_dir}/baseline/result.csv\")\n",
    "    df_train = pd.read_csv(f\"{output_dir}/metrics/train_result.csv\", index_col=0)\n",
    "    df_valid = pd.read_csv(f\"{output_dir}/metrics/validation_result.csv\", index_col=0)\n",
    "    df_base = df_base.loc[df_base.index.repeat(len(df_train))].reset_index(drop=True)\n",
    "\n",
    "    df_train[\"reward\"] = df_train[\"reward\"] / scale * ann_scaler\n",
    "    \n",
    "    if norm_steps_per_episode:\n",
    "        df_train[\"reward\"] = df_train[\"reward\"] / df_train[\"steps_per_episode\"]\n",
    "    \n",
    "    df = pd.DataFrame({\n",
    "        \"baseline\": df_base[\"reward\"],\n",
    "        \"train\": df_train[\"reward\"],\n",
    "        \"valid\": df_valid[\"val/reward\"]\n",
    "    })\n",
    "    \n",
    "    print(f\"Loaded metrics from: {output_dir}\")\n",
    "    best = df.fillna(-1).sort_values(\"valid\", ascending=True).iloc[-1].to_dict()\n",
    "    print(best)\n",
    "    print(df)\n",
    "    \n",
    "    df.plot(figsize=(10, 6))\n",
    "    plt.legend([f\"baseline ({best['baseline']:.5f})\", f\"train ({best['train']:.5f})\", f\"valid ({best['valid']:.5f})\"])\n",
    "    plt.title(f\"{strategy} ({policy_cls})\")\n",
    "    plt.xlabel(\"Episode\")\n",
    "    plt.ylabel(reward)"
   ]
  },
  {
   "cell_type": "code",
   "execution_count": 3,
   "id": "0090e824",
   "metadata": {},
   "outputs": [
    {
     "name": "stdout",
     "output_type": "stream",
     "text": [
      "Loaded metrics from: ../records/EpisodeInformationRatioReward/TopkDropoutDynamicStrategy/MetaPPO/2023_03_18_17_34\n",
      "{'baseline': 1.6110648697763554, 'train': 2.5019091289968585, 'valid': 0.441960251389258}\n",
      "   baseline     train    valid\n",
      "0  1.611065  2.501909  0.44196\n"
     ]
    },
    {
     "data": {
      "image/png": "[encoded data removed]",
      "text/plain": [
       "<Figure size 720x432 with 1 Axes>"
      ]
     },
     "metadata": {
      "needs_background": "light"
     },
     "output_type": "display_data"
    }
   ],
   "source": [
    "plot_metrics(\n",
    "    reward=\"EpisodeInformationRatioReward\",\n",
    "    strategy=\"TopkDropoutDynamicStrategy\",\n",
    "    policy_cls=\"MetaPPO\",\n",
    "    scale=1,\n",
    "    ann_scaler=1,\n",
    "    norm_steps_per_episode=False\n",
    ")"
   ]
  },
  {
   "cell_type": "code",
   "execution_count": null,
   "id": "7c30d02c",
   "metadata": {},
   "outputs": [],
   "source": []
  }
 ],
 "metadata": {
  "kernelspec": {
   "display_name": "qlib",
   "language": "python",
   "name": "qlib"
  },
  "language_info": {
   "codemirror_mode": {
    "name": "ipython",
    "version": 3
   },
   "file_extension": ".py",
   "mimetype": "text/x-python",
   "name": "python",
   "nbconvert_exporter": "python",
   "pygments_lexer": "ipython3",
   "version": "3.8.10"
  }
 },
 "nbformat": 4,
 "nbformat_minor": 5
}
